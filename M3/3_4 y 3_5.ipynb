{
 "cells": [
  {
   "cell_type": "markdown",
   "metadata": {},
   "source": [
    "# Ejemplo de pipelines en GridSearchCV\n",
    "\n",
    "<!---\n",
    "https://medium.com/analytics-vidhya/ml-pipelines-using-scikit-learn-and-gridsearchcv-fe605a7f9e05\n",
    "\n",
    "https://www.kaggle.com/c/learn-ai-bbc\n",
    "-->\n",
    "   "
   ]
  },
  {
   "cell_type": "code",
   "execution_count": 1,
   "metadata": {},
   "outputs": [],
   "source": [
    "# Se cargan las librerías que se van a utilizar\n",
    "import matplotlib.pyplot as plt\n",
    "import numpy as np\n",
    "import pandas as pd\n",
    "import seaborn as sns\n",
    "import sklearn\n",
    "import warnings\n",
    "\n",
    "%matplotlib inline\n",
    "warnings.filterwarnings('ignore')\n",
    "\n",
    "from sklearn import feature_extraction, linear_model, metrics, model_selection, preprocessing\n",
    "from sklearn import svm\n",
    "\n",
    "from sklearn.compose import ColumnTransformer\n",
    "from sklearn.feature_extraction.text import CountVectorizer, TfidfTransformer\n",
    "from sklearn.impute import SimpleImputer\n",
    "from sklearn.linear_model import LogisticRegression\n",
    "\n",
    "from sklearn.metrics import accuracy_score, classification_report, confusion_matrix\n",
    "\n",
    "from sklearn.model_selection import GridSearchCV\n",
    "from sklearn.model_selection import train_test_split\n",
    "\n",
    "from sklearn.pipeline import Pipeline\n",
    "\n",
    "from sklearn.preprocessing import StandardScaler, OneHotEncoder\n",
    "\n",
    "\n",
    "\n",
    "#from sklearn.ensemble import RandomForestClassifier\n",
    "#from sklearn.externals import joblib\n",
    "#from sklearn.tree import DecisionTreeClassifier"
   ]
  },
  {
   "cell_type": "code",
   "execution_count": 2,
   "metadata": {},
   "outputs": [],
   "source": [
    "## 1) EXTRAER DATOS\n",
    "# Los datos pueden encontrarse en diferentes formatos, en nuestro caso están en formato csv.\n",
    "\n",
    "# Se carga la base de datos\n",
    "df = pd.read_csv('train_BBC_news.csv') #Se encuentra en la misma carpeta que el jupyter notebook\n",
    "\n",
    "df_TEST = pd.read_csv('test_BBC_news.csv') #Se encuentra en la misma carpeta que el jupyter notebook"
   ]
  },
  {
   "cell_type": "code",
   "execution_count": 3,
   "metadata": {},
   "outputs": [
    {
     "name": "stdout",
     "output_type": "stream",
     "text": [
      "(1490, 3)\n"
     ]
    },
    {
     "data": {
      "text/html": [
       "<div>\n",
       "<style scoped>\n",
       "    .dataframe tbody tr th:only-of-type {\n",
       "        vertical-align: middle;\n",
       "    }\n",
       "\n",
       "    .dataframe tbody tr th {\n",
       "        vertical-align: top;\n",
       "    }\n",
       "\n",
       "    .dataframe thead th {\n",
       "        text-align: right;\n",
       "    }\n",
       "</style>\n",
       "<table border=\"1\" class=\"dataframe\">\n",
       "  <thead>\n",
       "    <tr style=\"text-align: right;\">\n",
       "      <th></th>\n",
       "      <th>ArticleId</th>\n",
       "      <th>Text</th>\n",
       "      <th>Category</th>\n",
       "    </tr>\n",
       "  </thead>\n",
       "  <tbody>\n",
       "    <tr>\n",
       "      <th>0</th>\n",
       "      <td>1833</td>\n",
       "      <td>worldcom ex-boss launches defence lawyers defe...</td>\n",
       "      <td>business</td>\n",
       "    </tr>\n",
       "    <tr>\n",
       "      <th>1</th>\n",
       "      <td>154</td>\n",
       "      <td>german business confidence slides german busin...</td>\n",
       "      <td>business</td>\n",
       "    </tr>\n",
       "    <tr>\n",
       "      <th>2</th>\n",
       "      <td>1101</td>\n",
       "      <td>bbc poll indicates economic gloom citizens in ...</td>\n",
       "      <td>business</td>\n",
       "    </tr>\n",
       "    <tr>\n",
       "      <th>3</th>\n",
       "      <td>1976</td>\n",
       "      <td>lifestyle  governs mobile choice  faster  bett...</td>\n",
       "      <td>tech</td>\n",
       "    </tr>\n",
       "    <tr>\n",
       "      <th>4</th>\n",
       "      <td>917</td>\n",
       "      <td>enron bosses in $168m payout eighteen former e...</td>\n",
       "      <td>business</td>\n",
       "    </tr>\n",
       "  </tbody>\n",
       "</table>\n",
       "</div>"
      ],
      "text/plain": [
       "   ArticleId                                               Text  Category\n",
       "0       1833  worldcom ex-boss launches defence lawyers defe...  business\n",
       "1        154  german business confidence slides german busin...  business\n",
       "2       1101  bbc poll indicates economic gloom citizens in ...  business\n",
       "3       1976  lifestyle  governs mobile choice  faster  bett...      tech\n",
       "4        917  enron bosses in $168m payout eighteen former e...  business"
      ]
     },
     "execution_count": 3,
     "metadata": {},
     "output_type": "execute_result"
    }
   ],
   "source": [
    "## 2) ANÁLISIS EXPLORATORIO\n",
    "# Se realiza una descripción analítica de los datos.\n",
    "print(df.shape) #Se tienen 1490 renglones y 3 columnas\n",
    "df.head()"
   ]
  },
  {
   "cell_type": "code",
   "execution_count": 4,
   "metadata": {},
   "outputs": [
    {
     "name": "stdout",
     "output_type": "stream",
     "text": [
      "(735, 2)\n"
     ]
    },
    {
     "data": {
      "text/html": [
       "<div>\n",
       "<style scoped>\n",
       "    .dataframe tbody tr th:only-of-type {\n",
       "        vertical-align: middle;\n",
       "    }\n",
       "\n",
       "    .dataframe tbody tr th {\n",
       "        vertical-align: top;\n",
       "    }\n",
       "\n",
       "    .dataframe thead th {\n",
       "        text-align: right;\n",
       "    }\n",
       "</style>\n",
       "<table border=\"1\" class=\"dataframe\">\n",
       "  <thead>\n",
       "    <tr style=\"text-align: right;\">\n",
       "      <th></th>\n",
       "      <th>ArticleId</th>\n",
       "      <th>Text</th>\n",
       "    </tr>\n",
       "  </thead>\n",
       "  <tbody>\n",
       "    <tr>\n",
       "      <th>0</th>\n",
       "      <td>1018</td>\n",
       "      <td>qpr keeper day heads for preston queens park r...</td>\n",
       "    </tr>\n",
       "    <tr>\n",
       "      <th>1</th>\n",
       "      <td>1319</td>\n",
       "      <td>software watching while you work software that...</td>\n",
       "    </tr>\n",
       "    <tr>\n",
       "      <th>2</th>\n",
       "      <td>1138</td>\n",
       "      <td>d arcy injury adds to ireland woe gordon d arc...</td>\n",
       "    </tr>\n",
       "    <tr>\n",
       "      <th>3</th>\n",
       "      <td>459</td>\n",
       "      <td>india s reliance family feud heats up the ongo...</td>\n",
       "    </tr>\n",
       "    <tr>\n",
       "      <th>4</th>\n",
       "      <td>1020</td>\n",
       "      <td>boro suffer morrison injury blow middlesbrough...</td>\n",
       "    </tr>\n",
       "  </tbody>\n",
       "</table>\n",
       "</div>"
      ],
      "text/plain": [
       "   ArticleId                                               Text\n",
       "0       1018  qpr keeper day heads for preston queens park r...\n",
       "1       1319  software watching while you work software that...\n",
       "2       1138  d arcy injury adds to ireland woe gordon d arc...\n",
       "3        459  india s reliance family feud heats up the ongo...\n",
       "4       1020  boro suffer morrison injury blow middlesbrough..."
      ]
     },
     "execution_count": 4,
     "metadata": {},
     "output_type": "execute_result"
    }
   ],
   "source": [
    "print(df_TEST.shape) #Se tienen 735 renglones y 2 columnas\n",
    "df_TEST.head()"
   ]
  },
  {
   "cell_type": "markdown",
   "metadata": {},
   "source": [
    "Los datos de entrenamiento corresponden a la información de 1490 artículos de la BBC (The British Broadcasting Corporation).\n",
    "\n",
    "La información que se tiene de cada noticia es (3 columnas):\n",
    "\n",
    "   - **ArticleId:** Id del artículo\n",
    "   - **Text:** Texto de la noticia\n",
    "   - **Category:** Tipo de artículo (business, tech, sport, entertainment, politics)\n",
    "   \n",
    "Los datos de prueba corresponden a la información de 735 artículos de la BBC (2 columnas).\n",
    "\n",
    "Se desea predecir el tipo de artículo de acuerdo al texto."
   ]
  },
  {
   "cell_type": "code",
   "execution_count": 5,
   "metadata": {},
   "outputs": [
    {
     "data": {
      "text/plain": [
       "ArticleId    0\n",
       "Text         0\n",
       "Category     0\n",
       "dtype: int64"
      ]
     },
     "execution_count": 5,
     "metadata": {},
     "output_type": "execute_result"
    }
   ],
   "source": [
    "# Se cuenta el número de NaN's por columna\n",
    "df.isnull().sum()"
   ]
  },
  {
   "cell_type": "code",
   "execution_count": 6,
   "metadata": {},
   "outputs": [
    {
     "data": {
      "text/plain": [
       "ArticleId    0\n",
       "Text         0\n",
       "dtype: int64"
      ]
     },
     "execution_count": 6,
     "metadata": {},
     "output_type": "execute_result"
    }
   ],
   "source": [
    "# Se cuenta el número de NaN's por columna\n",
    "df_TEST.isnull().sum()"
   ]
  },
  {
   "cell_type": "code",
   "execution_count": 7,
   "metadata": {},
   "outputs": [
    {
     "data": {
      "image/png": "[encoded data removed]",
      "text/plain": [
       "<Figure size 432x288 with 1 Axes>"
      ]
     },
     "metadata": {
      "needs_background": "light"
     },
     "output_type": "display_data"
    }
   ],
   "source": [
    "## 3) VISUALIZACIÓN DE LOS DATOS\n",
    "# Para entender mejor los datos es necesario graficarlos.\n",
    "vec_colores = ['blue','gray','black','deeppink','green']\n",
    "\n",
    "#Gráfica por tipo de fruta\n",
    "ax = sns.countplot(x=\"Category\", data=df,order = df['Category'].value_counts().index,palette = vec_colores)\n",
    "plt.title('Tipos de noticias')\n",
    "plt.xlabel('Nombres')\n",
    "plt.ylabel('Número')\n",
    "for p in ax.patches:\n",
    "        ax.annotate(f'\\n{p.get_height()}', (p.get_x()+0.4, p.get_height()),\n",
    "                    ha='center', va='center', color='white', size=18)\n",
    "plt.show()"
   ]
  },
  {
   "cell_type": "code",
   "execution_count": 8,
   "metadata": {},
   "outputs": [
    {
     "data": {
      "text/plain": [
       "0    worldcom ex-boss launches defence lawyers defe...\n",
       "1    german business confidence slides german busin...\n",
       "2    bbc poll indicates economic gloom citizens in ...\n",
       "3    lifestyle  governs mobile choice  faster  bett...\n",
       "4    enron bosses in $168m payout eighteen former e...\n",
       "Name: Text, dtype: object"
      ]
     },
     "execution_count": 8,
     "metadata": {},
     "output_type": "execute_result"
    }
   ],
   "source": [
    "## 4) DIVIDIR LOS DATOS\n",
    "X = df.Text\n",
    "Y = df.Category\n",
    "X_REAL_test = df_TEST.Text\n",
    "\n",
    "# Se separan los datos en 4 conjuntos:\n",
    "X_train, X_test, Y_train, Y_test = train_test_split(X, Y,test_size = 0.2,random_state = 2020)\n",
    "\n",
    "\n",
    "X.head()"
   ]
  },
  {
   "cell_type": "code",
   "execution_count": 9,
   "metadata": {},
   "outputs": [],
   "source": [
    "## 5) CONSTRUIR UN MODELO\n",
    "# En este ejemplo vamos a elegir un modelo de regresión logística para \"X_train\"\n",
    "logmodel = LogisticRegression()\n",
    "complete_pipe_logReg = Pipeline([('vect', CountVectorizer()),\n",
    "                                 ('tfidf', TfidfTransformer()),\n",
    "                                 ('model', logmodel)])"
   ]
  },
  {
   "cell_type": "markdown",
   "metadata": {},
   "source": [
    "**Descripción de las funciones utilizadas en el pipeline:**\n",
    "\n",
    "[CountVectorizer():](https://scikit-learn.org/stable/modules/generated/sklearn.feature_extraction.text.TfidfTransformer.html) Convert a collection of text documents to a matrix of token counts.\n",
    "\n",
    "[TfidfTransformer():](https://scikit-learn.org/stable/modules/generated/sklearn.feature_extraction.text.TfidfTransformer.html) Transform a count matrix to a normalized tf or tf-idf representation.\n"
   ]
  },
  {
   "cell_type": "code",
   "execution_count": 10,
   "metadata": {},
   "outputs": [],
   "source": [
    "mod_logReg = complete_pipe_logReg.fit(X_train, Y_train)"
   ]
  },
  {
   "cell_type": "code",
   "execution_count": null,
   "metadata": {},
   "outputs": [],
   "source": []
  },
  {
   "cell_type": "code",
   "execution_count": 11,
   "metadata": {},
   "outputs": [],
   "source": [
    "## 6) PREDICCIONES\n",
    "# Se hacen las predicciones con \"X_test\"\n",
    "Y_pred = mod_logReg.predict(X_test)"
   ]
  },
  {
   "cell_type": "code",
   "execution_count": 12,
   "metadata": {},
   "outputs": [
    {
     "data": {
      "image/png": "[encoded data removed]",
      "text/plain": [
       "<Figure size 864x360 with 2 Axes>"
      ]
     },
     "metadata": {
      "needs_background": "light"
     },
     "output_type": "display_data"
    }
   ],
   "source": [
    "# Se grafican los resultados de la predicción junto con los valores reales\n",
    "plt.figure(figsize=(12,5))\n",
    "plt.subplot(1,2,1)    \n",
    "ax = sns.countplot(x=Y_test, data=df,order = df['Category'].value_counts().index,palette = vec_colores)\n",
    "plt.title('Categorías reales')\n",
    "plt.xlabel('Tipos de noticias')\n",
    "plt.ylabel('Número de noticias')\n",
    "plt.ylim(0,90)\n",
    "for p in ax.patches:\n",
    "        ax.annotate(f'\\n{p.get_height()}', (p.get_x()+0.4, p.get_height()),\n",
    "                    ha='center', va='center', color='white', size=18)\n",
    "\n",
    "plt.subplot(1,2,2)    \n",
    "ax2 = sns.countplot(x=Y_pred, data=df,order = df['Category'].value_counts().index,palette = vec_colores)\n",
    "plt.title('Categorías estimadas')\n",
    "plt.xlabel('Tipos de noticias')\n",
    "plt.ylabel('Número de noticias')\n",
    "plt.ylim(0,90)\n",
    "for p in ax2.patches:\n",
    "        ax2.annotate(f'\\n{p.get_height()}', (p.get_x()+0.4, p.get_height()),\n",
    "                    ha='center', va='center', color='white', size=18)"
   ]
  },
  {
   "cell_type": "code",
   "execution_count": 13,
   "metadata": {},
   "outputs": [
    {
     "name": "stdout",
     "output_type": "stream",
     "text": [
      "accuracy: 98.32%\n"
     ]
    }
   ],
   "source": [
    "## 7) EVALUACIÓN DEL MODELO\n",
    "# Tasa de respuestas correctas del modelo en el conjunto de prueba\n",
    "print('accuracy: {}%'.format(round(accuracy_score(Y_test, Y_pred)*100,2)))"
   ]
  },
  {
   "cell_type": "code",
   "execution_count": 14,
   "metadata": {},
   "outputs": [
    {
     "data": {
      "text/plain": [
       "(array([0.5, 1.5, 2.5, 3.5, 4.5]),\n",
       " [Text(0, 0.5, 'business'),\n",
       "  Text(0, 1.5, 'entertainment'),\n",
       "  Text(0, 2.5, 'politics'),\n",
       "  Text(0, 3.5, 'sport'),\n",
       "  Text(0, 4.5, 'tech')])"
      ]
     },
     "execution_count": 14,
     "metadata": {},
     "output_type": "execute_result"
    },
    {
     "data": {
      "image/png": "[encoded data removed]",
      "text/plain": [
       "<Figure size 432x288 with 2 Axes>"
      ]
     },
     "metadata": {
      "needs_background": "light"
     },
     "output_type": "display_data"
    }
   ],
   "source": [
    "cm = confusion_matrix(Y_test, Y_pred).transpose()\n",
    "ax= plt.subplot()\n",
    "sns.heatmap(cm, annot=True, fmt='g', ax=ax, cmap=\"Blues\");  #annot=True to annotate cells, ftm='g' to disable scientific notation\n",
    "\n",
    "# labels, title and ticks\n",
    "ax.set_xlabel('True labels');ax.set_ylabel('Predicted labels'); \n",
    "ax.set_title('Confusion Matrix'); \n",
    "ax.xaxis.set_ticklabels(['business', 'entertainment','politics','sport','tech']); \n",
    "ax.yaxis.set_ticklabels(['business', 'entertainment','politics','sport','tech']);\n",
    "plt.xticks(rotation=90)\n",
    "plt.yticks(rotation=0)\n",
    "#ax.yaxis.set_ticklabels(['tech','sport','politics','entertainment', 'business']);"
   ]
  },
  {
   "cell_type": "code",
   "execution_count": 15,
   "metadata": {},
   "outputs": [
    {
     "name": "stdout",
     "output_type": "stream",
     "text": [
      "\n",
      "                precision    recall  f1-score   support\n",
      "\n",
      "     business       0.97      0.97      0.97        59\n",
      "entertainment       1.00      1.00      1.00        46\n",
      "     politics       0.98      0.94      0.96        50\n",
      "        sport       0.99      1.00      0.99        84\n",
      "         tech       0.98      1.00      0.99        59\n",
      "\n",
      "     accuracy                           0.98       298\n",
      "    macro avg       0.98      0.98      0.98       298\n",
      " weighted avg       0.98      0.98      0.98       298\n",
      "\n"
     ]
    }
   ],
   "source": [
    "# Precisión: TP/suma_x_renglones\n",
    "# Recall: : TP/suma_x_columnas\n",
    "print('\\n',classification_report(Y_test, Y_pred))"
   ]
  },
  {
   "cell_type": "markdown",
   "metadata": {},
   "source": [
    "# Conclusiones"
   ]
  },
  {
   "cell_type": "markdown",
   "metadata": {},
   "source": [
    "# Pipelines en Gridsearch "
   ]
  },
  {
   "cell_type": "code",
   "execution_count": 16,
   "metadata": {},
   "outputs": [],
   "source": [
    "## 5) CONSTRUIR UN MODELO\n",
    "# En este ejemplo vamos a elegir un modelo de regresión logística para \"X_train\"\n",
    "complete_pipe_logReg = Pipeline([('vect', CountVectorizer()),\n",
    "                                 ('tfidf', TfidfTransformer()),\n",
    "                                 ('clf', LogisticRegression())])\n",
    "\n",
    "complete_pipe_SVM = Pipeline([('vect', CountVectorizer()),\n",
    "                              ('tfidf', TfidfTransformer()),\n",
    "                              ('clf', svm.SVC())])"
   ]
  },
  {
   "cell_type": "code",
   "execution_count": 17,
   "metadata": {},
   "outputs": [],
   "source": [
    "# Se definen los parámetros de \"GridSearch\" para cada modelo\n",
    "param_range = [9, 10]\n",
    "param_range_fl = [1.0, 0.5]\n",
    "\n",
    "grid_params_logReg = [{'clf__penalty': ['l1', 'l2'],'clf__C': param_range_fl,'clf__solver': ['liblinear']}] \n",
    "grid_params_svm = [{'clf__kernel': ['linear', 'rbf'],'clf__C': param_range}]\n"
   ]
  },
  {
   "cell_type": "code",
   "execution_count": 18,
   "metadata": {},
   "outputs": [],
   "source": [
    "# Diccionario con los nombres de los modelos\n",
    "grid_dict = {0: 'Logistic Regression', 1: 'Support Vector Machine'}"
   ]
  },
  {
   "cell_type": "code",
   "execution_count": 19,
   "metadata": {},
   "outputs": [],
   "source": [
    "# Grid Searches\n",
    "logReg = GridSearchCV(estimator=complete_pipe_logReg,\n",
    "            param_grid=grid_params_logReg,\n",
    "            scoring='accuracy',\n",
    "            cv=5) #folds\n",
    "\n",
    "jobs = -1\n",
    "SVM = GridSearchCV(estimator=complete_pipe_SVM,\n",
    "            param_grid=grid_params_svm,\n",
    "            scoring='accuracy',\n",
    "            cv=5,#folds\n",
    "            n_jobs=jobs)"
   ]
  },
  {
   "cell_type": "code",
   "execution_count": 20,
   "metadata": {},
   "outputs": [],
   "source": [
    "# Lista con los modelos\n",
    "grids = [logReg,SVM]"
   ]
  },
  {
   "cell_type": "code",
   "execution_count": 21,
   "metadata": {},
   "outputs": [
    {
     "name": "stdout",
     "output_type": "stream",
     "text": [
      "Realizando la optimización de los modelos...\n",
      "\n",
      "Estimador: Logistic Regression\n",
      "Los mejores parámetros son: {'clf__C': 1.0, 'clf__penalty': 'l2', 'clf__solver': 'liblinear'}\n",
      "Mejor \"accuracy\" de entrenamiento: 0.952\n",
      "\"accuracy\" para el conjunto de prueba con los mejores parámetros: 0.983 \n",
      "\n",
      "Estimador: Support Vector Machine\n",
      "Los mejores parámetros son: {'clf__C': 9, 'clf__kernel': 'linear'}\n",
      "Mejor \"accuracy\" de entrenamiento: 0.968\n",
      "\"accuracy\" para el conjunto de prueba con los mejores parámetros: 0.987 \n",
      "\n",
      " El modelo con mejor \"accuracy\" en el conjunto de prueba es: Support Vector Machine\n"
     ]
    }
   ],
   "source": [
    "# Fit the grid search objects\n",
    "print('Realizando la optimización de los modelos...')\n",
    "best_acc = 0.0\n",
    "best_clf = 0\n",
    "best_gs = ''\n",
    "for idx, gs in enumerate(grids):\n",
    "    print('\\nEstimador: %s' % grid_dict[idx])\n",
    "    gs.fit(X_train, Y_train)\n",
    "    print('Los mejores parámetros son: %s' % gs.best_params_)\n",
    "    print('Mejor \"accuracy\" de entrenamiento: %.3f' % gs.best_score_)\n",
    "    # Se predice con los datos de prueba y los mejores parámetros\n",
    "    Y_pred = gs.predict(X_test)\n",
    "    print('\"accuracy\" para el conjunto de prueba con los mejores parámetros: %.3f ' % accuracy_score(Y_test, Y_pred))\n",
    "    # Track best (highest test accuracy) model\n",
    "    if accuracy_score(Y_test, Y_pred) > best_acc:\n",
    "        best_acc = accuracy_score(Y_test, Y_pred)\n",
    "        best_gs = gs\n",
    "        best_clf = idx\n",
    "print('\\n El modelo con mejor \"accuracy\" en el conjunto de prueba es: %s' % grid_dict[best_clf])"
   ]
  },
  {
   "cell_type": "markdown",
   "metadata": {},
   "source": [
    "### Cross Validation con 10 folds"
   ]
  },
  {
   "cell_type": "code",
   "execution_count": 22,
   "metadata": {},
   "outputs": [
    {
     "name": "stdout",
     "output_type": "stream",
     "text": [
      "Realizando la optimización de los modelos...\n",
      "\n",
      "Estimador: Logistic Regression\n",
      "Los mejores parámetros son: {'clf__C': 1.0, 'clf__penalty': 'l2', 'clf__solver': 'liblinear'}\n",
      "Mejor \"accuracy\" de entrenamiento: 0.953\n",
      "\"accuracy\" para el conjunto de prueba con los mejores parámetros: 0.983 \n",
      "\n",
      "Estimador: Support Vector Machine\n",
      "Los mejores parámetros son: {'clf__C': 9, 'clf__kernel': 'linear'}\n",
      "Mejor \"accuracy\" de entrenamiento: 0.970\n",
      "\"accuracy\" para el conjunto de prueba con los mejores parámetros: 0.987 \n",
      "\n",
      " El modelo con mejor \"accuracy\" en el conjunto de prueba es: Support Vector Machine\n"
     ]
    }
   ],
   "source": [
    "# Grid Searches\n",
    "jobs = -1\n",
    "\n",
    "logReg = GridSearchCV(estimator=complete_pipe_logReg,\n",
    "            param_grid=grid_params_logReg,\n",
    "            scoring='accuracy',\n",
    "            cv=10) \n",
    "\n",
    "SVM = GridSearchCV(estimator=complete_pipe_SVM,\n",
    "            param_grid=grid_params_svm,\n",
    "            scoring='accuracy',\n",
    "            cv=10,\n",
    "            n_jobs=jobs)\n",
    "\n",
    "# Lista con los modelos\n",
    "grids = [logReg,SVM]\n",
    "\n",
    "# Fit the grid search objects\n",
    "print('Realizando la optimización de los modelos...')\n",
    "best_acc = 0.0\n",
    "best_clf = 0\n",
    "best_gs = ''\n",
    "for idx, gs in enumerate(grids):\n",
    "    print('\\nEstimador: %s' % grid_dict[idx])\n",
    "    gs.fit(X_train, Y_train)\n",
    "    print('Los mejores parámetros son: %s' % gs.best_params_)\n",
    "    print('Mejor \"accuracy\" de entrenamiento: %.3f' % gs.best_score_)\n",
    "    # Se predice con los datos de prueba y los mejores parámetros\n",
    "    Y_pred = gs.predict(X_test)\n",
    "    print('\"accuracy\" para el conjunto de prueba con los mejores parámetros: %.3f ' % accuracy_score(Y_test, Y_pred))\n",
    "    # Track best (highest test accuracy) model\n",
    "    if accuracy_score(Y_test, Y_pred) > best_acc:\n",
    "        best_acc = accuracy_score(Y_test, Y_pred)\n",
    "        best_gs = gs\n",
    "        best_clf = idx\n",
    "print('\\n El modelo con mejor \"accuracy\" en el conjunto de prueba es: %s' % grid_dict[best_clf])"
   ]
  },
  {
   "cell_type": "markdown",
   "metadata": {},
   "source": [
    "## 6) PREDICCIONES REALES"
   ]
  },
  {
   "cell_type": "code",
   "execution_count": 23,
   "metadata": {},
   "outputs": [],
   "source": [
    "#Se define una nueva pipeline, con los parámetros encontrados\n",
    "pipe_SVM = Pipeline([('vect', CountVectorizer()),\n",
    "                     ('tfidf', TfidfTransformer()),\n",
    "                     ('clf', svm.SVC(C = 9, kernel='linear'))])\n",
    "\n",
    "mod_SVM = pipe_SVM.fit(X_train, Y_train)"
   ]
  },
  {
   "cell_type": "code",
   "execution_count": 24,
   "metadata": {},
   "outputs": [],
   "source": [
    "# Se hacen las predicciones con \"X_REAL_test\"\n",
    "Y_REAL_pred = mod_SVM.predict(X_REAL_test)"
   ]
  },
  {
   "cell_type": "code",
   "execution_count": 26,
   "metadata": {},
   "outputs": [
    {
     "data": {
      "image/png": "[encoded data removed]",
      "text/plain": [
       "<Figure size 432x288 with 1 Axes>"
      ]
     },
     "metadata": {
      "needs_background": "light"
     },
     "output_type": "display_data"
    }
   ],
   "source": [
    "ax = sns.countplot(x=Y_REAL_pred, data=df_TEST,order = df['Category'].value_counts().index,palette = vec_colores)\n",
    "plt.title('Categorías estimadas')\n",
    "plt.xlabel('Tipos de noticias')\n",
    "plt.ylabel('Número de noticias')\n",
    "#plt.ylim(0,90)\n",
    "for p in ax.patches:\n",
    "        ax.annotate(f'\\n{p.get_height()}', (p.get_x()+0.4, p.get_height()),\n",
    "                    ha='center', va='center', color='white', size=18)"
   ]
  },
  {
   "cell_type": "code",
   "execution_count": 27,
   "metadata": {},
   "outputs": [
    {
     "name": "stdout",
     "output_type": "stream",
     "text": [
      "Score =  100.0 % = Tasa de respuestas correctas del modelo en el conjunto de entrenamiento\n"
     ]
    }
   ],
   "source": [
    "## 7) EVALUACIÓN DEL MODELO\n",
    "print('Score = ',round(pipe_SVM.score(X_train, Y_train) * 100, 2),\n",
    "      '% = Tasa de respuestas correctas del modelo en el conjunto de entrenamiento')"
   ]
  },
  {
   "cell_type": "markdown",
   "metadata": {},
   "source": [
    "# Generación de archivo para [Kaggle](https://www.kaggle.com/c/learn-ai-bbc/submit)"
   ]
  },
  {
   "cell_type": "code",
   "execution_count": 28,
   "metadata": {},
   "outputs": [
    {
     "data": {
      "text/html": [
       "<div>\n",
       "<style scoped>\n",
       "    .dataframe tbody tr th:only-of-type {\n",
       "        vertical-align: middle;\n",
       "    }\n",
       "\n",
       "    .dataframe tbody tr th {\n",
       "        vertical-align: top;\n",
       "    }\n",
       "\n",
       "    .dataframe thead th {\n",
       "        text-align: right;\n",
       "    }\n",
       "</style>\n",
       "<table border=\"1\" class=\"dataframe\">\n",
       "  <thead>\n",
       "    <tr style=\"text-align: right;\">\n",
       "      <th></th>\n",
       "      <th>ArticleId</th>\n",
       "      <th>Unnamed 0</th>\n",
       "    </tr>\n",
       "  </thead>\n",
       "  <tbody>\n",
       "    <tr>\n",
       "      <th>0</th>\n",
       "      <td>1018</td>\n",
       "      <td>sport</td>\n",
       "    </tr>\n",
       "    <tr>\n",
       "      <th>1</th>\n",
       "      <td>1319</td>\n",
       "      <td>tech</td>\n",
       "    </tr>\n",
       "    <tr>\n",
       "      <th>2</th>\n",
       "      <td>1138</td>\n",
       "      <td>sport</td>\n",
       "    </tr>\n",
       "    <tr>\n",
       "      <th>3</th>\n",
       "      <td>459</td>\n",
       "      <td>business</td>\n",
       "    </tr>\n",
       "    <tr>\n",
       "      <th>4</th>\n",
       "      <td>1020</td>\n",
       "      <td>sport</td>\n",
       "    </tr>\n",
       "    <tr>\n",
       "      <th>...</th>\n",
       "      <td>...</td>\n",
       "      <td>...</td>\n",
       "    </tr>\n",
       "    <tr>\n",
       "      <th>730</th>\n",
       "      <td>1923</td>\n",
       "      <td>business</td>\n",
       "    </tr>\n",
       "    <tr>\n",
       "      <th>731</th>\n",
       "      <td>373</td>\n",
       "      <td>entertainment</td>\n",
       "    </tr>\n",
       "    <tr>\n",
       "      <th>732</th>\n",
       "      <td>1704</td>\n",
       "      <td>politics</td>\n",
       "    </tr>\n",
       "    <tr>\n",
       "      <th>733</th>\n",
       "      <td>206</td>\n",
       "      <td>business</td>\n",
       "    </tr>\n",
       "    <tr>\n",
       "      <th>734</th>\n",
       "      <td>471</td>\n",
       "      <td>politics</td>\n",
       "    </tr>\n",
       "  </tbody>\n",
       "</table>\n",
       "<p>735 rows × 2 columns</p>\n",
       "</div>"
      ],
      "text/plain": [
       "    ArticleId      Unnamed 0\n",
       "0        1018          sport\n",
       "1        1319           tech\n",
       "2        1138          sport\n",
       "3         459       business\n",
       "4        1020          sport\n",
       "..        ...            ...\n",
       "730      1923       business\n",
       "731       373  entertainment\n",
       "732      1704       politics\n",
       "733       206       business\n",
       "734       471       politics\n",
       "\n",
       "[735 rows x 2 columns]"
      ]
     },
     "execution_count": 28,
     "metadata": {},
     "output_type": "execute_result"
    }
   ],
   "source": [
    "submit=pd.DataFrame([df_TEST[\"ArticleId\"].astype(\"int64\"),Y_REAL_pred])\n",
    "submit.T.to_csv('sample_submission.csv',index=False)\n",
    "submit.T"
   ]
  },
  {
   "cell_type": "markdown",
   "metadata": {},
   "source": [
    "# Conclusiones"
   ]
  }
 ],
 "metadata": {
  "kernelspec": {
   "display_name": "Python 3",
   "language": "python",
   "name": "python3"
  },
  "language_info": {
   "codemirror_mode": {
    "name": "ipython",
    "version": 3
   },
   "file_extension": ".py",
   "mimetype": "text/x-python",
   "name": "python",
   "nbconvert_exporter": "python",
   "pygments_lexer": "ipython3",
   "version": "3.8.5"
  }
 },
 "nbformat": 4,
 "nbformat_minor": 4
}
