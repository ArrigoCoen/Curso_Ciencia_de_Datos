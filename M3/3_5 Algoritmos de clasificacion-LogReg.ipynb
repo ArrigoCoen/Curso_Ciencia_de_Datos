{
 "cells": [
  {
   "cell_type": "markdown",
   "metadata": {},
   "source": [
    "# Regresión Logística\n",
    "\n",
    "Es un algoritmo de clasificación utilizado para modelar la probabilidad de que exista una cierta clase o evento.\n",
    "\n",
    "Utiliza la función logística $f(x) = \\dfrac{1}{1 + \\mathrm{e}^{-x}}$ para regresar una probabilidad que se puede mapear en 2 o más clases discretas. Con esta función se ajusta a la variable y se obtiene un resultado en $[0,1]$.\n",
    "\n",
    "Se utiliza cuando se quieren resultados binarios. Por ejemplo, decidir si un e-mail es spam o no, un tumor es maligno o benigno, si una inversión es buena o mala.\n",
    "\n",
    "\n",
    "_Cheat sheet_ para la librería [seaborn](https://s3.amazonaws.com/assets.datacamp.com/blog_assets/Python_Seaborn_Cheat_Sheet.pdf)"
   ]
  },
  {
   "cell_type": "code",
   "execution_count": 1,
   "metadata": {},
   "outputs": [],
   "source": [
    "# Se cargan las librerías que se van a utilizar\n",
    "import math\n",
    "import matplotlib.pyplot as plt\n",
    "import numpy as np\n",
    "import pandas as pd\n",
    "import seaborn as sns\n",
    "import sklearn\n",
    "\n",
    "%matplotlib inline\n",
    "\n",
    "from sklearn import linear_model\n",
    "from sklearn import metrics\n",
    "from sklearn import preprocessing\n",
    "from sklearn.linear_model import LogisticRegression\n",
    "from sklearn.feature_selection import RFE\n",
    "from sklearn.metrics import mean_absolute_error, accuracy_score\n",
    "from sklearn.metrics import classification_report\n",
    "from sklearn.metrics import confusion_matrix\n",
    "from sklearn.model_selection import train_test_split\n",
    "\n",
    "\n",
    "#from sklearn.preprocessing import scale \n",
    "#from sklearn.metrics import mean_squared_error\n",
    "#from sklearn.metrics import r2_score"
   ]
  },
  {
   "cell_type": "code",
   "execution_count": 2,
   "metadata": {},
   "outputs": [
    {
     "name": "stdout",
     "output_type": "stream",
     "text": [
      "(1309, 12)\n"
     ]
    }
   ],
   "source": [
    "## 1) EXTRAER DATOS\n",
    "# Los datos pueden encontrarse en diferentes formatos, en nuestro caso están en formato csv.\n",
    "\n",
    "# Se carga la base de datos\n",
    "df = pd.read_csv('titanic.csv') #Se encuentra en la misma carpeta que el jupyter notebook\n",
    "print(df.shape) #Se tienen 1309 renglones y 12 columnas"
   ]
  },
  {
   "cell_type": "code",
   "execution_count": 3,
   "metadata": {},
   "outputs": [
    {
     "data": {
      "text/html": [
       "<div>\n",
       "<style scoped>\n",
       "    .dataframe tbody tr th:only-of-type {\n",
       "        vertical-align: middle;\n",
       "    }\n",
       "\n",
       "    .dataframe tbody tr th {\n",
       "        vertical-align: top;\n",
       "    }\n",
       "\n",
       "    .dataframe thead th {\n",
       "        text-align: right;\n",
       "    }\n",
       "</style>\n",
       "<table border=\"1\" class=\"dataframe\">\n",
       "  <thead>\n",
       "    <tr style=\"text-align: right;\">\n",
       "      <th></th>\n",
       "      <th>PassengerId</th>\n",
       "      <th>Survived</th>\n",
       "      <th>Pclass</th>\n",
       "      <th>Name</th>\n",
       "      <th>Sex</th>\n",
       "      <th>Age</th>\n",
       "      <th>SibSp</th>\n",
       "      <th>ParCh</th>\n",
       "      <th>Ticket</th>\n",
       "      <th>Fare</th>\n",
       "      <th>Cabin</th>\n",
       "      <th>Embarked</th>\n",
       "    </tr>\n",
       "  </thead>\n",
       "  <tbody>\n",
       "    <tr>\n",
       "      <th>0</th>\n",
       "      <td>1</td>\n",
       "      <td>0</td>\n",
       "      <td>3</td>\n",
       "      <td>Braund, Mr. Owen Harris</td>\n",
       "      <td>male</td>\n",
       "      <td>22.0</td>\n",
       "      <td>1</td>\n",
       "      <td>0</td>\n",
       "      <td>A/5 21171</td>\n",
       "      <td>7.2500</td>\n",
       "      <td>NaN</td>\n",
       "      <td>S</td>\n",
       "    </tr>\n",
       "    <tr>\n",
       "      <th>1</th>\n",
       "      <td>2</td>\n",
       "      <td>1</td>\n",
       "      <td>1</td>\n",
       "      <td>Cumings, Mrs. John Bradley (Florence Briggs Th...</td>\n",
       "      <td>female</td>\n",
       "      <td>38.0</td>\n",
       "      <td>1</td>\n",
       "      <td>0</td>\n",
       "      <td>PC 17599</td>\n",
       "      <td>71.2833</td>\n",
       "      <td>C85</td>\n",
       "      <td>C</td>\n",
       "    </tr>\n",
       "    <tr>\n",
       "      <th>2</th>\n",
       "      <td>3</td>\n",
       "      <td>1</td>\n",
       "      <td>3</td>\n",
       "      <td>Heikkinen, Miss. Laina</td>\n",
       "      <td>female</td>\n",
       "      <td>26.0</td>\n",
       "      <td>0</td>\n",
       "      <td>0</td>\n",
       "      <td>STON/O2. 3101282</td>\n",
       "      <td>7.9250</td>\n",
       "      <td>NaN</td>\n",
       "      <td>S</td>\n",
       "    </tr>\n",
       "    <tr>\n",
       "      <th>3</th>\n",
       "      <td>4</td>\n",
       "      <td>1</td>\n",
       "      <td>1</td>\n",
       "      <td>Futrelle, Mrs. Jacques Heath (Lily May Peel)</td>\n",
       "      <td>female</td>\n",
       "      <td>35.0</td>\n",
       "      <td>1</td>\n",
       "      <td>0</td>\n",
       "      <td>113803</td>\n",
       "      <td>53.1000</td>\n",
       "      <td>C123</td>\n",
       "      <td>S</td>\n",
       "    </tr>\n",
       "    <tr>\n",
       "      <th>4</th>\n",
       "      <td>5</td>\n",
       "      <td>0</td>\n",
       "      <td>3</td>\n",
       "      <td>Allen, Mr. William Henry</td>\n",
       "      <td>male</td>\n",
       "      <td>35.0</td>\n",
       "      <td>0</td>\n",
       "      <td>0</td>\n",
       "      <td>373450</td>\n",
       "      <td>8.0500</td>\n",
       "      <td>NaN</td>\n",
       "      <td>S</td>\n",
       "    </tr>\n",
       "  </tbody>\n",
       "</table>\n",
       "</div>"
      ],
      "text/plain": [
       "   PassengerId  Survived  Pclass  \\\n",
       "0            1         0       3   \n",
       "1            2         1       1   \n",
       "2            3         1       3   \n",
       "3            4         1       1   \n",
       "4            5         0       3   \n",
       "\n",
       "                                                Name     Sex   Age  SibSp  \\\n",
       "0                            Braund, Mr. Owen Harris    male  22.0      1   \n",
       "1  Cumings, Mrs. John Bradley (Florence Briggs Th...  female  38.0      1   \n",
       "2                             Heikkinen, Miss. Laina  female  26.0      0   \n",
       "3       Futrelle, Mrs. Jacques Heath (Lily May Peel)  female  35.0      1   \n",
       "4                           Allen, Mr. William Henry    male  35.0      0   \n",
       "\n",
       "   ParCh            Ticket     Fare Cabin Embarked  \n",
       "0      0         A/5 21171   7.2500   NaN        S  \n",
       "1      0          PC 17599  71.2833   C85        C  \n",
       "2      0  STON/O2. 3101282   7.9250   NaN        S  \n",
       "3      0            113803  53.1000  C123        S  \n",
       "4      0            373450   8.0500   NaN        S  "
      ]
     },
     "execution_count": 3,
     "metadata": {},
     "output_type": "execute_result"
    }
   ],
   "source": [
    "## 2) ANÁLISIS EXPLORATORIO\n",
    "# Se realiza una descripción analítica de los datos.\n",
    "df.head()"
   ]
  },
  {
   "cell_type": "markdown",
   "metadata": {},
   "source": [
    "Los datos corresponden a la información de 1309 pasajeros del Titanic.\n",
    "\n",
    "La información que se tiene de cada persona es (12 columnas):\n",
    "\n",
    "   - **PassengerId:** Número de pasajero. $\\{1, 2, 3, \\ldots, 1309\\}$\n",
    "   - **Survived:** Variable binaria que vale 1 si el pasajero sobrevivió y 0 si no\n",
    "   - **Pclass:** Clase en la que viajaba el pasajero\n",
    "   - **Name:** Nombre del pasajero\n",
    "   - **Sex:** Sexo del pasajer\n",
    "   - **Age:** Edad del pasajero\n",
    "   - **SibSp:** Número de hermanos/cónyuges abordo\n",
    "   - **ParCh:** Número de padres/hijos abordo\n",
    "   - **Ticket:** Clave del boleto\n",
    "   - **Fare:** Tarifa pagada por el boleto (en unidades monetarias u.m.)\n",
    "   - **Cabin:** Cabina en la que se quedó el pasajero durante el viaje\n",
    "   - **Embarked:** Puerto en el que embarcó el pasajero. **C** = Cherbourg, **S** = Southampton, **Q** = Queenstown\n",
    "   \n",
    "Se desea predecir si los pasajeros sobreviven o no de acuerdo a sus características."
   ]
  },
  {
   "cell_type": "code",
   "execution_count": 4,
   "metadata": {},
   "outputs": [
    {
     "data": {
      "text/plain": [
       "PassengerId       0\n",
       "Survived          0\n",
       "Pclass            0\n",
       "Name              0\n",
       "Sex               0\n",
       "Age             263\n",
       "SibSp             0\n",
       "ParCh             0\n",
       "Ticket            0\n",
       "Fare              1\n",
       "Cabin          1014\n",
       "Embarked          2\n",
       "dtype: int64"
      ]
     },
     "execution_count": 4,
     "metadata": {},
     "output_type": "execute_result"
    }
   ],
   "source": [
    "# Se cuenta el número de NaN's por columna\n",
    "df.isnull().sum()"
   ]
  },
  {
   "cell_type": "markdown",
   "metadata": {},
   "source": [
    "Al ver la tabla anterior tenemos:\n",
    "\n",
    "   - 1014 NaN's en la columna 'Cabin'\n",
    "   - 263 NaN's en la columna 'Age'\n",
    "   - 2 NaN's en la columna 'Embarked'\n",
    "   - 1 NaN's en la columna 'Fare'\n",
    "   \n",
    "Los datos de la cabina en la que se quedaron los pasajeros no influye en la predicción final. Es por ello que se va a eliminar esa columna de los datos que vamos a ulitizar.\n",
    "\n",
    "Tampoco vamos a utilizar las columnas _PassengerId_, _Name_ ni _Ticket_.\n",
    "\n",
    "Para la columna _Embarked_ vamos a sustituir los _NaN's_ por el puerto en el que más personas abordaron.\n",
    "\n",
    "Para la columna _Fare_ vamos a sustituir los _NaN's_ por el promedio de las tarifas pagadas.\n",
    "\n",
    "Para la columna _Age_ vamos a ver su comportamiento y decidir cómo sustituir los _NaN's_."
   ]
  },
  {
   "cell_type": "code",
   "execution_count": 5,
   "metadata": {},
   "outputs": [
    {
     "name": "stdout",
     "output_type": "stream",
     "text": [
      "Antes se tenían 1309 renglones y 12 columnas.\n",
      "Ahora se tienen  1309  renglones y  8  columnas.\n",
      "Se eliminaron  0  renglones y  4  columnas.\n"
     ]
    },
    {
     "data": {
      "text/html": [
       "<div>\n",
       "<style scoped>\n",
       "    .dataframe tbody tr th:only-of-type {\n",
       "        vertical-align: middle;\n",
       "    }\n",
       "\n",
       "    .dataframe tbody tr th {\n",
       "        vertical-align: top;\n",
       "    }\n",
       "\n",
       "    .dataframe thead th {\n",
       "        text-align: right;\n",
       "    }\n",
       "</style>\n",
       "<table border=\"1\" class=\"dataframe\">\n",
       "  <thead>\n",
       "    <tr style=\"text-align: right;\">\n",
       "      <th></th>\n",
       "      <th>Survived</th>\n",
       "      <th>Pclass</th>\n",
       "      <th>Sex</th>\n",
       "      <th>Age</th>\n",
       "      <th>SibSp</th>\n",
       "      <th>ParCh</th>\n",
       "      <th>Fare</th>\n",
       "      <th>Embarked</th>\n",
       "    </tr>\n",
       "  </thead>\n",
       "  <tbody>\n",
       "    <tr>\n",
       "      <th>0</th>\n",
       "      <td>0</td>\n",
       "      <td>3</td>\n",
       "      <td>male</td>\n",
       "      <td>22.0</td>\n",
       "      <td>1</td>\n",
       "      <td>0</td>\n",
       "      <td>7.2500</td>\n",
       "      <td>S</td>\n",
       "    </tr>\n",
       "    <tr>\n",
       "      <th>1</th>\n",
       "      <td>1</td>\n",
       "      <td>1</td>\n",
       "      <td>female</td>\n",
       "      <td>38.0</td>\n",
       "      <td>1</td>\n",
       "      <td>0</td>\n",
       "      <td>71.2833</td>\n",
       "      <td>C</td>\n",
       "    </tr>\n",
       "    <tr>\n",
       "      <th>2</th>\n",
       "      <td>1</td>\n",
       "      <td>3</td>\n",
       "      <td>female</td>\n",
       "      <td>26.0</td>\n",
       "      <td>0</td>\n",
       "      <td>0</td>\n",
       "      <td>7.9250</td>\n",
       "      <td>S</td>\n",
       "    </tr>\n",
       "    <tr>\n",
       "      <th>3</th>\n",
       "      <td>1</td>\n",
       "      <td>1</td>\n",
       "      <td>female</td>\n",
       "      <td>35.0</td>\n",
       "      <td>1</td>\n",
       "      <td>0</td>\n",
       "      <td>53.1000</td>\n",
       "      <td>S</td>\n",
       "    </tr>\n",
       "    <tr>\n",
       "      <th>4</th>\n",
       "      <td>0</td>\n",
       "      <td>3</td>\n",
       "      <td>male</td>\n",
       "      <td>35.0</td>\n",
       "      <td>0</td>\n",
       "      <td>0</td>\n",
       "      <td>8.0500</td>\n",
       "      <td>S</td>\n",
       "    </tr>\n",
       "  </tbody>\n",
       "</table>\n",
       "</div>"
      ],
      "text/plain": [
       "   Survived  Pclass     Sex   Age  SibSp  ParCh     Fare Embarked\n",
       "0         0       3    male  22.0      1      0   7.2500        S\n",
       "1         1       1  female  38.0      1      0  71.2833        C\n",
       "2         1       3  female  26.0      0      0   7.9250        S\n",
       "3         1       1  female  35.0      1      0  53.1000        S\n",
       "4         0       3    male  35.0      0      0   8.0500        S"
      ]
     },
     "execution_count": 5,
     "metadata": {},
     "output_type": "execute_result"
    }
   ],
   "source": [
    "# Se eliminan las columnas 'Cabin', 'PassengerId', 'Ticket' y 'Name'.\n",
    "df = pd.read_csv('titanic.csv').drop(['Cabin','PassengerId','Name','Ticket'], axis = 1)\n",
    "\n",
    "print('Antes se tenían 1309 renglones y 12 columnas.\\nAhora se tienen ',\n",
    "      df.shape[0],' renglones y ',df.shape[1],' columnas.')\n",
    "print('Se eliminaron ',1309-df.shape[0],' renglones y ',12-df.shape[1],' columnas.')\n",
    "df.head()"
   ]
  },
  {
   "cell_type": "code",
   "execution_count": 6,
   "metadata": {},
   "outputs": [
    {
     "data": {
      "text/plain": [
       "Survived      0\n",
       "Pclass        0\n",
       "Sex           0\n",
       "Age         263\n",
       "SibSp         0\n",
       "ParCh         0\n",
       "Fare          0\n",
       "Embarked      2\n",
       "dtype: int64"
      ]
     },
     "execution_count": 6,
     "metadata": {},
     "output_type": "execute_result"
    }
   ],
   "source": [
    "# Se cambian los NaN's por el promedio de la columna 'Fare'\n",
    "df[\"Fare\"] = df[\"Fare\"].fillna(df[\"Fare\"].mean())\n",
    "df.isnull().sum()#Verificamos que la columna \"Fare\" ya no tiene NaN's"
   ]
  },
  {
   "cell_type": "code",
   "execution_count": 7,
   "metadata": {},
   "outputs": [
    {
     "name": "stdout",
     "output_type": "stream",
     "text": [
      "Número de pasajeros que abordaron en cada puerto:\n",
      "S    914\n",
      "C    270\n",
      "Q    123\n",
      "Name: Embarked, dtype: int64\n",
      "S = Southampton, C = Cherbourg, Q = Queenstown\n"
     ]
    },
    {
     "data": {
      "image/png": "[encoded data removed]",
      "text/plain": [
       "<Figure size 432x288 with 1 Axes>"
      ]
     },
     "metadata": {
      "needs_background": "light"
     },
     "output_type": "display_data"
    },
    {
     "name": "stdout",
     "output_type": "stream",
     "text": [
      "El puerto con mayor número de personas que abordaron el barco es Southampton\n"
     ]
    }
   ],
   "source": [
    "# Vamos a sustituir los NaN's de la columna 'Embarked' por el puerto en el que más personas abordaron.\n",
    "# Hagamos el análisis respectivo:\n",
    "\n",
    "print('Número de pasajeros que abordaron en cada puerto:')\n",
    "print(df['Embarked'].value_counts())\n",
    "print('S = Southampton, C = Cherbourg, Q = Queenstown')\n",
    "sns.countplot(x='Embarked', data=df)\n",
    "plt.show()\n",
    "\n",
    "\n",
    "if df['Embarked'].value_counts().idxmax() == 'S':\n",
    "    print('El puerto con mayor número de personas que abordaron el barco es Southampton')\n",
    "elif df['Embarked'].value_counts().idxmax() == 'C':\n",
    "    print('El puerto con mayor número de personas que abordaron el barco es Cherbourg')\n",
    "else:\n",
    "    print('El puerto con mayor número de personas que abordaron el barco es Queenstown')\n"
   ]
  },
  {
   "cell_type": "code",
   "execution_count": 8,
   "metadata": {},
   "outputs": [
    {
     "data": {
      "text/plain": [
       "Survived      0\n",
       "Pclass        0\n",
       "Sex           0\n",
       "Age         263\n",
       "SibSp         0\n",
       "ParCh         0\n",
       "Fare          0\n",
       "Embarked      0\n",
       "dtype: int64"
      ]
     },
     "execution_count": 8,
     "metadata": {},
     "output_type": "execute_result"
    }
   ],
   "source": [
    "# Se cambian los NaN's por el caracter 'S' correspondiente al puerto de Southampton\n",
    "df[\"Embarked\"] = df[\"Embarked\"].fillna('S')\n",
    "df.isnull().sum()#Verificamos que la columna \"Embarked\" ya no tiene NaN's"
   ]
  },
  {
   "cell_type": "code",
   "execution_count": 9,
   "metadata": {},
   "outputs": [
    {
     "name": "stderr",
     "output_type": "stream",
     "text": [
      "C:\\Users\\miri_\\anaconda3\\lib\\site-packages\\seaborn\\distributions.py:2551: FutureWarning: `distplot` is a deprecated function and will be removed in a future version. Please adapt your code to use either `displot` (a figure-level function with similar flexibility) or `histplot` (an axes-level function for histograms).\n",
      "  warnings.warn(msg, FutureWarning)\n"
     ]
    },
    {
     "data": {
      "text/plain": [
       "<AxesSubplot:xlabel='Age', ylabel='Density'>"
      ]
     },
     "execution_count": 9,
     "metadata": {},
     "output_type": "execute_result"
    },
    {
     "data": {
      "image/png": "[encoded data removed]",
      "text/plain": [
       "<Figure size 432x288 with 1 Axes>"
      ]
     },
     "metadata": {
      "needs_background": "light"
     },
     "output_type": "display_data"
    }
   ],
   "source": [
    "# Ahora hagamos el análisis correspondiente a la edad:\n",
    "sns.distplot(df.Age)#Edad"
   ]
  },
  {
   "cell_type": "code",
   "execution_count": 10,
   "metadata": {},
   "outputs": [
    {
     "data": {
      "text/plain": [
       "count    1046.000000\n",
       "mean       29.881138\n",
       "std        14.413493\n",
       "min         0.170000\n",
       "25%        21.000000\n",
       "50%        28.000000\n",
       "75%        39.000000\n",
       "max        80.000000\n",
       "Name: Age, dtype: float64"
      ]
     },
     "execution_count": 10,
     "metadata": {},
     "output_type": "execute_result"
    }
   ],
   "source": [
    "df.Age.describe()"
   ]
  },
  {
   "cell_type": "markdown",
   "metadata": {},
   "source": [
    "Con la gráfica y la tabla mostradas podemos decir que los datos no están centrados en su media (29.88).\n",
    "\n",
    "Debido a esto vamos a elegir la mediana para sustituir los _NaN's_ de la columna _Age_."
   ]
  },
  {
   "cell_type": "code",
   "execution_count": 11,
   "metadata": {},
   "outputs": [
    {
     "data": {
      "text/plain": [
       "Survived    0\n",
       "Pclass      0\n",
       "Sex         0\n",
       "Age         0\n",
       "SibSp       0\n",
       "ParCh       0\n",
       "Fare        0\n",
       "Embarked    0\n",
       "dtype: int64"
      ]
     },
     "execution_count": 11,
     "metadata": {},
     "output_type": "execute_result"
    }
   ],
   "source": [
    "# Se cambian los NaN's por la mediana de la columna 'Age'\n",
    "df[\"Age\"] = df[\"Age\"].fillna(df[\"Age\"].median(skipna=True))\n",
    "df.isnull().sum()#Verificamos que la columna \"Age\" ya no tiene NaN's"
   ]
  },
  {
   "cell_type": "markdown",
   "metadata": {},
   "source": [
    "Vamos a eliminar las columnas _SibSp_ y _ParCh_.\n",
    "\n",
    "Se van a cambiar por una columna llamada _CompAl (travel with company or alone)_.\n",
    "\n",
    "Esta nueva columna va a tener un 1 en el _i-_ ésimo renglón si $SibSp_{i} + ParCh_{i} > 0$ y $0$ si no.\n",
    "\n",
    "Nos va a indicar si un pasajero viajaba acompañado (1) o solo (0)."
   ]
  },
  {
   "cell_type": "code",
   "execution_count": 12,
   "metadata": {},
   "outputs": [
    {
     "name": "stdout",
     "output_type": "stream",
     "text": [
      "   Survived  Pclass     Sex   Age  SibSp  ParCh     Fare Embarked  CompAl\n",
      "0         0       3    male  22.0      1      0   7.2500        S       1\n",
      "1         1       1  female  38.0      1      0  71.2833        C       1\n",
      "2         1       3  female  26.0      0      0   7.9250        S       0\n",
      "3         1       1  female  35.0      1      0  53.1000        S       1\n",
      "4         0       3    male  35.0      0      0   8.0500        S       0\n"
     ]
    },
    {
     "data": {
      "text/html": [
       "<div>\n",
       "<style scoped>\n",
       "    .dataframe tbody tr th:only-of-type {\n",
       "        vertical-align: middle;\n",
       "    }\n",
       "\n",
       "    .dataframe tbody tr th {\n",
       "        vertical-align: top;\n",
       "    }\n",
       "\n",
       "    .dataframe thead th {\n",
       "        text-align: right;\n",
       "    }\n",
       "</style>\n",
       "<table border=\"1\" class=\"dataframe\">\n",
       "  <thead>\n",
       "    <tr style=\"text-align: right;\">\n",
       "      <th></th>\n",
       "      <th>Survived</th>\n",
       "      <th>Pclass</th>\n",
       "      <th>Sex</th>\n",
       "      <th>Age</th>\n",
       "      <th>Fare</th>\n",
       "      <th>Embarked</th>\n",
       "      <th>CompAl</th>\n",
       "    </tr>\n",
       "  </thead>\n",
       "  <tbody>\n",
       "    <tr>\n",
       "      <th>0</th>\n",
       "      <td>0</td>\n",
       "      <td>3</td>\n",
       "      <td>male</td>\n",
       "      <td>22.0</td>\n",
       "      <td>7.2500</td>\n",
       "      <td>S</td>\n",
       "      <td>1</td>\n",
       "    </tr>\n",
       "    <tr>\n",
       "      <th>1</th>\n",
       "      <td>1</td>\n",
       "      <td>1</td>\n",
       "      <td>female</td>\n",
       "      <td>38.0</td>\n",
       "      <td>71.2833</td>\n",
       "      <td>C</td>\n",
       "      <td>1</td>\n",
       "    </tr>\n",
       "    <tr>\n",
       "      <th>2</th>\n",
       "      <td>1</td>\n",
       "      <td>3</td>\n",
       "      <td>female</td>\n",
       "      <td>26.0</td>\n",
       "      <td>7.9250</td>\n",
       "      <td>S</td>\n",
       "      <td>0</td>\n",
       "    </tr>\n",
       "    <tr>\n",
       "      <th>3</th>\n",
       "      <td>1</td>\n",
       "      <td>1</td>\n",
       "      <td>female</td>\n",
       "      <td>35.0</td>\n",
       "      <td>53.1000</td>\n",
       "      <td>S</td>\n",
       "      <td>1</td>\n",
       "    </tr>\n",
       "    <tr>\n",
       "      <th>4</th>\n",
       "      <td>0</td>\n",
       "      <td>3</td>\n",
       "      <td>male</td>\n",
       "      <td>35.0</td>\n",
       "      <td>8.0500</td>\n",
       "      <td>S</td>\n",
       "      <td>0</td>\n",
       "    </tr>\n",
       "  </tbody>\n",
       "</table>\n",
       "</div>"
      ],
      "text/plain": [
       "   Survived  Pclass     Sex   Age     Fare Embarked  CompAl\n",
       "0         0       3    male  22.0   7.2500        S       1\n",
       "1         1       1  female  38.0  71.2833        C       1\n",
       "2         1       3  female  26.0   7.9250        S       0\n",
       "3         1       1  female  35.0  53.1000        S       1\n",
       "4         0       3    male  35.0   8.0500        S       0"
      ]
     },
     "execution_count": 12,
     "metadata": {},
     "output_type": "execute_result"
    }
   ],
   "source": [
    "# Creamos la nueva columna con las características mencionadas\n",
    "df['CompAl']=np.where((df[\"SibSp\"]+df[\"ParCh\"])>0, 1, 0)\n",
    "\n",
    "print(df.head())\n",
    "\n",
    "#Eliminamos las columnas 'SibSp' y 'ParCh'\n",
    "df.drop('SibSp', axis=1, inplace=True)\n",
    "df.drop('ParCh', axis=1, inplace=True)\n",
    "\n",
    "df.head()"
   ]
  },
  {
   "cell_type": "code",
   "execution_count": 13,
   "metadata": {},
   "outputs": [
    {
     "name": "stdout",
     "output_type": "stream",
     "text": [
      "<class 'pandas.core.frame.DataFrame'>\n"
     ]
    },
    {
     "data": {
      "text/html": [
       "<div>\n",
       "<style scoped>\n",
       "    .dataframe tbody tr th:only-of-type {\n",
       "        vertical-align: middle;\n",
       "    }\n",
       "\n",
       "    .dataframe tbody tr th {\n",
       "        vertical-align: top;\n",
       "    }\n",
       "\n",
       "    .dataframe thead th {\n",
       "        text-align: right;\n",
       "    }\n",
       "</style>\n",
       "<table border=\"1\" class=\"dataframe\">\n",
       "  <thead>\n",
       "    <tr style=\"text-align: right;\">\n",
       "      <th></th>\n",
       "      <th>Pclass</th>\n",
       "      <th>Sex</th>\n",
       "      <th>Age</th>\n",
       "      <th>Fare</th>\n",
       "      <th>Embarked</th>\n",
       "      <th>CompAl</th>\n",
       "    </tr>\n",
       "  </thead>\n",
       "  <tbody>\n",
       "    <tr>\n",
       "      <th>0</th>\n",
       "      <td>3</td>\n",
       "      <td>male</td>\n",
       "      <td>22.0</td>\n",
       "      <td>7.2500</td>\n",
       "      <td>S</td>\n",
       "      <td>1</td>\n",
       "    </tr>\n",
       "    <tr>\n",
       "      <th>1</th>\n",
       "      <td>1</td>\n",
       "      <td>female</td>\n",
       "      <td>38.0</td>\n",
       "      <td>71.2833</td>\n",
       "      <td>C</td>\n",
       "      <td>1</td>\n",
       "    </tr>\n",
       "    <tr>\n",
       "      <th>2</th>\n",
       "      <td>3</td>\n",
       "      <td>female</td>\n",
       "      <td>26.0</td>\n",
       "      <td>7.9250</td>\n",
       "      <td>S</td>\n",
       "      <td>0</td>\n",
       "    </tr>\n",
       "    <tr>\n",
       "      <th>3</th>\n",
       "      <td>1</td>\n",
       "      <td>female</td>\n",
       "      <td>35.0</td>\n",
       "      <td>53.1000</td>\n",
       "      <td>S</td>\n",
       "      <td>1</td>\n",
       "    </tr>\n",
       "    <tr>\n",
       "      <th>4</th>\n",
       "      <td>3</td>\n",
       "      <td>male</td>\n",
       "      <td>35.0</td>\n",
       "      <td>8.0500</td>\n",
       "      <td>S</td>\n",
       "      <td>0</td>\n",
       "    </tr>\n",
       "  </tbody>\n",
       "</table>\n",
       "</div>"
      ],
      "text/plain": [
       "   Pclass     Sex   Age     Fare Embarked  CompAl\n",
       "0       3    male  22.0   7.2500        S       1\n",
       "1       1  female  38.0  71.2833        C       1\n",
       "2       3  female  26.0   7.9250        S       0\n",
       "3       1  female  35.0  53.1000        S       1\n",
       "4       3    male  35.0   8.0500        S       0"
      ]
     },
     "execution_count": 13,
     "metadata": {},
     "output_type": "execute_result"
    }
   ],
   "source": [
    "# Se definen las varibles X (predictoras) y Y (dependiente)\n",
    "Y = df[\"Survived\"]\n",
    "X = df.drop(\"Survived\",axis=1)\n",
    "print(type(X))\n",
    "X.head()"
   ]
  },
  {
   "cell_type": "code",
   "execution_count": 14,
   "metadata": {},
   "outputs": [
    {
     "name": "stdout",
     "output_type": "stream",
     "text": [
      "   2  3\n",
      "0  0  1\n",
      "1  0  0\n",
      "2  0  1\n",
      "3  0  0\n",
      "4  0  1\n"
     ]
    },
    {
     "data": {
      "text/html": [
       "<div>\n",
       "<style scoped>\n",
       "    .dataframe tbody tr th:only-of-type {\n",
       "        vertical-align: middle;\n",
       "    }\n",
       "\n",
       "    .dataframe tbody tr th {\n",
       "        vertical-align: top;\n",
       "    }\n",
       "\n",
       "    .dataframe thead th {\n",
       "        text-align: right;\n",
       "    }\n",
       "</style>\n",
       "<table border=\"1\" class=\"dataframe\">\n",
       "  <thead>\n",
       "    <tr style=\"text-align: right;\">\n",
       "      <th></th>\n",
       "      <th>Sex_female</th>\n",
       "      <th>Sex_male</th>\n",
       "      <th>Embarked_C</th>\n",
       "      <th>Embarked_Q</th>\n",
       "      <th>Embarked_S</th>\n",
       "    </tr>\n",
       "  </thead>\n",
       "  <tbody>\n",
       "    <tr>\n",
       "      <th>0</th>\n",
       "      <td>0</td>\n",
       "      <td>1</td>\n",
       "      <td>0</td>\n",
       "      <td>0</td>\n",
       "      <td>1</td>\n",
       "    </tr>\n",
       "    <tr>\n",
       "      <th>1</th>\n",
       "      <td>1</td>\n",
       "      <td>0</td>\n",
       "      <td>1</td>\n",
       "      <td>0</td>\n",
       "      <td>0</td>\n",
       "    </tr>\n",
       "    <tr>\n",
       "      <th>2</th>\n",
       "      <td>1</td>\n",
       "      <td>0</td>\n",
       "      <td>0</td>\n",
       "      <td>0</td>\n",
       "      <td>1</td>\n",
       "    </tr>\n",
       "    <tr>\n",
       "      <th>3</th>\n",
       "      <td>1</td>\n",
       "      <td>0</td>\n",
       "      <td>0</td>\n",
       "      <td>0</td>\n",
       "      <td>1</td>\n",
       "    </tr>\n",
       "    <tr>\n",
       "      <th>4</th>\n",
       "      <td>0</td>\n",
       "      <td>1</td>\n",
       "      <td>0</td>\n",
       "      <td>0</td>\n",
       "      <td>1</td>\n",
       "    </tr>\n",
       "  </tbody>\n",
       "</table>\n",
       "</div>"
      ],
      "text/plain": [
       "   Sex_female  Sex_male  Embarked_C  Embarked_Q  Embarked_S\n",
       "0           0         1           0           0           1\n",
       "1           1         0           1           0           0\n",
       "2           1         0           0           0           1\n",
       "3           1         0           0           0           1\n",
       "4           0         1           0           0           1"
      ]
     },
     "execution_count": 14,
     "metadata": {},
     "output_type": "execute_result"
    }
   ],
   "source": [
    "#Se definen las variables dummies para las variables categóricas 'Pclass', 'Sex' y 'Embarked'\n",
    "clases = pd.get_dummies(df[\"Pclass\"],drop_first=True)\n",
    "print(clases.head())\n",
    "dummies = pd.get_dummies(X[['Sex', 'Embarked']])\n",
    "dummies.head()"
   ]
  },
  {
   "cell_type": "code",
   "execution_count": 15,
   "metadata": {},
   "outputs": [
    {
     "name": "stdout",
     "output_type": "stream",
     "text": [
      "   Pclass     Sex   Age     Fare Embarked  CompAl\n",
      "0       3    male  22.0   7.2500        S       1\n",
      "1       1  female  38.0  71.2833        C       1\n",
      "2       3  female  26.0   7.9250        S       0\n",
      "3       1  female  35.0  53.1000        S       1\n",
      "4       3    male  35.0   8.0500        S       0\n",
      "1309  renglones\n",
      " 8  columnas\n"
     ]
    },
    {
     "data": {
      "text/html": [
       "<div>\n",
       "<style scoped>\n",
       "    .dataframe tbody tr th:only-of-type {\n",
       "        vertical-align: middle;\n",
       "    }\n",
       "\n",
       "    .dataframe tbody tr th {\n",
       "        vertical-align: top;\n",
       "    }\n",
       "\n",
       "    .dataframe thead th {\n",
       "        text-align: right;\n",
       "    }\n",
       "</style>\n",
       "<table border=\"1\" class=\"dataframe\">\n",
       "  <thead>\n",
       "    <tr style=\"text-align: right;\">\n",
       "      <th></th>\n",
       "      <th>Age</th>\n",
       "      <th>Fare</th>\n",
       "      <th>CompAl</th>\n",
       "      <th>2</th>\n",
       "      <th>3</th>\n",
       "      <th>Sex_female</th>\n",
       "      <th>Embarked_C</th>\n",
       "      <th>Embarked_Q</th>\n",
       "    </tr>\n",
       "  </thead>\n",
       "  <tbody>\n",
       "    <tr>\n",
       "      <th>0</th>\n",
       "      <td>22.0</td>\n",
       "      <td>7.2500</td>\n",
       "      <td>1.0</td>\n",
       "      <td>0</td>\n",
       "      <td>1</td>\n",
       "      <td>0</td>\n",
       "      <td>0</td>\n",
       "      <td>0</td>\n",
       "    </tr>\n",
       "    <tr>\n",
       "      <th>1</th>\n",
       "      <td>38.0</td>\n",
       "      <td>71.2833</td>\n",
       "      <td>1.0</td>\n",
       "      <td>0</td>\n",
       "      <td>0</td>\n",
       "      <td>1</td>\n",
       "      <td>1</td>\n",
       "      <td>0</td>\n",
       "    </tr>\n",
       "    <tr>\n",
       "      <th>2</th>\n",
       "      <td>26.0</td>\n",
       "      <td>7.9250</td>\n",
       "      <td>0.0</td>\n",
       "      <td>0</td>\n",
       "      <td>1</td>\n",
       "      <td>1</td>\n",
       "      <td>0</td>\n",
       "      <td>0</td>\n",
       "    </tr>\n",
       "    <tr>\n",
       "      <th>3</th>\n",
       "      <td>35.0</td>\n",
       "      <td>53.1000</td>\n",
       "      <td>1.0</td>\n",
       "      <td>0</td>\n",
       "      <td>0</td>\n",
       "      <td>1</td>\n",
       "      <td>0</td>\n",
       "      <td>0</td>\n",
       "    </tr>\n",
       "    <tr>\n",
       "      <th>4</th>\n",
       "      <td>35.0</td>\n",
       "      <td>8.0500</td>\n",
       "      <td>0.0</td>\n",
       "      <td>0</td>\n",
       "      <td>1</td>\n",
       "      <td>0</td>\n",
       "      <td>0</td>\n",
       "      <td>0</td>\n",
       "    </tr>\n",
       "  </tbody>\n",
       "</table>\n",
       "</div>"
      ],
      "text/plain": [
       "    Age     Fare  CompAl  2  3  Sex_female  Embarked_C  Embarked_Q\n",
       "0  22.0   7.2500     1.0  0  1           0           0           0\n",
       "1  38.0  71.2833     1.0  0  0           1           1           0\n",
       "2  26.0   7.9250     0.0  0  1           1           0           0\n",
       "3  35.0  53.1000     1.0  0  0           1           0           0\n",
       "4  35.0   8.0500     0.0  0  1           0           0           0"
      ]
     },
     "execution_count": 15,
     "metadata": {},
     "output_type": "execute_result"
    }
   ],
   "source": [
    "#Se eliminan las columnas 'Pclass', 'Sex', 'Embarked' y se reemplazan por\n",
    "#las variables dummies, una por la columna 'Sex' y 2 por las columnas 'Pclass' y 'Embarked'.\n",
    "#Recordemos los valores de cada variable:\n",
    "# 'Pclass': 1, 2, 3\n",
    "# 'Sex': male, female\n",
    "# 'Embarked': C, S, Q\n",
    "print(X.head())\n",
    "X = X.drop(['Pclass', 'Sex', 'Embarked'], axis = 1).astype('float64')\n",
    "X = pd.concat([X,clases, dummies[['Sex_female', 'Embarked_C', 'Embarked_Q']]], axis = 1)\n",
    "\n",
    "print(X.shape[0],' renglones\\n',X.shape[1],' columnas')\n",
    "X.head()"
   ]
  },
  {
   "cell_type": "code",
   "execution_count": 16,
   "metadata": {},
   "outputs": [
    {
     "data": {
      "image/png": "[encoded data removed]",
      "text/plain": [
       "<Figure size 432x288 with 1 Axes>"
      ]
     },
     "metadata": {
      "needs_background": "light"
     },
     "output_type": "display_data"
    }
   ],
   "source": [
    "## 3) VISUALIZACIÓN DE LOS DATOS\n",
    "# Para entender mejor los datos es necesario graficarlos.\n",
    "\n",
    "# Gráfica de barras de los sobrevivientes\n",
    "sns.countplot(x='Survived', data=df)\n",
    "plt.title('Sobrevivientes')\n",
    "plt.xlabel('0 = No sobrevivió, 1 = Si sobrevivió')\n",
    "plt.ylabel('Número de pasajeros')\n",
    "plt.show()"
   ]
  },
  {
   "cell_type": "markdown",
   "metadata": {},
   "source": [
    "Vemos que el número de pasajeros que no sobrevió es mayor al número de sobrevivientes."
   ]
  },
  {
   "cell_type": "code",
   "execution_count": 17,
   "metadata": {},
   "outputs": [
    {
     "data": {
      "image/png": "[encoded data removed]",
      "text/plain": [
       "<Figure size 432x288 with 1 Axes>"
      ]
     },
     "metadata": {
      "needs_background": "light"
     },
     "output_type": "display_data"
    }
   ],
   "source": [
    "#Gráfica de barras de las clases de pasajeros\n",
    "sns.countplot(x='Pclass', data=df)\n",
    "plt.title('Clases')\n",
    "plt.xlabel('1 = Primera clase, 2 = Segunda clase, 3 = Tercera clase')\n",
    "plt.ylabel('Número de pasajeros')\n",
    "plt.show()"
   ]
  },
  {
   "cell_type": "markdown",
   "metadata": {},
   "source": [
    "El número de pasajeros de la tercera clase es mucho mayor al de las clases 1 y 2."
   ]
  },
  {
   "cell_type": "code",
   "execution_count": 18,
   "metadata": {},
   "outputs": [
    {
     "data": {
      "image/png": "[encoded data removed]",
      "text/plain": [
       "<Figure size 432x288 with 1 Axes>"
      ]
     },
     "metadata": {
      "needs_background": "light"
     },
     "output_type": "display_data"
    }
   ],
   "source": [
    "#Gráfica de barras de las clases de pasajeros\n",
    "sns.countplot(x='Sex', data=df)\n",
    "plt.title('Sexo')\n",
    "plt.xlabel('male = Masculino, female = Femenino')\n",
    "plt.ylabel('Número de pasajeros')\n",
    "plt.show()"
   ]
  },
  {
   "cell_type": "markdown",
   "metadata": {},
   "source": [
    "La mayor parte de los pasajeros eran hombres."
   ]
  },
  {
   "cell_type": "code",
   "execution_count": 19,
   "metadata": {},
   "outputs": [
    {
     "name": "stdout",
     "output_type": "stream",
     "text": [
      "Edad mínima =  0.17\n",
      "Edad máxima =  80.0\n"
     ]
    },
    {
     "data": {
      "image/png": "[encoded data removed]",
      "text/plain": [
       "<Figure size 432x288 with 1 Axes>"
      ]
     },
     "metadata": {
      "needs_background": "light"
     },
     "output_type": "display_data"
    }
   ],
   "source": [
    "#Histograma de la columna 'Age'\n",
    "print('Edad mínima = ',min(df.Age))\n",
    "print('Edad máxima = ',max(df.Age))\n",
    "\n",
    "plt.hist(df.Age, bins=[0,10,20,30,40,50,60,70,80,90]) #Se hace la división por cada 10 años\n",
    "plt.title('Histograma de la columna \"Age\"')\n",
    "plt.xlabel('Edad')\n",
    "plt.ylabel('Número de pasajeros')\n",
    "plt.show()"
   ]
  },
  {
   "cell_type": "markdown",
   "metadata": {},
   "source": [
    "Se tienen alrededor de 600 pasajeros que tienen entre 20 y 30 años.\n",
    "\n",
    "Es el grupo de edad con mayor número de pasajeros. El siguiente grupo es el de 30 a 40 años."
   ]
  },
  {
   "cell_type": "code",
   "execution_count": 20,
   "metadata": {},
   "outputs": [
    {
     "data": {
      "text/plain": [
       "Jóvenes     718\n",
       "Adultos     404\n",
       "Niños        98\n",
       "Infantes     56\n",
       "Ancianos     33\n",
       "Name: Age, dtype: int64"
      ]
     },
     "execution_count": 20,
     "metadata": {},
     "output_type": "execute_result"
    }
   ],
   "source": [
    "# Hacemos una tabla dividiendo las edades en diferentes categorías de acuerdo a la edad:\n",
    "bins = [0, 5, 17, 30, 60, 80]\n",
    "labels = ['Infantes', # 0 - 5 años\n",
    "          'Niños', # 6 - 17 años\n",
    "          'Jóvenes',# 18 - 30 años\n",
    "          'Adultos',# 31 - 60 años\n",
    "          'Ancianos']# 61 - 80 años\n",
    "pd.cut(df['Age'], bins = bins, labels=labels).value_counts()"
   ]
  },
  {
   "cell_type": "markdown",
   "metadata": {},
   "source": [
    "Con la tabla anterior podemos ver que el mayor número de pasajeros eran jóvenes entre 18 y 30 años."
   ]
  },
  {
   "cell_type": "code",
   "execution_count": 21,
   "metadata": {},
   "outputs": [
    {
     "name": "stdout",
     "output_type": "stream",
     "text": [
      "Tarifa mínima =  0.0\n",
      "Tarifa máxima =  512.3292\n"
     ]
    },
    {
     "data": {
      "image/png": "[encoded data removed]",
      "text/plain": [
       "<Figure size 432x288 with 1 Axes>"
      ]
     },
     "metadata": {
      "needs_background": "light"
     },
     "output_type": "display_data"
    }
   ],
   "source": [
    "#Histograma de la columna 'Fare'\n",
    "print('Tarifa mínima = ',min(df.Fare))\n",
    "print('Tarifa máxima = ',max(df.Fare))\n",
    "\n",
    "plt.hist(df.Fare, bins=[0,25,50,75,100,125,150,175,200,\n",
    "                        225,250,275,300,325,350,375,400,\n",
    "                        425,450,475,500,525]) #Se hace la división por cada 25 u.m.\n",
    "plt.title('Histograma de la columna \"Fare\"')\n",
    "plt.xlabel('Tarifa')\n",
    "plt.ylabel('Número de pasajeros')\n",
    "plt.show()"
   ]
  },
  {
   "cell_type": "markdown",
   "metadata": {},
   "source": [
    "Más de 800 pasajeros pagaron menos de 25 u.m. por su boleto.\n",
    "\n",
    "Estos datos confirman los resultados vistos en el análisis de las clases.\n",
    "\n",
    "La mayoría de los pasajeros pagaron menos de 50 u.m."
   ]
  },
  {
   "cell_type": "code",
   "execution_count": 22,
   "metadata": {},
   "outputs": [
    {
     "data": {
      "image/png": "[encoded data removed]",
      "text/plain": [
       "<Figure size 432x288 with 1 Axes>"
      ]
     },
     "metadata": {
      "needs_background": "light"
     },
     "output_type": "display_data"
    }
   ],
   "source": [
    "# Gráfica de barras de los pasajeros que viajan solos o acompañados\n",
    "sns.countplot(x='CompAl', data=df)\n",
    "plt.title('Pasajeros que viajan solos o acompañados')\n",
    "plt.xlabel('0 = Viajan solos, 1 = Viajan acompañados')\n",
    "plt.ylabel('Número de pasajeros')\n",
    "plt.show()"
   ]
  },
  {
   "cell_type": "markdown",
   "metadata": {},
   "source": [
    "Hay más pasajeros que viajan solos.\n",
    "\n",
    "Observando todas las gráficas podemos concluir que la mayoría de los pasajeros eran hombres jóvenes que viajaban solos.\n",
    "\n",
    "Podemos hacer gráficas con 2 características para poder obtener más información."
   ]
  },
  {
   "cell_type": "code",
   "execution_count": 23,
   "metadata": {},
   "outputs": [
    {
     "data": {
      "image/png": "[encoded data removed]",
      "text/plain": [
       "<Figure size 432x288 with 1 Axes>"
      ]
     },
     "metadata": {
      "needs_background": "light"
     },
     "output_type": "display_data"
    }
   ],
   "source": [
    "# Sobrevivientes por sexo\n",
    "sns.countplot(x='Survived', hue='Sex', data=df)\n",
    "plt.title('Sobrevivientes por sexo: masculino o femenino')\n",
    "plt.xlabel('0 = No sobrevivió, 1 = Si sobrevivió')\n",
    "plt.ylabel('Número de pasajeros')\n",
    "plt.show()"
   ]
  },
  {
   "cell_type": "markdown",
   "metadata": {},
   "source": [
    "Observamos que el número de hombres que no sobreviveron es un poco más del doble que el número de mujeres que no sobreviveron.\n",
    "\n",
    "Esto se puede explicar debido a que dejaban subir primero a los botes salvavidas a mujeres y a niños."
   ]
  },
  {
   "cell_type": "code",
   "execution_count": 24,
   "metadata": {},
   "outputs": [
    {
     "data": {
      "image/png": "[encoded data removed]",
      "text/plain": [
       "<Figure size 432x288 with 1 Axes>"
      ]
     },
     "metadata": {
      "needs_background": "light"
     },
     "output_type": "display_data"
    }
   ],
   "source": [
    "# Sobrevivientes con respecto a la clase\n",
    "sns.countplot(x='Survived', hue='Pclass', data=df)\n",
    "plt.title('Sobrevivientes por clase')\n",
    "plt.xlabel('0 = No sobrevivió, 1 = Si sobrevivió')\n",
    "plt.ylabel('Número de pasajeros')\n",
    "plt.show()"
   ]
  },
  {
   "cell_type": "markdown",
   "metadata": {},
   "source": [
    "Con esta gráfica vemos que el mayor número de pasajeros que no sobrevivió pertenecía a la clase más baja.\n",
    "\n",
    "Viendo las 2 gráficas anteriores podemos concluir que la mayoría de los pasajeros que sobrevieron fueron mujeres de las clases 1 y 2."
   ]
  },
  {
   "cell_type": "code",
   "execution_count": 25,
   "metadata": {},
   "outputs": [
    {
     "data": {
      "image/png": "[encoded data removed]",
      "text/plain": [
       "<Figure size 432x288 with 1 Axes>"
      ]
     },
     "metadata": {
      "needs_background": "light"
     },
     "output_type": "display_data"
    }
   ],
   "source": [
    "# Sobrevivientes con respecto a si viajaban solos o acompañados\n",
    "sns.countplot(x='Survived', hue='CompAl', data=df)\n",
    "plt.title('Sobrevivientes con respecto a si viajaban solos o acompañados')\n",
    "plt.xlabel('0 = No sobrevivió, 1 = Si sobrevivió')\n",
    "plt.ylabel('Número de pasajeros')\n",
    "plt.show()"
   ]
  },
  {
   "cell_type": "markdown",
   "metadata": {},
   "source": [
    "De las personas que sobrevivieron se tiene prácticamente el mismo número de pasajeros que viajaban solos que de pasajeros que viajaban acompañados.\n",
    "\n",
    "De las personas que no sobrevivieron hay un mayor número de pasajeros que viajaban solos."
   ]
  },
  {
   "cell_type": "code",
   "execution_count": 26,
   "metadata": {},
   "outputs": [
    {
     "data": {
      "image/png": "[encoded data removed]",
      "text/plain": [
       "<Figure size 432x288 with 1 Axes>"
      ]
     },
     "metadata": {
      "needs_background": "light"
     },
     "output_type": "display_data"
    }
   ],
   "source": [
    "# Número de hombres y mujeres de cada clase\n",
    "sns.countplot(x='Pclass', hue='Sex', data=df)\n",
    "plt.title('Hombres y mujeres de cada clase')\n",
    "plt.xlabel('1 = Primera clase, 2 = Segunda clase, 3 = Tercera clase')\n",
    "plt.ylabel('Número de pasajeros')\n",
    "plt.show()"
   ]
  },
  {
   "cell_type": "markdown",
   "metadata": {},
   "source": [
    "En todas las clases hay más hombres que mujeres.\n",
    "\n",
    "Particularmente en la tercera clase hay más hombres que en las clases 1 y 2."
   ]
  },
  {
   "cell_type": "code",
   "execution_count": 27,
   "metadata": {},
   "outputs": [
    {
     "data": {
      "image/png": "[encoded data removed]",
      "text/plain": [
       "<Figure size 432x288 with 1 Axes>"
      ]
     },
     "metadata": {
      "needs_background": "light"
     },
     "output_type": "display_data"
    }
   ],
   "source": [
    "# Número pasajeros solos o acompañados de cada clase\n",
    "sns.countplot(x='Pclass', hue='CompAl', data=df)\n",
    "plt.title('Pasajeros solos o acompañados de cada clase')\n",
    "plt.xlabel('1 = Primera clase, 2 = Segunda clase, 3 = Tercera clase')\n",
    "plt.ylabel('Número de pasajeros')\n",
    "plt.show()"
   ]
  },
  {
   "cell_type": "markdown",
   "metadata": {},
   "source": [
    "En la primera clase el número de pasajeros que viajaban solos es casi el mismo que el de pasajeros que viajaban acompañados.\n",
    "\n",
    "En la segunda clase el número de pasajeros que viajaban solos es un poco mayor que el de pasajeros que viajaban acompañados.\n",
    "\n",
    "En la tercera clase el número de pasajeros que viajaban solos es mucho mayor que el de pasajeros que viajaban acompañados.\n"
   ]
  },
  {
   "cell_type": "code",
   "execution_count": 28,
   "metadata": {},
   "outputs": [
    {
     "data": {
      "image/png": "[encoded data removed]",
      "text/plain": [
       "<Figure size 432x288 with 1 Axes>"
      ]
     },
     "metadata": {
      "needs_background": "light"
     },
     "output_type": "display_data"
    }
   ],
   "source": [
    "# Número pasajeros solos o acompañados por sexo\n",
    "sns.countplot(x='Sex', hue='CompAl', data=df)\n",
    "plt.title('Pasajeros solos o acompañados por sexo')\n",
    "plt.xlabel('male = Masculino, female = Femenino')\n",
    "plt.ylabel('Número de pasajeros')\n",
    "plt.show()"
   ]
  },
  {
   "cell_type": "markdown",
   "metadata": {},
   "source": [
    "Hay mucho más hombres que viajaban solos que mujeres que viajaban solas."
   ]
  },
  {
   "cell_type": "code",
   "execution_count": 29,
   "metadata": {},
   "outputs": [
    {
     "data": {
      "image/png": "[encoded data removed]",
      "text/plain": [
       "<Figure size 720x504 with 1 Axes>"
      ]
     },
     "metadata": {
      "needs_background": "light"
     },
     "output_type": "display_data"
    }
   ],
   "source": [
    "# Edad de pasajeros por clase\n",
    "plt.figure(figsize=(10,7)) #Se ajusta el tamaño de la figura\n",
    "sns.boxplot(x='Pclass',y='Age',data=df)\n",
    "plt.title('Edad de pasajeros por clase')\n",
    "plt.xlabel('1 = Primera clase, 2 = Segunda clase, 3 = Tercera clase')\n",
    "plt.ylabel('Edad')\n",
    "plt.show()"
   ]
  },
  {
   "cell_type": "markdown",
   "metadata": {},
   "source": [
    "La clase con el mayor número de pasajeros entre 20 y 30 años es la tercera clase.\n",
    "\n",
    "La edad de los pasajeros de la primera clase se encuentra entre 25 y 50 años (la mayor cantidad de personas)."
   ]
  },
  {
   "cell_type": "code",
   "execution_count": 30,
   "metadata": {},
   "outputs": [
    {
     "data": {
      "image/png": "[encoded data removed]",
      "text/plain": [
       "<Figure size 720x504 with 1 Axes>"
      ]
     },
     "metadata": {
      "needs_background": "light"
     },
     "output_type": "display_data"
    }
   ],
   "source": [
    "# Edad de pasajeros por sexo\n",
    "plt.figure(figsize=(10,7)) #Se ajusta el tamaño de la figura\n",
    "sns.boxplot(x='Sex',y='Age',data=df)\n",
    "plt.title('Edad de pasajeros por sexo: masculino o femenino')\n",
    "plt.xlabel('male = Masculino, female = Femenino')\n",
    "plt.ylabel('Edad')\n",
    "plt.show()"
   ]
  },
  {
   "cell_type": "markdown",
   "metadata": {},
   "source": [
    "Con la gráfica anterior podemos ver que la edad de los pasajeros es similar sin importar si son hombres o mujeres."
   ]
  },
  {
   "cell_type": "code",
   "execution_count": 31,
   "metadata": {},
   "outputs": [
    {
     "data": {
      "image/png": "[encoded data removed]",
      "text/plain": [
       "<Figure size 720x504 with 1 Axes>"
      ]
     },
     "metadata": {
      "needs_background": "light"
     },
     "output_type": "display_data"
    }
   ],
   "source": [
    "# Edad de pasajeros con respecto a la supervivencia\n",
    "plt.figure(figsize=(10,7)) #Se ajusta el tamaño de la figura\n",
    "sns.boxplot(x='Survived',y='Age',data=df)\n",
    "plt.title('Edad de pasajeros por supervivencia')\n",
    "plt.xlabel('0 = No sobrevivió, 1 = Si sobrevivió')\n",
    "plt.ylabel('Edad')\n",
    "plt.show()"
   ]
  },
  {
   "cell_type": "markdown",
   "metadata": {},
   "source": [
    "En la gráfica anterior vemos que la edad de los pasajeros es similar sin importar si sobrevivieron o no."
   ]
  }
 ],
 "metadata": {
  "kernelspec": {
   "display_name": "Python 3",
   "language": "python",
   "name": "python3"
  },
  "language_info": {
   "codemirror_mode": {
    "name": "ipython",
    "version": 3
   },
   "file_extension": ".py",
   "mimetype": "text/x-python",
   "name": "python",
   "nbconvert_exporter": "python",
   "pygments_lexer": "ipython3",
   "version": "3.8.5"
  }
 },
 "nbformat": 4,
 "nbformat_minor": 4
}
