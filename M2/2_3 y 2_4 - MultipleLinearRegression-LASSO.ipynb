{
 "cells": [
  {
   "cell_type": "markdown",
   "metadata": {},
   "source": [
    "# Regresión Lineal Múltiple y LASSO\n",
    "\n",
    "### Students grades\n",
    "\n",
    "[Source Information](https://www.kaggle.com/hely333/what-is-the-secret-of-academic-success/data)\n",
    "P. Cortez and A. Silva. Using Data Mining to Predict Secondary School Student Performance. In A. Brito and J. Teixeira Eds., Proceedings of 5th FUture BUsiness TEChnology Conference (FUBUTEC 2008) pp. 5-12, Porto, Portugal, April, 2008, EUROSIS, ISBN 978-9077381-39-7."
   ]
  },
  {
   "cell_type": "code",
   "execution_count": 1,
   "metadata": {},
   "outputs": [],
   "source": [
    "# Se cargan las librerías que se van a utilizar\n",
    "import numpy as np\n",
    "import math\n",
    "import matplotlib.pyplot as plt\n",
    "import pandas as pd\n",
    "import seaborn as sns\n",
    "import sklearn\n",
    "\n",
    "from scipy.optimize import minimize\n",
    "from sklearn.model_selection import train_test_split\n",
    "from sklearn.linear_model import Lasso, LassoCV\n",
    "from sklearn.linear_model import LinearRegression\n",
    "from sklearn.linear_model import Ridge, RidgeCV\n",
    "from sklearn.metrics import r2_score\n",
    "from sklearn.metrics import mean_squared_error\n",
    "from sklearn.preprocessing import scale"
   ]
  },
  {
   "cell_type": "code",
   "execution_count": 2,
   "metadata": {},
   "outputs": [],
   "source": [
    "pd.set_option('display.max_columns', 33) # by default is 10, if change to None print ALL"
   ]
  },
  {
   "cell_type": "code",
   "execution_count": 3,
   "metadata": {},
   "outputs": [
    {
     "name": "stdout",
     "output_type": "stream",
     "text": [
      "(395, 33)\n"
     ]
    }
   ],
   "source": [
    "## 1) EXTRAER DATOS\n",
    "df = pd.read_csv('student_mat.csv')\n",
    "print(df.shape)"
   ]
  },
  {
   "cell_type": "code",
   "execution_count": 4,
   "metadata": {},
   "outputs": [
    {
     "data": {
      "text/html": [
       "<div>\n",
       "<style scoped>\n",
       "    .dataframe tbody tr th:only-of-type {\n",
       "        vertical-align: middle;\n",
       "    }\n",
       "\n",
       "    .dataframe tbody tr th {\n",
       "        vertical-align: top;\n",
       "    }\n",
       "\n",
       "    .dataframe thead th {\n",
       "        text-align: right;\n",
       "    }\n",
       "</style>\n",
       "<table border=\"1\" class=\"dataframe\">\n",
       "  <thead>\n",
       "    <tr style=\"text-align: right;\">\n",
       "      <th></th>\n",
       "      <th>school</th>\n",
       "      <th>sex</th>\n",
       "      <th>age</th>\n",
       "      <th>address</th>\n",
       "      <th>famsize</th>\n",
       "      <th>Pstatus</th>\n",
       "      <th>Medu</th>\n",
       "      <th>Fedu</th>\n",
       "      <th>Mjob</th>\n",
       "      <th>Fjob</th>\n",
       "      <th>reason</th>\n",
       "      <th>guardian</th>\n",
       "      <th>traveltime</th>\n",
       "      <th>studytime</th>\n",
       "      <th>failures</th>\n",
       "      <th>schoolsup</th>\n",
       "      <th>famsup</th>\n",
       "      <th>paid</th>\n",
       "      <th>activities</th>\n",
       "      <th>nursery</th>\n",
       "      <th>higher</th>\n",
       "      <th>internet</th>\n",
       "      <th>romantic</th>\n",
       "      <th>famrel</th>\n",
       "      <th>freetime</th>\n",
       "      <th>goout</th>\n",
       "      <th>Dalc</th>\n",
       "      <th>Walc</th>\n",
       "      <th>health</th>\n",
       "      <th>absences</th>\n",
       "      <th>G1</th>\n",
       "      <th>G2</th>\n",
       "      <th>G3</th>\n",
       "    </tr>\n",
       "  </thead>\n",
       "  <tbody>\n",
       "    <tr>\n",
       "      <th>0</th>\n",
       "      <td>GP</td>\n",
       "      <td>F</td>\n",
       "      <td>18</td>\n",
       "      <td>U</td>\n",
       "      <td>GT3</td>\n",
       "      <td>A</td>\n",
       "      <td>4</td>\n",
       "      <td>4</td>\n",
       "      <td>at_home</td>\n",
       "      <td>teacher</td>\n",
       "      <td>course</td>\n",
       "      <td>mother</td>\n",
       "      <td>2</td>\n",
       "      <td>2</td>\n",
       "      <td>0</td>\n",
       "      <td>yes</td>\n",
       "      <td>no</td>\n",
       "      <td>no</td>\n",
       "      <td>no</td>\n",
       "      <td>yes</td>\n",
       "      <td>yes</td>\n",
       "      <td>no</td>\n",
       "      <td>no</td>\n",
       "      <td>4</td>\n",
       "      <td>3</td>\n",
       "      <td>4</td>\n",
       "      <td>1</td>\n",
       "      <td>1</td>\n",
       "      <td>3</td>\n",
       "      <td>6</td>\n",
       "      <td>5</td>\n",
       "      <td>6</td>\n",
       "      <td>6</td>\n",
       "    </tr>\n",
       "    <tr>\n",
       "      <th>1</th>\n",
       "      <td>GP</td>\n",
       "      <td>F</td>\n",
       "      <td>17</td>\n",
       "      <td>U</td>\n",
       "      <td>GT3</td>\n",
       "      <td>T</td>\n",
       "      <td>1</td>\n",
       "      <td>1</td>\n",
       "      <td>at_home</td>\n",
       "      <td>other</td>\n",
       "      <td>course</td>\n",
       "      <td>father</td>\n",
       "      <td>1</td>\n",
       "      <td>2</td>\n",
       "      <td>0</td>\n",
       "      <td>no</td>\n",
       "      <td>yes</td>\n",
       "      <td>no</td>\n",
       "      <td>no</td>\n",
       "      <td>no</td>\n",
       "      <td>yes</td>\n",
       "      <td>yes</td>\n",
       "      <td>no</td>\n",
       "      <td>5</td>\n",
       "      <td>3</td>\n",
       "      <td>3</td>\n",
       "      <td>1</td>\n",
       "      <td>1</td>\n",
       "      <td>3</td>\n",
       "      <td>4</td>\n",
       "      <td>5</td>\n",
       "      <td>5</td>\n",
       "      <td>6</td>\n",
       "    </tr>\n",
       "    <tr>\n",
       "      <th>2</th>\n",
       "      <td>GP</td>\n",
       "      <td>F</td>\n",
       "      <td>15</td>\n",
       "      <td>U</td>\n",
       "      <td>LE3</td>\n",
       "      <td>T</td>\n",
       "      <td>1</td>\n",
       "      <td>1</td>\n",
       "      <td>at_home</td>\n",
       "      <td>other</td>\n",
       "      <td>other</td>\n",
       "      <td>mother</td>\n",
       "      <td>1</td>\n",
       "      <td>2</td>\n",
       "      <td>3</td>\n",
       "      <td>yes</td>\n",
       "      <td>no</td>\n",
       "      <td>yes</td>\n",
       "      <td>no</td>\n",
       "      <td>yes</td>\n",
       "      <td>yes</td>\n",
       "      <td>yes</td>\n",
       "      <td>no</td>\n",
       "      <td>4</td>\n",
       "      <td>3</td>\n",
       "      <td>2</td>\n",
       "      <td>2</td>\n",
       "      <td>3</td>\n",
       "      <td>3</td>\n",
       "      <td>10</td>\n",
       "      <td>7</td>\n",
       "      <td>8</td>\n",
       "      <td>10</td>\n",
       "    </tr>\n",
       "    <tr>\n",
       "      <th>3</th>\n",
       "      <td>GP</td>\n",
       "      <td>F</td>\n",
       "      <td>15</td>\n",
       "      <td>U</td>\n",
       "      <td>GT3</td>\n",
       "      <td>T</td>\n",
       "      <td>4</td>\n",
       "      <td>2</td>\n",
       "      <td>health</td>\n",
       "      <td>services</td>\n",
       "      <td>home</td>\n",
       "      <td>mother</td>\n",
       "      <td>1</td>\n",
       "      <td>3</td>\n",
       "      <td>0</td>\n",
       "      <td>no</td>\n",
       "      <td>yes</td>\n",
       "      <td>yes</td>\n",
       "      <td>yes</td>\n",
       "      <td>yes</td>\n",
       "      <td>yes</td>\n",
       "      <td>yes</td>\n",
       "      <td>yes</td>\n",
       "      <td>3</td>\n",
       "      <td>2</td>\n",
       "      <td>2</td>\n",
       "      <td>1</td>\n",
       "      <td>1</td>\n",
       "      <td>5</td>\n",
       "      <td>2</td>\n",
       "      <td>15</td>\n",
       "      <td>14</td>\n",
       "      <td>15</td>\n",
       "    </tr>\n",
       "    <tr>\n",
       "      <th>4</th>\n",
       "      <td>GP</td>\n",
       "      <td>F</td>\n",
       "      <td>16</td>\n",
       "      <td>U</td>\n",
       "      <td>GT3</td>\n",
       "      <td>T</td>\n",
       "      <td>3</td>\n",
       "      <td>3</td>\n",
       "      <td>other</td>\n",
       "      <td>other</td>\n",
       "      <td>home</td>\n",
       "      <td>father</td>\n",
       "      <td>1</td>\n",
       "      <td>2</td>\n",
       "      <td>0</td>\n",
       "      <td>no</td>\n",
       "      <td>yes</td>\n",
       "      <td>yes</td>\n",
       "      <td>no</td>\n",
       "      <td>yes</td>\n",
       "      <td>yes</td>\n",
       "      <td>no</td>\n",
       "      <td>no</td>\n",
       "      <td>4</td>\n",
       "      <td>3</td>\n",
       "      <td>2</td>\n",
       "      <td>1</td>\n",
       "      <td>2</td>\n",
       "      <td>5</td>\n",
       "      <td>4</td>\n",
       "      <td>6</td>\n",
       "      <td>10</td>\n",
       "      <td>10</td>\n",
       "    </tr>\n",
       "  </tbody>\n",
       "</table>\n",
       "</div>"
      ],
      "text/plain": [
       "  school sex  age address famsize Pstatus  Medu  Fedu     Mjob      Fjob  \\\n",
       "0     GP   F   18       U     GT3       A     4     4  at_home   teacher   \n",
       "1     GP   F   17       U     GT3       T     1     1  at_home     other   \n",
       "2     GP   F   15       U     LE3       T     1     1  at_home     other   \n",
       "3     GP   F   15       U     GT3       T     4     2   health  services   \n",
       "4     GP   F   16       U     GT3       T     3     3    other     other   \n",
       "\n",
       "   reason guardian  traveltime  studytime  failures schoolsup famsup paid  \\\n",
       "0  course   mother           2          2         0       yes     no   no   \n",
       "1  course   father           1          2         0        no    yes   no   \n",
       "2   other   mother           1          2         3       yes     no  yes   \n",
       "3    home   mother           1          3         0        no    yes  yes   \n",
       "4    home   father           1          2         0        no    yes  yes   \n",
       "\n",
       "  activities nursery higher internet romantic  famrel  freetime  goout  Dalc  \\\n",
       "0         no     yes    yes       no       no       4         3      4     1   \n",
       "1         no      no    yes      yes       no       5         3      3     1   \n",
       "2         no     yes    yes      yes       no       4         3      2     2   \n",
       "3        yes     yes    yes      yes      yes       3         2      2     1   \n",
       "4         no     yes    yes       no       no       4         3      2     1   \n",
       "\n",
       "   Walc  health  absences  G1  G2  G3  \n",
       "0     1       3         6   5   6   6  \n",
       "1     1       3         4   5   5   6  \n",
       "2     3       3        10   7   8  10  \n",
       "3     1       5         2  15  14  15  \n",
       "4     2       5         4   6  10  10  "
      ]
     },
     "execution_count": 4,
     "metadata": {},
     "output_type": "execute_result"
    }
   ],
   "source": [
    "## 2) ANÁLISIS EXPLORATORIO\n",
    "df.head()"
   ]
  },
  {
   "cell_type": "markdown",
   "metadata": {},
   "source": [
    "Los datos corresponden a 395 estudiantes de 15 a 22 años que están en un curso de Matemáticas.\n",
    "\n",
    "La información que se tiene de cada uno de los estudiantes es (33 columnas):\n",
    "\n",
    "   - **school :** _GP:_ Gabriel Pereira, _MS:_ Mousinho da Silveira\n",
    "   - **sex:** _F:_ female, _M:_ male\n",
    "   - **age:** student's age (15-22)\n",
    "   - **address:** _U:_ urban, _R:_ rural\n",
    "   - **famsize:**  'LE3' - less or equal to 3 or 'GT3' - greater than 3\n",
    "   - **Pstatus:** 'T' - living together or 'A' - apart\n",
    "   - **Medu:** mother's education (numeric: 0 - none, 1 - primary education (4th grade), 2 – 5th to 9th grade, 3 – secondary education or 4 – higher education)\n",
    "   - **Fedu:** father's education (numeric: 0 - none, 1 - primary education (4th grade), 2 – 5th to 9th grade, 3 – secondary education or 4 – higher education)\n",
    "   - **Mjob:** mother's job (nominal: 'teacher', 'health' care related, civil 'services' (e.g. administrative or police), 'at_home' or 'other')\n",
    "   - **Fjob:** father's job (nominal: 'teacher', 'health' care related, civil 'services' (e.g. administrative or police), 'at_home' or 'other')\n",
    "   - **reason:** reason to choose this school (nominal: close to 'home', school 'reputation', 'course' preference or 'other')\n",
    "   - **guardian:** student's guardian (nominal: 'mother', 'father' or 'other')\n",
    "   - **traveltime:** home to school travel time (numeric: 1 - 4 hours)\n",
    "   - **studytime:** weekly study time (numeric: 1 - 10 hours)\n",
    "   - **failures:** number of past class failures (numeric: n if 1<=n<3, else 4)\n",
    "   - **schoolsup:** extra educational support (binary: yes or no)\n",
    "   - **famsup:** family educational support (binary: yes or no)\n",
    "   - **paid:** extra paid classes within the course subject (Math) (binary: yes or no)\n",
    "   - **activities:** extra-curricular activities (binary: yes or no)\n",
    "   - **nursery:** attended nursery school (binary: yes or no)\n",
    "   - **higher:** wants to take higher education (binary: yes or no)\n",
    "   - **internet:** Internet access at home (binary: yes or no)\n",
    "   - **romantic:** with a romantic relationship (binary: yes or no)\n",
    "   - **famrel:** quality of family relationships (numeric: from 1 - very bad to 5 - excellent)\n",
    "   - **freetime:** free time after school (numeric: from 1 - very low to 5 - very high)\n",
    "   - **goout:** going out with friends (numeric: from 1 - very low to 5 - very high)\n",
    "   - **Dalc:** workday alcohol consumption (numeric: from 1 - very low to 5 - very high)\n",
    "   - **Walc:** weekend alcohol consumption (numeric: from 1 - very low to 5 - very high)\n",
    "   - **health:** current health status (numeric: from 1 - very bad to 5 - very good)\n",
    "   - **absences:** number of school absences (numeric: from 0 to 93)\n",
    "   - **G1:** first period grade (numeric: from 0 to 20)\n",
    "   - **G2:** second period grade (numeric: from 0 to 20)\n",
    "   - **G3:** final grade (numeric: from 0 to 20, output target)\n",
    " \n",
    "\n",
    "#### Se busca estimar la calificación final: _G3_.\n",
    "\n",
    "<!---\n",
    "   - **school :** Escuela a la que pertenecen los estudiantes. _GP:_ Gabriel Pereira, _MS:_ Mousinho da Silveira.\n",
    "   - **sex:** _F:_ femenino, _M:_ masculino.\n",
    "   - **age:** Variable numérica (15-22).\n",
    "   - **address:** _U:_ Zona urbana, _R:_ Zona rural.\n",
    "   - **famsize:** Tamaño de la familia. _LE3:_ Si <= 3, _GT3:_ Si >3.\n",
    "   - **Pstatus:** T: Si vive con sus padres, A: Si vive aparte.\n",
    "   - **Medu:** Educación de la madre. 0 - none, 1 - primary education (4th grade), 2 – 5th to 9th grade, 3 – secondary education or 4 – higher education\n",
    "   - **Fedu:** Educación del padre.\n",
    "\n",
    "\n",
    "https://www.kaggle.com/gemartin/average-ensemble-optimization\n",
    "-->"
   ]
  },
  {
   "cell_type": "code",
   "execution_count": 6,
   "metadata": {},
   "outputs": [
    {
     "data": {
      "text/plain": [
       "school        0\n",
       "sex           0\n",
       "age           0\n",
       "address       0\n",
       "famsize       0\n",
       "Pstatus       0\n",
       "Medu          0\n",
       "Fedu          0\n",
       "Mjob          0\n",
       "Fjob          0\n",
       "reason        0\n",
       "guardian      0\n",
       "traveltime    0\n",
       "studytime     0\n",
       "failures      0\n",
       "schoolsup     0\n",
       "famsup        0\n",
       "paid          0\n",
       "activities    0\n",
       "nursery       0\n",
       "higher        0\n",
       "internet      0\n",
       "romantic      0\n",
       "famrel        0\n",
       "freetime      0\n",
       "goout         0\n",
       "Dalc          0\n",
       "Walc          0\n",
       "health        0\n",
       "absences      0\n",
       "G1            0\n",
       "G2            0\n",
       "G3            0\n",
       "dtype: int64"
      ]
     },
     "execution_count": 6,
     "metadata": {},
     "output_type": "execute_result"
    }
   ],
   "source": [
    "# Se cuenta el número de NaN's por columna\n",
    "df.isnull().sum()"
   ]
  },
  {
   "cell_type": "code",
   "execution_count": 5,
   "metadata": {
    "scrolled": true
   },
   "outputs": [
    {
     "data": {
      "text/html": [
       "<div>\n",
       "<style scoped>\n",
       "    .dataframe tbody tr th:only-of-type {\n",
       "        vertical-align: middle;\n",
       "    }\n",
       "\n",
       "    .dataframe tbody tr th {\n",
       "        vertical-align: top;\n",
       "    }\n",
       "\n",
       "    .dataframe thead th {\n",
       "        text-align: right;\n",
       "    }\n",
       "</style>\n",
       "<table border=\"1\" class=\"dataframe\">\n",
       "  <thead>\n",
       "    <tr style=\"text-align: right;\">\n",
       "      <th></th>\n",
       "      <th>school</th>\n",
       "      <th>sex</th>\n",
       "      <th>age</th>\n",
       "      <th>address</th>\n",
       "      <th>famsize</th>\n",
       "      <th>Pstatus</th>\n",
       "      <th>Medu</th>\n",
       "      <th>Fedu</th>\n",
       "      <th>Mjob</th>\n",
       "      <th>Fjob</th>\n",
       "      <th>reason</th>\n",
       "      <th>guardian</th>\n",
       "      <th>traveltime</th>\n",
       "      <th>studytime</th>\n",
       "      <th>failures</th>\n",
       "      <th>schoolsup</th>\n",
       "      <th>famsup</th>\n",
       "      <th>paid</th>\n",
       "      <th>activities</th>\n",
       "      <th>nursery</th>\n",
       "      <th>higher</th>\n",
       "      <th>internet</th>\n",
       "      <th>romantic</th>\n",
       "      <th>famrel</th>\n",
       "      <th>freetime</th>\n",
       "      <th>goout</th>\n",
       "      <th>Dalc</th>\n",
       "      <th>Walc</th>\n",
       "      <th>health</th>\n",
       "      <th>absences</th>\n",
       "      <th>G1</th>\n",
       "      <th>G2</th>\n",
       "    </tr>\n",
       "  </thead>\n",
       "  <tbody>\n",
       "    <tr>\n",
       "      <th>0</th>\n",
       "      <td>GP</td>\n",
       "      <td>F</td>\n",
       "      <td>18</td>\n",
       "      <td>U</td>\n",
       "      <td>GT3</td>\n",
       "      <td>A</td>\n",
       "      <td>4</td>\n",
       "      <td>4</td>\n",
       "      <td>at_home</td>\n",
       "      <td>teacher</td>\n",
       "      <td>course</td>\n",
       "      <td>mother</td>\n",
       "      <td>2</td>\n",
       "      <td>2</td>\n",
       "      <td>0</td>\n",
       "      <td>yes</td>\n",
       "      <td>no</td>\n",
       "      <td>no</td>\n",
       "      <td>no</td>\n",
       "      <td>yes</td>\n",
       "      <td>yes</td>\n",
       "      <td>no</td>\n",
       "      <td>no</td>\n",
       "      <td>4</td>\n",
       "      <td>3</td>\n",
       "      <td>4</td>\n",
       "      <td>1</td>\n",
       "      <td>1</td>\n",
       "      <td>3</td>\n",
       "      <td>6</td>\n",
       "      <td>5</td>\n",
       "      <td>6</td>\n",
       "    </tr>\n",
       "    <tr>\n",
       "      <th>1</th>\n",
       "      <td>GP</td>\n",
       "      <td>F</td>\n",
       "      <td>17</td>\n",
       "      <td>U</td>\n",
       "      <td>GT3</td>\n",
       "      <td>T</td>\n",
       "      <td>1</td>\n",
       "      <td>1</td>\n",
       "      <td>at_home</td>\n",
       "      <td>other</td>\n",
       "      <td>course</td>\n",
       "      <td>father</td>\n",
       "      <td>1</td>\n",
       "      <td>2</td>\n",
       "      <td>0</td>\n",
       "      <td>no</td>\n",
       "      <td>yes</td>\n",
       "      <td>no</td>\n",
       "      <td>no</td>\n",
       "      <td>no</td>\n",
       "      <td>yes</td>\n",
       "      <td>yes</td>\n",
       "      <td>no</td>\n",
       "      <td>5</td>\n",
       "      <td>3</td>\n",
       "      <td>3</td>\n",
       "      <td>1</td>\n",
       "      <td>1</td>\n",
       "      <td>3</td>\n",
       "      <td>4</td>\n",
       "      <td>5</td>\n",
       "      <td>5</td>\n",
       "    </tr>\n",
       "    <tr>\n",
       "      <th>2</th>\n",
       "      <td>GP</td>\n",
       "      <td>F</td>\n",
       "      <td>15</td>\n",
       "      <td>U</td>\n",
       "      <td>LE3</td>\n",
       "      <td>T</td>\n",
       "      <td>1</td>\n",
       "      <td>1</td>\n",
       "      <td>at_home</td>\n",
       "      <td>other</td>\n",
       "      <td>other</td>\n",
       "      <td>mother</td>\n",
       "      <td>1</td>\n",
       "      <td>2</td>\n",
       "      <td>3</td>\n",
       "      <td>yes</td>\n",
       "      <td>no</td>\n",
       "      <td>yes</td>\n",
       "      <td>no</td>\n",
       "      <td>yes</td>\n",
       "      <td>yes</td>\n",
       "      <td>yes</td>\n",
       "      <td>no</td>\n",
       "      <td>4</td>\n",
       "      <td>3</td>\n",
       "      <td>2</td>\n",
       "      <td>2</td>\n",
       "      <td>3</td>\n",
       "      <td>3</td>\n",
       "      <td>10</td>\n",
       "      <td>7</td>\n",
       "      <td>8</td>\n",
       "    </tr>\n",
       "    <tr>\n",
       "      <th>3</th>\n",
       "      <td>GP</td>\n",
       "      <td>F</td>\n",
       "      <td>15</td>\n",
       "      <td>U</td>\n",
       "      <td>GT3</td>\n",
       "      <td>T</td>\n",
       "      <td>4</td>\n",
       "      <td>2</td>\n",
       "      <td>health</td>\n",
       "      <td>services</td>\n",
       "      <td>home</td>\n",
       "      <td>mother</td>\n",
       "      <td>1</td>\n",
       "      <td>3</td>\n",
       "      <td>0</td>\n",
       "      <td>no</td>\n",
       "      <td>yes</td>\n",
       "      <td>yes</td>\n",
       "      <td>yes</td>\n",
       "      <td>yes</td>\n",
       "      <td>yes</td>\n",
       "      <td>yes</td>\n",
       "      <td>yes</td>\n",
       "      <td>3</td>\n",
       "      <td>2</td>\n",
       "      <td>2</td>\n",
       "      <td>1</td>\n",
       "      <td>1</td>\n",
       "      <td>5</td>\n",
       "      <td>2</td>\n",
       "      <td>15</td>\n",
       "      <td>14</td>\n",
       "    </tr>\n",
       "    <tr>\n",
       "      <th>4</th>\n",
       "      <td>GP</td>\n",
       "      <td>F</td>\n",
       "      <td>16</td>\n",
       "      <td>U</td>\n",
       "      <td>GT3</td>\n",
       "      <td>T</td>\n",
       "      <td>3</td>\n",
       "      <td>3</td>\n",
       "      <td>other</td>\n",
       "      <td>other</td>\n",
       "      <td>home</td>\n",
       "      <td>father</td>\n",
       "      <td>1</td>\n",
       "      <td>2</td>\n",
       "      <td>0</td>\n",
       "      <td>no</td>\n",
       "      <td>yes</td>\n",
       "      <td>yes</td>\n",
       "      <td>no</td>\n",
       "      <td>yes</td>\n",
       "      <td>yes</td>\n",
       "      <td>no</td>\n",
       "      <td>no</td>\n",
       "      <td>4</td>\n",
       "      <td>3</td>\n",
       "      <td>2</td>\n",
       "      <td>1</td>\n",
       "      <td>2</td>\n",
       "      <td>5</td>\n",
       "      <td>4</td>\n",
       "      <td>6</td>\n",
       "      <td>10</td>\n",
       "    </tr>\n",
       "  </tbody>\n",
       "</table>\n",
       "</div>"
      ],
      "text/plain": [
       "  school sex  age address famsize Pstatus  Medu  Fedu     Mjob      Fjob  \\\n",
       "0     GP   F   18       U     GT3       A     4     4  at_home   teacher   \n",
       "1     GP   F   17       U     GT3       T     1     1  at_home     other   \n",
       "2     GP   F   15       U     LE3       T     1     1  at_home     other   \n",
       "3     GP   F   15       U     GT3       T     4     2   health  services   \n",
       "4     GP   F   16       U     GT3       T     3     3    other     other   \n",
       "\n",
       "   reason guardian  traveltime  studytime  failures schoolsup famsup paid  \\\n",
       "0  course   mother           2          2         0       yes     no   no   \n",
       "1  course   father           1          2         0        no    yes   no   \n",
       "2   other   mother           1          2         3       yes     no  yes   \n",
       "3    home   mother           1          3         0        no    yes  yes   \n",
       "4    home   father           1          2         0        no    yes  yes   \n",
       "\n",
       "  activities nursery higher internet romantic  famrel  freetime  goout  Dalc  \\\n",
       "0         no     yes    yes       no       no       4         3      4     1   \n",
       "1         no      no    yes      yes       no       5         3      3     1   \n",
       "2         no     yes    yes      yes       no       4         3      2     2   \n",
       "3        yes     yes    yes      yes      yes       3         2      2     1   \n",
       "4         no     yes    yes       no       no       4         3      2     1   \n",
       "\n",
       "   Walc  health  absences  G1  G2  \n",
       "0     1       3         6   5   6  \n",
       "1     1       3         4   5   5  \n",
       "2     3       3        10   7   8  \n",
       "3     1       5         2  15  14  \n",
       "4     2       5         4   6  10  "
      ]
     },
     "execution_count": 5,
     "metadata": {},
     "output_type": "execute_result"
    }
   ],
   "source": [
    "# Se definen las varibles X (predictoras) y Y (dependiente)\n",
    "Y = df.G3\n",
    "X = df.drop(['G3'], axis = 1)\n",
    "X.head()"
   ]
  },
  {
   "cell_type": "markdown",
   "metadata": {},
   "source": [
    "Antes de convertir las variables categóricas a variables dummies, vamos a ver algunas gráficas para decidir cuáles vamos a utilizar en la regresión."
   ]
  },
  {
   "cell_type": "code",
   "execution_count": 7,
   "metadata": {},
   "outputs": [
    {
     "name": "stderr",
     "output_type": "stream",
     "text": [
      "C:\\Users\\miri_\\anaconda3\\lib\\site-packages\\seaborn\\distributions.py:2551: FutureWarning: `distplot` is a deprecated function and will be removed in a future version. Please adapt your code to use either `displot` (a figure-level function with similar flexibility) or `histplot` (an axes-level function for histograms).\n",
      "  warnings.warn(msg, FutureWarning)\n"
     ]
    },
    {
     "data": {
      "text/plain": [
       "Text(0, 0.5, 'Frecuencia relativa')"
      ]
     },
     "execution_count": 7,
     "metadata": {},
     "output_type": "execute_result"
    },
    {
     "data": {
      "image/png": "[encoded data removed]",
      "text/plain": [
       "<Figure size 432x288 with 1 Axes>"
      ]
     },
     "metadata": {
      "needs_background": "light"
     },
     "output_type": "display_data"
    }
   ],
   "source": [
    "## 3) VISUALIZACIÓN DE LOS DATOS\n",
    "#Histograma de la frecuencia relativa del salario con la densidad ajustada correspondiente.\n",
    "sns.distplot(Y)\n",
    "plt.title('Histograma de la frecuencia relativa de las calificaciones')\n",
    "plt.xlabel('Calificaciones')\n",
    "plt.ylabel('Frecuencia relativa')"
   ]
  },
  {
   "cell_type": "code",
   "execution_count": 8,
   "metadata": {},
   "outputs": [
    {
     "name": "stdout",
     "output_type": "stream",
     "text": [
      "F    208\n",
      "M    187\n",
      "Name: sex, dtype: int64\n"
     ]
    },
    {
     "data": {
      "image/png": "[encoded data removed]",
      "text/plain": [
       "<Figure size 432x288 with 1 Axes>"
      ]
     },
     "metadata": {
      "needs_background": "light"
     },
     "output_type": "display_data"
    }
   ],
   "source": [
    "print(df['sex'].value_counts())\n",
    "sns.countplot(x='sex', data=df)\n",
    "plt.show()"
   ]
  },
  {
   "cell_type": "code",
   "execution_count": 9,
   "metadata": {},
   "outputs": [
    {
     "name": "stdout",
     "output_type": "stream",
     "text": [
      "16    104\n",
      "17     98\n",
      "18     82\n",
      "15     82\n",
      "19     24\n",
      "20      3\n",
      "22      1\n",
      "21      1\n",
      "Name: age, dtype: int64\n"
     ]
    },
    {
     "data": {
      "image/png": "[encoded data removed]",
      "text/plain": [
       "<Figure size 432x288 with 1 Axes>"
      ]
     },
     "metadata": {
      "needs_background": "light"
     },
     "output_type": "display_data"
    }
   ],
   "source": [
    "print(df['age'].value_counts())\n",
    "sns.countplot(x='age', data=df)\n",
    "plt.show()"
   ]
  },
  {
   "cell_type": "code",
   "execution_count": 10,
   "metadata": {},
   "outputs": [
    {
     "name": "stdout",
     "output_type": "stream",
     "text": [
      "U    307\n",
      "R     88\n",
      "Name: address, dtype: int64\n"
     ]
    },
    {
     "data": {
      "image/png": "[encoded data removed]",
      "text/plain": [
       "<Figure size 432x288 with 1 Axes>"
      ]
     },
     "metadata": {
      "needs_background": "light"
     },
     "output_type": "display_data"
    }
   ],
   "source": [
    "print(df['address'].value_counts())\n",
    "sns.countplot(x='address', data=df)\n",
    "plt.show()"
   ]
  },
  {
   "cell_type": "code",
   "execution_count": 11,
   "metadata": {},
   "outputs": [
    {
     "data": {
      "image/png": "[encoded data removed]",
      "text/plain": [
       "<Figure size 432x288 with 1 Axes>"
      ]
     },
     "metadata": {
      "needs_background": "light"
     },
     "output_type": "display_data"
    }
   ],
   "source": [
    "sns.countplot(x='age', hue='Pstatus', data=df)\n",
    "plt.title('Estudiantes viviendo con o sin sus padres por edad')\n",
    "plt.xlabel('A = No viven con sus padres, T = Si viven con sus padres')\n",
    "plt.ylabel('Número de estudiantes')\n",
    "plt.show()"
   ]
  },
  {
   "cell_type": "code",
   "execution_count": 12,
   "metadata": {},
   "outputs": [
    {
     "name": "stdout",
     "output_type": "stream",
     "text": [
      "4    131\n",
      "2    103\n",
      "3     99\n",
      "1     59\n",
      "0      3\n",
      "Name: Medu, dtype: int64\n"
     ]
    },
    {
     "data": {
      "image/png": "[encoded data removed]",
      "text/plain": [
       "<Figure size 432x288 with 1 Axes>"
      ]
     },
     "metadata": {
      "needs_background": "light"
     },
     "output_type": "display_data"
    }
   ],
   "source": [
    "# numeric: 0 - none, 1 - primary education (4th grade), 2 – 5th to 9th grade, 3 – secondary education or 4 – higher education\n",
    "print(df['Medu'].value_counts())\n",
    "sns.countplot(x='Medu', data=df)\n",
    "plt.show()"
   ]
  },
  {
   "cell_type": "code",
   "execution_count": 13,
   "metadata": {},
   "outputs": [
    {
     "name": "stdout",
     "output_type": "stream",
     "text": [
      "2    115\n",
      "3    100\n",
      "4     96\n",
      "1     82\n",
      "0      2\n",
      "Name: Fedu, dtype: int64\n"
     ]
    },
    {
     "data": {
      "image/png": "[encoded data removed]",
      "text/plain": [
       "<Figure size 432x288 with 1 Axes>"
      ]
     },
     "metadata": {
      "needs_background": "light"
     },
     "output_type": "display_data"
    }
   ],
   "source": [
    "# numeric: 0 - none, 1 - primary education (4th grade), 2 – 5th to 9th grade, 3 – secondary education or 4 – higher education\n",
    "print(df['Fedu'].value_counts())\n",
    "sns.countplot(x='Fedu', data=df)\n",
    "plt.show()"
   ]
  },
  {
   "cell_type": "code",
   "execution_count": 14,
   "metadata": {},
   "outputs": [
    {
     "name": "stdout",
     "output_type": "stream",
     "text": [
      "other       141\n",
      "services    103\n",
      "at_home      59\n",
      "teacher      58\n",
      "health       34\n",
      "Name: Mjob, dtype: int64\n"
     ]
    },
    {
     "data": {
      "image/png": "[encoded data removed]",
      "text/plain": [
       "<Figure size 432x288 with 1 Axes>"
      ]
     },
     "metadata": {
      "needs_background": "light"
     },
     "output_type": "display_data"
    }
   ],
   "source": [
    "# (nominal: 'teacher', 'health' care related, civil 'services' (e.g. administrative or police), 'at_home' or 'other')\n",
    "print(df['Mjob'].value_counts())\n",
    "sns.countplot(x='Mjob', data=df)\n",
    "plt.show()"
   ]
  },
  {
   "cell_type": "code",
   "execution_count": 15,
   "metadata": {},
   "outputs": [
    {
     "name": "stdout",
     "output_type": "stream",
     "text": [
      "other       217\n",
      "services    111\n",
      "teacher      29\n",
      "at_home      20\n",
      "health       18\n",
      "Name: Fjob, dtype: int64\n"
     ]
    },
    {
     "data": {
      "image/png": "[encoded data removed]",
      "text/plain": [
       "<Figure size 432x288 with 1 Axes>"
      ]
     },
     "metadata": {
      "needs_background": "light"
     },
     "output_type": "display_data"
    }
   ],
   "source": [
    "# (nominal: 'teacher', 'health' care related, civil 'services' (e.g. administrative or police), 'at_home' or 'other')\n",
    "print(df['Fjob'].value_counts())\n",
    "sns.countplot(x='Fjob', data=df)\n",
    "plt.show()"
   ]
  },
  {
   "cell_type": "code",
   "execution_count": 16,
   "metadata": {},
   "outputs": [
    {
     "data": {
      "image/png": "[encoded data removed]",
      "text/plain": [
       "<Figure size 432x288 with 1 Axes>"
      ]
     },
     "metadata": {
      "needs_background": "light"
     },
     "output_type": "display_data"
    }
   ],
   "source": [
    "# numeric: 0 - none, 1 - primary education (4th grade), 2 – 5th to 9th grade, 3 – secondary education or 4 – higher education\n",
    "sns.countplot(x='Mjob', hue='Medu', data=df)\n",
    "plt.title('Trabajo y educación de las mamás de los estudiantes')\n",
    "plt.xlabel('Trabajo')\n",
    "plt.ylabel('Número de estudiantes')\n",
    "plt.show()"
   ]
  },
  {
   "cell_type": "code",
   "execution_count": 17,
   "metadata": {},
   "outputs": [
    {
     "data": {
      "image/png": "[encoded data removed]",
      "text/plain": [
       "<Figure size 432x288 with 1 Axes>"
      ]
     },
     "metadata": {
      "needs_background": "light"
     },
     "output_type": "display_data"
    }
   ],
   "source": [
    "sns.countplot(x='Fjob', hue='Fedu', data=df)\n",
    "plt.title('Trabajo y educación de los papás de los estudiantes')\n",
    "plt.xlabel('Trabajo')\n",
    "plt.ylabel('Número de estudiantes')\n",
    "plt.show()"
   ]
  },
  {
   "cell_type": "code",
   "execution_count": 18,
   "metadata": {},
   "outputs": [
    {
     "name": "stdout",
     "output_type": "stream",
     "text": [
      "course        145\n",
      "home          109\n",
      "reputation    105\n",
      "other          36\n",
      "Name: reason, dtype: int64\n"
     ]
    },
    {
     "data": {
      "image/png": "[encoded data removed]",
      "text/plain": [
       "<Figure size 432x288 with 1 Axes>"
      ]
     },
     "metadata": {
      "needs_background": "light"
     },
     "output_type": "display_data"
    }
   ],
   "source": [
    "# reason to choose this school (nominal: close to 'home', school 'reputation', 'course' preference or 'other')\n",
    "print(df['reason'].value_counts())\n",
    "sns.countplot(x='reason', data=df)\n",
    "plt.show()"
   ]
  },
  {
   "cell_type": "code",
   "execution_count": 19,
   "metadata": {},
   "outputs": [
    {
     "name": "stdout",
     "output_type": "stream",
     "text": [
      "mother    273\n",
      "father     90\n",
      "other      32\n",
      "Name: guardian, dtype: int64\n"
     ]
    },
    {
     "data": {
      "image/png": "[encoded data removed]",
      "text/plain": [
       "<Figure size 432x288 with 1 Axes>"
      ]
     },
     "metadata": {
      "needs_background": "light"
     },
     "output_type": "display_data"
    }
   ],
   "source": [
    "print(df['guardian'].value_counts())\n",
    "sns.countplot(x='guardian', data=df)\n",
    "plt.show()"
   ]
  },
  {
   "cell_type": "code",
   "execution_count": 20,
   "metadata": {},
   "outputs": [
    {
     "data": {
      "image/png": "[encoded data removed]",
      "text/plain": [
       "<Figure size 432x288 with 1 Axes>"
      ]
     },
     "metadata": {
      "needs_background": "light"
     },
     "output_type": "display_data"
    }
   ],
   "source": [
    "sns.countplot(x='guardian', hue='age', data=df)\n",
    "plt.title('Guardianes de los estudiantes')\n",
    "plt.xlabel('Guardián')\n",
    "plt.ylabel('Número de estudiantes')\n",
    "plt.show()"
   ]
  },
  {
   "cell_type": "code",
   "execution_count": 21,
   "metadata": {},
   "outputs": [
    {
     "data": {
      "image/png": "[encoded data removed]",
      "text/plain": [
       "<Figure size 432x288 with 1 Axes>"
      ]
     },
     "metadata": {
      "needs_background": "light"
     },
     "output_type": "display_data"
    }
   ],
   "source": [
    "sns.countplot(x='traveltime', hue='address', data=df)\n",
    "plt.title('Horas de camino por lugar de residencia')\n",
    "plt.xlabel('U = Zona Urbana, R = Zona Rural')\n",
    "plt.ylabel('Número de estudiantes')\n",
    "plt.show()"
   ]
  },
  {
   "cell_type": "code",
   "execution_count": 22,
   "metadata": {},
   "outputs": [
    {
     "data": {
      "image/png": "[encoded data removed]",
      "text/plain": [
       "<Figure size 432x288 with 1 Axes>"
      ]
     },
     "metadata": {
      "needs_background": "light"
     },
     "output_type": "display_data"
    }
   ],
   "source": [
    "sns.countplot(x='studytime', hue='address', data=df)\n",
    "plt.title('Horas de estudio por lugar de residencia')\n",
    "plt.xlabel('U = Zona Urbana, R = Zona Rural')\n",
    "plt.ylabel('Número de estudiantes')\n",
    "plt.show()"
   ]
  },
  {
   "cell_type": "code",
   "execution_count": 23,
   "metadata": {},
   "outputs": [
    {
     "name": "stdout",
     "output_type": "stream",
     "text": [
      "0    312\n",
      "1     50\n",
      "2     17\n",
      "3     16\n",
      "Name: failures, dtype: int64\n"
     ]
    },
    {
     "data": {
      "image/png": "[encoded data removed]",
      "text/plain": [
       "<Figure size 432x288 with 1 Axes>"
      ]
     },
     "metadata": {
      "needs_background": "light"
     },
     "output_type": "display_data"
    }
   ],
   "source": [
    "print(df['failures'].value_counts())\n",
    "sns.countplot(x='failures', data=df)\n",
    "plt.show()"
   ]
  },
  {
   "cell_type": "code",
   "execution_count": 24,
   "metadata": {},
   "outputs": [
    {
     "data": {
      "image/png": "[encoded data removed]",
      "text/plain": [
       "<Figure size 432x288 with 1 Axes>"
      ]
     },
     "metadata": {
      "needs_background": "light"
     },
     "output_type": "display_data"
    }
   ],
   "source": [
    "sns.countplot(x='age', hue='failures', data=df)\n",
    "plt.title('Número de clases reprobadas por edad')\n",
    "plt.xlabel('Edad')\n",
    "plt.ylabel('Número de estudiantes')\n",
    "plt.show()"
   ]
  },
  {
   "cell_type": "code",
   "execution_count": 25,
   "metadata": {},
   "outputs": [
    {
     "name": "stdout",
     "output_type": "stream",
     "text": [
      "no     344\n",
      "yes     51\n",
      "Name: schoolsup, dtype: int64\n"
     ]
    },
    {
     "data": {
      "image/png": "[encoded data removed]",
      "text/plain": [
       "<Figure size 432x288 with 1 Axes>"
      ]
     },
     "metadata": {
      "needs_background": "light"
     },
     "output_type": "display_data"
    }
   ],
   "source": [
    "print(df['schoolsup'].value_counts())\n",
    "sns.countplot(x='schoolsup', data=df)\n",
    "plt.show()"
   ]
  },
  {
   "cell_type": "code",
   "execution_count": 26,
   "metadata": {},
   "outputs": [
    {
     "name": "stdout",
     "output_type": "stream",
     "text": [
      "yes    242\n",
      "no     153\n",
      "Name: famsup, dtype: int64\n"
     ]
    },
    {
     "data": {
      "image/png": "[encoded data removed]",
      "text/plain": [
       "<Figure size 432x288 with 1 Axes>"
      ]
     },
     "metadata": {
      "needs_background": "light"
     },
     "output_type": "display_data"
    }
   ],
   "source": [
    "print(df['famsup'].value_counts())\n",
    "sns.countplot(x='famsup', data=df)\n",
    "plt.show()"
   ]
  },
  {
   "cell_type": "code",
   "execution_count": 27,
   "metadata": {},
   "outputs": [
    {
     "name": "stdout",
     "output_type": "stream",
     "text": [
      "no     214\n",
      "yes    181\n",
      "Name: paid, dtype: int64\n"
     ]
    },
    {
     "data": {
      "image/png": "[encoded data removed]",
      "text/plain": [
       "<Figure size 432x288 with 1 Axes>"
      ]
     },
     "metadata": {
      "needs_background": "light"
     },
     "output_type": "display_data"
    }
   ],
   "source": [
    "print(df['paid'].value_counts())\n",
    "sns.countplot(x='paid', data=df)\n",
    "plt.show()"
   ]
  },
  {
   "cell_type": "code",
   "execution_count": 28,
   "metadata": {},
   "outputs": [
    {
     "name": "stdout",
     "output_type": "stream",
     "text": [
      "yes    201\n",
      "no     194\n",
      "Name: activities, dtype: int64\n"
     ]
    },
    {
     "data": {
      "image/png": "[encoded data removed]",
      "text/plain": [
       "<Figure size 432x288 with 1 Axes>"
      ]
     },
     "metadata": {
      "needs_background": "light"
     },
     "output_type": "display_data"
    }
   ],
   "source": [
    "print(df['activities'].value_counts())\n",
    "sns.countplot(x='activities', data=df)\n",
    "plt.show()"
   ]
  },
  {
   "cell_type": "code",
   "execution_count": 29,
   "metadata": {},
   "outputs": [
    {
     "data": {
      "image/png": "[encoded data removed]",
      "text/plain": [
       "<Figure size 432x288 with 1 Axes>"
      ]
     },
     "metadata": {
      "needs_background": "light"
     },
     "output_type": "display_data"
    }
   ],
   "source": [
    "sns.countplot(x='address', hue='activities', data=df)\n",
    "plt.title('Actividades por lugar de residencia')\n",
    "plt.xlabel('U = Zona Urbana, R = Zona Rural')\n",
    "plt.ylabel('Número de estudiantes')\n",
    "plt.show()"
   ]
  },
  {
   "cell_type": "code",
   "execution_count": 30,
   "metadata": {},
   "outputs": [
    {
     "name": "stdout",
     "output_type": "stream",
     "text": [
      "yes    314\n",
      "no      81\n",
      "Name: nursery, dtype: int64\n"
     ]
    },
    {
     "data": {
      "image/png": "[encoded data removed]",
      "text/plain": [
       "<Figure size 432x288 with 1 Axes>"
      ]
     },
     "metadata": {
      "needs_background": "light"
     },
     "output_type": "display_data"
    }
   ],
   "source": [
    "print(df['nursery'].value_counts())\n",
    "sns.countplot(x='nursery', data=df)\n",
    "plt.show()"
   ]
  },
  {
   "cell_type": "code",
   "execution_count": 31,
   "metadata": {},
   "outputs": [
    {
     "name": "stdout",
     "output_type": "stream",
     "text": [
      "yes    375\n",
      "no      20\n",
      "Name: higher, dtype: int64\n"
     ]
    },
    {
     "data": {
      "image/png": "[encoded data removed]",
      "text/plain": [
       "<Figure size 432x288 with 1 Axes>"
      ]
     },
     "metadata": {
      "needs_background": "light"
     },
     "output_type": "display_data"
    }
   ],
   "source": [
    "print(df['higher'].value_counts())\n",
    "sns.countplot(x='higher', data=df)\n",
    "plt.show()"
   ]
  },
  {
   "cell_type": "code",
   "execution_count": 32,
   "metadata": {},
   "outputs": [
    {
     "data": {
      "image/png": "[encoded data removed]",
      "text/plain": [
       "<Figure size 432x288 with 1 Axes>"
      ]
     },
     "metadata": {
      "needs_background": "light"
     },
     "output_type": "display_data"
    }
   ],
   "source": [
    "sns.countplot(x='address', hue='internet', data=df)\n",
    "plt.title('Internet por lugar de residencia')\n",
    "plt.xlabel('U = Zona Urbana, R = Zona Rural')\n",
    "plt.ylabel('Número de estudiantes')\n",
    "plt.show()"
   ]
  },
  {
   "cell_type": "code",
   "execution_count": 33,
   "metadata": {},
   "outputs": [
    {
     "data": {
      "image/png": "[encoded data removed]",
      "text/plain": [
       "<Figure size 432x288 with 1 Axes>"
      ]
     },
     "metadata": {
      "needs_background": "light"
     },
     "output_type": "display_data"
    }
   ],
   "source": [
    "sns.countplot(x='age', hue='romantic', data=df)\n",
    "plt.title('Estudiantes con o sin relación amorosa por edad')\n",
    "plt.xlabel('Edad')\n",
    "plt.ylabel('Número de estudiantes')\n",
    "plt.show()"
   ]
  },
  {
   "cell_type": "code",
   "execution_count": 34,
   "metadata": {
    "scrolled": true
   },
   "outputs": [
    {
     "data": {
      "image/png": "[encoded data removed]",
      "text/plain": [
       "<Figure size 432x288 with 1 Axes>"
      ]
     },
     "metadata": {
      "needs_background": "light"
     },
     "output_type": "display_data"
    }
   ],
   "source": [
    "sns.countplot(x='age', hue='famrel', data=df)\n",
    "plt.title('Calidad de la relación familiar por edad')\n",
    "plt.xlabel('Edad')\n",
    "plt.ylabel('Número de estudiantes')\n",
    "plt.show()"
   ]
  },
  {
   "cell_type": "code",
   "execution_count": 35,
   "metadata": {},
   "outputs": [
    {
     "data": {
      "image/png": "[encoded data removed]",
      "text/plain": [
       "<Figure size 432x288 with 1 Axes>"
      ]
     },
     "metadata": {
      "needs_background": "light"
     },
     "output_type": "display_data"
    }
   ],
   "source": [
    "sns.countplot(x='address', hue='freetime', data=df)\n",
    "plt.title('Tiempo libre por lugar de residencia')\n",
    "plt.xlabel('U = Zona Urbana, R = Zona Rural')\n",
    "plt.ylabel('Número de estudiantes')\n",
    "plt.show()"
   ]
  },
  {
   "cell_type": "code",
   "execution_count": 36,
   "metadata": {},
   "outputs": [
    {
     "data": {
      "image/png": "[encoded data removed]",
      "text/plain": [
       "<Figure size 432x288 with 1 Axes>"
      ]
     },
     "metadata": {
      "needs_background": "light"
     },
     "output_type": "display_data"
    }
   ],
   "source": [
    "#going out with friends (numeric: from 1 - very low to 5 - very high)\n",
    "#free time after school (numeric: from 1 - very low to 5 - very high)\n",
    "sns.countplot(x='goout', hue='freetime', data=df)\n",
    "plt.title('Salir con amigos por Tiempo libre')\n",
    "plt.xlabel('Salir con amigos')\n",
    "plt.ylabel('Número de estudiantes')\n",
    "plt.show()"
   ]
  },
  {
   "cell_type": "code",
   "execution_count": 37,
   "metadata": {},
   "outputs": [
    {
     "data": {
      "image/png": "[encoded data removed]",
      "text/plain": [
       "<Figure size 432x288 with 1 Axes>"
      ]
     },
     "metadata": {
      "needs_background": "light"
     },
     "output_type": "display_data"
    }
   ],
   "source": [
    "#going out with friends (numeric: from 1 - very low to 5 - very high)\n",
    "sns.countplot(x='age', hue='goout', data=df)\n",
    "plt.title('Salir con amigos por Edad')\n",
    "plt.xlabel('Edad')\n",
    "plt.ylabel('Número de estudiantes')\n",
    "plt.show()"
   ]
  },
  {
   "cell_type": "code",
   "execution_count": 38,
   "metadata": {},
   "outputs": [
    {
     "name": "stdout",
     "output_type": "stream",
     "text": [
      "1    276\n",
      "2     75\n",
      "3     26\n",
      "5      9\n",
      "4      9\n",
      "Name: Dalc, dtype: int64\n"
     ]
    },
    {
     "data": {
      "image/png": "[encoded data removed]",
      "text/plain": [
       "<Figure size 432x288 with 1 Axes>"
      ]
     },
     "metadata": {
      "needs_background": "light"
     },
     "output_type": "display_data"
    }
   ],
   "source": [
    "#workday alcohol consumption (numeric: from 1 - very low to 5 - very high)\n",
    "print(df['Dalc'].value_counts())\n",
    "sns.countplot(x='Dalc', data=df)\n",
    "plt.show()"
   ]
  },
  {
   "cell_type": "code",
   "execution_count": 39,
   "metadata": {
    "scrolled": true
   },
   "outputs": [
    {
     "name": "stdout",
     "output_type": "stream",
     "text": [
      "1    151\n",
      "2     85\n",
      "3     80\n",
      "4     51\n",
      "5     28\n",
      "Name: Walc, dtype: int64\n"
     ]
    },
    {
     "data": {
      "image/png": "[encoded data removed]",
      "text/plain": [
       "<Figure size 432x288 with 1 Axes>"
      ]
     },
     "metadata": {
      "needs_background": "light"
     },
     "output_type": "display_data"
    }
   ],
   "source": [
    "#weekend alcohol consumption (numeric: from 1 - very low to 5 - very high)\n",
    "print(df['Walc'].value_counts())\n",
    "sns.countplot(x='Walc', data=df)\n",
    "plt.show()"
   ]
  },
  {
   "cell_type": "code",
   "execution_count": 40,
   "metadata": {
    "scrolled": true
   },
   "outputs": [
    {
     "data": {
      "image/png": "[encoded data removed]",
      "text/plain": [
       "<Figure size 432x288 with 1 Axes>"
      ]
     },
     "metadata": {
      "needs_background": "light"
     },
     "output_type": "display_data"
    }
   ],
   "source": [
    "#workday alcohol consumption (numeric: from 1 - very low to 5 - very high)\n",
    "sns.countplot(x='age', hue='Dalc', data=df)\n",
    "plt.title('Consumo de alcohol entre semana por Edad')\n",
    "plt.xlabel('Edad')\n",
    "plt.ylabel('Número de estudiantes')\n",
    "plt.show()"
   ]
  },
  {
   "cell_type": "code",
   "execution_count": 41,
   "metadata": {
    "scrolled": true
   },
   "outputs": [
    {
     "data": {
      "image/png": "[encoded data removed]",
      "text/plain": [
       "<Figure size 432x288 with 1 Axes>"
      ]
     },
     "metadata": {
      "needs_background": "light"
     },
     "output_type": "display_data"
    }
   ],
   "source": [
    "#weekend alcohol consumption (numeric: from 1 - very low to 5 - very high)\n",
    "sns.countplot(x='age', hue='Walc', data=df)\n",
    "plt.title('Consumo de alcohol en fin de semana por Edad')\n",
    "plt.xlabel('Edad')\n",
    "plt.ylabel('Número de estudiantes')\n",
    "plt.show()"
   ]
  },
  {
   "cell_type": "code",
   "execution_count": 42,
   "metadata": {},
   "outputs": [
    {
     "name": "stdout",
     "output_type": "stream",
     "text": [
      "5    146\n",
      "3     91\n",
      "4     66\n",
      "1     47\n",
      "2     45\n",
      "Name: health, dtype: int64\n"
     ]
    },
    {
     "data": {
      "image/png": "[encoded data removed]",
      "text/plain": [
       "<Figure size 432x288 with 1 Axes>"
      ]
     },
     "metadata": {
      "needs_background": "light"
     },
     "output_type": "display_data"
    }
   ],
   "source": [
    "#current health status (numeric: from 1 - very bad to 5 - very good)\n",
    "print(df['health'].value_counts())\n",
    "sns.countplot(x='health', data=df)\n",
    "plt.show()"
   ]
  },
  {
   "cell_type": "code",
   "execution_count": 43,
   "metadata": {},
   "outputs": [
    {
     "data": {
      "text/plain": [
       "<AxesSubplot:xlabel='absences'>"
      ]
     },
     "execution_count": 43,
     "metadata": {},
     "output_type": "execute_result"
    },
    {
     "data": {
      "image/png": "[encoded data removed]",
      "text/plain": [
       "<Figure size 432x288 with 1 Axes>"
      ]
     },
     "metadata": {
      "needs_background": "light"
     },
     "output_type": "display_data"
    }
   ],
   "source": [
    "sns.boxplot(x=\"absences\", data=df)"
   ]
  },
  {
   "cell_type": "code",
   "execution_count": 44,
   "metadata": {},
   "outputs": [
    {
     "data": {
      "text/plain": [
       "Text(0.5, 0, 'Calificaciones')"
      ]
     },
     "execution_count": 44,
     "metadata": {},
     "output_type": "execute_result"
    },
    {
     "data": {
      "image/png": "[encoded data removed]",
      "text/plain": [
       "<Figure size 864x576 with 1 Axes>"
      ]
     },
     "metadata": {
      "needs_background": "light"
     },
     "output_type": "display_data"
    }
   ],
   "source": [
    "plt.figure(figsize=(12,8))\n",
    "sns.boxplot(orient=\"h\",data=df[['G1','G2']])\n",
    "plt.title('Gráficas de caja de calificaciones')\n",
    "plt.xlabel('Calificaciones')"
   ]
  },
  {
   "cell_type": "code",
   "execution_count": 45,
   "metadata": {},
   "outputs": [
    {
     "data": {
      "text/plain": [
       "<AxesSubplot:title={'center':'Calificaciones del primer parcial de acuerdo a las horas de estudio'}, xlabel='G1', ylabel='studytime'>"
      ]
     },
     "execution_count": 45,
     "metadata": {},
     "output_type": "execute_result"
    },
    {
     "data": {
      "image/png": "[encoded data removed]",
      "text/plain": [
       "<Figure size 864x576 with 1 Axes>"
      ]
     },
     "metadata": {
      "needs_background": "light"
     },
     "output_type": "display_data"
    }
   ],
   "source": [
    "plt.figure(figsize=(12,8))\n",
    "plt.title(\"Calificaciones del primer parcial de acuerdo a las horas de estudio\")\n",
    "sns.boxplot(y=\"studytime\", x=\"G1\", data = df , orient=\"h\")"
   ]
  },
  {
   "cell_type": "code",
   "execution_count": 46,
   "metadata": {},
   "outputs": [
    {
     "data": {
      "text/plain": [
       "<AxesSubplot:title={'center':'Calificaciones del segundo parcial de acuerdo a las horas de estudio'}, xlabel='G2', ylabel='studytime'>"
      ]
     },
     "execution_count": 46,
     "metadata": {},
     "output_type": "execute_result"
    },
    {
     "data": {
      "image/png": "[encoded data removed]",
      "text/plain": [
       "<Figure size 864x576 with 1 Axes>"
      ]
     },
     "metadata": {
      "needs_background": "light"
     },
     "output_type": "display_data"
    }
   ],
   "source": [
    "plt.figure(figsize=(12,8))\n",
    "plt.title(\"Calificaciones del segundo parcial de acuerdo a las horas de estudio\")\n",
    "sns.boxplot(y=\"studytime\", x=\"G2\", data = df , orient=\"h\")"
   ]
  },
  {
   "cell_type": "code",
   "execution_count": 47,
   "metadata": {},
   "outputs": [
    {
     "data": {
      "text/plain": [
       "<AxesSubplot:title={'center':'Calificaciones finales de acuerdo a las personas que quieren o no seguir estudiando'}, xlabel='G3', ylabel='higher'>"
      ]
     },
     "execution_count": 47,
     "metadata": {},
     "output_type": "execute_result"
    },
    {
     "data": {
      "image/png": "[encoded data removed]",
      "text/plain": [
       "<Figure size 864x576 with 1 Axes>"
      ]
     },
     "metadata": {
      "needs_background": "light"
     },
     "output_type": "display_data"
    }
   ],
   "source": [
    "plt.figure(figsize=(12,8))\n",
    "plt.title(\"Calificaciones finales de acuerdo a las personas que quieren o no seguir estudiando\")\n",
    "sns.boxplot(y=\"higher\", x=\"G3\", data = df , orient=\"h\")"
   ]
  },
  {
   "cell_type": "code",
   "execution_count": 48,
   "metadata": {},
   "outputs": [
    {
     "data": {
      "image/png": "[encoded data removed]",
      "text/plain": [
       "<Figure size 432x288 with 1 Axes>"
      ]
     },
     "metadata": {
      "needs_background": "light"
     },
     "output_type": "display_data"
    }
   ],
   "source": [
    "#weekend alcohol consumption (numeric: from 1 - very low to 5 - very high)\n",
    "#going out with friends (numeric: from 1 - very low to 5 - very high)\n",
    "sns.countplot(x='goout', hue='Dalc', data=df)\n",
    "plt.title('Consumo de alcohol entre semana por salidas con amigos')\n",
    "plt.xlabel('Salir con amigos')\n",
    "plt.ylabel('Número de estudiantes')\n",
    "plt.show()"
   ]
  },
  {
   "cell_type": "code",
   "execution_count": 49,
   "metadata": {},
   "outputs": [
    {
     "data": {
      "image/png": "[encoded data removed]",
      "text/plain": [
       "<Figure size 432x288 with 1 Axes>"
      ]
     },
     "metadata": {
      "needs_background": "light"
     },
     "output_type": "display_data"
    }
   ],
   "source": [
    "#weekend alcohol consumption (numeric: from 1 - very low to 5 - very high)\n",
    "sns.countplot(x='goout', hue='Walc', data=df)\n",
    "plt.title('Consumo de alcohol en fin de semana por salidas con amigos')\n",
    "plt.xlabel('Salir con amigos')\n",
    "plt.ylabel('Número de estudiantes')\n",
    "plt.show()"
   ]
  },
  {
   "cell_type": "code",
   "execution_count": 50,
   "metadata": {},
   "outputs": [
    {
     "name": "stdout",
     "output_type": "stream",
     "text": [
      "Antes se tenían  32  columnas.\n",
      "Ahora se tienen  20  columnas.\n"
     ]
    },
    {
     "data": {
      "text/html": [
       "<div>\n",
       "<style scoped>\n",
       "    .dataframe tbody tr th:only-of-type {\n",
       "        vertical-align: middle;\n",
       "    }\n",
       "\n",
       "    .dataframe tbody tr th {\n",
       "        vertical-align: top;\n",
       "    }\n",
       "\n",
       "    .dataframe thead th {\n",
       "        text-align: right;\n",
       "    }\n",
       "</style>\n",
       "<table border=\"1\" class=\"dataframe\">\n",
       "  <thead>\n",
       "    <tr style=\"text-align: right;\">\n",
       "      <th></th>\n",
       "      <th>age</th>\n",
       "      <th>address</th>\n",
       "      <th>Pstatus</th>\n",
       "      <th>traveltime</th>\n",
       "      <th>studytime</th>\n",
       "      <th>failures</th>\n",
       "      <th>schoolsup</th>\n",
       "      <th>famsup</th>\n",
       "      <th>paid</th>\n",
       "      <th>activities</th>\n",
       "      <th>internet</th>\n",
       "      <th>romantic</th>\n",
       "      <th>freetime</th>\n",
       "      <th>goout</th>\n",
       "      <th>Dalc</th>\n",
       "      <th>Walc</th>\n",
       "      <th>health</th>\n",
       "      <th>absences</th>\n",
       "      <th>G1</th>\n",
       "      <th>G2</th>\n",
       "    </tr>\n",
       "  </thead>\n",
       "  <tbody>\n",
       "    <tr>\n",
       "      <th>0</th>\n",
       "      <td>18</td>\n",
       "      <td>U</td>\n",
       "      <td>A</td>\n",
       "      <td>2</td>\n",
       "      <td>2</td>\n",
       "      <td>0</td>\n",
       "      <td>yes</td>\n",
       "      <td>no</td>\n",
       "      <td>no</td>\n",
       "      <td>no</td>\n",
       "      <td>no</td>\n",
       "      <td>no</td>\n",
       "      <td>3</td>\n",
       "      <td>4</td>\n",
       "      <td>1</td>\n",
       "      <td>1</td>\n",
       "      <td>3</td>\n",
       "      <td>6</td>\n",
       "      <td>5</td>\n",
       "      <td>6</td>\n",
       "    </tr>\n",
       "    <tr>\n",
       "      <th>1</th>\n",
       "      <td>17</td>\n",
       "      <td>U</td>\n",
       "      <td>T</td>\n",
       "      <td>1</td>\n",
       "      <td>2</td>\n",
       "      <td>0</td>\n",
       "      <td>no</td>\n",
       "      <td>yes</td>\n",
       "      <td>no</td>\n",
       "      <td>no</td>\n",
       "      <td>yes</td>\n",
       "      <td>no</td>\n",
       "      <td>3</td>\n",
       "      <td>3</td>\n",
       "      <td>1</td>\n",
       "      <td>1</td>\n",
       "      <td>3</td>\n",
       "      <td>4</td>\n",
       "      <td>5</td>\n",
       "      <td>5</td>\n",
       "    </tr>\n",
       "    <tr>\n",
       "      <th>2</th>\n",
       "      <td>15</td>\n",
       "      <td>U</td>\n",
       "      <td>T</td>\n",
       "      <td>1</td>\n",
       "      <td>2</td>\n",
       "      <td>3</td>\n",
       "      <td>yes</td>\n",
       "      <td>no</td>\n",
       "      <td>yes</td>\n",
       "      <td>no</td>\n",
       "      <td>yes</td>\n",
       "      <td>no</td>\n",
       "      <td>3</td>\n",
       "      <td>2</td>\n",
       "      <td>2</td>\n",
       "      <td>3</td>\n",
       "      <td>3</td>\n",
       "      <td>10</td>\n",
       "      <td>7</td>\n",
       "      <td>8</td>\n",
       "    </tr>\n",
       "    <tr>\n",
       "      <th>3</th>\n",
       "      <td>15</td>\n",
       "      <td>U</td>\n",
       "      <td>T</td>\n",
       "      <td>1</td>\n",
       "      <td>3</td>\n",
       "      <td>0</td>\n",
       "      <td>no</td>\n",
       "      <td>yes</td>\n",
       "      <td>yes</td>\n",
       "      <td>yes</td>\n",
       "      <td>yes</td>\n",
       "      <td>yes</td>\n",
       "      <td>2</td>\n",
       "      <td>2</td>\n",
       "      <td>1</td>\n",
       "      <td>1</td>\n",
       "      <td>5</td>\n",
       "      <td>2</td>\n",
       "      <td>15</td>\n",
       "      <td>14</td>\n",
       "    </tr>\n",
       "    <tr>\n",
       "      <th>4</th>\n",
       "      <td>16</td>\n",
       "      <td>U</td>\n",
       "      <td>T</td>\n",
       "      <td>1</td>\n",
       "      <td>2</td>\n",
       "      <td>0</td>\n",
       "      <td>no</td>\n",
       "      <td>yes</td>\n",
       "      <td>yes</td>\n",
       "      <td>no</td>\n",
       "      <td>no</td>\n",
       "      <td>no</td>\n",
       "      <td>3</td>\n",
       "      <td>2</td>\n",
       "      <td>1</td>\n",
       "      <td>2</td>\n",
       "      <td>5</td>\n",
       "      <td>4</td>\n",
       "      <td>6</td>\n",
       "      <td>10</td>\n",
       "    </tr>\n",
       "  </tbody>\n",
       "</table>\n",
       "</div>"
      ],
      "text/plain": [
       "   age address Pstatus  traveltime  studytime  failures schoolsup famsup paid  \\\n",
       "0   18       U       A           2          2         0       yes     no   no   \n",
       "1   17       U       T           1          2         0        no    yes   no   \n",
       "2   15       U       T           1          2         3       yes     no  yes   \n",
       "3   15       U       T           1          3         0        no    yes  yes   \n",
       "4   16       U       T           1          2         0        no    yes  yes   \n",
       "\n",
       "  activities internet romantic  freetime  goout  Dalc  Walc  health  absences  \\\n",
       "0         no       no       no         3      4     1     1       3         6   \n",
       "1         no      yes       no         3      3     1     1       3         4   \n",
       "2         no      yes       no         3      2     2     3       3        10   \n",
       "3        yes      yes      yes         2      2     1     1       5         2   \n",
       "4         no       no       no         3      2     1     2       5         4   \n",
       "\n",
       "   G1  G2  \n",
       "0   5   6  \n",
       "1   5   5  \n",
       "2   7   8  \n",
       "3  15  14  \n",
       "4   6  10  "
      ]
     },
     "execution_count": 50,
     "metadata": {},
     "output_type": "execute_result"
    }
   ],
   "source": [
    "# Se eliminan las columnas algunas columnas:\n",
    "print('Antes se tenían ',X.shape[1],' columnas.')\n",
    "\n",
    "X = X.drop(['school','sex','famsize','Medu','Fedu','Mjob','Fjob','reason','guardian','nursery','higher','famrel'], axis = 1)\n",
    "\n",
    "print('Ahora se tienen ',X.shape[1],' columnas.')\n",
    "X.head()"
   ]
  },
  {
   "cell_type": "code",
   "execution_count": 51,
   "metadata": {},
   "outputs": [
    {
     "data": {
      "text/html": [
       "<div>\n",
       "<style scoped>\n",
       "    .dataframe tbody tr th:only-of-type {\n",
       "        vertical-align: middle;\n",
       "    }\n",
       "\n",
       "    .dataframe tbody tr th {\n",
       "        vertical-align: top;\n",
       "    }\n",
       "\n",
       "    .dataframe thead th {\n",
       "        text-align: right;\n",
       "    }\n",
       "</style>\n",
       "<table border=\"1\" class=\"dataframe\">\n",
       "  <thead>\n",
       "    <tr style=\"text-align: right;\">\n",
       "      <th></th>\n",
       "      <th>age</th>\n",
       "      <th>traveltime</th>\n",
       "      <th>studytime</th>\n",
       "      <th>failures</th>\n",
       "      <th>freetime</th>\n",
       "      <th>goout</th>\n",
       "      <th>Dalc</th>\n",
       "      <th>Walc</th>\n",
       "      <th>health</th>\n",
       "      <th>absences</th>\n",
       "      <th>G1</th>\n",
       "      <th>G2</th>\n",
       "    </tr>\n",
       "  </thead>\n",
       "  <tbody>\n",
       "    <tr>\n",
       "      <th>count</th>\n",
       "      <td>395.000000</td>\n",
       "      <td>395.000000</td>\n",
       "      <td>395.000000</td>\n",
       "      <td>395.000000</td>\n",
       "      <td>395.000000</td>\n",
       "      <td>395.000000</td>\n",
       "      <td>395.000000</td>\n",
       "      <td>395.000000</td>\n",
       "      <td>395.000000</td>\n",
       "      <td>395.000000</td>\n",
       "      <td>395.000000</td>\n",
       "      <td>395.000000</td>\n",
       "    </tr>\n",
       "    <tr>\n",
       "      <th>mean</th>\n",
       "      <td>16.696203</td>\n",
       "      <td>1.448101</td>\n",
       "      <td>2.035443</td>\n",
       "      <td>0.334177</td>\n",
       "      <td>3.235443</td>\n",
       "      <td>3.108861</td>\n",
       "      <td>1.481013</td>\n",
       "      <td>2.291139</td>\n",
       "      <td>3.554430</td>\n",
       "      <td>5.708861</td>\n",
       "      <td>10.908861</td>\n",
       "      <td>10.713924</td>\n",
       "    </tr>\n",
       "    <tr>\n",
       "      <th>std</th>\n",
       "      <td>1.276043</td>\n",
       "      <td>0.697505</td>\n",
       "      <td>0.839240</td>\n",
       "      <td>0.743651</td>\n",
       "      <td>0.998862</td>\n",
       "      <td>1.113278</td>\n",
       "      <td>0.890741</td>\n",
       "      <td>1.287897</td>\n",
       "      <td>1.390303</td>\n",
       "      <td>8.003096</td>\n",
       "      <td>3.319195</td>\n",
       "      <td>3.761505</td>\n",
       "    </tr>\n",
       "    <tr>\n",
       "      <th>min</th>\n",
       "      <td>15.000000</td>\n",
       "      <td>1.000000</td>\n",
       "      <td>1.000000</td>\n",
       "      <td>0.000000</td>\n",
       "      <td>1.000000</td>\n",
       "      <td>1.000000</td>\n",
       "      <td>1.000000</td>\n",
       "      <td>1.000000</td>\n",
       "      <td>1.000000</td>\n",
       "      <td>0.000000</td>\n",
       "      <td>3.000000</td>\n",
       "      <td>0.000000</td>\n",
       "    </tr>\n",
       "    <tr>\n",
       "      <th>25%</th>\n",
       "      <td>16.000000</td>\n",
       "      <td>1.000000</td>\n",
       "      <td>1.000000</td>\n",
       "      <td>0.000000</td>\n",
       "      <td>3.000000</td>\n",
       "      <td>2.000000</td>\n",
       "      <td>1.000000</td>\n",
       "      <td>1.000000</td>\n",
       "      <td>3.000000</td>\n",
       "      <td>0.000000</td>\n",
       "      <td>8.000000</td>\n",
       "      <td>9.000000</td>\n",
       "    </tr>\n",
       "    <tr>\n",
       "      <th>50%</th>\n",
       "      <td>17.000000</td>\n",
       "      <td>1.000000</td>\n",
       "      <td>2.000000</td>\n",
       "      <td>0.000000</td>\n",
       "      <td>3.000000</td>\n",
       "      <td>3.000000</td>\n",
       "      <td>1.000000</td>\n",
       "      <td>2.000000</td>\n",
       "      <td>4.000000</td>\n",
       "      <td>4.000000</td>\n",
       "      <td>11.000000</td>\n",
       "      <td>11.000000</td>\n",
       "    </tr>\n",
       "    <tr>\n",
       "      <th>75%</th>\n",
       "      <td>18.000000</td>\n",
       "      <td>2.000000</td>\n",
       "      <td>2.000000</td>\n",
       "      <td>0.000000</td>\n",
       "      <td>4.000000</td>\n",
       "      <td>4.000000</td>\n",
       "      <td>2.000000</td>\n",
       "      <td>3.000000</td>\n",
       "      <td>5.000000</td>\n",
       "      <td>8.000000</td>\n",
       "      <td>13.000000</td>\n",
       "      <td>13.000000</td>\n",
       "    </tr>\n",
       "    <tr>\n",
       "      <th>max</th>\n",
       "      <td>22.000000</td>\n",
       "      <td>4.000000</td>\n",
       "      <td>4.000000</td>\n",
       "      <td>3.000000</td>\n",
       "      <td>5.000000</td>\n",
       "      <td>5.000000</td>\n",
       "      <td>5.000000</td>\n",
       "      <td>5.000000</td>\n",
       "      <td>5.000000</td>\n",
       "      <td>75.000000</td>\n",
       "      <td>19.000000</td>\n",
       "      <td>19.000000</td>\n",
       "    </tr>\n",
       "  </tbody>\n",
       "</table>\n",
       "</div>"
      ],
      "text/plain": [
       "              age  traveltime   studytime    failures    freetime       goout  \\\n",
       "count  395.000000  395.000000  395.000000  395.000000  395.000000  395.000000   \n",
       "mean    16.696203    1.448101    2.035443    0.334177    3.235443    3.108861   \n",
       "std      1.276043    0.697505    0.839240    0.743651    0.998862    1.113278   \n",
       "min     15.000000    1.000000    1.000000    0.000000    1.000000    1.000000   \n",
       "25%     16.000000    1.000000    1.000000    0.000000    3.000000    2.000000   \n",
       "50%     17.000000    1.000000    2.000000    0.000000    3.000000    3.000000   \n",
       "75%     18.000000    2.000000    2.000000    0.000000    4.000000    4.000000   \n",
       "max     22.000000    4.000000    4.000000    3.000000    5.000000    5.000000   \n",
       "\n",
       "             Dalc        Walc      health    absences          G1          G2  \n",
       "count  395.000000  395.000000  395.000000  395.000000  395.000000  395.000000  \n",
       "mean     1.481013    2.291139    3.554430    5.708861   10.908861   10.713924  \n",
       "std      0.890741    1.287897    1.390303    8.003096    3.319195    3.761505  \n",
       "min      1.000000    1.000000    1.000000    0.000000    3.000000    0.000000  \n",
       "25%      1.000000    1.000000    3.000000    0.000000    8.000000    9.000000  \n",
       "50%      1.000000    2.000000    4.000000    4.000000   11.000000   11.000000  \n",
       "75%      2.000000    3.000000    5.000000    8.000000   13.000000   13.000000  \n",
       "max      5.000000    5.000000    5.000000   75.000000   19.000000   19.000000  "
      ]
     },
     "execution_count": 51,
     "metadata": {},
     "output_type": "execute_result"
    }
   ],
   "source": [
    "X.describe()"
   ]
  },
  {
   "cell_type": "code",
   "execution_count": 52,
   "metadata": {},
   "outputs": [
    {
     "data": {
      "text/html": [
       "<div>\n",
       "<style scoped>\n",
       "    .dataframe tbody tr th:only-of-type {\n",
       "        vertical-align: middle;\n",
       "    }\n",
       "\n",
       "    .dataframe tbody tr th {\n",
       "        vertical-align: top;\n",
       "    }\n",
       "\n",
       "    .dataframe thead th {\n",
       "        text-align: right;\n",
       "    }\n",
       "</style>\n",
       "<table border=\"1\" class=\"dataframe\">\n",
       "  <thead>\n",
       "    <tr style=\"text-align: right;\">\n",
       "      <th></th>\n",
       "      <th>address_R</th>\n",
       "      <th>address_U</th>\n",
       "      <th>Pstatus_A</th>\n",
       "      <th>Pstatus_T</th>\n",
       "      <th>schoolsup_no</th>\n",
       "      <th>schoolsup_yes</th>\n",
       "      <th>famsup_no</th>\n",
       "      <th>famsup_yes</th>\n",
       "      <th>paid_no</th>\n",
       "      <th>paid_yes</th>\n",
       "      <th>activities_no</th>\n",
       "      <th>activities_yes</th>\n",
       "      <th>internet_no</th>\n",
       "      <th>internet_yes</th>\n",
       "      <th>romantic_no</th>\n",
       "      <th>romantic_yes</th>\n",
       "    </tr>\n",
       "  </thead>\n",
       "  <tbody>\n",
       "    <tr>\n",
       "      <th>0</th>\n",
       "      <td>0</td>\n",
       "      <td>1</td>\n",
       "      <td>1</td>\n",
       "      <td>0</td>\n",
       "      <td>0</td>\n",
       "      <td>1</td>\n",
       "      <td>1</td>\n",
       "      <td>0</td>\n",
       "      <td>1</td>\n",
       "      <td>0</td>\n",
       "      <td>1</td>\n",
       "      <td>0</td>\n",
       "      <td>1</td>\n",
       "      <td>0</td>\n",
       "      <td>1</td>\n",
       "      <td>0</td>\n",
       "    </tr>\n",
       "    <tr>\n",
       "      <th>1</th>\n",
       "      <td>0</td>\n",
       "      <td>1</td>\n",
       "      <td>0</td>\n",
       "      <td>1</td>\n",
       "      <td>1</td>\n",
       "      <td>0</td>\n",
       "      <td>0</td>\n",
       "      <td>1</td>\n",
       "      <td>1</td>\n",
       "      <td>0</td>\n",
       "      <td>1</td>\n",
       "      <td>0</td>\n",
       "      <td>0</td>\n",
       "      <td>1</td>\n",
       "      <td>1</td>\n",
       "      <td>0</td>\n",
       "    </tr>\n",
       "    <tr>\n",
       "      <th>2</th>\n",
       "      <td>0</td>\n",
       "      <td>1</td>\n",
       "      <td>0</td>\n",
       "      <td>1</td>\n",
       "      <td>0</td>\n",
       "      <td>1</td>\n",
       "      <td>1</td>\n",
       "      <td>0</td>\n",
       "      <td>0</td>\n",
       "      <td>1</td>\n",
       "      <td>1</td>\n",
       "      <td>0</td>\n",
       "      <td>0</td>\n",
       "      <td>1</td>\n",
       "      <td>1</td>\n",
       "      <td>0</td>\n",
       "    </tr>\n",
       "    <tr>\n",
       "      <th>3</th>\n",
       "      <td>0</td>\n",
       "      <td>1</td>\n",
       "      <td>0</td>\n",
       "      <td>1</td>\n",
       "      <td>1</td>\n",
       "      <td>0</td>\n",
       "      <td>0</td>\n",
       "      <td>1</td>\n",
       "      <td>0</td>\n",
       "      <td>1</td>\n",
       "      <td>0</td>\n",
       "      <td>1</td>\n",
       "      <td>0</td>\n",
       "      <td>1</td>\n",
       "      <td>0</td>\n",
       "      <td>1</td>\n",
       "    </tr>\n",
       "    <tr>\n",
       "      <th>4</th>\n",
       "      <td>0</td>\n",
       "      <td>1</td>\n",
       "      <td>0</td>\n",
       "      <td>1</td>\n",
       "      <td>1</td>\n",
       "      <td>0</td>\n",
       "      <td>0</td>\n",
       "      <td>1</td>\n",
       "      <td>0</td>\n",
       "      <td>1</td>\n",
       "      <td>1</td>\n",
       "      <td>0</td>\n",
       "      <td>1</td>\n",
       "      <td>0</td>\n",
       "      <td>1</td>\n",
       "      <td>0</td>\n",
       "    </tr>\n",
       "  </tbody>\n",
       "</table>\n",
       "</div>"
      ],
      "text/plain": [
       "   address_R  address_U  Pstatus_A  Pstatus_T  schoolsup_no  schoolsup_yes  \\\n",
       "0          0          1          1          0             0              1   \n",
       "1          0          1          0          1             1              0   \n",
       "2          0          1          0          1             0              1   \n",
       "3          0          1          0          1             1              0   \n",
       "4          0          1          0          1             1              0   \n",
       "\n",
       "   famsup_no  famsup_yes  paid_no  paid_yes  activities_no  activities_yes  \\\n",
       "0          1           0        1         0              1               0   \n",
       "1          0           1        1         0              1               0   \n",
       "2          1           0        0         1              1               0   \n",
       "3          0           1        0         1              0               1   \n",
       "4          0           1        0         1              1               0   \n",
       "\n",
       "   internet_no  internet_yes  romantic_no  romantic_yes  \n",
       "0            1             0            1             0  \n",
       "1            0             1            1             0  \n",
       "2            0             1            1             0  \n",
       "3            0             1            0             1  \n",
       "4            1             0            1             0  "
      ]
     },
     "execution_count": 52,
     "metadata": {},
     "output_type": "execute_result"
    }
   ],
   "source": [
    "#Se definen las variables dummies para las variables categóricas\n",
    "dummies = pd.get_dummies(X[['address', 'Pstatus', 'schoolsup','famsup','paid','activities','internet','romantic']])\n",
    "dummies.head()"
   ]
  },
  {
   "cell_type": "code",
   "execution_count": 53,
   "metadata": {},
   "outputs": [
    {
     "name": "stdout",
     "output_type": "stream",
     "text": [
      "395  renglones\n",
      " 20  columnas\n"
     ]
    },
    {
     "data": {
      "text/html": [
       "<div>\n",
       "<style scoped>\n",
       "    .dataframe tbody tr th:only-of-type {\n",
       "        vertical-align: middle;\n",
       "    }\n",
       "\n",
       "    .dataframe tbody tr th {\n",
       "        vertical-align: top;\n",
       "    }\n",
       "\n",
       "    .dataframe thead th {\n",
       "        text-align: right;\n",
       "    }\n",
       "</style>\n",
       "<table border=\"1\" class=\"dataframe\">\n",
       "  <thead>\n",
       "    <tr style=\"text-align: right;\">\n",
       "      <th></th>\n",
       "      <th>age</th>\n",
       "      <th>traveltime</th>\n",
       "      <th>studytime</th>\n",
       "      <th>failures</th>\n",
       "      <th>freetime</th>\n",
       "      <th>goout</th>\n",
       "      <th>Dalc</th>\n",
       "      <th>Walc</th>\n",
       "      <th>health</th>\n",
       "      <th>absences</th>\n",
       "      <th>G1</th>\n",
       "      <th>G2</th>\n",
       "      <th>address_U</th>\n",
       "      <th>Pstatus_T</th>\n",
       "      <th>schoolsup_yes</th>\n",
       "      <th>famsup_yes</th>\n",
       "      <th>paid_yes</th>\n",
       "      <th>activities_yes</th>\n",
       "      <th>internet_yes</th>\n",
       "      <th>romantic_yes</th>\n",
       "    </tr>\n",
       "  </thead>\n",
       "  <tbody>\n",
       "    <tr>\n",
       "      <th>0</th>\n",
       "      <td>18.0</td>\n",
       "      <td>2.0</td>\n",
       "      <td>2.0</td>\n",
       "      <td>0.0</td>\n",
       "      <td>3.0</td>\n",
       "      <td>4.0</td>\n",
       "      <td>1.0</td>\n",
       "      <td>1.0</td>\n",
       "      <td>3.0</td>\n",
       "      <td>6.0</td>\n",
       "      <td>5.0</td>\n",
       "      <td>6.0</td>\n",
       "      <td>1</td>\n",
       "      <td>0</td>\n",
       "      <td>1</td>\n",
       "      <td>0</td>\n",
       "      <td>0</td>\n",
       "      <td>0</td>\n",
       "      <td>0</td>\n",
       "      <td>0</td>\n",
       "    </tr>\n",
       "    <tr>\n",
       "      <th>1</th>\n",
       "      <td>17.0</td>\n",
       "      <td>1.0</td>\n",
       "      <td>2.0</td>\n",
       "      <td>0.0</td>\n",
       "      <td>3.0</td>\n",
       "      <td>3.0</td>\n",
       "      <td>1.0</td>\n",
       "      <td>1.0</td>\n",
       "      <td>3.0</td>\n",
       "      <td>4.0</td>\n",
       "      <td>5.0</td>\n",
       "      <td>5.0</td>\n",
       "      <td>1</td>\n",
       "      <td>1</td>\n",
       "      <td>0</td>\n",
       "      <td>1</td>\n",
       "      <td>0</td>\n",
       "      <td>0</td>\n",
       "      <td>1</td>\n",
       "      <td>0</td>\n",
       "    </tr>\n",
       "    <tr>\n",
       "      <th>2</th>\n",
       "      <td>15.0</td>\n",
       "      <td>1.0</td>\n",
       "      <td>2.0</td>\n",
       "      <td>3.0</td>\n",
       "      <td>3.0</td>\n",
       "      <td>2.0</td>\n",
       "      <td>2.0</td>\n",
       "      <td>3.0</td>\n",
       "      <td>3.0</td>\n",
       "      <td>10.0</td>\n",
       "      <td>7.0</td>\n",
       "      <td>8.0</td>\n",
       "      <td>1</td>\n",
       "      <td>1</td>\n",
       "      <td>1</td>\n",
       "      <td>0</td>\n",
       "      <td>1</td>\n",
       "      <td>0</td>\n",
       "      <td>1</td>\n",
       "      <td>0</td>\n",
       "    </tr>\n",
       "    <tr>\n",
       "      <th>3</th>\n",
       "      <td>15.0</td>\n",
       "      <td>1.0</td>\n",
       "      <td>3.0</td>\n",
       "      <td>0.0</td>\n",
       "      <td>2.0</td>\n",
       "      <td>2.0</td>\n",
       "      <td>1.0</td>\n",
       "      <td>1.0</td>\n",
       "      <td>5.0</td>\n",
       "      <td>2.0</td>\n",
       "      <td>15.0</td>\n",
       "      <td>14.0</td>\n",
       "      <td>1</td>\n",
       "      <td>1</td>\n",
       "      <td>0</td>\n",
       "      <td>1</td>\n",
       "      <td>1</td>\n",
       "      <td>1</td>\n",
       "      <td>1</td>\n",
       "      <td>1</td>\n",
       "    </tr>\n",
       "    <tr>\n",
       "      <th>4</th>\n",
       "      <td>16.0</td>\n",
       "      <td>1.0</td>\n",
       "      <td>2.0</td>\n",
       "      <td>0.0</td>\n",
       "      <td>3.0</td>\n",
       "      <td>2.0</td>\n",
       "      <td>1.0</td>\n",
       "      <td>2.0</td>\n",
       "      <td>5.0</td>\n",
       "      <td>4.0</td>\n",
       "      <td>6.0</td>\n",
       "      <td>10.0</td>\n",
       "      <td>1</td>\n",
       "      <td>1</td>\n",
       "      <td>0</td>\n",
       "      <td>1</td>\n",
       "      <td>1</td>\n",
       "      <td>0</td>\n",
       "      <td>0</td>\n",
       "      <td>0</td>\n",
       "    </tr>\n",
       "  </tbody>\n",
       "</table>\n",
       "</div>"
      ],
      "text/plain": [
       "    age  traveltime  studytime  failures  freetime  goout  Dalc  Walc  health  \\\n",
       "0  18.0         2.0        2.0       0.0       3.0    4.0   1.0   1.0     3.0   \n",
       "1  17.0         1.0        2.0       0.0       3.0    3.0   1.0   1.0     3.0   \n",
       "2  15.0         1.0        2.0       3.0       3.0    2.0   2.0   3.0     3.0   \n",
       "3  15.0         1.0        3.0       0.0       2.0    2.0   1.0   1.0     5.0   \n",
       "4  16.0         1.0        2.0       0.0       3.0    2.0   1.0   2.0     5.0   \n",
       "\n",
       "   absences    G1    G2  address_U  Pstatus_T  schoolsup_yes  famsup_yes  \\\n",
       "0       6.0   5.0   6.0          1          0              1           0   \n",
       "1       4.0   5.0   5.0          1          1              0           1   \n",
       "2      10.0   7.0   8.0          1          1              1           0   \n",
       "3       2.0  15.0  14.0          1          1              0           1   \n",
       "4       4.0   6.0  10.0          1          1              0           1   \n",
       "\n",
       "   paid_yes  activities_yes  internet_yes  romantic_yes  \n",
       "0         0               0             0             0  \n",
       "1         0               0             1             0  \n",
       "2         1               0             1             0  \n",
       "3         1               1             1             1  \n",
       "4         1               0             0             0  "
      ]
     },
     "execution_count": 53,
     "metadata": {},
     "output_type": "execute_result"
    }
   ],
   "source": [
    "#Se reemplazan por las variables dummies\n",
    "X = X.drop(['address', 'Pstatus', 'schoolsup','famsup','paid','activities','internet','romantic'], axis = 1).astype('float64')\n",
    "X = pd.concat([X, dummies[['address_U', 'Pstatus_T', 'schoolsup_yes','famsup_yes','paid_yes','activities_yes',\n",
    "                           'internet_yes','romantic_yes']]], axis = 1)\n",
    "\n",
    "print(X.shape[0],' renglones\\n',X.shape[1],' columnas')\n",
    "X.head()"
   ]
  },
  {
   "cell_type": "code",
   "execution_count": 54,
   "metadata": {},
   "outputs": [
    {
     "data": {
      "text/html": [
       "<div>\n",
       "<style scoped>\n",
       "    .dataframe tbody tr th:only-of-type {\n",
       "        vertical-align: middle;\n",
       "    }\n",
       "\n",
       "    .dataframe tbody tr th {\n",
       "        vertical-align: top;\n",
       "    }\n",
       "\n",
       "    .dataframe thead th {\n",
       "        text-align: right;\n",
       "    }\n",
       "</style>\n",
       "<table border=\"1\" class=\"dataframe\">\n",
       "  <thead>\n",
       "    <tr style=\"text-align: right;\">\n",
       "      <th></th>\n",
       "      <th>age</th>\n",
       "      <th>traveltime</th>\n",
       "      <th>studytime</th>\n",
       "      <th>failures</th>\n",
       "      <th>freetime</th>\n",
       "      <th>goout</th>\n",
       "      <th>Dalc</th>\n",
       "      <th>Walc</th>\n",
       "      <th>health</th>\n",
       "      <th>absences</th>\n",
       "      <th>G1</th>\n",
       "      <th>G2</th>\n",
       "      <th>address_U</th>\n",
       "      <th>Pstatus_T</th>\n",
       "      <th>schoolsup_yes</th>\n",
       "      <th>famsup_yes</th>\n",
       "      <th>paid_yes</th>\n",
       "      <th>activities_yes</th>\n",
       "      <th>internet_yes</th>\n",
       "      <th>romantic_yes</th>\n",
       "      <th>G3</th>\n",
       "    </tr>\n",
       "  </thead>\n",
       "  <tbody>\n",
       "    <tr>\n",
       "      <th>0</th>\n",
       "      <td>18.0</td>\n",
       "      <td>2.0</td>\n",
       "      <td>2.0</td>\n",
       "      <td>0.0</td>\n",
       "      <td>3.0</td>\n",
       "      <td>4.0</td>\n",
       "      <td>1.0</td>\n",
       "      <td>1.0</td>\n",
       "      <td>3.0</td>\n",
       "      <td>6.0</td>\n",
       "      <td>5.0</td>\n",
       "      <td>6.0</td>\n",
       "      <td>1</td>\n",
       "      <td>0</td>\n",
       "      <td>1</td>\n",
       "      <td>0</td>\n",
       "      <td>0</td>\n",
       "      <td>0</td>\n",
       "      <td>0</td>\n",
       "      <td>0</td>\n",
       "      <td>6</td>\n",
       "    </tr>\n",
       "    <tr>\n",
       "      <th>1</th>\n",
       "      <td>17.0</td>\n",
       "      <td>1.0</td>\n",
       "      <td>2.0</td>\n",
       "      <td>0.0</td>\n",
       "      <td>3.0</td>\n",
       "      <td>3.0</td>\n",
       "      <td>1.0</td>\n",
       "      <td>1.0</td>\n",
       "      <td>3.0</td>\n",
       "      <td>4.0</td>\n",
       "      <td>5.0</td>\n",
       "      <td>5.0</td>\n",
       "      <td>1</td>\n",
       "      <td>1</td>\n",
       "      <td>0</td>\n",
       "      <td>1</td>\n",
       "      <td>0</td>\n",
       "      <td>0</td>\n",
       "      <td>1</td>\n",
       "      <td>0</td>\n",
       "      <td>6</td>\n",
       "    </tr>\n",
       "    <tr>\n",
       "      <th>2</th>\n",
       "      <td>15.0</td>\n",
       "      <td>1.0</td>\n",
       "      <td>2.0</td>\n",
       "      <td>3.0</td>\n",
       "      <td>3.0</td>\n",
       "      <td>2.0</td>\n",
       "      <td>2.0</td>\n",
       "      <td>3.0</td>\n",
       "      <td>3.0</td>\n",
       "      <td>10.0</td>\n",
       "      <td>7.0</td>\n",
       "      <td>8.0</td>\n",
       "      <td>1</td>\n",
       "      <td>1</td>\n",
       "      <td>1</td>\n",
       "      <td>0</td>\n",
       "      <td>1</td>\n",
       "      <td>0</td>\n",
       "      <td>1</td>\n",
       "      <td>0</td>\n",
       "      <td>10</td>\n",
       "    </tr>\n",
       "    <tr>\n",
       "      <th>3</th>\n",
       "      <td>15.0</td>\n",
       "      <td>1.0</td>\n",
       "      <td>3.0</td>\n",
       "      <td>0.0</td>\n",
       "      <td>2.0</td>\n",
       "      <td>2.0</td>\n",
       "      <td>1.0</td>\n",
       "      <td>1.0</td>\n",
       "      <td>5.0</td>\n",
       "      <td>2.0</td>\n",
       "      <td>15.0</td>\n",
       "      <td>14.0</td>\n",
       "      <td>1</td>\n",
       "      <td>1</td>\n",
       "      <td>0</td>\n",
       "      <td>1</td>\n",
       "      <td>1</td>\n",
       "      <td>1</td>\n",
       "      <td>1</td>\n",
       "      <td>1</td>\n",
       "      <td>15</td>\n",
       "    </tr>\n",
       "    <tr>\n",
       "      <th>4</th>\n",
       "      <td>16.0</td>\n",
       "      <td>1.0</td>\n",
       "      <td>2.0</td>\n",
       "      <td>0.0</td>\n",
       "      <td>3.0</td>\n",
       "      <td>2.0</td>\n",
       "      <td>1.0</td>\n",
       "      <td>2.0</td>\n",
       "      <td>5.0</td>\n",
       "      <td>4.0</td>\n",
       "      <td>6.0</td>\n",
       "      <td>10.0</td>\n",
       "      <td>1</td>\n",
       "      <td>1</td>\n",
       "      <td>0</td>\n",
       "      <td>1</td>\n",
       "      <td>1</td>\n",
       "      <td>0</td>\n",
       "      <td>0</td>\n",
       "      <td>0</td>\n",
       "      <td>10</td>\n",
       "    </tr>\n",
       "  </tbody>\n",
       "</table>\n",
       "</div>"
      ],
      "text/plain": [
       "    age  traveltime  studytime  failures  freetime  goout  Dalc  Walc  health  \\\n",
       "0  18.0         2.0        2.0       0.0       3.0    4.0   1.0   1.0     3.0   \n",
       "1  17.0         1.0        2.0       0.0       3.0    3.0   1.0   1.0     3.0   \n",
       "2  15.0         1.0        2.0       3.0       3.0    2.0   2.0   3.0     3.0   \n",
       "3  15.0         1.0        3.0       0.0       2.0    2.0   1.0   1.0     5.0   \n",
       "4  16.0         1.0        2.0       0.0       3.0    2.0   1.0   2.0     5.0   \n",
       "\n",
       "   absences    G1    G2  address_U  Pstatus_T  schoolsup_yes  famsup_yes  \\\n",
       "0       6.0   5.0   6.0          1          0              1           0   \n",
       "1       4.0   5.0   5.0          1          1              0           1   \n",
       "2      10.0   7.0   8.0          1          1              1           0   \n",
       "3       2.0  15.0  14.0          1          1              0           1   \n",
       "4       4.0   6.0  10.0          1          1              0           1   \n",
       "\n",
       "   paid_yes  activities_yes  internet_yes  romantic_yes  G3  \n",
       "0         0               0             0             0   6  \n",
       "1         0               0             1             0   6  \n",
       "2         1               0             1             0  10  \n",
       "3         1               1             1             1  15  \n",
       "4         1               0             0             0  10  "
      ]
     },
     "execution_count": 54,
     "metadata": {},
     "output_type": "execute_result"
    }
   ],
   "source": [
    "#Se define un nuevo datafram para mostrar la correlación entre las variables\n",
    "datos = pd.concat([X,Y], axis = 1)\n",
    "datos.head()\n",
    "#sns.pairplot(datos)"
   ]
  },
  {
   "cell_type": "code",
   "execution_count": 55,
   "metadata": {},
   "outputs": [
    {
     "data": {
      "image/png": "[encoded data removed]",
      "text/plain": [
       "<Figure size 900x180 with 6 Axes>"
      ]
     },
     "metadata": {
      "needs_background": "light"
     },
     "output_type": "display_data"
    },
    {
     "data": {
      "image/png": "[encoded data removed]",
      "text/plain": [
       "<Figure size 900x180 with 6 Axes>"
      ]
     },
     "metadata": {
      "needs_background": "light"
     },
     "output_type": "display_data"
    },
    {
     "data": {
      "image/png": "[encoded data removed]",
      "text/plain": [
       "<Figure size 900x180 with 6 Axes>"
      ]
     },
     "metadata": {
      "needs_background": "light"
     },
     "output_type": "display_data"
    },
    {
     "data": {
      "image/png": "[encoded data removed]",
      "text/plain": [
       "<Figure size 900x180 with 6 Axes>"
      ]
     },
     "metadata": {
      "needs_background": "light"
     },
     "output_type": "display_data"
    }
   ],
   "source": [
    "#Se muestra la correlación entre la calificación y las variables predictivas\n",
    "for i in [0,4,8,12]:\n",
    "    sns.pairplot(data=datos,\n",
    "                  y_vars=['G3'],\n",
    "                  x_vars=['G3',X.columns[i], X.columns[i+1], X.columns[i+2],X.columns[i+3]])\n",
    "    plt.show()\n",
    "#No se muestran las gráficas de las columnas con variables dummies"
   ]
  },
  {
   "cell_type": "code",
   "execution_count": 56,
   "metadata": {},
   "outputs": [],
   "source": [
    "## 4) DIVIDIR LOS DATOS\n",
    "X_train, X_test, Y_train, Y_test = train_test_split(X, Y,test_size = 0.2,random_state = 1)"
   ]
  },
  {
   "cell_type": "markdown",
   "metadata": {},
   "source": [
    "### Regresión Lineal Múltiple"
   ]
  },
  {
   "cell_type": "code",
   "execution_count": 57,
   "metadata": {},
   "outputs": [
    {
     "data": {
      "text/plain": [
       "LinearRegression()"
      ]
     },
     "execution_count": 57,
     "metadata": {},
     "output_type": "execute_result"
    }
   ],
   "source": [
    "## 5) CONSTRUIR UN MODELO\n",
    "# En este ejemplo vamos a elegir un modelo de regresión lineal simple para \"X_train\"\n",
    "regresor = LinearRegression()\n",
    "regresor.fit(X_train, Y_train)"
   ]
  },
  {
   "cell_type": "code",
   "execution_count": 58,
   "metadata": {},
   "outputs": [
    {
     "data": {
      "image/png": "[encoded data removed]",
      "text/plain": [
       "<Figure size 432x288 with 1 Axes>"
      ]
     },
     "metadata": {
      "needs_background": "light"
     },
     "output_type": "display_data"
    }
   ],
   "source": [
    "## 6) PREDICCIONES\n",
    "# Se hacen las predicciones con \"X_test\"\n",
    "Y_pred_lin = regresor.predict(X_test)\n",
    "\n",
    "# Se grafican los resultados de la predicción.\n",
    "plt.scatter(Y_test, Y_pred_lin, color = 'blue')\n",
    "plt.title('Predicciones')\n",
    "plt.xlabel('Calificaciones reales')\n",
    "plt.ylabel('Calificaciones estimadas')\n",
    "plt.show()"
   ]
  },
  {
   "cell_type": "code",
   "execution_count": 93,
   "metadata": {},
   "outputs": [
    {
     "name": "stdout",
     "output_type": "stream",
     "text": [
      "age              -0.240013\n",
      "traveltime        0.141455\n",
      "studytime        -0.072080\n",
      "failures         -0.193124\n",
      "freetime          0.152462\n",
      "goout             0.177067\n",
      "Dalc             -0.144627\n",
      "Walc              0.000963\n",
      "health            0.135445\n",
      "absences          0.043515\n",
      "G1                0.178493\n",
      "G2                0.962256\n",
      "address_U        -0.189219\n",
      "Pstatus_T        -0.146340\n",
      "schoolsup_yes     0.077598\n",
      "famsup_yes       -0.040491\n",
      "paid_yes          0.090156\n",
      "activities_yes   -0.383212\n",
      "internet_yes     -0.208685\n",
      "romantic_yes     -0.344602\n",
      "dtype: float64\n"
     ]
    }
   ],
   "source": [
    "#Se imprimen los valores de los coeficientes\n",
    "print(pd.Series(regresor.coef_, index = X.columns)) # Valor de los coeficientes"
   ]
  },
  {
   "cell_type": "code",
   "execution_count": 94,
   "metadata": {},
   "outputs": [
    {
     "data": {
      "image/png": "[encoded data removed]",
      "text/plain": [
       "<Figure size 432x288 with 1 Axes>"
      ]
     },
     "metadata": {
      "needs_background": "light"
     },
     "output_type": "display_data"
    }
   ],
   "source": [
    "# Se grafican los valores de los coeficientes (betas).\n",
    "eje_X = range(1,len(regresor.coef_)+1,1)\n",
    "plt.scatter(eje_X, regresor.coef_, color = 'purple')\n",
    "plt.title('Betas')\n",
    "plt.xlabel('Índices')\n",
    "plt.ylabel('Valor de coeficientes')\n",
    "plt.show()"
   ]
  },
  {
   "cell_type": "markdown",
   "metadata": {},
   "source": [
    "#### 7) EVALUACIÓN DEL MODELO\n",
    "Veamos cómo se comporta el modelo:\n",
    "\n",
    "7.1 Calcular $R^{2}$ ajustada $ = 1 - \\dfrac{(1 - R^{2}) (n-1)}{n - p - 1}$, donde\n",
    "\n",
    "$R^{2}:$ R cuadrada de los datos\n",
    "\n",
    "$n:$ Número de datos para entrenar al modelo\n",
    "\n",
    "$p:$ Número de variables independientes\n",
    "\n",
    "7.2 Calcular los errores absolutos $(real - estimado)$ y graficarlos\n",
    "\n",
    "7.3 Calcular los errores relativos $\\left( \\dfrac{\\text{real - estimado}}{\\text{real}} \\right)$ y graficarlos\n",
    "\n",
    "7.4 Graficar valores estimados vs valores reales\n",
    "\n",
    "7.5 Calcular el error cuadrático: $(real − estimado)^{2}$\n",
    "\n",
    "7.6 Calcular el error cuadrático medio: $\\dfrac{\\displaystyle \\sum_{i = 1}^{n} (real_{i} − estimado_{i})^{2}}{n}$\n"
   ]
  },
  {
   "cell_type": "code",
   "execution_count": 59,
   "metadata": {},
   "outputs": [
    {
     "name": "stdout",
     "output_type": "stream",
     "text": [
      "R^2 =  0.769\n",
      "n =  316\n",
      "p =  20\n",
      "R^2_aj =  0.753\n"
     ]
    }
   ],
   "source": [
    "#7.1 Calcular R^2 ajustada\n",
    "r_cuad_lin = r2_score(Y_test,Y_pred_lin)\n",
    "print('R^2 = ',round(r_cuad_lin,3))\n",
    "\n",
    "#R^2 ajustada\n",
    "n = len(Y_train)\n",
    "p = X_train.shape[1]\n",
    "r_cuad_aj_lin = 1 - (((1-r_cuad_lin)*(n-1))/(n-p-1))\n",
    "\n",
    "print('n = ',n)\n",
    "print('p = ',p)\n",
    "print('R^2_aj = ',round(r_cuad_aj_lin,3))"
   ]
  },
  {
   "cell_type": "code",
   "execution_count": 60,
   "metadata": {},
   "outputs": [
    {
     "data": {
      "image/png": "[encoded data removed]",
      "text/plain": [
       "<Figure size 432x288 with 1 Axes>"
      ]
     },
     "metadata": {
      "needs_background": "light"
     },
     "output_type": "display_data"
    }
   ],
   "source": [
    "#7.2 Calcular los errores absolutos (real - estimado) y graficarlos\n",
    "err_abs = Y_test-Y_pred_lin\n",
    "\n",
    "plt.scatter(Y_test, err_abs, color = 'blue')\n",
    "plt.plot(Y_test, np.zeros(len(err_abs)), color = 'midnightblue') #Recta en Y = 0\n",
    "plt.title('Errores absolutos (real - estimado)')\n",
    "plt.xlabel('Calificación real')\n",
    "plt.ylabel('Errores absolutos')\n",
    "plt.show()"
   ]
  },
  {
   "cell_type": "code",
   "execution_count": 61,
   "metadata": {},
   "outputs": [
    {
     "data": {
      "image/png": "[encoded data removed]",
      "text/plain": [
       "<Figure size 432x288 with 1 Axes>"
      ]
     },
     "metadata": {
      "needs_background": "light"
     },
     "output_type": "display_data"
    }
   ],
   "source": [
    "#7.3 Calcular los errores relativos [(real - estimado)/real] y graficarlos\n",
    "err_rel = err_abs/Y_test\n",
    "\n",
    "plt.scatter(Y_test, err_rel, color = 'blue')\n",
    "plt.plot(Y_test, np.zeros(len(err_abs)), color = 'midnightblue') #Recta en Y = 0\n",
    "plt.title('Errores relativos [(real - estimado)/real]')\n",
    "plt.xlabel('Calificación real')\n",
    "plt.ylabel('Errores relativos')\n",
    "plt.show()"
   ]
  },
  {
   "cell_type": "code",
   "execution_count": 62,
   "metadata": {},
   "outputs": [
    {
     "data": {
      "image/png": "[encoded data removed]",
      "text/plain": [
       "<Figure size 432x288 with 1 Axes>"
      ]
     },
     "metadata": {
      "needs_background": "light"
     },
     "output_type": "display_data"
    }
   ],
   "source": [
    "#7.4 Graficar valores estimados vs valores reales\n",
    "eje_X = range(1,len(Y_test)+1)\n",
    "plt.plot(eje_X, sorted(Y_test), color = 'black') #Recta de valores reales\n",
    "plt.plot(eje_X, sorted(Y_pred_lin), color = 'red') #Recta de valores estimados\n",
    "plt.title('Valores estimados vs valores reales')\n",
    "plt.xlabel('Índices')\n",
    "plt.ylabel('Calificación')\n",
    "plt.show()\n",
    "\n",
    "#Nota: Tanto los valores reales como los estimados se ordenaron de menor a mayor."
   ]
  },
  {
   "cell_type": "code",
   "execution_count": 63,
   "metadata": {},
   "outputs": [
    {
     "name": "stdout",
     "output_type": "stream",
     "text": [
      "3.16\n"
     ]
    },
    {
     "data": {
      "image/png": "[encoded data removed]",
      "text/plain": [
       "<Figure size 432x288 with 1 Axes>"
      ]
     },
     "metadata": {
      "needs_background": "light"
     },
     "output_type": "display_data"
    }
   ],
   "source": [
    "#7.5 Calcular el error cuadrático = (real − estimado)^2\n",
    "#print(np.around(err_abs,2))\n",
    "err_cuad = pow(err_abs,2)\n",
    "\n",
    "#7.6 Calcular el error cuadrático medio = (1/n) * \\sum (real − estimado)^2\n",
    "ECM_lin = mean_squared_error(Y_test, Y_pred_lin)\n",
    "print(round(ECM_lin,2))\n",
    "\n",
    "#Graficamos los errores cuadráticos\n",
    "Y_ECM= np.repeat(ECM_lin, len(err_cuad))\n",
    "plt.scatter(Y_test, err_cuad, color = 'blue')\n",
    "plt.plot(Y_test,Y_ECM , color = 'lime') #Recta en Y = err_cuad_medio\n",
    "plt.title('Errores cuadráticos: (real − estimado)^2')\n",
    "plt.xlabel('Calificación real')\n",
    "plt.ylabel('Errores cuadráticos')\n",
    "plt.show()"
   ]
  },
  {
   "cell_type": "markdown",
   "metadata": {},
   "source": [
    "### LASSO"
   ]
  },
  {
   "cell_type": "code",
   "execution_count": 64,
   "metadata": {},
   "outputs": [
    {
     "data": {
      "text/plain": [
       "(100, 20)"
      ]
     },
     "execution_count": 64,
     "metadata": {},
     "output_type": "execute_result"
    }
   ],
   "source": [
    "# Definimos el vector de lambdas, recordemos que el string 'lambda' está reservado para \n",
    "lambdas = 10**np.linspace(10,-2,100)*0.5\n",
    "\n",
    "#Para estandarizar las variables el parámetro \"normalize\" es verdadero.\n",
    "#Se define el máximo número de iteraciones en 10 mil\n",
    "lasso = Lasso(max_iter = 10000, normalize = True)\n",
    "coefs = []\n",
    "\n",
    "for k in lambdas:\n",
    "    lasso.set_params(alpha = k)\n",
    "    lasso.fit(scale(X_train), Y_train)\n",
    "    coefs.append(lasso.coef_)\n",
    "\n",
    "np.shape(coefs)#Matriz con coeficientes asociadas a cada variable independiente y a cada valor de lambda"
   ]
  },
  {
   "cell_type": "code",
   "execution_count": 65,
   "metadata": {},
   "outputs": [
    {
     "data": {
      "text/plain": [
       "LassoCV(cv=10, max_iter=100000, normalize=True)"
      ]
     },
     "execution_count": 65,
     "metadata": {},
     "output_type": "execute_result"
    }
   ],
   "source": [
    "## 5) CONSTRUIR UN MODELO\n",
    "# Vamos a elegir lambda con \"cross validation\"\n",
    "lassocv = LassoCV(alphas = None, cv = 10, max_iter = 100000, normalize = True)\n",
    "lassocv.fit(X_train, Y_train)"
   ]
  },
  {
   "cell_type": "code",
   "execution_count": 66,
   "metadata": {},
   "outputs": [
    {
     "name": "stdout",
     "output_type": "stream",
     "text": [
      "age              -0.142744\n",
      "traveltime        0.000000\n",
      "studytime        -0.000000\n",
      "failures         -0.036613\n",
      "freetime          0.027715\n",
      "goout             0.032685\n",
      "Dalc             -0.000000\n",
      "Walc              0.000000\n",
      "health            0.037847\n",
      "absences          0.023070\n",
      "G1                0.162671\n",
      "G2                0.941211\n",
      "address_U        -0.000000\n",
      "Pstatus_T        -0.000000\n",
      "schoolsup_yes     0.000000\n",
      "famsup_yes        0.000000\n",
      "paid_yes          0.000000\n",
      "activities_yes   -0.099034\n",
      "internet_yes     -0.000000\n",
      "romantic_yes     -0.158933\n",
      "dtype: float64\n"
     ]
    }
   ],
   "source": [
    "#Se imprimen los valores de los coeficientes\n",
    "print(pd.Series(lassocv.coef_, index = X.columns)) # Valor de los coeficientes"
   ]
  },
  {
   "cell_type": "code",
   "execution_count": 67,
   "metadata": {},
   "outputs": [
    {
     "data": {
      "image/png": "[encoded data removed]",
      "text/plain": [
       "<Figure size 432x288 with 1 Axes>"
      ]
     },
     "metadata": {
      "needs_background": "light"
     },
     "output_type": "display_data"
    }
   ],
   "source": [
    "# Se grafican los valores de los coeficientes (betas).\n",
    "eje_X = range(1,len(lassocv.coef_)+1,1)\n",
    "plt.scatter(eje_X, lassocv.coef_, color = 'purple')\n",
    "plt.title('Betas')\n",
    "plt.xlabel('Índices')\n",
    "plt.ylabel('Valor de coeficientes')\n",
    "plt.show()"
   ]
  },
  {
   "cell_type": "markdown",
   "metadata": {},
   "source": [
    "### Interpretación de los coeficientes"
   ]
  },
  {
   "cell_type": "code",
   "execution_count": 68,
   "metadata": {},
   "outputs": [
    {
     "name": "stdout",
     "output_type": "stream",
     "text": [
      "El valor de lambda encontrado con \"cross validation\" es:  0.006\n"
     ]
    },
    {
     "data": {
      "image/png": "[encoded data removed]",
      "text/plain": [
       "<Figure size 432x288 with 1 Axes>"
      ]
     },
     "metadata": {
      "needs_background": "light"
     },
     "output_type": "display_data"
    }
   ],
   "source": [
    "## 6) PREDICCIONES\n",
    "# Se hacen las predicciones con \"X_test\"\n",
    "lasso.set_params(alpha=lassocv.alpha_)\n",
    "print('El valor de lambda encontrado con \"cross validation\" es: ',round(lassocv.alpha_,3))\n",
    "lasso.fit(X_train, Y_train)\n",
    "Y_pred_lasso = lasso.predict(X_test)\n",
    "\n",
    "# Se grafican los resultados de la predicción.\n",
    "plt.scatter(Y_test, Y_pred_lasso, color = 'blue')\n",
    "plt.title('Predicciones')\n",
    "plt.xlabel('Calificaciones reales')\n",
    "plt.ylabel('Calificaciones estimadas')\n",
    "plt.show()"
   ]
  },
  {
   "cell_type": "markdown",
   "metadata": {},
   "source": [
    "#### 7) EVALUACIÓN DEL MODELO\n",
    "Veamos cómo se comporta el modelo:\n",
    "\n",
    "7.1 Calcular $R^{2}$ ajustada $ = 1 - \\dfrac{(1 - R^{2}) (n-1)}{n - p - 1}$, donde\n",
    "\n",
    "$R^{2}:$ R cuadrada de los datos\n",
    "\n",
    "$n:$ Número de datos para entrenar al modelo\n",
    "\n",
    "$p:$ Número de variables independientes\n",
    "\n",
    "7.2 Calcular los errores absolutos $(real - estimado)$ y graficarlos\n",
    "\n",
    "7.3 Calcular los errores relativos $\\left( \\dfrac{\\text{real - estimado}}{\\text{real}} \\right)$ y graficarlos\n",
    "\n",
    "7.4 Graficar valores estimados vs valores reales\n",
    "\n",
    "7.5 Calcular el error cuadrático: $(real − estimado)^{2}$\n",
    "\n",
    "7.6 Calcular el error cuadrático medio: $\\dfrac{\\displaystyle \\sum_{i = 1}^{n} (real_{i} − estimado_{i})^{2}}{n}$\n"
   ]
  },
  {
   "cell_type": "code",
   "execution_count": 69,
   "metadata": {},
   "outputs": [
    {
     "name": "stdout",
     "output_type": "stream",
     "text": [
      "R^2 =  0.783\n",
      "n =  316\n",
      "p =  20\n",
      "R^2_aj =  0.768\n"
     ]
    }
   ],
   "source": [
    "#7.1 Calcular R^2 ajustada\n",
    "r_cuad_lasso = r2_score(Y_test,Y_pred_lasso)\n",
    "print('R^2 = ',round(r_cuad_lasso,3))\n",
    "\n",
    "#R^2 ajustada\n",
    "n = len(Y_train)\n",
    "p = X_train.shape[1]\n",
    "r_cuad_aj_lasso = 1 - (((1-r_cuad_lasso)*(n-1))/(n-p-1))\n",
    "\n",
    "print('n = ',n)\n",
    "print('p = ',p)\n",
    "print('R^2_aj = ',round(r_cuad_aj_lasso,3))"
   ]
  },
  {
   "cell_type": "code",
   "execution_count": 70,
   "metadata": {},
   "outputs": [
    {
     "data": {
      "image/png": "[encoded data removed]",
      "text/plain": [
       "<Figure size 432x288 with 1 Axes>"
      ]
     },
     "metadata": {
      "needs_background": "light"
     },
     "output_type": "display_data"
    }
   ],
   "source": [
    "#7.2 Calcular los errores absolutos (real - estimado) y graficarlos\n",
    "err_abs = Y_test-Y_pred_lasso\n",
    "\n",
    "plt.scatter(Y_test, err_abs, color = 'blue')\n",
    "plt.plot(Y_test, np.zeros(len(err_abs)), color = 'midnightblue') #Recta en Y = 0\n",
    "plt.title('Errores absolutos (real - estimado)')\n",
    "plt.xlabel('Calificación real')\n",
    "plt.ylabel('Errores absolutos')\n",
    "plt.show()"
   ]
  },
  {
   "cell_type": "code",
   "execution_count": 71,
   "metadata": {},
   "outputs": [
    {
     "data": {
      "image/png": "[encoded data removed]",
      "text/plain": [
       "<Figure size 432x288 with 1 Axes>"
      ]
     },
     "metadata": {
      "needs_background": "light"
     },
     "output_type": "display_data"
    }
   ],
   "source": [
    "#7.3 Calcular los errores relativos [(real - estimado)/real] y graficarlos\n",
    "err_rel = err_abs/Y_test\n",
    "\n",
    "plt.scatter(Y_test, err_rel, color = 'blue')\n",
    "plt.plot(Y_test, np.zeros(len(err_abs)), color = 'midnightblue') #Recta en Y = 0\n",
    "plt.title('Errores relativos [(real - estimado)/real]')\n",
    "plt.xlabel('Calificación real')\n",
    "plt.ylabel('Errores relativos')\n",
    "plt.show()"
   ]
  },
  {
   "cell_type": "code",
   "execution_count": 72,
   "metadata": {},
   "outputs": [
    {
     "data": {
      "image/png": "[encoded data removed]",
      "text/plain": [
       "<Figure size 432x288 with 1 Axes>"
      ]
     },
     "metadata": {
      "needs_background": "light"
     },
     "output_type": "display_data"
    }
   ],
   "source": [
    "#7.4 Graficar valores estimados vs valores reales\n",
    "eje_X = range(1,len(Y_test)+1)\n",
    "plt.plot(eje_X, sorted(Y_test), color = 'black') #Recta de valores reales\n",
    "plt.plot(eje_X, sorted(Y_pred_lasso), color = 'red') #Recta de valores estimados\n",
    "plt.title('Valores estimados vs valores reales')\n",
    "plt.xlabel('Índices')\n",
    "plt.ylabel('Calificación')\n",
    "plt.show()\n",
    "\n",
    "#Nota: Tanto los valores reales como los estimados se ordenaron de menor a mayor."
   ]
  },
  {
   "cell_type": "code",
   "execution_count": 79,
   "metadata": {},
   "outputs": [
    {
     "data": {
      "image/png": "[encoded data removed]",
      "text/plain": [
       "<Figure size 432x288 with 1 Axes>"
      ]
     },
     "metadata": {
      "needs_background": "light"
     },
     "output_type": "display_data"
    }
   ],
   "source": [
    "#7.4 Graficar valores estimados vs valores reales\n",
    "eje_X = range(1,len(Y_test)+1)\n",
    "plt.plot(eje_X, sorted(Y_test), color = 'black') #Recta de valores reales\n",
    "plt.plot(eje_X, sorted(Y_pred_lasso), color = 'red') #Recta de valores estimados con LASSO\n",
    "plt.plot(eje_X, sorted(Y_pred_lin), color = 'blue') #Recta de valores estimados con regresión lineal múltiple\n",
    "plt.title('Valores estimados vs valores reales')\n",
    "plt.xlabel('Índices')\n",
    "plt.ylabel('Calificación')\n",
    "plt.show()"
   ]
  },
  {
   "cell_type": "code",
   "execution_count": 73,
   "metadata": {},
   "outputs": [
    {
     "name": "stdout",
     "output_type": "stream",
     "text": [
      "2.97\n"
     ]
    },
    {
     "data": {
      "image/png": "[encoded data removed]",
      "text/plain": [
       "<Figure size 432x288 with 1 Axes>"
      ]
     },
     "metadata": {
      "needs_background": "light"
     },
     "output_type": "display_data"
    }
   ],
   "source": [
    "#7.5 Calcular el error cuadrático = (real − estimado)^2\n",
    "#print(np.around(err_abs,2))\n",
    "err_cuad = pow(err_abs,2)\n",
    "\n",
    "#7.6 Calcular el error cuadrático medio = (1/n) * \\sum (real − estimado)^2\n",
    "ECM_lasso = mean_squared_error(Y_test, Y_pred_lasso)\n",
    "print(round(ECM_lasso,2))\n",
    "\n",
    "#Graficamos los errores cuadráticos\n",
    "Y_ECM= np.repeat(ECM_lasso, len(err_cuad))\n",
    "plt.scatter(Y_test, err_cuad, color = 'blue')\n",
    "plt.plot(Y_test,Y_ECM , color = 'lime') #Recta en Y = err_cuad_medio\n",
    "plt.title('Errores cuadráticos: (real − estimado)^2')\n",
    "plt.xlabel('Calificación real')\n",
    "plt.ylabel('Errores cuadráticos')\n",
    "plt.show()"
   ]
  },
  {
   "cell_type": "markdown",
   "metadata": {},
   "source": [
    "### Conclusiones"
   ]
  },
  {
   "cell_type": "code",
   "execution_count": 74,
   "metadata": {},
   "outputs": [
    {
     "name": "stdout",
     "output_type": "stream",
     "text": [
      "Regresión Lineal Múltiple:\n",
      "R^2 ajustada =  0.753   ECM =  3.158\n",
      "\n",
      "LASSO:\n",
      "R^2 ajustada =  0.768   ECM =  2.967\n"
     ]
    }
   ],
   "source": [
    "print(\"Regresión Lineal Múltiple:\")\n",
    "print(\"R^2 ajustada = \",round(r_cuad_aj_lin,3),\"  ECM = \",round(ECM_lin,3))\n",
    "\n",
    "print(\"\\nLASSO:\")\n",
    "print(\"R^2 ajustada = \",round(r_cuad_aj_lasso,3),\"  ECM = \",round(ECM_lasso,3))"
   ]
  },
  {
   "cell_type": "markdown",
   "metadata": {},
   "source": [
    "Al comparar ambos modelos con el error cuadrático medio y con $R^{2}$ ajustada, se elige _LASSO Regression_.\n",
    "\n",
    "Las variables que se hicieron cero en LASSO son:\n",
    "\n",
    "     - traveltime\n",
    "     - studytime\n",
    "     - Dalc\n",
    "     - Walc\n",
    "     - address_U\n",
    "     - Pstatus_T\n",
    "     - schoolsup_yes\n",
    "     - famsup_yes\n",
    "     - paid_yes\n",
    "     - internet_yes\n",
    "\n"
   ]
  },
  {
   "cell_type": "markdown",
   "metadata": {},
   "source": [
    "## ¿Qué se puede decir de dichos resultados?\n",
    "\n",
    "## ¿Qué otras variables se podrían agregar al modelo?\n",
    "\n",
    "     - school\n",
    "     - sex\n",
    "     - famsize\n",
    "     - Medu\n",
    "     - Fedu\n",
    "     - Mjob\n",
    "     - Fjob\n",
    "     - reason\n",
    "     - guardian\n",
    "     - nursery\n",
    "     - higher\n",
    "     - famrel"
   ]
  },
  {
   "cell_type": "code",
   "execution_count": 80,
   "metadata": {},
   "outputs": [
    {
     "name": "stdout",
     "output_type": "stream",
     "text": [
      "(395, 16)\n"
     ]
    },
    {
     "data": {
      "text/html": [
       "<div>\n",
       "<style scoped>\n",
       "    .dataframe tbody tr th:only-of-type {\n",
       "        vertical-align: middle;\n",
       "    }\n",
       "\n",
       "    .dataframe tbody tr th {\n",
       "        vertical-align: top;\n",
       "    }\n",
       "\n",
       "    .dataframe thead th {\n",
       "        text-align: right;\n",
       "    }\n",
       "</style>\n",
       "<table border=\"1\" class=\"dataframe\">\n",
       "  <thead>\n",
       "    <tr style=\"text-align: right;\">\n",
       "      <th></th>\n",
       "      <th>school</th>\n",
       "      <th>sex</th>\n",
       "      <th>famsize</th>\n",
       "      <th>Medu</th>\n",
       "      <th>Fedu</th>\n",
       "      <th>Mjob</th>\n",
       "      <th>Fjob</th>\n",
       "      <th>reason</th>\n",
       "      <th>guardian</th>\n",
       "      <th>nursery</th>\n",
       "      <th>age</th>\n",
       "      <th>romantic</th>\n",
       "      <th>higher</th>\n",
       "      <th>famrel</th>\n",
       "      <th>G1</th>\n",
       "      <th>G2</th>\n",
       "    </tr>\n",
       "  </thead>\n",
       "  <tbody>\n",
       "    <tr>\n",
       "      <th>0</th>\n",
       "      <td>GP</td>\n",
       "      <td>F</td>\n",
       "      <td>GT3</td>\n",
       "      <td>4</td>\n",
       "      <td>4</td>\n",
       "      <td>at_home</td>\n",
       "      <td>teacher</td>\n",
       "      <td>course</td>\n",
       "      <td>mother</td>\n",
       "      <td>yes</td>\n",
       "      <td>18</td>\n",
       "      <td>no</td>\n",
       "      <td>yes</td>\n",
       "      <td>4</td>\n",
       "      <td>5</td>\n",
       "      <td>6</td>\n",
       "    </tr>\n",
       "    <tr>\n",
       "      <th>1</th>\n",
       "      <td>GP</td>\n",
       "      <td>F</td>\n",
       "      <td>GT3</td>\n",
       "      <td>1</td>\n",
       "      <td>1</td>\n",
       "      <td>at_home</td>\n",
       "      <td>other</td>\n",
       "      <td>course</td>\n",
       "      <td>father</td>\n",
       "      <td>no</td>\n",
       "      <td>17</td>\n",
       "      <td>no</td>\n",
       "      <td>yes</td>\n",
       "      <td>5</td>\n",
       "      <td>5</td>\n",
       "      <td>5</td>\n",
       "    </tr>\n",
       "    <tr>\n",
       "      <th>2</th>\n",
       "      <td>GP</td>\n",
       "      <td>F</td>\n",
       "      <td>LE3</td>\n",
       "      <td>1</td>\n",
       "      <td>1</td>\n",
       "      <td>at_home</td>\n",
       "      <td>other</td>\n",
       "      <td>other</td>\n",
       "      <td>mother</td>\n",
       "      <td>yes</td>\n",
       "      <td>15</td>\n",
       "      <td>no</td>\n",
       "      <td>yes</td>\n",
       "      <td>4</td>\n",
       "      <td>7</td>\n",
       "      <td>8</td>\n",
       "    </tr>\n",
       "    <tr>\n",
       "      <th>3</th>\n",
       "      <td>GP</td>\n",
       "      <td>F</td>\n",
       "      <td>GT3</td>\n",
       "      <td>4</td>\n",
       "      <td>2</td>\n",
       "      <td>health</td>\n",
       "      <td>services</td>\n",
       "      <td>home</td>\n",
       "      <td>mother</td>\n",
       "      <td>yes</td>\n",
       "      <td>15</td>\n",
       "      <td>yes</td>\n",
       "      <td>yes</td>\n",
       "      <td>3</td>\n",
       "      <td>15</td>\n",
       "      <td>14</td>\n",
       "    </tr>\n",
       "    <tr>\n",
       "      <th>4</th>\n",
       "      <td>GP</td>\n",
       "      <td>F</td>\n",
       "      <td>GT3</td>\n",
       "      <td>3</td>\n",
       "      <td>3</td>\n",
       "      <td>other</td>\n",
       "      <td>other</td>\n",
       "      <td>home</td>\n",
       "      <td>father</td>\n",
       "      <td>yes</td>\n",
       "      <td>16</td>\n",
       "      <td>no</td>\n",
       "      <td>yes</td>\n",
       "      <td>4</td>\n",
       "      <td>6</td>\n",
       "      <td>10</td>\n",
       "    </tr>\n",
       "  </tbody>\n",
       "</table>\n",
       "</div>"
      ],
      "text/plain": [
       "  school sex famsize  Medu  Fedu     Mjob      Fjob  reason guardian nursery  \\\n",
       "0     GP   F     GT3     4     4  at_home   teacher  course   mother     yes   \n",
       "1     GP   F     GT3     1     1  at_home     other  course   father      no   \n",
       "2     GP   F     LE3     1     1  at_home     other   other   mother     yes   \n",
       "3     GP   F     GT3     4     2   health  services    home   mother     yes   \n",
       "4     GP   F     GT3     3     3    other     other    home   father     yes   \n",
       "\n",
       "   age romantic higher  famrel  G1  G2  \n",
       "0   18       no    yes       4   5   6  \n",
       "1   17       no    yes       5   5   5  \n",
       "2   15       no    yes       4   7   8  \n",
       "3   15      yes    yes       3  15  14  \n",
       "4   16       no    yes       4   6  10  "
      ]
     },
     "execution_count": 80,
     "metadata": {},
     "output_type": "execute_result"
    }
   ],
   "source": [
    "# Se define un nuevo dataframe:\n",
    "X2 = df[['school','sex','famsize','Medu','Fedu','Mjob','Fjob','reason','guardian','nursery',\n",
    "    'age','romantic','higher','famrel','G1','G2']]\n",
    "\n",
    "print(X2.shape)\n",
    "X2.head()"
   ]
  },
  {
   "cell_type": "code",
   "execution_count": 81,
   "metadata": {},
   "outputs": [
    {
     "data": {
      "text/html": [
       "<div>\n",
       "<style scoped>\n",
       "    .dataframe tbody tr th:only-of-type {\n",
       "        vertical-align: middle;\n",
       "    }\n",
       "\n",
       "    .dataframe tbody tr th {\n",
       "        vertical-align: top;\n",
       "    }\n",
       "\n",
       "    .dataframe thead th {\n",
       "        text-align: right;\n",
       "    }\n",
       "</style>\n",
       "<table border=\"1\" class=\"dataframe\">\n",
       "  <thead>\n",
       "    <tr style=\"text-align: right;\">\n",
       "      <th></th>\n",
       "      <th>school_GP</th>\n",
       "      <th>school_MS</th>\n",
       "      <th>sex_F</th>\n",
       "      <th>sex_M</th>\n",
       "      <th>famsize_GT3</th>\n",
       "      <th>famsize_LE3</th>\n",
       "      <th>Mjob_at_home</th>\n",
       "      <th>Mjob_health</th>\n",
       "      <th>Mjob_other</th>\n",
       "      <th>Mjob_services</th>\n",
       "      <th>Mjob_teacher</th>\n",
       "      <th>Fjob_at_home</th>\n",
       "      <th>Fjob_health</th>\n",
       "      <th>Fjob_other</th>\n",
       "      <th>Fjob_services</th>\n",
       "      <th>Fjob_teacher</th>\n",
       "      <th>reason_course</th>\n",
       "      <th>reason_home</th>\n",
       "      <th>reason_other</th>\n",
       "      <th>reason_reputation</th>\n",
       "      <th>guardian_father</th>\n",
       "      <th>guardian_mother</th>\n",
       "      <th>guardian_other</th>\n",
       "      <th>nursery_no</th>\n",
       "      <th>nursery_yes</th>\n",
       "      <th>romantic_no</th>\n",
       "      <th>romantic_yes</th>\n",
       "      <th>higher_no</th>\n",
       "      <th>higher_yes</th>\n",
       "    </tr>\n",
       "  </thead>\n",
       "  <tbody>\n",
       "    <tr>\n",
       "      <th>0</th>\n",
       "      <td>1</td>\n",
       "      <td>0</td>\n",
       "      <td>1</td>\n",
       "      <td>0</td>\n",
       "      <td>1</td>\n",
       "      <td>0</td>\n",
       "      <td>1</td>\n",
       "      <td>0</td>\n",
       "      <td>0</td>\n",
       "      <td>0</td>\n",
       "      <td>0</td>\n",
       "      <td>0</td>\n",
       "      <td>0</td>\n",
       "      <td>0</td>\n",
       "      <td>0</td>\n",
       "      <td>1</td>\n",
       "      <td>1</td>\n",
       "      <td>0</td>\n",
       "      <td>0</td>\n",
       "      <td>0</td>\n",
       "      <td>0</td>\n",
       "      <td>1</td>\n",
       "      <td>0</td>\n",
       "      <td>0</td>\n",
       "      <td>1</td>\n",
       "      <td>1</td>\n",
       "      <td>0</td>\n",
       "      <td>0</td>\n",
       "      <td>1</td>\n",
       "    </tr>\n",
       "    <tr>\n",
       "      <th>1</th>\n",
       "      <td>1</td>\n",
       "      <td>0</td>\n",
       "      <td>1</td>\n",
       "      <td>0</td>\n",
       "      <td>1</td>\n",
       "      <td>0</td>\n",
       "      <td>1</td>\n",
       "      <td>0</td>\n",
       "      <td>0</td>\n",
       "      <td>0</td>\n",
       "      <td>0</td>\n",
       "      <td>0</td>\n",
       "      <td>0</td>\n",
       "      <td>1</td>\n",
       "      <td>0</td>\n",
       "      <td>0</td>\n",
       "      <td>1</td>\n",
       "      <td>0</td>\n",
       "      <td>0</td>\n",
       "      <td>0</td>\n",
       "      <td>1</td>\n",
       "      <td>0</td>\n",
       "      <td>0</td>\n",
       "      <td>1</td>\n",
       "      <td>0</td>\n",
       "      <td>1</td>\n",
       "      <td>0</td>\n",
       "      <td>0</td>\n",
       "      <td>1</td>\n",
       "    </tr>\n",
       "    <tr>\n",
       "      <th>2</th>\n",
       "      <td>1</td>\n",
       "      <td>0</td>\n",
       "      <td>1</td>\n",
       "      <td>0</td>\n",
       "      <td>0</td>\n",
       "      <td>1</td>\n",
       "      <td>1</td>\n",
       "      <td>0</td>\n",
       "      <td>0</td>\n",
       "      <td>0</td>\n",
       "      <td>0</td>\n",
       "      <td>0</td>\n",
       "      <td>0</td>\n",
       "      <td>1</td>\n",
       "      <td>0</td>\n",
       "      <td>0</td>\n",
       "      <td>0</td>\n",
       "      <td>0</td>\n",
       "      <td>1</td>\n",
       "      <td>0</td>\n",
       "      <td>0</td>\n",
       "      <td>1</td>\n",
       "      <td>0</td>\n",
       "      <td>0</td>\n",
       "      <td>1</td>\n",
       "      <td>1</td>\n",
       "      <td>0</td>\n",
       "      <td>0</td>\n",
       "      <td>1</td>\n",
       "    </tr>\n",
       "    <tr>\n",
       "      <th>3</th>\n",
       "      <td>1</td>\n",
       "      <td>0</td>\n",
       "      <td>1</td>\n",
       "      <td>0</td>\n",
       "      <td>1</td>\n",
       "      <td>0</td>\n",
       "      <td>0</td>\n",
       "      <td>1</td>\n",
       "      <td>0</td>\n",
       "      <td>0</td>\n",
       "      <td>0</td>\n",
       "      <td>0</td>\n",
       "      <td>0</td>\n",
       "      <td>0</td>\n",
       "      <td>1</td>\n",
       "      <td>0</td>\n",
       "      <td>0</td>\n",
       "      <td>1</td>\n",
       "      <td>0</td>\n",
       "      <td>0</td>\n",
       "      <td>0</td>\n",
       "      <td>1</td>\n",
       "      <td>0</td>\n",
       "      <td>0</td>\n",
       "      <td>1</td>\n",
       "      <td>0</td>\n",
       "      <td>1</td>\n",
       "      <td>0</td>\n",
       "      <td>1</td>\n",
       "    </tr>\n",
       "    <tr>\n",
       "      <th>4</th>\n",
       "      <td>1</td>\n",
       "      <td>0</td>\n",
       "      <td>1</td>\n",
       "      <td>0</td>\n",
       "      <td>1</td>\n",
       "      <td>0</td>\n",
       "      <td>0</td>\n",
       "      <td>0</td>\n",
       "      <td>1</td>\n",
       "      <td>0</td>\n",
       "      <td>0</td>\n",
       "      <td>0</td>\n",
       "      <td>0</td>\n",
       "      <td>1</td>\n",
       "      <td>0</td>\n",
       "      <td>0</td>\n",
       "      <td>0</td>\n",
       "      <td>1</td>\n",
       "      <td>0</td>\n",
       "      <td>0</td>\n",
       "      <td>1</td>\n",
       "      <td>0</td>\n",
       "      <td>0</td>\n",
       "      <td>0</td>\n",
       "      <td>1</td>\n",
       "      <td>1</td>\n",
       "      <td>0</td>\n",
       "      <td>0</td>\n",
       "      <td>1</td>\n",
       "    </tr>\n",
       "  </tbody>\n",
       "</table>\n",
       "</div>"
      ],
      "text/plain": [
       "   school_GP  school_MS  sex_F  sex_M  famsize_GT3  famsize_LE3  Mjob_at_home  \\\n",
       "0          1          0      1      0            1            0             1   \n",
       "1          1          0      1      0            1            0             1   \n",
       "2          1          0      1      0            0            1             1   \n",
       "3          1          0      1      0            1            0             0   \n",
       "4          1          0      1      0            1            0             0   \n",
       "\n",
       "   Mjob_health  Mjob_other  Mjob_services  Mjob_teacher  Fjob_at_home  \\\n",
       "0            0           0              0             0             0   \n",
       "1            0           0              0             0             0   \n",
       "2            0           0              0             0             0   \n",
       "3            1           0              0             0             0   \n",
       "4            0           1              0             0             0   \n",
       "\n",
       "   Fjob_health  Fjob_other  Fjob_services  Fjob_teacher  reason_course  \\\n",
       "0            0           0              0             1              1   \n",
       "1            0           1              0             0              1   \n",
       "2            0           1              0             0              0   \n",
       "3            0           0              1             0              0   \n",
       "4            0           1              0             0              0   \n",
       "\n",
       "   reason_home  reason_other  reason_reputation  guardian_father  \\\n",
       "0            0             0                  0                0   \n",
       "1            0             0                  0                1   \n",
       "2            0             1                  0                0   \n",
       "3            1             0                  0                0   \n",
       "4            1             0                  0                1   \n",
       "\n",
       "   guardian_mother  guardian_other  nursery_no  nursery_yes  romantic_no  \\\n",
       "0                1               0           0            1            1   \n",
       "1                0               0           1            0            1   \n",
       "2                1               0           0            1            1   \n",
       "3                1               0           0            1            0   \n",
       "4                0               0           0            1            1   \n",
       "\n",
       "   romantic_yes  higher_no  higher_yes  \n",
       "0             0          0           1  \n",
       "1             0          0           1  \n",
       "2             0          0           1  \n",
       "3             1          0           1  \n",
       "4             0          0           1  "
      ]
     },
     "execution_count": 81,
     "metadata": {},
     "output_type": "execute_result"
    }
   ],
   "source": [
    "#Se definen las variables dummies para las variables categóricas\n",
    "dummies = pd.get_dummies(X2[['school', 'sex','famsize','Mjob','Fjob','reason','guardian','nursery','romantic','higher']])\n",
    "dummies.head()"
   ]
  },
  {
   "cell_type": "code",
   "execution_count": 82,
   "metadata": {},
   "outputs": [
    {
     "data": {
      "text/html": [
       "<div>\n",
       "<style scoped>\n",
       "    .dataframe tbody tr th:only-of-type {\n",
       "        vertical-align: middle;\n",
       "    }\n",
       "\n",
       "    .dataframe tbody tr th {\n",
       "        vertical-align: top;\n",
       "    }\n",
       "\n",
       "    .dataframe thead th {\n",
       "        text-align: right;\n",
       "    }\n",
       "</style>\n",
       "<table border=\"1\" class=\"dataframe\">\n",
       "  <thead>\n",
       "    <tr style=\"text-align: right;\">\n",
       "      <th></th>\n",
       "      <th>Medu</th>\n",
       "      <th>Fedu</th>\n",
       "      <th>age</th>\n",
       "      <th>famrel</th>\n",
       "      <th>G1</th>\n",
       "      <th>G2</th>\n",
       "      <th>school_GP</th>\n",
       "      <th>sex_F</th>\n",
       "      <th>famsize_GT3</th>\n",
       "      <th>Mjob_at_home</th>\n",
       "      <th>Mjob_health</th>\n",
       "      <th>Mjob_services</th>\n",
       "      <th>Mjob_teacher</th>\n",
       "      <th>Fjob_at_home</th>\n",
       "      <th>Fjob_health</th>\n",
       "      <th>Fjob_services</th>\n",
       "      <th>Fjob_teacher</th>\n",
       "      <th>reason_course</th>\n",
       "      <th>reason_home</th>\n",
       "      <th>reason_reputation</th>\n",
       "      <th>guardian_father</th>\n",
       "      <th>guardian_mother</th>\n",
       "      <th>nursery_yes</th>\n",
       "      <th>romantic_yes</th>\n",
       "      <th>higher_yes</th>\n",
       "    </tr>\n",
       "  </thead>\n",
       "  <tbody>\n",
       "    <tr>\n",
       "      <th>0</th>\n",
       "      <td>4.0</td>\n",
       "      <td>4.0</td>\n",
       "      <td>18.0</td>\n",
       "      <td>4.0</td>\n",
       "      <td>5.0</td>\n",
       "      <td>6.0</td>\n",
       "      <td>1</td>\n",
       "      <td>1</td>\n",
       "      <td>1</td>\n",
       "      <td>1</td>\n",
       "      <td>0</td>\n",
       "      <td>0</td>\n",
       "      <td>0</td>\n",
       "      <td>0</td>\n",
       "      <td>0</td>\n",
       "      <td>0</td>\n",
       "      <td>1</td>\n",
       "      <td>1</td>\n",
       "      <td>0</td>\n",
       "      <td>0</td>\n",
       "      <td>0</td>\n",
       "      <td>1</td>\n",
       "      <td>1</td>\n",
       "      <td>0</td>\n",
       "      <td>1</td>\n",
       "    </tr>\n",
       "    <tr>\n",
       "      <th>1</th>\n",
       "      <td>1.0</td>\n",
       "      <td>1.0</td>\n",
       "      <td>17.0</td>\n",
       "      <td>5.0</td>\n",
       "      <td>5.0</td>\n",
       "      <td>5.0</td>\n",
       "      <td>1</td>\n",
       "      <td>1</td>\n",
       "      <td>1</td>\n",
       "      <td>1</td>\n",
       "      <td>0</td>\n",
       "      <td>0</td>\n",
       "      <td>0</td>\n",
       "      <td>0</td>\n",
       "      <td>0</td>\n",
       "      <td>0</td>\n",
       "      <td>0</td>\n",
       "      <td>1</td>\n",
       "      <td>0</td>\n",
       "      <td>0</td>\n",
       "      <td>1</td>\n",
       "      <td>0</td>\n",
       "      <td>0</td>\n",
       "      <td>0</td>\n",
       "      <td>1</td>\n",
       "    </tr>\n",
       "    <tr>\n",
       "      <th>2</th>\n",
       "      <td>1.0</td>\n",
       "      <td>1.0</td>\n",
       "      <td>15.0</td>\n",
       "      <td>4.0</td>\n",
       "      <td>7.0</td>\n",
       "      <td>8.0</td>\n",
       "      <td>1</td>\n",
       "      <td>1</td>\n",
       "      <td>0</td>\n",
       "      <td>1</td>\n",
       "      <td>0</td>\n",
       "      <td>0</td>\n",
       "      <td>0</td>\n",
       "      <td>0</td>\n",
       "      <td>0</td>\n",
       "      <td>0</td>\n",
       "      <td>0</td>\n",
       "      <td>0</td>\n",
       "      <td>0</td>\n",
       "      <td>0</td>\n",
       "      <td>0</td>\n",
       "      <td>1</td>\n",
       "      <td>1</td>\n",
       "      <td>0</td>\n",
       "      <td>1</td>\n",
       "    </tr>\n",
       "    <tr>\n",
       "      <th>3</th>\n",
       "      <td>4.0</td>\n",
       "      <td>2.0</td>\n",
       "      <td>15.0</td>\n",
       "      <td>3.0</td>\n",
       "      <td>15.0</td>\n",
       "      <td>14.0</td>\n",
       "      <td>1</td>\n",
       "      <td>1</td>\n",
       "      <td>1</td>\n",
       "      <td>0</td>\n",
       "      <td>1</td>\n",
       "      <td>0</td>\n",
       "      <td>0</td>\n",
       "      <td>0</td>\n",
       "      <td>0</td>\n",
       "      <td>1</td>\n",
       "      <td>0</td>\n",
       "      <td>0</td>\n",
       "      <td>1</td>\n",
       "      <td>0</td>\n",
       "      <td>0</td>\n",
       "      <td>1</td>\n",
       "      <td>1</td>\n",
       "      <td>1</td>\n",
       "      <td>1</td>\n",
       "    </tr>\n",
       "    <tr>\n",
       "      <th>4</th>\n",
       "      <td>3.0</td>\n",
       "      <td>3.0</td>\n",
       "      <td>16.0</td>\n",
       "      <td>4.0</td>\n",
       "      <td>6.0</td>\n",
       "      <td>10.0</td>\n",
       "      <td>1</td>\n",
       "      <td>1</td>\n",
       "      <td>1</td>\n",
       "      <td>0</td>\n",
       "      <td>0</td>\n",
       "      <td>0</td>\n",
       "      <td>0</td>\n",
       "      <td>0</td>\n",
       "      <td>0</td>\n",
       "      <td>0</td>\n",
       "      <td>0</td>\n",
       "      <td>0</td>\n",
       "      <td>1</td>\n",
       "      <td>0</td>\n",
       "      <td>1</td>\n",
       "      <td>0</td>\n",
       "      <td>1</td>\n",
       "      <td>0</td>\n",
       "      <td>1</td>\n",
       "    </tr>\n",
       "  </tbody>\n",
       "</table>\n",
       "</div>"
      ],
      "text/plain": [
       "   Medu  Fedu   age  famrel    G1    G2  school_GP  sex_F  famsize_GT3  \\\n",
       "0   4.0   4.0  18.0     4.0   5.0   6.0          1      1            1   \n",
       "1   1.0   1.0  17.0     5.0   5.0   5.0          1      1            1   \n",
       "2   1.0   1.0  15.0     4.0   7.0   8.0          1      1            0   \n",
       "3   4.0   2.0  15.0     3.0  15.0  14.0          1      1            1   \n",
       "4   3.0   3.0  16.0     4.0   6.0  10.0          1      1            1   \n",
       "\n",
       "   Mjob_at_home  Mjob_health  Mjob_services  Mjob_teacher  Fjob_at_home  \\\n",
       "0             1            0              0             0             0   \n",
       "1             1            0              0             0             0   \n",
       "2             1            0              0             0             0   \n",
       "3             0            1              0             0             0   \n",
       "4             0            0              0             0             0   \n",
       "\n",
       "   Fjob_health  Fjob_services  Fjob_teacher  reason_course  reason_home  \\\n",
       "0            0              0             1              1            0   \n",
       "1            0              0             0              1            0   \n",
       "2            0              0             0              0            0   \n",
       "3            0              1             0              0            1   \n",
       "4            0              0             0              0            1   \n",
       "\n",
       "   reason_reputation  guardian_father  guardian_mother  nursery_yes  \\\n",
       "0                  0                0                1            1   \n",
       "1                  0                1                0            0   \n",
       "2                  0                0                1            1   \n",
       "3                  0                0                1            1   \n",
       "4                  0                1                0            1   \n",
       "\n",
       "   romantic_yes  higher_yes  \n",
       "0             0           1  \n",
       "1             0           1  \n",
       "2             0           1  \n",
       "3             1           1  \n",
       "4             0           1  "
      ]
     },
     "execution_count": 82,
     "metadata": {},
     "output_type": "execute_result"
    }
   ],
   "source": [
    "#Se reemplazan por las variables dummies\n",
    "X2 = X2.drop(['school', 'sex','famsize','Mjob','Fjob','reason','guardian','nursery','romantic',\n",
    "              'higher'], axis = 1).astype('float64')\n",
    "X2 = pd.concat([X2, dummies[['school_GP','sex_F','famsize_GT3',\n",
    "                             'Mjob_at_home','Mjob_health','Mjob_services','Mjob_teacher',\n",
    "                             'Fjob_at_home','Fjob_health','Fjob_services','Fjob_teacher',\n",
    "                             'reason_course','reason_home','reason_reputation',\n",
    "                             'guardian_father','guardian_mother','nursery_yes','romantic_yes','higher_yes']]], axis = 1)\n",
    "X2.head()"
   ]
  },
  {
   "cell_type": "code",
   "execution_count": 83,
   "metadata": {},
   "outputs": [
    {
     "data": {
      "image/png": "[encoded data removed]",
      "text/plain": [
       "<Figure size 720x180 with 5 Axes>"
      ]
     },
     "metadata": {
      "needs_background": "light"
     },
     "output_type": "display_data"
    },
    {
     "data": {
      "image/png": "[encoded data removed]",
      "text/plain": [
       "<Figure size 720x180 with 5 Axes>"
      ]
     },
     "metadata": {
      "needs_background": "light"
     },
     "output_type": "display_data"
    }
   ],
   "source": [
    "#Se muestra la correlación entre la calificación y las variables predictivas\n",
    "for i in [0,3]:\n",
    "    sns.pairplot(data=df,\n",
    "                  y_vars=['G3'],\n",
    "                  x_vars=['G3',X2.columns[i], X2.columns[i+1], X2.columns[i+2]])\n",
    "    plt.show()\n",
    "    \n",
    "#No se muestran las gráficas de las columnas con variables dummies"
   ]
  },
  {
   "cell_type": "code",
   "execution_count": 84,
   "metadata": {},
   "outputs": [],
   "source": [
    "## 4) DIVIDIR LOS DATOS\n",
    "X_train, X_test, Y_train, Y_test = train_test_split(X2, Y,test_size = 0.2,random_state = 0)"
   ]
  },
  {
   "cell_type": "markdown",
   "metadata": {},
   "source": [
    "### Ridge Regression"
   ]
  },
  {
   "cell_type": "code",
   "execution_count": 85,
   "metadata": {},
   "outputs": [
    {
     "name": "stdout",
     "output_type": "stream",
     "text": [
      "El valor de lambda encontrado con \"cross validation\" es:  0.012\n"
     ]
    }
   ],
   "source": [
    "## 5) CONSTRUIR UN MODELO\n",
    "#Le pasamos como parámetro el vector con los diferentes valores de lambda para que\n",
    "#se elija la mejor con \"cross validation\"\n",
    "ridgecv = RidgeCV(alphas = lambdas, scoring = 'neg_mean_squared_error', normalize = True)\n",
    "ridgecv.fit(X_train, Y_train)\n",
    "print('El valor de lambda encontrado con \"cross validation\" es: ',round(ridgecv.alpha_,3))"
   ]
  },
  {
   "cell_type": "code",
   "execution_count": 86,
   "metadata": {},
   "outputs": [
    {
     "data": {
      "text/plain": [
       "True"
      ]
     },
     "execution_count": 86,
     "metadata": {},
     "output_type": "execute_result"
    }
   ],
   "source": [
    "#Verificamos que el valor encontrado está en el vector de lambdas\n",
    "ridgecv.alpha_ in lambdas"
   ]
  },
  {
   "cell_type": "code",
   "execution_count": 87,
   "metadata": {},
   "outputs": [
    {
     "name": "stdout",
     "output_type": "stream",
     "text": [
      "Medu                 0.212709\n",
      "Fedu                -0.172697\n",
      "age                 -0.192638\n",
      "famrel               0.185346\n",
      "G1                   0.157721\n",
      "G2                   0.939265\n",
      "school_GP           -0.274507\n",
      "sex_F               -0.138557\n",
      "famsize_GT3         -0.257427\n",
      "Mjob_at_home        -0.031802\n",
      "Mjob_health         -0.242501\n",
      "Mjob_services       -0.070157\n",
      "Mjob_teacher        -0.190974\n",
      "Fjob_at_home        -0.437360\n",
      "Fjob_health          0.402846\n",
      "Fjob_services       -0.033327\n",
      "Fjob_teacher        -0.263065\n",
      "reason_course       -0.413236\n",
      "reason_home         -0.653373\n",
      "reason_reputation   -0.562566\n",
      "guardian_father      0.045388\n",
      "guardian_mother      0.164391\n",
      "nursery_yes         -0.105663\n",
      "romantic_yes        -0.268556\n",
      "higher_yes           0.655299\n",
      "dtype: float64\n"
     ]
    }
   ],
   "source": [
    "#Se imprimen los valores de los coeficientes\n",
    "mod_ridgeCV = Ridge(alpha = ridgecv.alpha_, normalize = True)\n",
    "mod_ridgeCV.fit(X_train, Y_train)\n",
    "print(pd.Series(mod_ridgeCV.coef_, index = X2.columns)) # Valor de los coeficientes"
   ]
  },
  {
   "cell_type": "code",
   "execution_count": 88,
   "metadata": {},
   "outputs": [
    {
     "data": {
      "image/png": "[encoded data removed]",
      "text/plain": [
       "<Figure size 432x288 with 1 Axes>"
      ]
     },
     "metadata": {
      "needs_background": "light"
     },
     "output_type": "display_data"
    }
   ],
   "source": [
    "# Se grafican los valores de los coeficientes (betas).\n",
    "eje_X = range(1,len(mod_ridgeCV.coef_)+1,1)\n",
    "plt.scatter(eje_X, mod_ridgeCV.coef_, color = 'purple')\n",
    "plt.title('Betas')\n",
    "plt.xlabel('Índices')\n",
    "plt.ylabel('Valor de coeficientes')\n",
    "plt.show()"
   ]
  },
  {
   "cell_type": "markdown",
   "metadata": {},
   "source": [
    "### Interpretación de los coeficientes"
   ]
  },
  {
   "cell_type": "code",
   "execution_count": 89,
   "metadata": {},
   "outputs": [
    {
     "data": {
      "image/png": "[encoded data removed]",
      "text/plain": [
       "<Figure size 432x288 with 1 Axes>"
      ]
     },
     "metadata": {
      "needs_background": "light"
     },
     "output_type": "display_data"
    }
   ],
   "source": [
    "## 6) PREDICCIONES\n",
    "Y_pred_ridge = mod_ridgeCV.predict(X_test)\n",
    "\n",
    "# Se grafican los resultados de la predicción.\n",
    "plt.scatter(Y_test, Y_pred_ridge, color = 'blue')\n",
    "plt.title('Predicciones')\n",
    "plt.xlabel('Calificaciones reales')\n",
    "plt.ylabel('Calificaciones estimadas')\n",
    "plt.show()"
   ]
  },
  {
   "cell_type": "code",
   "execution_count": 90,
   "metadata": {},
   "outputs": [
    {
     "name": "stdout",
     "output_type": "stream",
     "text": [
      "R^2 =  0.801\n",
      "n =  316\n",
      "p =  25\n",
      "R^2_aj =  0.784\n",
      "5.496\n"
     ]
    }
   ],
   "source": [
    "## 7) EVALUACIÓN DEL MODELO\n",
    "\n",
    "#7.1 Calcular R^2 ajustada\n",
    "r_cuad_ridge = r2_score(Y_test,Y_pred_ridge)\n",
    "print('R^2 = ',round(r_cuad_ridge,3)) #Porcentaje de los datos explicados por el modelo\n",
    "\n",
    "#R^2 ajustada\n",
    "n = len(Y_train)\n",
    "p = X_train.shape[1]\n",
    "r_cuad_aj_ridge = 1 - (((1-r_cuad_ridge)*(n-1))/(n-p-1))\n",
    "\n",
    "print('n = ',n)\n",
    "print('p = ',p)\n",
    "print('R^2_aj = ',round(r_cuad_aj_ridge,3))\n",
    "\n",
    "#Calculamos el error cuadrático medio: $\\dfrac{\\displaystyle \\sum_{i = 1}^{n} (real_{i} − estimado_{i})^{2}}{n}$\n",
    "ECM_ridge = round(mean_squared_error(Y_test, Y_pred_ridge),3) \n",
    "print(ECM_ridge)"
   ]
  },
  {
   "cell_type": "markdown",
   "metadata": {},
   "source": [
    "### Combinación lineal de las predicciones"
   ]
  },
  {
   "cell_type": "code",
   "execution_count": 91,
   "metadata": {},
   "outputs": [
    {
     "data": {
      "image/png": "[encoded data removed]",
      "text/plain": [
       "<Figure size 432x288 with 1 Axes>"
      ]
     },
     "metadata": {
      "needs_background": "light"
     },
     "output_type": "display_data"
    }
   ],
   "source": [
    "Y_pred_1 = (0.4*Y_pred_ridge) + (0.6*Y_pred_lasso) + (0*Y_pred_lin)\n",
    "\n",
    "# Valores estimados vs valores reales\n",
    "eje_X = range(1,len(Y_test)+1)\n",
    "plt.plot(eje_X, sorted(Y_test), color = 'black') #Recta de valores reales\n",
    "plt.plot(eje_X, sorted(Y_pred_1), color = 'red') #Recta de valores estimados\n",
    "plt.title('Valores estimados vs valores reales')\n",
    "plt.xlabel('Índices')\n",
    "plt.ylabel('Calificación')\n",
    "plt.show()\n",
    "#Nota: Tanto los valores reales como los estimados se ordenaron de menor a mayor."
   ]
  },
  {
   "cell_type": "code",
   "execution_count": 92,
   "metadata": {},
   "outputs": [
    {
     "name": "stdout",
     "output_type": "stream",
     "text": [
      "20.0\n"
     ]
    }
   ],
   "source": [
    "## 7) EVALUACIÓN DEL MODELO\n",
    "#Calculamos el error cuadrático medio: $\\dfrac{\\displaystyle \\sum_{i = 1}^{n} (real_{i} − estimado_{i})^{2}}{n}$\n",
    "ECM_1 = round(mean_squared_error(Y_test, Y_pred_1),3) \n",
    "print(ECM_1)"
   ]
  }
 ],
 "metadata": {
  "kernelspec": {
   "display_name": "Python 3",
   "language": "python",
   "name": "python3"
  },
  "language_info": {
   "codemirror_mode": {
    "name": "ipython",
    "version": 3
   },
   "file_extension": ".py",
   "mimetype": "text/x-python",
   "name": "python",
   "nbconvert_exporter": "python",
   "pygments_lexer": "ipython3",
   "version": "3.8.5"
  }
 },
 "nbformat": 4,
 "nbformat_minor": 4
}
