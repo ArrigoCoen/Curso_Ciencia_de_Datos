{
 "cells": [
  {
   "cell_type": "markdown",
   "metadata": {},
   "source": [
    "# Scikit-learn\n",
    "\n",
    "La página oficial de Scikit-learn es [aquí](https://scikit-learn.org/stable/index.html).\n",
    "\n",
    "\n",
    "## ¿Cómo instalar biblioteca en Python?\n",
    "\n",
    "En la consola _Qt Console_, se escribe el comando:\n",
    "\n",
    "pip install _nombre_de_libreria_\n",
    "\n",
    "\n",
    "### Ejemplo: Regresión Lineal Simple\n",
    "\n",
    "Ahora veamos un ejemplo, siguiendo los pasos para hacer un ajuste."
   ]
  },
  {
   "cell_type": "code",
   "execution_count": 1,
   "metadata": {},
   "outputs": [],
   "source": [
    "# Se cargan las librerías que se van a utilizar\n",
    "import numpy as np\n",
    "import math\n",
    "import matplotlib.pyplot as plt\n",
    "import pandas as pd\n",
    "import seaborn as sns\n",
    "import sklearn\n",
    "from sklearn.model_selection import train_test_split\n",
    "from sklearn.linear_model import LinearRegression\n",
    "from sklearn.metrics import r2_score\n",
    "from sklearn.metrics import mean_squared_error"
   ]
  },
  {
   "cell_type": "code",
   "execution_count": 2,
   "metadata": {},
   "outputs": [
    {
     "name": "stdout",
     "output_type": "stream",
     "text": [
      "type(datos):  <class 'pandas.core.frame.DataFrame'>\n",
      "type(X) <class 'numpy.ndarray'>\n",
      "type(Y) <class 'numpy.ndarray'>\n"
     ]
    }
   ],
   "source": [
    "## 1) EXTRAER DATOS\n",
    "# Los datos pueden encontrarse en diferentes formatos, en nuestro caso están en formato csv.\n",
    "\n",
    "# Se carga la base de datos y se definen las varibles X y Y\n",
    "datos = pd.read_csv('Salary_Data.csv') #Se encuentra en la misma carpeta que el jupyter notebook\n",
    "\n",
    "X = datos.iloc[:, :-1].values #Años de experiencia\n",
    "Y = datos.iloc[:, 1].values #Salario\n",
    "\n",
    "print(\"type(datos): \",type(datos))\n",
    "print(\"type(X)\",type(X))\n",
    "print(\"type(Y)\",type(Y))"
   ]
  },
  {
   "cell_type": "code",
   "execution_count": 3,
   "metadata": {},
   "outputs": [
    {
     "data": {
      "text/html": [
       "<div>\n",
       "<style scoped>\n",
       "    .dataframe tbody tr th:only-of-type {\n",
       "        vertical-align: middle;\n",
       "    }\n",
       "\n",
       "    .dataframe tbody tr th {\n",
       "        vertical-align: top;\n",
       "    }\n",
       "\n",
       "    .dataframe thead th {\n",
       "        text-align: right;\n",
       "    }\n",
       "</style>\n",
       "<table border=\"1\" class=\"dataframe\">\n",
       "  <thead>\n",
       "    <tr style=\"text-align: right;\">\n",
       "      <th></th>\n",
       "      <th>YearsExperience</th>\n",
       "      <th>Salary</th>\n",
       "    </tr>\n",
       "  </thead>\n",
       "  <tbody>\n",
       "    <tr>\n",
       "      <th>0</th>\n",
       "      <td>1.1</td>\n",
       "      <td>39343.0</td>\n",
       "    </tr>\n",
       "    <tr>\n",
       "      <th>1</th>\n",
       "      <td>1.3</td>\n",
       "      <td>46205.0</td>\n",
       "    </tr>\n",
       "    <tr>\n",
       "      <th>2</th>\n",
       "      <td>1.5</td>\n",
       "      <td>37731.0</td>\n",
       "    </tr>\n",
       "    <tr>\n",
       "      <th>3</th>\n",
       "      <td>2.0</td>\n",
       "      <td>43525.0</td>\n",
       "    </tr>\n",
       "    <tr>\n",
       "      <th>4</th>\n",
       "      <td>2.2</td>\n",
       "      <td>39891.0</td>\n",
       "    </tr>\n",
       "  </tbody>\n",
       "</table>\n",
       "</div>"
      ],
      "text/plain": [
       "   YearsExperience   Salary\n",
       "0              1.1  39343.0\n",
       "1              1.3  46205.0\n",
       "2              1.5  37731.0\n",
       "3              2.0  43525.0\n",
       "4              2.2  39891.0"
      ]
     },
     "execution_count": 3,
     "metadata": {},
     "output_type": "execute_result"
    }
   ],
   "source": [
    "## 2) ANÁLISIS EXPLORATORIO\n",
    "# Se realiza una descripción analítica de los datos.\n",
    "\n",
    "# Se muestran los primeros 5 datos del data frame\n",
    "datos.head()\n",
    "#Los datos corresponden al salario de 30 personas y el número de años de experiencia que tienen.\n",
    "\n",
    "##Información del data frame\n",
    "#datos.info\n",
    "#print(datos)\n",
    "#print(X)\n",
    "#print(Y)"
   ]
  },
  {
   "cell_type": "code",
   "execution_count": 4,
   "metadata": {},
   "outputs": [
    {
     "data": {
      "text/plain": [
       "YearsExperience    0\n",
       "Salary             0\n",
       "dtype: int64"
      ]
     },
     "execution_count": 4,
     "metadata": {},
     "output_type": "execute_result"
    }
   ],
   "source": [
    "# Se cuenta el número de NaN's por columna\n",
    "datos.isnull().sum()"
   ]
  },
  {
   "cell_type": "code",
   "execution_count": 5,
   "metadata": {},
   "outputs": [
    {
     "data": {
      "text/plain": [
       "4.0    2\n",
       "3.2    2\n",
       "9.6    1\n",
       "6.8    1\n",
       "2.0    1\n",
       "Name: YearsExperience, dtype: int64"
      ]
     },
     "execution_count": 5,
     "metadata": {},
     "output_type": "execute_result"
    }
   ],
   "source": [
    "# Cuenta los valores repetidos de la columna 1 (años de experiencia)\n",
    "datos[\"YearsExperience\"].value_counts().head()"
   ]
  },
  {
   "cell_type": "code",
   "execution_count": 6,
   "metadata": {},
   "outputs": [
    {
     "data": {
      "text/plain": [
       "109431.0    1\n",
       "37731.0     1\n",
       "56957.0     1\n",
       "57081.0     1\n",
       "63218.0     1\n",
       "Name: Salary, dtype: int64"
      ]
     },
     "execution_count": 6,
     "metadata": {},
     "output_type": "execute_result"
    }
   ],
   "source": [
    "# Cuenta los valores repetidos de la columna 2 (salario)\n",
    "datos[\"Salary\"].value_counts().head()"
   ]
  },
  {
   "cell_type": "code",
   "execution_count": 7,
   "metadata": {},
   "outputs": [
    {
     "data": {
      "text/plain": [
       "(30, 2)"
      ]
     },
     "execution_count": 7,
     "metadata": {},
     "output_type": "execute_result"
    }
   ],
   "source": [
    "# Dimensiones del data frame\n",
    "datos.shape #Se tienen 30 renglones (personas) y 2 columnas (Años de experiencia y Salario)"
   ]
  },
  {
   "cell_type": "code",
   "execution_count": 8,
   "metadata": {},
   "outputs": [
    {
     "data": {
      "text/plain": [
       "0    1.1\n",
       "1    1.3\n",
       "2    1.5\n",
       "3    2.0\n",
       "4    2.2\n",
       "Name: YearsExperience, dtype: float64"
      ]
     },
     "execution_count": 8,
     "metadata": {},
     "output_type": "execute_result"
    }
   ],
   "source": [
    "# Se cambian los NA's por el promedio de la columna\n",
    "#Nota: En este caso no hay NA's\n",
    "datos[\"YearsExperience\"] = datos[\"YearsExperience\"].fillna(datos[\"YearsExperience\"].mean())\n",
    "datos[\"YearsExperience\"].head()"
   ]
  },
  {
   "cell_type": "code",
   "execution_count": 9,
   "metadata": {},
   "outputs": [
    {
     "name": "stderr",
     "output_type": "stream",
     "text": [
      "C:\\Users\\miri_\\anaconda3\\lib\\site-packages\\seaborn\\distributions.py:2551: FutureWarning: `distplot` is a deprecated function and will be removed in a future version. Please adapt your code to use either `displot` (a figure-level function with similar flexibility) or `histplot` (an axes-level function for histograms).\n",
      "  warnings.warn(msg, FutureWarning)\n"
     ]
    },
    {
     "data": {
      "text/plain": [
       "<AxesSubplot:ylabel='Density'>"
      ]
     },
     "execution_count": 9,
     "metadata": {},
     "output_type": "execute_result"
    },
    {
     "data": {
      "image/png": "[encoded data removed]",
      "text/plain": [
       "<Figure size 432x288 with 1 Axes>"
      ]
     },
     "metadata": {
      "needs_background": "light"
     },
     "output_type": "display_data"
    }
   ],
   "source": [
    "## 3) VISUALIZACIÓN DE LOS DATOS\n",
    "# Para entender mejor los datos es necesario graficarlos.\n",
    "\n",
    "sns.distplot(Y)#Salario"
   ]
  },
  {
   "cell_type": "code",
   "execution_count": 11,
   "metadata": {},
   "outputs": [
    {
     "data": {
      "image/png": "[encoded data removed]",
      "text/plain": [
       "<Figure size 432x288 with 1 Axes>"
      ]
     },
     "metadata": {
      "needs_background": "light"
     },
     "output_type": "display_data"
    }
   ],
   "source": [
    "plt.hist(X, bins=[0,2,4,6,8,10,12]) #Se hace la división por cada 2 años\n",
    "plt.title('Histograma de los años de experiencia')\n",
    "plt.xlabel('Años')\n",
    "plt.ylabel('Número de personas')\n",
    "plt.show()"
   ]
  },
  {
   "cell_type": "code",
   "execution_count": 10,
   "metadata": {},
   "outputs": [
    {
     "name": "stdout",
     "output_type": "stream",
     "text": [
      "37731.0\n",
      "122391.0\n"
     ]
    },
    {
     "data": {
      "image/png": "[encoded data removed]",
      "text/plain": [
       "<Figure size 432x288 with 1 Axes>"
      ]
     },
     "metadata": {
      "needs_background": "light"
     },
     "output_type": "display_data"
    }
   ],
   "source": [
    "print(min(Y)) #37731.0\n",
    "print(max(Y)) #122391.0\n",
    "\n",
    "plt.hist(Y, bins=[30000,40000,50000,60000,70000,\n",
    "                  80000,90000,100000,110000,120000,\n",
    "                 130000]) #Cada 10 mil a partir de 30 mil.\n",
    "plt.title('Histograma del salario')\n",
    "plt.xlabel('Años')\n",
    "plt.ylabel('Número de personas')\n",
    "plt.show()"
   ]
  },
  {
   "cell_type": "code",
   "execution_count": 13,
   "metadata": {},
   "outputs": [
    {
     "data": {
      "text/plain": [
       "<AxesSubplot:xlabel='YearsExperience'>"
      ]
     },
     "execution_count": 13,
     "metadata": {},
     "output_type": "execute_result"
    },
    {
     "data": {
      "image/png": "[encoded data removed]",
      "text/plain": [
       "<Figure size 432x288 with 1 Axes>"
      ]
     },
     "metadata": {
      "needs_background": "light"
     },
     "output_type": "display_data"
    }
   ],
   "source": [
    "sns.boxplot(x=\"YearsExperience\", data=datos)"
   ]
  },
  {
   "cell_type": "code",
   "execution_count": 14,
   "metadata": {},
   "outputs": [
    {
     "data": {
      "text/plain": [
       "5.31"
      ]
     },
     "execution_count": 14,
     "metadata": {},
     "output_type": "execute_result"
    }
   ],
   "source": [
    "round(np.mean(X),2) #Promedio de años de experiencia"
   ]
  },
  {
   "cell_type": "code",
   "execution_count": 15,
   "metadata": {},
   "outputs": [
    {
     "data": {
      "text/plain": [
       "<AxesSubplot:xlabel='Salary'>"
      ]
     },
     "execution_count": 15,
     "metadata": {},
     "output_type": "execute_result"
    },
    {
     "data": {
      "image/png": "[encoded data removed]",
      "text/plain": [
       "<Figure size 432x288 with 1 Axes>"
      ]
     },
     "metadata": {
      "needs_background": "light"
     },
     "output_type": "display_data"
    }
   ],
   "source": [
    "sns.boxplot(x=\"Salary\", data=datos)"
   ]
  },
  {
   "cell_type": "code",
   "execution_count": 16,
   "metadata": {},
   "outputs": [
    {
     "data": {
      "text/plain": [
       "76003.0"
      ]
     },
     "execution_count": 16,
     "metadata": {},
     "output_type": "execute_result"
    }
   ],
   "source": [
    "round(np.mean(Y),2) #Promedio de salario"
   ]
  },
  {
   "cell_type": "code",
   "execution_count": 17,
   "metadata": {},
   "outputs": [
    {
     "data": {
      "text/plain": [
       "<seaborn.axisgrid.PairGrid at 0x2a85621b5e0>"
      ]
     },
     "execution_count": 17,
     "metadata": {},
     "output_type": "execute_result"
    },
    {
     "data": {
      "image/png": "[encoded data removed]",
      "text/plain": [
       "<Figure size 360x360 with 6 Axes>"
      ]
     },
     "metadata": {
      "needs_background": "light"
     },
     "output_type": "display_data"
    }
   ],
   "source": [
    "#Se muestra la correlación entre las variables\n",
    "sns.pairplot(datos)"
   ]
  },
  {
   "cell_type": "code",
   "execution_count": 12,
   "metadata": {},
   "outputs": [
    {
     "name": "stdout",
     "output_type": "stream",
     "text": [
      "El vector X_train tiene  24  elementos.\n",
      "El vector Y_train tiene  24  elementos.\n",
      "El vector X_test tiene  6  elementos.\n",
      "El vector Y_test tiene  6  elementos.\n"
     ]
    }
   ],
   "source": [
    "## 4) DIVIDIR LOS DATOS\n",
    "# Se separan los datos en 2 grupos (usualmente 80% y 20%):\n",
    "# i) Para entrenar al modelo (80%)\n",
    "# ii) Para probar el modelo (20%)\n",
    "X_train, X_test, Y_train, Y_test = train_test_split(X, Y, #Se indican los vectores que se van a dividir\n",
    "                                                    test_size = 0.2, #Se indica el porcentajede los datos para probar el modelo\n",
    "                                                    random_state = 0) #Se fija la semilla\n",
    "\n",
    "# Nota: Tomar la muestra aleatoria es muy importante porque en caso de que los datos estén\n",
    "#ordenados el algoritmo no aprende adecuadamente. Por ejemplo si tenemos 80 sanos y 20 enfermos,\n",
    "#sólo se tomarían los 80 sanos (por ser los primeros 80).\n",
    "\n",
    "print(\"El vector X_train tiene \",len(X_train), \" elementos.\")\n",
    "print(\"El vector Y_train tiene \",len(Y_train), \" elementos.\")\n",
    "print(\"El vector X_test tiene \",len(X_test), \" elementos.\")\n",
    "print(\"El vector Y_test tiene \",len(Y_test), \" elementos.\")"
   ]
  },
  {
   "cell_type": "code",
   "execution_count": 13,
   "metadata": {},
   "outputs": [
    {
     "data": {
      "text/plain": [
       "LinearRegression()"
      ]
     },
     "execution_count": 13,
     "metadata": {},
     "output_type": "execute_result"
    }
   ],
   "source": [
    "## 5) CONSTRUIR UN MODELO\n",
    "# En este ejemplo vamos a elegir un modelo de regresión lineal simple para \"X_train\"\n",
    "regresor = LinearRegression()\n",
    "regresor.fit(X_train, Y_train)"
   ]
  },
  {
   "cell_type": "code",
   "execution_count": 14,
   "metadata": {},
   "outputs": [
    {
     "data": {
      "image/png": "[encoded data removed]",
      "text/plain": [
       "<Figure size 432x288 with 1 Axes>"
      ]
     },
     "metadata": {
      "needs_background": "light"
     },
     "output_type": "display_data"
    }
   ],
   "source": [
    "# Se grafican los vectores de entrenamiento.\n",
    "plt.scatter(X_train, Y_train, color = 'black')\n",
    "plt.plot(X_train, regresor.predict(X_train), color = 'red')\n",
    "plt.title('Datos de entrenamiento')\n",
    "plt.xlabel('Años de experiencia')\n",
    "plt.ylabel('Salario')\n",
    "plt.show()"
   ]
  },
  {
   "cell_type": "code",
   "execution_count": 15,
   "metadata": {},
   "outputs": [
    {
     "data": {
      "image/png": "[encoded data removed]",
      "text/plain": [
       "<Figure size 432x288 with 1 Axes>"
      ]
     },
     "metadata": {
      "needs_background": "light"
     },
     "output_type": "display_data"
    }
   ],
   "source": [
    "# Se grafican los vectores de prueba.\n",
    "plt.scatter(X_test, Y_test, color = 'black') #Puntos utilizados para la prueba del modelo\n",
    "plt.plot(X_train, regresor.predict(X_train), color = 'red') #Recta correspondiente a los datos de entrenamiento\n",
    "plt.title('Datos de prueba')\n",
    "plt.xlabel('Años de experiencia')\n",
    "plt.ylabel('Salario')\n",
    "plt.show()"
   ]
  },
  {
   "cell_type": "code",
   "execution_count": 16,
   "metadata": {},
   "outputs": [
    {
     "name": "stdout",
     "output_type": "stream",
     "text": [
      "El vector Y_pred tiene  6  elementos.\n"
     ]
    }
   ],
   "source": [
    "## 6) PREDICCIONES\n",
    "# Se hacen las predicciones con \"X_test\"\n",
    "Y_pred = regresor.predict(X_test)\n",
    "#print(Y_pred)\n",
    "print(\"El vector Y_pred tiene \",len(Y_pred), \" elementos.\")"
   ]
  },
  {
   "cell_type": "code",
   "execution_count": 17,
   "metadata": {},
   "outputs": [
    {
     "data": {
      "image/png": "[encoded data removed]",
      "text/plain": [
       "<Figure size 432x288 with 1 Axes>"
      ]
     },
     "metadata": {
      "needs_background": "light"
     },
     "output_type": "display_data"
    }
   ],
   "source": [
    "# Se grafican los resultados de la predicción.\n",
    "plt.scatter(X_test, Y_pred, color = 'black')\n",
    "plt.plot(X_train, regresor.predict(X_train), color = 'red') #Recta correspondiente a los datos de entrenamiento\n",
    "plt.title('Predicciones')\n",
    "plt.xlabel('Años de experiencia')\n",
    "plt.ylabel('Salario')\n",
    "plt.show()"
   ]
  },
  {
   "cell_type": "markdown",
   "metadata": {},
   "source": [
    "#### 7) EVALUACIÓN DEL MODELO\n",
    "Veamos cómo se comporta el modelo:\n",
    "\n",
    "7.1 Calcular $R^{2}$\n",
    "\n",
    "7.2 Calcular los errores absolutos $(real - estimado)$ y graficarlos\n",
    "\n",
    "7.3 Calcular los errores relativos $\\left( \\dfrac{\\text{real - estimado}}{\\text{real}} \\right)$ y graficarlos\n",
    "\n",
    "7.4 Graficar valores estimados vs valores reales\n",
    "\n",
    "7.5 Calcular el error cuadrático: $(real − estimado)^{2}$\n",
    "\n",
    "7.6 Calcular el error cuadrático medio: $\\dfrac{\\displaystyle \\sum_{i = 1}^{n} (real_{i} − estimado_{i})^{2}}{n}$\n"
   ]
  },
  {
   "cell_type": "code",
   "execution_count": 24,
   "metadata": {},
   "outputs": [
    {
     "data": {
      "text/plain": [
       "0.988"
      ]
     },
     "execution_count": 24,
     "metadata": {},
     "output_type": "execute_result"
    }
   ],
   "source": [
    "#7.1 Calcular R^2\n",
    "r_cuadrada = r2_score(Y_test,Y_pred)\n",
    "round(r_cuadrada,3) #Porcentaje de los datos explicados por el modelo"
   ]
  },
  {
   "cell_type": "code",
   "execution_count": 56,
   "metadata": {},
   "outputs": [
    {
     "name": "stdout",
     "output_type": "stream",
     "text": [
      "[-3017.96  -308.62 -7880.66   118.86  1719.44  1631.5 ]\n"
     ]
    },
    {
     "data": {
      "image/png": "[encoded data removed]",
      "text/plain": [
       "<Figure size 432x288 with 1 Axes>"
      ]
     },
     "metadata": {
      "needs_background": "light"
     },
     "output_type": "display_data"
    }
   ],
   "source": [
    "#7.2 Calcular los errores absolutos (real - estimado) y graficarlos\n",
    "err_abs = Y_test-Y_pred\n",
    "\n",
    "print(np.around(err_abs,2))\n",
    "plt.scatter(X_test, err_abs, color = 'blue')\n",
    "plt.plot(X_test, np.zeros(len(err_abs)), color = 'midnightblue') #Recta en Y = 0\n",
    "plt.title('Errores absolutos (real - estimado)')\n",
    "plt.xlabel('Años de experiencia')\n",
    "plt.ylabel('Errores absolutos')\n",
    "plt.show()"
   ]
  },
  {
   "cell_type": "code",
   "execution_count": 63,
   "metadata": {},
   "outputs": [
    {
     "data": {
      "image/png": "[encoded data removed]",
      "text/plain": [
       "<Figure size 432x288 with 1 Axes>"
      ]
     },
     "metadata": {
      "needs_background": "light"
     },
     "output_type": "display_data"
    }
   ],
   "source": [
    "#Graficamos contra el salario real\n",
    "plt.scatter(Y_test, err_abs, color = 'blue')\n",
    "plt.plot(Y_test, np.zeros(len(err_abs)), color = 'midnightblue') #Recta en Y = 0\n",
    "plt.title('Errores absolutos (real - estimado)')\n",
    "plt.xlabel('Salario real')\n",
    "plt.ylabel('Errores absolutos')\n",
    "plt.show()\n",
    "\n",
    "#Notamos que obtenemos la misma gráfica que la anterior."
   ]
  },
  {
   "cell_type": "code",
   "execution_count": 57,
   "metadata": {},
   "outputs": [
    {
     "name": "stdout",
     "output_type": "stream",
     "text": [
      "[-0.08  -0.003 -0.138  0.002  0.015  0.015]\n"
     ]
    },
    {
     "data": {
      "image/png": "[encoded data removed]",
      "text/plain": [
       "<Figure size 432x288 with 1 Axes>"
      ]
     },
     "metadata": {
      "needs_background": "light"
     },
     "output_type": "display_data"
    }
   ],
   "source": [
    "#7.3 Calcular los errores relativos [(real - estimado)/real] y graficarlos\n",
    "err_rel = err_abs/Y_test\n",
    "\n",
    "print(np.around(err_rel,3))\n",
    "plt.scatter(X_test, err_rel, color = 'blue')\n",
    "plt.plot(X_test, np.zeros(len(err_abs)), color = 'midnightblue') #Recta en Y = 0\n",
    "plt.title('Errores relativos [(real - estimado)/real]')\n",
    "plt.xlabel('Años de Experiencia')\n",
    "plt.ylabel('Errores relativos')\n",
    "plt.show()"
   ]
  },
  {
   "cell_type": "code",
   "execution_count": 59,
   "metadata": {},
   "outputs": [
    {
     "data": {
      "image/png": "[encoded data removed]",
      "text/plain": [
       "<Figure size 432x288 with 1 Axes>"
      ]
     },
     "metadata": {
      "needs_background": "light"
     },
     "output_type": "display_data"
    }
   ],
   "source": [
    "#7.4 Graficar valores estimados vs valores reales\n",
    "X = range(1,len(Y_test)+1)\n",
    "plt.plot(X, sorted(Y_test), color = 'black') #Recta de valores reales\n",
    "plt.plot(X, sorted(Y_pred), color = 'red') #Recta de valores estimados\n",
    "plt.title('Valores estimados vs valores reales')\n",
    "plt.xlabel('Índices')\n",
    "plt.ylabel('Salario')\n",
    "plt.show()\n",
    "\n",
    "#Nota: Tanto los valores reales como los estimados se ordenaron de menor a mayor."
   ]
  },
  {
   "cell_type": "code",
   "execution_count": 29,
   "metadata": {},
   "outputs": [
    {
     "name": "stdout",
     "output_type": "stream",
     "text": [
      "[9.10809367e+06 9.52481289e+04 6.21047574e+07 1.41271897e+04\n",
      " 2.95646410e+06 2.66178327e+06]\n"
     ]
    }
   ],
   "source": [
    "#7.5 Calcular el error cuadrático = (real − estimado)^2\n",
    "#print(np.around(err_abs,2))\n",
    "err_cuad = pow(err_abs,2)\n",
    "print(err_cuad)"
   ]
  },
  {
   "cell_type": "code",
   "execution_count": 31,
   "metadata": {},
   "outputs": [
    {
     "name": "stdout",
     "output_type": "stream",
     "text": [
      "12823412.3\n",
      "3580.98\n"
     ]
    }
   ],
   "source": [
    "#7.6 Calcular el error cuadrático medio = (1/n) * \\sum (real − estimado)^2\n",
    "'''\n",
    "Indica qué tan cerca está la línea de la regresión lineal de los valores estimados.\n",
    "i) Se elevan al cuadrado los errores absolutos.\n",
    "ii) Se suman.\n",
    "iii) Se divide el resultado entre el número de datos estimados.\n",
    "'''\n",
    "err_cuad_medio = mean_squared_error(Y_test, Y_pred)\n",
    "print(round(err_cuad_medio,2))\n",
    "print(round(math.sqrt(err_cuad_medio),2))#Raíz cuadrada del error cuadrático medio"
   ]
  },
  {
   "cell_type": "code",
   "execution_count": 61,
   "metadata": {},
   "outputs": [
    {
     "data": {
      "image/png": "[encoded data removed]",
      "text/plain": [
       "<Figure size 432x288 with 1 Axes>"
      ]
     },
     "metadata": {
      "needs_background": "light"
     },
     "output_type": "display_data"
    }
   ],
   "source": [
    "#Graficamos los errores cuadráticos\n",
    "Y= np.repeat(err_cuad_medio, len(err_cuad))\n",
    "plt.scatter(X_test, err_cuad, color = 'blue')#Se ordenan de menor a mayor\n",
    "plt.plot(X_test,Y , color = 'lime') #Recta en Y = err_cuad_medio\n",
    "plt.title('Errores cuadráticos: (real − estimado)^2')\n",
    "plt.xlabel('Años de experiencia')\n",
    "plt.ylabel('Errores cuadráticos')\n",
    "plt.show()"
   ]
  },
  {
   "cell_type": "markdown",
   "metadata": {},
   "source": [
    "## CONCLUSIONES:\n",
    "\n",
    "    - El modelo explica el 98.8% de los datos.\n",
    "    - Existe una correlación lineal entre los años de experiencia y el salario. Entre más años de experiencia, mayor es el salario.\n",
    "    - Este resultado es útil para nuevas contrataciones."
   ]
  }
 ],
 "metadata": {
  "kernelspec": {
   "display_name": "Python 3",
   "language": "python",
   "name": "python3"
  },
  "language_info": {
   "codemirror_mode": {
    "name": "ipython",
    "version": 3
   },
   "file_extension": ".py",
   "mimetype": "text/x-python",
   "name": "python",
   "nbconvert_exporter": "python",
   "pygments_lexer": "ipython3",
   "version": "3.8.5"
  }
 },
 "nbformat": 4,
 "nbformat_minor": 4
}
