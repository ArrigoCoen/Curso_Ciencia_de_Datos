{
 "cells": [
  {
   "cell_type": "markdown",
   "metadata": {},
   "source": [
    "# Regresión Polinómica"
   ]
  },
  {
   "cell_type": "code",
   "execution_count": null,
   "metadata": {},
   "outputs": [],
   "source": [
    "# Se cargan las librerías que se van a utilizar en ambos ejemplos\n",
    "import math\n",
    "import matplotlib.pyplot as plt\n",
    "import numpy as np\n",
    "import pandas as pd\n",
    "import seaborn as sns\n",
    "import sklearn\n",
    "\n",
    "from sklearn import metrics\n",
    "from sklearn.linear_model import LinearRegression\n",
    "from sklearn.metrics import mean_squared_error\n",
    "from sklearn.metrics import r2_score\n",
    "from sklearn.model_selection import train_test_split\n",
    "from sklearn.preprocessing import PolynomialFeatures"
   ]
  },
  {
   "cell_type": "code",
   "execution_count": null,
   "metadata": {},
   "outputs": [],
   "source": [
    "## 1) EXTRAER DATOS\n",
    "df = pd.read_csv('WeatherData.csv')\n",
    "print(df.shape)"
   ]
  },
  {
   "cell_type": "code",
   "execution_count": null,
   "metadata": {},
   "outputs": [],
   "source": [
    "## 2) ANÁLISIS EXPLORATORIO\n",
    "df.head()"
   ]
  },
  {
   "cell_type": "markdown",
   "metadata": {},
   "source": [
    "Los datos corresponden a la información de 25 mediciones de temperatura y humedad.\n",
    "\n",
    "La información que se tiene es:\n",
    "\n",
    "   - **Pressure (millibars):** Presión medida en milibares.\n",
    "   - **Humidity:** Humedad.\n",
    "   \n",
    "Milibares: Unidades en el sistema métrico de presión del aire [(ver definición)](https://www.britannica.com/science/millibar). \n",
    "\n",
    "Se desea ajustar un modelo de regresión polinómica a los datos para predecir la humedad con base en la presión."
   ]
  },
  {
   "cell_type": "code",
   "execution_count": null,
   "metadata": {},
   "outputs": [],
   "source": [
    "# Se cuenta el número de NaN's por columna\n",
    "df.isnull().sum()"
   ]
  },
  {
   "cell_type": "code",
   "execution_count": null,
   "metadata": {},
   "outputs": [],
   "source": [
    "# Se definen las varibles X (predictoras) y Y (dependiente)\n",
    "Y = df.Humidity\n",
    "X = df[['Pressure (millibars)']]"
   ]
  },
  {
   "cell_type": "code",
   "execution_count": null,
   "metadata": {},
   "outputs": [],
   "source": [
    "df.describe()"
   ]
  },
  {
   "cell_type": "code",
   "execution_count": null,
   "metadata": {},
   "outputs": [],
   "source": [
    "## 3) VISUALIZACIÓN DE LOS DATOS\n",
    "\n",
    "#Histograma de la frecuencia relativa de la humedad con la densidad ajustada correspondiente.\n",
    "sns.distplot(Y)\n",
    "plt.title('Histograma de la frecuencia relativa de la humedad')\n",
    "plt.xlabel('Humedad')\n",
    "plt.ylabel('Frecuencia relativa')"
   ]
  },
  {
   "cell_type": "code",
   "execution_count": null,
   "metadata": {},
   "outputs": [],
   "source": [
    "plt.hist(X, bins=[1000,1005,1010,1015])\n",
    "plt.title('Histograma de la presión')\n",
    "plt.xlabel('Presión')\n",
    "plt.ylabel('Número de entradas')\n",
    "plt.show()"
   ]
  },
  {
   "cell_type": "code",
   "execution_count": null,
   "metadata": {},
   "outputs": [],
   "source": [
    "print(round(np.mean(X),2))\n",
    "sns.boxplot(x=\"Pressure (millibars)\", data=df)"
   ]
  },
  {
   "cell_type": "code",
   "execution_count": null,
   "metadata": {},
   "outputs": [],
   "source": [
    "print(round(np.mean(Y),2))\n",
    "sns.boxplot(x=\"Humidity\", data=df)"
   ]
  },
  {
   "cell_type": "code",
   "execution_count": null,
   "metadata": {},
   "outputs": [],
   "source": [
    "#Se muestra la correlación entre las variables\n",
    "sns.pairplot(df)"
   ]
  },
  {
   "cell_type": "code",
   "execution_count": null,
   "metadata": {},
   "outputs": [],
   "source": [
    "## 4) DIVIDIR LOS DATOS\n",
    "X_train, X_test, Y_train, Y_test = train_test_split(X, Y,test_size = 0.4, random_state = 42)"
   ]
  },
  {
   "cell_type": "markdown",
   "metadata": {},
   "source": [
    "## Polinomio de grado 2"
   ]
  },
  {
   "cell_type": "code",
   "execution_count": null,
   "metadata": {},
   "outputs": [],
   "source": [
    "## 5) CONSTRUIR UN MODELO\n",
    "# En este ejemplo vamos a elegir un modelo de regresión polinómica para \"X_train\"\n",
    "poly = PolynomialFeatures(degree=2)\n",
    "X_poly = poly.fit_transform(X_train)\n",
    "poly.fit(X_train,Y_train)"
   ]
  },
  {
   "cell_type": "code",
   "execution_count": null,
   "metadata": {},
   "outputs": [],
   "source": [
    "print(X_train.shape)\n",
    "print(X_poly.shape)"
   ]
  },
  {
   "cell_type": "code",
   "execution_count": null,
   "metadata": {},
   "outputs": [],
   "source": [
    "model = LinearRegression() \n",
    "model.fit(X_poly,Y_train) "
   ]
  },
  {
   "cell_type": "code",
   "execution_count": null,
   "metadata": {},
   "outputs": [],
   "source": [
    "## 6) PREDICCIONES\n",
    "Y_pred = model.predict(poly.fit_transform(X_test))\n",
    "Y_pred"
   ]
  },
  {
   "cell_type": "code",
   "execution_count": null,
   "metadata": {},
   "outputs": [],
   "source": [
    "# Se grafican los resultados de la predicción.\n",
    "plt.scatter(Y_test, Y_pred, color = 'black')\n",
    "plt.title('Predicciones')\n",
    "plt.xlabel('Humedad real')\n",
    "plt.ylabel('Humedad estimada')\n",
    "plt.show()"
   ]
  },
  {
   "cell_type": "markdown",
   "metadata": {},
   "source": [
    "#### 7) EVALUACIÓN DEL MODELO\n",
    "Veamos cómo se comporta el modelo:\n",
    "\n",
    "7.1 Calcular $R^{2}$ ajustada $ = 1 - \\dfrac{(1 - R^{2}) (n-1)}{n - p - 1}$, donde\n",
    "\n",
    "$R^{2}:$ R cuadrada de los datos\n",
    "\n",
    "$n:$ Número de datos para entrenar al modelo\n",
    "\n",
    "$p:$ Número de variables independientes\n",
    "\n",
    "7.2 Calcular los errores absolutos $(real - estimado)$ y graficarlos\n",
    "\n",
    "7.3 Calcular los errores relativos $\\left( \\dfrac{\\text{real - estimado}}{\\text{real}} \\right)$ y graficarlos\n",
    "\n",
    "7.4 Graficar valores estimados vs valores reales\n",
    "\n",
    "7.5 Calcular el error cuadrático: $(real − estimado)^{2}$\n",
    "\n",
    "7.6 Calcular el error cuadrático medio: $\\dfrac{\\displaystyle \\sum_{i = 1}^{n} (real_{i} − estimado_{i})^{2}}{n}$\n",
    "\n"
   ]
  },
  {
   "cell_type": "code",
   "execution_count": null,
   "metadata": {},
   "outputs": [],
   "source": [
    "#7.1 Calcular R^2 ajustada\n",
    "r_cuad2 = r2_score(Y_test,Y_pred)\n",
    "print('R^2 = ',round(r_cuad2,3)) #Porcentaje de los datos explicados por el modelo\n",
    "\n",
    "#R^2 ajustada\n",
    "n = len(Y_train)\n",
    "p = X_train.shape[1]\n",
    "r_cuad_aj2 = 1 - (((1-r_cuad2)*(n-1))/(n-p-1))\n",
    "\n",
    "print('n = ',n)\n",
    "print('p = ',p)\n",
    "print('R^2_aj = ',round(r_cuad_aj2,3))"
   ]
  },
  {
   "cell_type": "code",
   "execution_count": null,
   "metadata": {},
   "outputs": [],
   "source": [
    "#7.2 Calcular los errores absolutos (real - estimado) y graficarlos\n",
    "err_abs = Y_test-Y_pred\n",
    "\n",
    "plt.scatter(X_test, err_abs, color = 'blue')\n",
    "plt.plot(X_test, np.zeros(len(err_abs)), color = 'midnightblue') #Recta en Y = 0\n",
    "plt.title('Errores absolutos (real - estimado)')\n",
    "plt.xlabel('Años de experiencia')\n",
    "plt.ylabel('Errores absolutos')\n",
    "plt.show()"
   ]
  },
  {
   "cell_type": "code",
   "execution_count": null,
   "metadata": {},
   "outputs": [],
   "source": [
    "#7.3 Calcular los errores relativos [(real - estimado)/real] y graficarlos\n",
    "err_rel = err_abs/Y_test\n",
    "\n",
    "plt.scatter(X_test, err_rel, color = 'blue')\n",
    "plt.plot(X_test, np.zeros(len(err_abs)), color = 'midnightblue') #Recta en Y = 0\n",
    "plt.title('Errores relativos [(real - estimado)/real]')\n",
    "plt.xlabel('Años de Experiencia')\n",
    "plt.ylabel('Errores relativos')\n",
    "plt.show()"
   ]
  },
  {
   "cell_type": "code",
   "execution_count": null,
   "metadata": {},
   "outputs": [],
   "source": [
    "#7.4 Graficar valores estimados vs valores reales\n",
    "#Los ordenamos de menor a mayor\n",
    "eje_X = range(1,len(Y_test)+1)\n",
    "plt.plot(eje_X, sorted(Y_test), color = 'blue') #Recta de valores reales\n",
    "plt.plot(eje_X, sorted(Y_pred), color = 'green') #Recta de valores estimados\n",
    "plt.title('Valores estimados vs valores reales')\n",
    "plt.xlabel('Índices')\n",
    "plt.ylabel('Humedad')\n",
    "plt.show()"
   ]
  },
  {
   "cell_type": "code",
   "execution_count": null,
   "metadata": {},
   "outputs": [],
   "source": [
    "#7.5 Calcular el error cuadrático = (real − estimado)^2\n",
    "err_cuad = pow(err_abs,2)\n",
    "\n",
    "#7.6 Calcular el error cuadrático medio = (1/n) * \\sum (real − estimado)^2\n",
    "'''\n",
    "Indica qué tan cerca está la línea de la regresión lineal de los valores estimados.\n",
    "i) Se elevan al cuadrado los errores absolutos.\n",
    "ii) Se suman.\n",
    "iii) Se divide el resultado entre el número de datos estimados.\n",
    "'''\n",
    "ECM2 = mean_squared_error(Y_test, Y_pred)\n",
    "print(round(ECM2,2))"
   ]
  },
  {
   "cell_type": "code",
   "execution_count": null,
   "metadata": {},
   "outputs": [],
   "source": [
    "#Graficamos los errores cuadráticos\n",
    "Y= np.repeat(ECM2, len(err_cuad))\n",
    "plt.scatter(X_test, err_cuad, color = 'blue')#Se ordenan de menor a mayor\n",
    "plt.plot(X_test,Y , color = 'lime') #Recta en Y = ECM\n",
    "plt.title('Errores cuadráticos: (real − estimado)^2')\n",
    "plt.xlabel('Presión')\n",
    "plt.ylabel('Errores cuadráticos')\n",
    "plt.show()"
   ]
  },
  {
   "cell_type": "code",
   "execution_count": null,
   "metadata": {},
   "outputs": [],
   "source": [
    "# Se define la función para graficar las curvas de aprendizaje\n",
    "def plot_learning_curves(model, X, y):\n",
    "    X_train, X_val, y_train, y_val = train_test_split(X, y, test_size=0.2, random_state=10)\n",
    "    train_errors, val_errors = [], []\n",
    "    for m in range(1, len(X_train)):\n",
    "        model.fit(X_train[:m], y_train[:m])\n",
    "        y_train_predict = model.predict(X_train[:m])\n",
    "        y_val_predict = model.predict(X_val)\n",
    "        train_errors.append(mean_squared_error(y_train[:m], y_train_predict))\n",
    "        val_errors.append(mean_squared_error(y_val, y_val_predict))\n",
    "\n",
    "    plt.plot(np.sqrt(train_errors), \"r-+\", linewidth=2, label=\"train\")\n",
    "    plt.plot(np.sqrt(val_errors), \"b-\", linewidth=3, label=\"val\")\n",
    "    plt.legend(loc=\"upper right\", fontsize=14)   \n",
    "    plt.xlabel(\"Training set size\", fontsize=14) \n",
    "    plt.ylabel(\"RMSE\", fontsize=14)    "
   ]
  },
  {
   "cell_type": "code",
   "execution_count": null,
   "metadata": {},
   "outputs": [],
   "source": [
    "plot_learning_curves(model, X_train,Y_train)"
   ]
  },
  {
   "cell_type": "markdown",
   "metadata": {},
   "source": [
    "## Polinomio de grado 3"
   ]
  },
  {
   "cell_type": "code",
   "execution_count": null,
   "metadata": {},
   "outputs": [],
   "source": [
    "## 5) CONSTRUIR UN MODELO\n",
    "# En este ejemplo vamos a elegir un modelo de regresión polinómica para \"X_train\"\n",
    "poly3 = PolynomialFeatures(degree=3)\n",
    "X_poly3 = poly3.fit_transform(X_train)\n",
    "poly3.fit(X_train,Y_train)\n",
    "\n",
    "print(X_train.shape)\n",
    "print(X_poly3.shape)\n",
    "\n",
    "model3 = LinearRegression() \n",
    "model3.fit(X_poly3,Y_train) "
   ]
  },
  {
   "cell_type": "code",
   "execution_count": null,
   "metadata": {},
   "outputs": [],
   "source": [
    "## 6) PREDICCIONES\n",
    "Y_pred = model3.predict(poly3.fit_transform(X_test))\n",
    "\n",
    "# Se grafican los resultados de la predicción.\n",
    "plt.scatter(Y_test, Y_pred, color = 'black')\n",
    "plt.title('Predicciones')\n",
    "plt.xlabel('Humedad real')\n",
    "plt.ylabel('Humedad estimada')\n",
    "plt.show()"
   ]
  },
  {
   "cell_type": "code",
   "execution_count": null,
   "metadata": {},
   "outputs": [],
   "source": [
    "## 7) Evaluación del modelo\n",
    "#7.1 Calcular R^2 ajustada\n",
    "r_cuad3 = round(r2_score(Y_test,Y_pred),3)\n",
    "print(\"R^2 = \", r_cuad3)\n",
    "\n",
    "#R^2 ajustada\n",
    "n = len(Y_train)\n",
    "p = X_train.shape[1]\n",
    "r_cuad_aj3 = 1 - (((1-r_cuad3)*(n-1))/(n-p-1))\n",
    "\n",
    "print('n = ',n)\n",
    "print('p = ',p)\n",
    "print('R^2_aj = ',round(r_cuad_aj3,3))\n",
    "\n",
    "#7.2 Calcular los errores relativos [(real - estimado)/real] y graficarlos\n",
    "err_rel = err_abs/Y_test\n",
    "plt.scatter(X_test, err_rel, color = 'blue')\n",
    "plt.plot(X_test, np.zeros(len(err_abs)), color = 'midnightblue') #Recta en Y = 0\n",
    "plt.title('Errores relativos [(real - estimado)/real]')\n",
    "plt.xlabel('Años de Experiencia')\n",
    "plt.ylabel('Errores relativos')\n",
    "plt.show()\n",
    "\n",
    "\n",
    "#7.3 Graficar valores estimados vs valores reales\n",
    "#Los ordenamos de menor a mayor\n",
    "eje_X = range(1,len(Y_test)+1)\n",
    "plt.plot(eje_X, sorted(Y_test), color = 'blue') #Recta de valores reales\n",
    "plt.plot(eje_X, sorted(Y_pred), color = 'green') #Recta de valores estimados\n",
    "plt.title('Valores estimados vs valores reales')\n",
    "plt.xlabel('Índices')\n",
    "plt.ylabel('Humedad')\n",
    "plt.show()\n",
    "\n",
    "\n",
    "#7.5 Calcular el error cuadrático = (real − estimado)^2\n",
    "err_cuad = pow(err_abs,2)\n",
    "\n",
    "#7.6 Calcular el error cuadrático medio = (1/n) * \\sum (real − estimado)^2\n",
    "'''\n",
    "Indica qué tan cerca está la línea de la regresión lineal de los valores estimados.\n",
    "i) Se elevan al cuadrado los errores absolutos.\n",
    "ii) Se suman.\n",
    "iii) Se divide el resultado entre el número de datos estimados.\n",
    "'''\n",
    "ECM3 = mean_squared_error(Y_test, Y_pred)\n",
    "print(round(ECM3,2))\n",
    "\n",
    "\n",
    "#Graficamos los errores cuadráticos\n",
    "Y_ECM= np.repeat(ECM3, len(err_cuad))\n",
    "plt.scatter(X_test, err_cuad, color = 'blue')#Se ordenan de menor a mayor\n",
    "plt.plot(X_test,Y_ECM, color = 'lime') #Recta en Y = ECM\n",
    "plt.title('Errores cuadráticos: (real − estimado)^2')\n",
    "plt.xlabel('Presión')\n",
    "plt.ylabel('Errores cuadráticos')\n",
    "plt.show()"
   ]
  },
  {
   "cell_type": "code",
   "execution_count": null,
   "metadata": {},
   "outputs": [],
   "source": [
    "#Curvas de aprendizaje\n",
    "plot_learning_curves(model3, X_train,Y_train)"
   ]
  },
  {
   "cell_type": "markdown",
   "metadata": {},
   "source": [
    "## Polinomio de grado 4"
   ]
  },
  {
   "cell_type": "code",
   "execution_count": null,
   "metadata": {},
   "outputs": [],
   "source": [
    "## 5) CONSTRUIR UN MODELO\n",
    "# En este ejemplo vamos a elegir un modelo de regresión polinómica para \"X_train\"\n",
    "poly4 = PolynomialFeatures(degree=4)\n",
    "X_poly4 = poly4.fit_transform(X_train)\n",
    "poly4.fit(X_train,Y_train)\n",
    "\n",
    "print(X_train.shape)\n",
    "print(X_poly4.shape)\n",
    "\n",
    "model4 = LinearRegression() \n",
    "model4.fit(X_poly4,Y_train) "
   ]
  },
  {
   "cell_type": "code",
   "execution_count": null,
   "metadata": {},
   "outputs": [],
   "source": [
    "## 6) PREDICCIONES\n",
    "Y_pred = model4.predict(poly4.fit_transform(X_test))\n",
    "\n",
    "# Se grafican los resultados de la predicción.\n",
    "plt.scatter(Y_test, Y_pred, color = 'black')\n",
    "plt.title('Predicciones')\n",
    "plt.xlabel('Humedad real')\n",
    "plt.ylabel('Humedad estimada')\n",
    "plt.show()"
   ]
  },
  {
   "cell_type": "code",
   "execution_count": null,
   "metadata": {},
   "outputs": [],
   "source": [
    "## 7) Evaluación del modelo\n",
    "#7.1 Calcular R^2 ajustada\n",
    "r_cuad4 = round(r2_score(Y_test,Y_pred),3)\n",
    "print(\"R^2 = \", r_cuad4)\n",
    "\n",
    "#R^2 ajustada\n",
    "n = len(Y_train)\n",
    "p = X_train.shape[1]\n",
    "r_cuad_aj4 = 1 - (((1-r_cuad4)*(n-1))/(n-p-1))\n",
    "\n",
    "print('n = ',n)\n",
    "print('p = ',p)\n",
    "print('R^2_aj = ',round(r_cuad_aj4,3))\n",
    "\n",
    "\n",
    "\n",
    "#7.2 Calcular los errores relativos [(real - estimado)/real] y graficarlos\n",
    "err_rel = err_abs/Y_test\n",
    "plt.scatter(X_test, err_rel, color = 'blue')\n",
    "plt.plot(X_test, np.zeros(len(err_abs)), color = 'midnightblue') #Recta en Y = 0\n",
    "plt.title('Errores relativos [(real - estimado)/real]')\n",
    "plt.xlabel('Años de Experiencia')\n",
    "plt.ylabel('Errores relativos')\n",
    "plt.show()\n",
    "\n",
    "\n",
    "#7.3 Graficar valores estimados vs valores reales\n",
    "#Los ordenamos de menor a mayor\n",
    "eje_X = range(1,len(Y_test)+1)\n",
    "plt.plot(eje_X, sorted(Y_test), color = 'blue') #Recta de valores reales\n",
    "plt.plot(eje_X, sorted(Y_pred), color = 'green') #Recta de valores estimados\n",
    "plt.title('Valores estimados vs valores reales')\n",
    "plt.xlabel('Índices')\n",
    "plt.ylabel('Humedad')\n",
    "plt.show()\n",
    "\n",
    "\n",
    "#7.4 Calcular el error cuadrático = (real − estimado)^2 y el error cuadrático medio = (1/n) * \\sum (real − estimado)^2\n",
    "err_cuad = pow(err_abs,2)\n",
    "ECM4 = mean_squared_error(Y_test, Y_pred)\n",
    "print(round(ECM4,2))\n",
    "\n",
    "#Graficamos los errores cuadráticos\n",
    "Y_ECM= np.repeat(ECM4, len(err_cuad))\n",
    "plt.scatter(X_test, err_cuad, color = 'blue')#Se ordenan de menor a mayor\n",
    "plt.plot(X_test,Y_ECM , color = 'lime') #Recta en Y = ECM\n",
    "plt.title('Errores cuadráticos: (real − estimado)^2')\n",
    "plt.xlabel('Presión')\n",
    "plt.ylabel('Errores cuadráticos')\n",
    "plt.show()"
   ]
  },
  {
   "cell_type": "code",
   "execution_count": null,
   "metadata": {
    "scrolled": true
   },
   "outputs": [],
   "source": [
    "#Curvas de aprendizaje\n",
    "plot_learning_curves(model, X_train,Y_train)\n",
    "plt.ylim([0, 1])"
   ]
  },
  {
   "cell_type": "code",
   "execution_count": null,
   "metadata": {},
   "outputs": [],
   "source": [
    "#Curvas de aprendizaje\n",
    "plot_learning_curves(model, X_test,Y_test)\n",
    "plt.ylim([0, 1])"
   ]
  },
  {
   "cell_type": "code",
   "execution_count": null,
   "metadata": {},
   "outputs": [],
   "source": [
    "#Curvas de aprendizaje\n",
    "plot_learning_curves(model4, X_poly4,Y_train)\n",
    "plt.ylim([0, 1])"
   ]
  },
  {
   "cell_type": "markdown",
   "metadata": {},
   "source": [
    "# Conclusiones\n",
    "\n"
   ]
  },
  {
   "cell_type": "code",
   "execution_count": null,
   "metadata": {},
   "outputs": [],
   "source": [
    "print(\"Grado 2:\")\n",
    "print(\"R^2 ajustada = \",round(r_cuad_aj2,3),\"  ECM = \",round(ECM2,3))\n",
    "\n",
    "print(\"\\nGrado 3:\")\n",
    "print(\"R^2 ajustada = \",round(r_cuad_aj3,3),\"  ECM = \",round(ECM3,3))\n",
    "\n",
    "print(\"\\nGrado 4:\")\n",
    "print(\"R^2 ajustada = \",round(r_cuad_aj4,3),\"  ECM = \",round(ECM4,3))"
   ]
  },
  {
   "cell_type": "markdown",
   "metadata": {},
   "source": [
    "Si elegimos como criterios de elección del mejor modelo $R^2$ ajustada o el error cuadrático medio, concluimos que el mejor modelo para estos datos es el modelo con el polinomio de grado 3.\n",
    "\n",
    "### ¿Por qué no se elige el de grado 4 si tiene los mismos resultados?\n",
    "\n",
    "Porque en caso de \"empate\" en los criterios de elección del mejor modelo, se prefiere el modelo más sencillo. Por ser más fácil de interpretar y usualmente más rápido en cuanto al tiempo de máquina."
   ]
  },
  {
   "cell_type": "markdown",
   "metadata": {},
   "source": [
    "### ¿Qué pasa si tomamos todos los datos?"
   ]
  },
  {
   "cell_type": "code",
   "execution_count": null,
   "metadata": {},
   "outputs": [],
   "source": [
    "# Se definen las varibles X (predictoras) y Y (dependiente)\n",
    "Y = df.Humidity\n",
    "X = df[['Pressure (millibars)']]\n",
    "\n",
    "#Definimos el modelo con un polinomio de grado 3\n",
    "mod3 = PolynomialFeatures(degree=3)\n",
    "X_poly = mod3.fit_transform(X)\n",
    "mod3.fit(X,Y)\n",
    "\n",
    "print(X.shape)\n",
    "print(X_poly.shape)\n",
    "lin_mod = LinearRegression()\n",
    "lin_mod.fit(X_poly,Y)"
   ]
  },
  {
   "cell_type": "code",
   "execution_count": null,
   "metadata": {},
   "outputs": [],
   "source": [
    "#Predecir y graficar\n",
    "Y_pred = lin_mod.predict(X_poly)\n",
    "\n",
    "plt.scatter(X, Y, c = \"black\")\n",
    "plt.xlabel(\"Presión\")\n",
    "plt.ylabel(\"Humedad\")\n",
    "plt.plot(X, Y_pred)"
   ]
  },
  {
   "cell_type": "code",
   "execution_count": null,
   "metadata": {},
   "outputs": [],
   "source": [
    "#Nuevas predicciones\n",
    "y1 = lin_mod.predict(mod3.fit_transform([[1005]]))\n",
    "print(y1)\n",
    "\n",
    "y2 = lin_mod.predict(mod3.fit_transform([[1010]]))\n",
    "print(y2)\n",
    "\n",
    "y3 = lin_mod.predict(mod3.fit_transform([[1015]]))\n",
    "print(y3)\n"
   ]
  },
  {
   "cell_type": "code",
   "execution_count": null,
   "metadata": {},
   "outputs": [],
   "source": [
    "x_new = [1005,1010,1015]\n",
    "Y_test = [y1,y2,y3]\n",
    "plt.scatter(X, Y, c = \"black\")\n",
    "plt.xlabel(\"Pressure (millibars)\")\n",
    "plt.ylabel(\"Humidity\")\n",
    "plt.plot(X, Y_pred)\n",
    "plt.scatter(x_new, Y_test, c = \"red\")"
   ]
  },
  {
   "cell_type": "markdown",
   "metadata": {},
   "source": [
    "Debido a que utilizamos todos los datos, al momento de predecir, tomamos nuevos valores (puntos rojos)."
   ]
  },
  {
   "cell_type": "code",
   "execution_count": null,
   "metadata": {},
   "outputs": [],
   "source": [
    "#Curvas de aprendizaje\n",
    "plot_learning_curves(model, X,Y)"
   ]
  },
  {
   "cell_type": "code",
   "execution_count": null,
   "metadata": {},
   "outputs": [],
   "source": [
    "print(\"R^2 = \",round(r2_score(Y,Y_pred),3),\"  ECM = \",round(mean_squared_error(Y, Y_pred),3))"
   ]
  }
 ],
 "metadata": {
  "kernelspec": {
   "display_name": "Python 3",
   "language": "python",
   "name": "python3"
  },
  "language_info": {
   "codemirror_mode": {
    "name": "ipython",
    "version": 3
   },
   "file_extension": ".py",
   "mimetype": "text/x-python",
   "name": "python",
   "nbconvert_exporter": "python",
   "pygments_lexer": "ipython3",
   "version": "3.8.5"
  }
 },
 "nbformat": 4,
 "nbformat_minor": 4
}
