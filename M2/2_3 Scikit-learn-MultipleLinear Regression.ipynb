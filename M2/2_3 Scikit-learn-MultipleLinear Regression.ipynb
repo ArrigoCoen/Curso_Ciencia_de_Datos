{
 "cells": [
  {
   "cell_type": "markdown",
   "metadata": {},
   "source": [
    "# Scikit-learn\n",
    "\n",
    "La página oficial de Scitit-learn es [aquí](https://scikit-learn.org/stable/index.html).\n",
    "\n",
    "\n",
    "### Ejemplo: Regresión Lineal Múltiple\n",
    "\n",
    "Ahora veamos un ejemplo, siguiendo los pasos para hacer un ajuste."
   ]
  },
  {
   "cell_type": "code",
   "execution_count": 1,
   "metadata": {},
   "outputs": [],
   "source": [
    "# Se cargan las librerías que se van a utilizar\n",
    "import numpy as np\n",
    "import math\n",
    "import matplotlib.pyplot as plt\n",
    "import pandas as pd\n",
    "import seaborn as sns\n",
    "import sklearn\n",
    "from sklearn.model_selection import train_test_split\n",
    "from sklearn.linear_model import LinearRegression\n",
    "from sklearn.metrics import r2_score\n",
    "from sklearn.metrics import mean_squared_error"
   ]
  },
  {
   "cell_type": "code",
   "execution_count": 3,
   "metadata": {},
   "outputs": [
    {
     "name": "stdout",
     "output_type": "stream",
     "text": [
      "type(datos):  <class 'pandas.core.frame.DataFrame'>\n",
      "type(X) <class 'pandas.core.frame.DataFrame'>\n",
      "type(Y) <class 'numpy.ndarray'>\n"
     ]
    }
   ],
   "source": [
    "## 1) EXTRAER DATOS\n",
    "# Los datos pueden encontrarse en diferentes formatos, en nuestro caso están en formato csv.\n",
    "\n",
    "# Se carga la base de datos y se definen las varibles X y Y\n",
    "datos = pd.read_csv('50_Startups.csv') #Se encuentra en la misma carpeta que el jupyter notebook\n",
    "X = pd.DataFrame(datos.iloc[:, :-1].values) #Se convierte en data frame\n",
    "X.columns = datos.columns[:-1] #Ponemos los nombres de las columnas\n",
    "Y = datos.iloc[:, 4].values #Ganancia\n",
    "\n",
    "print(\"type(datos): \",type(datos))\n",
    "print(\"type(X)\",type(X))\n",
    "print(\"type(Y)\",type(Y))"
   ]
  },
  {
   "cell_type": "code",
   "execution_count": 4,
   "metadata": {},
   "outputs": [
    {
     "data": {
      "text/html": [
       "<div>\n",
       "<style scoped>\n",
       "    .dataframe tbody tr th:only-of-type {\n",
       "        vertical-align: middle;\n",
       "    }\n",
       "\n",
       "    .dataframe tbody tr th {\n",
       "        vertical-align: top;\n",
       "    }\n",
       "\n",
       "    .dataframe thead th {\n",
       "        text-align: right;\n",
       "    }\n",
       "</style>\n",
       "<table border=\"1\" class=\"dataframe\">\n",
       "  <thead>\n",
       "    <tr style=\"text-align: right;\">\n",
       "      <th></th>\n",
       "      <th>R&amp;D Spend</th>\n",
       "      <th>Administration</th>\n",
       "      <th>Marketing Spend</th>\n",
       "      <th>State</th>\n",
       "      <th>Profit</th>\n",
       "    </tr>\n",
       "  </thead>\n",
       "  <tbody>\n",
       "    <tr>\n",
       "      <th>0</th>\n",
       "      <td>165349.20</td>\n",
       "      <td>136897.80</td>\n",
       "      <td>471784.10</td>\n",
       "      <td>New York</td>\n",
       "      <td>192261.83</td>\n",
       "    </tr>\n",
       "    <tr>\n",
       "      <th>1</th>\n",
       "      <td>162597.70</td>\n",
       "      <td>151377.59</td>\n",
       "      <td>443898.53</td>\n",
       "      <td>California</td>\n",
       "      <td>191792.06</td>\n",
       "    </tr>\n",
       "    <tr>\n",
       "      <th>2</th>\n",
       "      <td>153441.51</td>\n",
       "      <td>101145.55</td>\n",
       "      <td>407934.54</td>\n",
       "      <td>Florida</td>\n",
       "      <td>191050.39</td>\n",
       "    </tr>\n",
       "    <tr>\n",
       "      <th>3</th>\n",
       "      <td>144372.41</td>\n",
       "      <td>118671.85</td>\n",
       "      <td>383199.62</td>\n",
       "      <td>New York</td>\n",
       "      <td>182901.99</td>\n",
       "    </tr>\n",
       "    <tr>\n",
       "      <th>4</th>\n",
       "      <td>142107.34</td>\n",
       "      <td>91391.77</td>\n",
       "      <td>366168.42</td>\n",
       "      <td>Florida</td>\n",
       "      <td>166187.94</td>\n",
       "    </tr>\n",
       "  </tbody>\n",
       "</table>\n",
       "</div>"
      ],
      "text/plain": [
       "   R&D Spend  Administration  Marketing Spend       State     Profit\n",
       "0  165349.20       136897.80        471784.10    New York  192261.83\n",
       "1  162597.70       151377.59        443898.53  California  191792.06\n",
       "2  153441.51       101145.55        407934.54     Florida  191050.39\n",
       "3  144372.41       118671.85        383199.62    New York  182901.99\n",
       "4  142107.34        91391.77        366168.42     Florida  166187.94"
      ]
     },
     "execution_count": 4,
     "metadata": {},
     "output_type": "execute_result"
    }
   ],
   "source": [
    "## 2) ANÁLISIS EXPLORATORIO\n",
    "# Se realiza una descripción analítica de los datos.\n",
    "\n",
    "# Se muestran los primeros 5 datos del data frame\n",
    "datos.head()\n",
    "\n",
    "# Los datos corresponden a la información de 50 empresas nuevas. La información que se tiene de cada una de ellas es:\n",
    "#R&D = Research and development: Gastos de investigación y desarrollo\n",
    "#Administration: Gastos administrativos\n",
    "#Marketing Spend: Gastos en las técnicas de comercialización de algún producto\n",
    "#State: Estado en el que se encuentra la empresa\n",
    "#Profit: Ganancia\n"
   ]
  },
  {
   "cell_type": "code",
   "execution_count": 5,
   "metadata": {},
   "outputs": [
    {
     "data": {
      "text/plain": [
       "(50, 5)"
      ]
     },
     "execution_count": 5,
     "metadata": {},
     "output_type": "execute_result"
    }
   ],
   "source": [
    "# Dimensiones del data frame\n",
    "datos.shape"
   ]
  },
  {
   "cell_type": "code",
   "execution_count": 6,
   "metadata": {},
   "outputs": [
    {
     "data": {
      "text/plain": [
       "R&D Spend          0\n",
       "Administration     0\n",
       "Marketing Spend    0\n",
       "State              0\n",
       "Profit             0\n",
       "dtype: int64"
      ]
     },
     "execution_count": 6,
     "metadata": {},
     "output_type": "execute_result"
    }
   ],
   "source": [
    "# Se cuenta el número de NaN's por columna\n",
    "datos.isnull().sum()"
   ]
  },
  {
   "cell_type": "code",
   "execution_count": 7,
   "metadata": {},
   "outputs": [
    {
     "data": {
      "text/plain": [
       "0.00         2\n",
       "123334.88    1\n",
       "165349.20    1\n",
       "38558.51     1\n",
       "46014.02     1\n",
       "Name: R&D Spend, dtype: int64"
      ]
     },
     "execution_count": 7,
     "metadata": {},
     "output_type": "execute_result"
    }
   ],
   "source": [
    "# Cuenta los valores repetidos de la columna 1 (R&D Spend)\n",
    "datos[\"R&D Spend\"].value_counts().head()"
   ]
  },
  {
   "cell_type": "code",
   "execution_count": 8,
   "metadata": {},
   "outputs": [
    {
     "data": {
      "text/plain": [
       "New York      17\n",
       "California    17\n",
       "Florida       16\n",
       "Name: State, dtype: int64"
      ]
     },
     "execution_count": 8,
     "metadata": {},
     "output_type": "execute_result"
    }
   ],
   "source": [
    "# Cuenta los valores repetidos de la columna 4 (R&D Spend)\n",
    "datos[\"State\"].value_counts()"
   ]
  },
  {
   "cell_type": "code",
   "execution_count": 9,
   "metadata": {},
   "outputs": [
    {
     "data": {
      "text/html": [
       "<div>\n",
       "<style scoped>\n",
       "    .dataframe tbody tr th:only-of-type {\n",
       "        vertical-align: middle;\n",
       "    }\n",
       "\n",
       "    .dataframe tbody tr th {\n",
       "        vertical-align: top;\n",
       "    }\n",
       "\n",
       "    .dataframe thead th {\n",
       "        text-align: right;\n",
       "    }\n",
       "</style>\n",
       "<table border=\"1\" class=\"dataframe\">\n",
       "  <thead>\n",
       "    <tr style=\"text-align: right;\">\n",
       "      <th></th>\n",
       "      <th>California</th>\n",
       "      <th>Florida</th>\n",
       "      <th>New York</th>\n",
       "    </tr>\n",
       "  </thead>\n",
       "  <tbody>\n",
       "    <tr>\n",
       "      <th>0</th>\n",
       "      <td>0</td>\n",
       "      <td>0</td>\n",
       "      <td>1</td>\n",
       "    </tr>\n",
       "    <tr>\n",
       "      <th>1</th>\n",
       "      <td>1</td>\n",
       "      <td>0</td>\n",
       "      <td>0</td>\n",
       "    </tr>\n",
       "    <tr>\n",
       "      <th>2</th>\n",
       "      <td>0</td>\n",
       "      <td>1</td>\n",
       "      <td>0</td>\n",
       "    </tr>\n",
       "    <tr>\n",
       "      <th>3</th>\n",
       "      <td>0</td>\n",
       "      <td>0</td>\n",
       "      <td>1</td>\n",
       "    </tr>\n",
       "    <tr>\n",
       "      <th>4</th>\n",
       "      <td>0</td>\n",
       "      <td>1</td>\n",
       "      <td>0</td>\n",
       "    </tr>\n",
       "  </tbody>\n",
       "</table>\n",
       "</div>"
      ],
      "text/plain": [
       "   California  Florida  New York\n",
       "0           0        0         1\n",
       "1           1        0         0\n",
       "2           0        1         0\n",
       "3           0        0         1\n",
       "4           0        1         0"
      ]
     },
     "execution_count": 9,
     "metadata": {},
     "output_type": "execute_result"
    }
   ],
   "source": [
    "#Se muestran las variables dummies\n",
    "pd.get_dummies(X['State']).head()"
   ]
  },
  {
   "cell_type": "code",
   "execution_count": 10,
   "metadata": {},
   "outputs": [
    {
     "data": {
      "text/html": [
       "<div>\n",
       "<style scoped>\n",
       "    .dataframe tbody tr th:only-of-type {\n",
       "        vertical-align: middle;\n",
       "    }\n",
       "\n",
       "    .dataframe tbody tr th {\n",
       "        vertical-align: top;\n",
       "    }\n",
       "\n",
       "    .dataframe thead th {\n",
       "        text-align: right;\n",
       "    }\n",
       "</style>\n",
       "<table border=\"1\" class=\"dataframe\">\n",
       "  <thead>\n",
       "    <tr style=\"text-align: right;\">\n",
       "      <th></th>\n",
       "      <th>Florida</th>\n",
       "      <th>New York</th>\n",
       "    </tr>\n",
       "  </thead>\n",
       "  <tbody>\n",
       "    <tr>\n",
       "      <th>0</th>\n",
       "      <td>0</td>\n",
       "      <td>1</td>\n",
       "    </tr>\n",
       "    <tr>\n",
       "      <th>1</th>\n",
       "      <td>0</td>\n",
       "      <td>0</td>\n",
       "    </tr>\n",
       "    <tr>\n",
       "      <th>2</th>\n",
       "      <td>1</td>\n",
       "      <td>0</td>\n",
       "    </tr>\n",
       "    <tr>\n",
       "      <th>3</th>\n",
       "      <td>0</td>\n",
       "      <td>1</td>\n",
       "    </tr>\n",
       "    <tr>\n",
       "      <th>4</th>\n",
       "      <td>1</td>\n",
       "      <td>0</td>\n",
       "    </tr>\n",
       "  </tbody>\n",
       "</table>\n",
       "</div>"
      ],
      "text/plain": [
       "   Florida  New York\n",
       "0        0         1\n",
       "1        0         0\n",
       "2        1         0\n",
       "3        0         1\n",
       "4        1         0"
      ]
     },
     "execution_count": 10,
     "metadata": {},
     "output_type": "execute_result"
    }
   ],
   "source": [
    "'''Se convierte la columna \"State\" en una columna categórica.\n",
    "Se elimina la columna de \"California\" porque se puede obtener su valor cuando las \n",
    "columnas \"Florida\" y \"New York\" son ambas 0 en el i-ésimo renglón.'''\n",
    "\n",
    "estados = pd.get_dummies(X['State'],drop_first=True)\n",
    "estados.head()"
   ]
  },
  {
   "cell_type": "code",
   "execution_count": 11,
   "metadata": {},
   "outputs": [
    {
     "name": "stdout",
     "output_type": "stream",
     "text": [
      "  R&D Spend Administration Marketing Spend       State\n",
      "0    165349         136898          471784    New York\n",
      "1    162598         151378          443899  California\n",
      "2    153442         101146          407935     Florida\n",
      "3    144372         118672          383200    New York\n",
      "4    142107        91391.8          366168     Florida\n"
     ]
    },
    {
     "data": {
      "text/html": [
       "<div>\n",
       "<style scoped>\n",
       "    .dataframe tbody tr th:only-of-type {\n",
       "        vertical-align: middle;\n",
       "    }\n",
       "\n",
       "    .dataframe tbody tr th {\n",
       "        vertical-align: top;\n",
       "    }\n",
       "\n",
       "    .dataframe thead th {\n",
       "        text-align: right;\n",
       "    }\n",
       "</style>\n",
       "<table border=\"1\" class=\"dataframe\">\n",
       "  <thead>\n",
       "    <tr style=\"text-align: right;\">\n",
       "      <th></th>\n",
       "      <th>R&amp;D Spend</th>\n",
       "      <th>Administration</th>\n",
       "      <th>Marketing Spend</th>\n",
       "      <th>Florida</th>\n",
       "      <th>New York</th>\n",
       "    </tr>\n",
       "  </thead>\n",
       "  <tbody>\n",
       "    <tr>\n",
       "      <th>0</th>\n",
       "      <td>165349</td>\n",
       "      <td>136898</td>\n",
       "      <td>471784</td>\n",
       "      <td>0</td>\n",
       "      <td>1</td>\n",
       "    </tr>\n",
       "    <tr>\n",
       "      <th>1</th>\n",
       "      <td>162598</td>\n",
       "      <td>151378</td>\n",
       "      <td>443899</td>\n",
       "      <td>0</td>\n",
       "      <td>0</td>\n",
       "    </tr>\n",
       "    <tr>\n",
       "      <th>2</th>\n",
       "      <td>153442</td>\n",
       "      <td>101146</td>\n",
       "      <td>407935</td>\n",
       "      <td>1</td>\n",
       "      <td>0</td>\n",
       "    </tr>\n",
       "    <tr>\n",
       "      <th>3</th>\n",
       "      <td>144372</td>\n",
       "      <td>118672</td>\n",
       "      <td>383200</td>\n",
       "      <td>0</td>\n",
       "      <td>1</td>\n",
       "    </tr>\n",
       "    <tr>\n",
       "      <th>4</th>\n",
       "      <td>142107</td>\n",
       "      <td>91391.8</td>\n",
       "      <td>366168</td>\n",
       "      <td>1</td>\n",
       "      <td>0</td>\n",
       "    </tr>\n",
       "  </tbody>\n",
       "</table>\n",
       "</div>"
      ],
      "text/plain": [
       "  R&D Spend Administration Marketing Spend  Florida  New York\n",
       "0    165349         136898          471784        0         1\n",
       "1    162598         151378          443899        0         0\n",
       "2    153442         101146          407935        1         0\n",
       "3    144372         118672          383200        0         1\n",
       "4    142107        91391.8          366168        1         0"
      ]
     },
     "execution_count": 11,
     "metadata": {},
     "output_type": "execute_result"
    }
   ],
   "source": [
    "#Se cambia la columna \"State\" por las variables dummies creadas\n",
    "print(X.head())\n",
    "X=X.drop('State',axis=1)\n",
    "X=pd.concat([X,estados],axis=1)\n",
    "X.head()"
   ]
  },
  {
   "cell_type": "code",
   "execution_count": 12,
   "metadata": {},
   "outputs": [
    {
     "name": "stderr",
     "output_type": "stream",
     "text": [
      "C:\\Users\\miri_\\anaconda3\\lib\\site-packages\\seaborn\\distributions.py:2551: FutureWarning: `distplot` is a deprecated function and will be removed in a future version. Please adapt your code to use either `displot` (a figure-level function with similar flexibility) or `histplot` (an axes-level function for histograms).\n",
      "  warnings.warn(msg, FutureWarning)\n"
     ]
    },
    {
     "data": {
      "text/plain": [
       "<AxesSubplot:ylabel='Density'>"
      ]
     },
     "execution_count": 12,
     "metadata": {},
     "output_type": "execute_result"
    },
    {
     "data": {
      "image/png": "[encoded data removed]",
      "text/plain": [
       "<Figure size 432x288 with 1 Axes>"
      ]
     },
     "metadata": {
      "needs_background": "light"
     },
     "output_type": "display_data"
    }
   ],
   "source": [
    "## 3) VISUALIZACIÓN DE LOS DATOS\n",
    "# Para entender mejor los datos es necesario graficarlos.\n",
    "\n",
    "sns.distplot(Y)#Ganancia"
   ]
  },
  {
   "cell_type": "code",
   "execution_count": 13,
   "metadata": {},
   "outputs": [
    {
     "name": "stdout",
     "output_type": "stream",
     "text": [
      "0.0\n",
      "165349.2\n"
     ]
    },
    {
     "data": {
      "image/png": "[encoded data removed]",
      "text/plain": [
       "<Figure size 432x288 with 1 Axes>"
      ]
     },
     "metadata": {
      "needs_background": "light"
     },
     "output_type": "display_data"
    }
   ],
   "source": [
    "#R&D = Research and development: Gastos de investigación y desarrollo\n",
    "print(min(X['R&D Spend']))\n",
    "print(max(X['R&D Spend']))\n",
    "\n",
    "#Histograma de la columna \"R&D Spend\"\n",
    "plt.hist(X['R&D Spend'], bins=[0,25000,50000,75000,100000,\n",
    "                               125000,150000,175000]) #División cada 25 mil\n",
    "plt.title('Histograma de la columna \"R&D Spend\"')\n",
    "plt.xlabel('Unidades monetarias')\n",
    "plt.ylabel('Número de empresas')\n",
    "plt.show()"
   ]
  },
  {
   "cell_type": "code",
   "execution_count": 14,
   "metadata": {},
   "outputs": [
    {
     "name": "stdout",
     "output_type": "stream",
     "text": [
      "51283.14\n",
      "182645.56\n"
     ]
    },
    {
     "data": {
      "image/png": "[encoded data removed]",
      "text/plain": [
       "<Figure size 432x288 with 1 Axes>"
      ]
     },
     "metadata": {
      "needs_background": "light"
     },
     "output_type": "display_data"
    }
   ],
   "source": [
    "#Administration: Gastos administrativos\n",
    "print(min(X['Administration']))\n",
    "print(max(X['Administration']))\n",
    "\n",
    "#Histograma de la columna \"Administration\"\n",
    "plt.hist(X['Administration'], bins=[50000,75000,100000,125000,\n",
    "                                    150000,175000,200000]) #División cada 25 mil\n",
    "plt.title('Histograma de la columna \"Administration\"')\n",
    "plt.xlabel('Unidades monetarias')\n",
    "plt.ylabel('Número de empresas')\n",
    "plt.show()"
   ]
  },
  {
   "cell_type": "code",
   "execution_count": 15,
   "metadata": {},
   "outputs": [
    {
     "name": "stdout",
     "output_type": "stream",
     "text": [
      "0.0\n",
      "471784.1\n"
     ]
    },
    {
     "data": {
      "image/png": "[encoded data removed]",
      "text/plain": [
       "<Figure size 432x288 with 1 Axes>"
      ]
     },
     "metadata": {
      "needs_background": "light"
     },
     "output_type": "display_data"
    }
   ],
   "source": [
    "#Marketing Spend: Gastos en las técnicas de comercialización de algún producto\n",
    "print(min(X['Marketing Spend']))\n",
    "print(max(X['Marketing Spend']))\n",
    "\n",
    "#Histograma de la columna \"Marketing Spend\"\n",
    "plt.hist(X['Marketing Spend'], bins=[0,50000,100000,150000,200000,250000,\n",
    "                                     300000,350000,400000,450000,500000]) #División cada 50 mil\n",
    "plt.title('Histograma de la columna \"Marketing Spend\"')\n",
    "plt.xlabel('Unidades monetarias')\n",
    "plt.ylabel('Número de empresas')\n",
    "plt.show()"
   ]
  },
  {
   "cell_type": "code",
   "execution_count": 16,
   "metadata": {},
   "outputs": [
    {
     "data": {
      "image/png": "[encoded data removed]",
      "text/plain": [
       "<Figure size 432x288 with 1 Axes>"
      ]
     },
     "metadata": {
      "needs_background": "light"
     },
     "output_type": "display_data"
    }
   ],
   "source": [
    "#State: Estado en el que se encuentra la empresa\n",
    "#Histograma de la columna \"State\"\n",
    "plt.hist(datos['State'])\n",
    "plt.title('Histograma de la columna \"State\"')\n",
    "plt.xlabel('Estado')\n",
    "plt.ylabel('Número de empresas') #17 17 16\n",
    "plt.show()"
   ]
  },
  {
   "cell_type": "code",
   "execution_count": 17,
   "metadata": {},
   "outputs": [
    {
     "data": {
      "text/plain": [
       "<AxesSubplot:xlabel='R&D Spend'>"
      ]
     },
     "execution_count": 17,
     "metadata": {},
     "output_type": "execute_result"
    },
    {
     "data": {
      "image/png": "[encoded data removed]",
      "text/plain": [
       "<Figure size 432x288 with 1 Axes>"
      ]
     },
     "metadata": {
      "needs_background": "light"
     },
     "output_type": "display_data"
    }
   ],
   "source": [
    "sns.boxplot(x=\"R&D Spend\", data=datos)"
   ]
  },
  {
   "cell_type": "code",
   "execution_count": 18,
   "metadata": {},
   "outputs": [
    {
     "data": {
      "text/plain": [
       "73721.62"
      ]
     },
     "execution_count": 18,
     "metadata": {},
     "output_type": "execute_result"
    }
   ],
   "source": [
    "round(np.mean(X['R&D Spend']),2) #Promedio de gastos por investigación y desarrollo"
   ]
  },
  {
   "cell_type": "code",
   "execution_count": 19,
   "metadata": {},
   "outputs": [
    {
     "data": {
      "text/plain": [
       "<AxesSubplot:xlabel='Administration'>"
      ]
     },
     "execution_count": 19,
     "metadata": {},
     "output_type": "execute_result"
    },
    {
     "data": {
      "image/png": "[encoded data removed]",
      "text/plain": [
       "<Figure size 432x288 with 1 Axes>"
      ]
     },
     "metadata": {
      "needs_background": "light"
     },
     "output_type": "display_data"
    }
   ],
   "source": [
    "sns.boxplot(x=\"Administration\", data=datos)"
   ]
  },
  {
   "cell_type": "code",
   "execution_count": 20,
   "metadata": {},
   "outputs": [
    {
     "data": {
      "text/plain": [
       "121344.64"
      ]
     },
     "execution_count": 20,
     "metadata": {},
     "output_type": "execute_result"
    }
   ],
   "source": [
    "round(np.mean(X['Administration']),2) #Promedio de gastos por administración"
   ]
  },
  {
   "cell_type": "code",
   "execution_count": 21,
   "metadata": {},
   "outputs": [
    {
     "data": {
      "text/plain": [
       "<AxesSubplot:xlabel='Marketing Spend'>"
      ]
     },
     "execution_count": 21,
     "metadata": {},
     "output_type": "execute_result"
    },
    {
     "data": {
      "image/png": "[encoded data removed]",
      "text/plain": [
       "<Figure size 432x288 with 1 Axes>"
      ]
     },
     "metadata": {
      "needs_background": "light"
     },
     "output_type": "display_data"
    }
   ],
   "source": [
    "sns.boxplot(x=\"Marketing Spend\", data=datos)"
   ]
  },
  {
   "cell_type": "code",
   "execution_count": 22,
   "metadata": {},
   "outputs": [
    {
     "data": {
      "text/plain": [
       "211025.1"
      ]
     },
     "execution_count": 22,
     "metadata": {},
     "output_type": "execute_result"
    }
   ],
   "source": [
    "round(np.mean(X['Marketing Spend']),2) #Promedio de gastos por \"marketing\""
   ]
  },
  {
   "cell_type": "code",
   "execution_count": 22,
   "metadata": {},
   "outputs": [
    {
     "data": {
      "text/plain": [
       "<AxesSubplot:>"
      ]
     },
     "execution_count": 22,
     "metadata": {},
     "output_type": "execute_result"
    },
    {
     "data": {
      "image/png": "[encoded data removed]",
      "text/plain": [
       "<Figure size 432x288 with 1 Axes>"
      ]
     },
     "metadata": {
      "needs_background": "light"
     },
     "output_type": "display_data"
    }
   ],
   "source": [
    "sns.boxplot(x=Y, data=datos)"
   ]
  },
  {
   "cell_type": "code",
   "execution_count": 23,
   "metadata": {},
   "outputs": [
    {
     "data": {
      "text/plain": [
       "112012.64"
      ]
     },
     "execution_count": 23,
     "metadata": {},
     "output_type": "execute_result"
    }
   ],
   "source": [
    "round(np.mean(Y),2) #Promedio de ganancias"
   ]
  },
  {
   "cell_type": "code",
   "execution_count": 24,
   "metadata": {},
   "outputs": [
    {
     "data": {
      "text/plain": [
       "14681.4"
      ]
     },
     "execution_count": 24,
     "metadata": {},
     "output_type": "execute_result"
    }
   ],
   "source": [
    "min(Y) #Outlier"
   ]
  },
  {
   "cell_type": "code",
   "execution_count": 25,
   "metadata": {},
   "outputs": [
    {
     "data": {
      "text/plain": [
       "<seaborn.axisgrid.PairGrid at 0x1b6dfb0ed60>"
      ]
     },
     "execution_count": 25,
     "metadata": {},
     "output_type": "execute_result"
    },
    {
     "data": {
      "image/png": "[encoded data removed]",
      "text/plain": [
       "<Figure size 720x720 with 20 Axes>"
      ]
     },
     "metadata": {
      "needs_background": "light"
     },
     "output_type": "display_data"
    }
   ],
   "source": [
    "#Se muestra la correlación entre las variables\n",
    "sns.pairplot(datos)"
   ]
  },
  {
   "cell_type": "code",
   "execution_count": 26,
   "metadata": {},
   "outputs": [],
   "source": [
    "## 4) DIVIDIR LOS DATOS\n",
    "# Se separan los datos en 2 grupos (usualmente 80% y 20%):\n",
    "# i) Para entrenar al modelo (80%)\n",
    "# ii) Para probar el modelo (20%)\n",
    "X_train, X_test, Y_train, Y_test = train_test_split(X, Y, #Se indican los vectores que se van a dividir\n",
    "                                                    test_size = 0.2, #Se indica el porcentajede los datos para probar el modelo\n",
    "                                                    random_state = 0) #Se fija la semilla\n",
    "\n",
    "# Nota: Tomar la muestra aleatoria es muy importante porque en caso de que los datos estén\n",
    "#ordenados el algoritmo no aprende adecuadamente. Por ejemplo si tenemos 80 sanos y 20 enfermos,\n",
    "#sólo se tomarían los 80 sanos (por ser los primeros 80).\n"
   ]
  },
  {
   "cell_type": "code",
   "execution_count": 27,
   "metadata": {},
   "outputs": [
    {
     "data": {
      "text/plain": [
       "LinearRegression()"
      ]
     },
     "execution_count": 27,
     "metadata": {},
     "output_type": "execute_result"
    }
   ],
   "source": [
    "## 5) CONSTRUIR UN MODELO\n",
    "# En este ejemplo vamos a elegir un modelo de regresión lineal simple para \"X_train\"\n",
    "regresor = LinearRegression()\n",
    "regresor.fit(X_train, Y_train)"
   ]
  },
  {
   "cell_type": "code",
   "execution_count": 28,
   "metadata": {},
   "outputs": [],
   "source": [
    "## 6) PREDICCIONES\n",
    "# Se hacen las predicciones con \"X_test\"\n",
    "Y_pred = regresor.predict(X_test)"
   ]
  },
  {
   "cell_type": "code",
   "execution_count": 29,
   "metadata": {},
   "outputs": [
    {
     "data": {
      "image/png": "[encoded data removed]",
      "text/plain": [
       "<Figure size 432x288 with 1 Axes>"
      ]
     },
     "metadata": {
      "needs_background": "light"
     },
     "output_type": "display_data"
    }
   ],
   "source": [
    "# Se grafican los resultados de la predicción.\n",
    "plt.scatter(Y_test, Y_pred, color = 'black')\n",
    "plt.title('Predicciones')\n",
    "plt.xlabel('Ganancia real')\n",
    "plt.ylabel('Ganancia estimada')\n",
    "plt.show()\n",
    "\n",
    "#Nota: No estamos graficando contra ninguna variable explicativa (R&D, Administration, Marketing Spend, State).\n",
    "#Los valores de las predicciones se graficaron contra la ganancia real."
   ]
  },
  {
   "cell_type": "markdown",
   "metadata": {},
   "source": [
    "#### 7) EVALUACIÓN DEL MODELO\n",
    "Veamos cómo se comporta el modelo:\n",
    "\n",
    "7.1 Calcular $R^{2}$ ajustada $ = 1 - \\dfrac{(1 - R^{2}) (n-1)}{n - p - 1}$, donde\n",
    "\n",
    "$R^{2}:$ R cuadrada de los datos\n",
    "\n",
    "$n:$ Número de datos para entrenar al modelo\n",
    "\n",
    "$p:$ Número de variables independientes\n",
    "\n",
    "7.2 Calcular los errores absolutos $(real - estimado)$ y graficarlos\n",
    "\n",
    "7.3 Calcular los errores relativos $\\left( \\dfrac{\\text{real - estimado}}{\\text{real}} \\right)$ y graficarlos\n",
    "\n",
    "7.4 Graficar valores estimados vs valores reales\n",
    "\n",
    "7.5 Calcular el error cuadrático: $(real − estimado)^{2}$\n",
    "\n",
    "7.6 Calcular el error cuadrático medio: $\\dfrac{\\displaystyle \\sum_{i = 1}^{n} (real_{i} − estimado_{i})^{2}}{n}$\n"
   ]
  },
  {
   "cell_type": "code",
   "execution_count": 30,
   "metadata": {},
   "outputs": [
    {
     "name": "stdout",
     "output_type": "stream",
     "text": [
      "R^2 =  0.935\n",
      "n =  40\n",
      "p =  5\n",
      "R^2_aj =  0.925\n"
     ]
    }
   ],
   "source": [
    "#7.1 Calcular R^2 ajustada\n",
    "r_cuadrada = r2_score(Y_test,Y_pred)\n",
    "print('R^2 = ',round(r_cuadrada,3)) #Porcentaje de los datos explicados por el modelo\n",
    "\n",
    "#R^2 ajustada\n",
    "n = len(Y_train)\n",
    "p = X_train.shape[1]\n",
    "r_cuad_aj = 1 - (((1-r_cuadrada)*(n-1))/(n-p-1))\n",
    "\n",
    "print('n = ',n)\n",
    "print('p = ',p)\n",
    "print('R^2_aj = ',round(r_cuad_aj,3))\n",
    "\n",
    "#R^2 ajustada se utiliza para comparar modelos que tengan diferente número de predictores.\n",
    "#R^2 siempre aumenta cuando se agrega un predictor al modelo, aún cuando no haya una mejora real en el modelo."
   ]
  },
  {
   "cell_type": "code",
   "execution_count": 31,
   "metadata": {
    "scrolled": true
   },
   "outputs": [
    {
     "name": "stdout",
     "output_type": "stream",
     "text": [
      "[   267.18  11677.12  13674.21   5822.73  12512.91 -11152.93  13377.37\n",
      "  -1308.17  -3617.19  -1733.13]\n"
     ]
    },
    {
     "data": {
      "image/png": "[encoded data removed]",
      "text/plain": [
       "<Figure size 432x288 with 1 Axes>"
      ]
     },
     "metadata": {
      "needs_background": "light"
     },
     "output_type": "display_data"
    }
   ],
   "source": [
    "#7.2 Calcular los errores absolutos (real - estimado) y graficarlos\n",
    "err_abs = Y_test-Y_pred\n",
    "\n",
    "print(np.around(err_abs,2))\n",
    "plt.scatter(Y_test, err_abs, color = 'blue')\n",
    "plt.plot(Y_test, np.zeros(len(err_abs)), color = 'midnightblue') #Recta en Y = 0\n",
    "plt.title('Errores absolutos (real - estimado)')\n",
    "plt.xlabel('Ganancia real')\n",
    "plt.ylabel('Errores absolutos')\n",
    "plt.show()"
   ]
  },
  {
   "cell_type": "code",
   "execution_count": 32,
   "metadata": {},
   "outputs": [
    {
     "name": "stdout",
     "output_type": "stream",
     "text": [
      "[ 0.003  0.081  0.094  0.075  0.065 -0.106  0.165 -0.013 -0.033 -0.01 ]\n"
     ]
    },
    {
     "data": {
      "image/png": "[encoded data removed]",
      "text/plain": [
       "<Figure size 432x288 with 1 Axes>"
      ]
     },
     "metadata": {
      "needs_background": "light"
     },
     "output_type": "display_data"
    }
   ],
   "source": [
    "#7.3 Calcular los errores relativos [(real - estimado)/real] y graficarlos\n",
    "err_rel = err_abs/Y_test\n",
    "\n",
    "print(np.around(err_rel,3))\n",
    "plt.scatter(Y_test, err_rel, color = 'blue')\n",
    "plt.plot(Y_test, np.zeros(len(err_abs)), color = 'midnightblue') #Recta en Y = 0\n",
    "plt.title('Errores relativos [(real - estimado)/real]')\n",
    "plt.xlabel('Ganancia real')\n",
    "plt.ylabel('Errores relativos')\n",
    "plt.show()"
   ]
  },
  {
   "cell_type": "code",
   "execution_count": 33,
   "metadata": {},
   "outputs": [
    {
     "data": {
      "image/png": "[encoded data removed]",
      "text/plain": [
       "<Figure size 432x288 with 1 Axes>"
      ]
     },
     "metadata": {
      "needs_background": "light"
     },
     "output_type": "display_data"
    }
   ],
   "source": [
    "#7.4 Graficar valores estimados vs valores reales\n",
    "X = range(1,len(Y_test)+1)\n",
    "plt.plot(X, sorted(Y_test), color = 'black') #Recta de valores reales\n",
    "plt.plot(X, sorted(Y_pred), color = 'red') #Recta de valores estimados\n",
    "plt.title('Valores estimados vs valores reales')\n",
    "plt.xlabel('Índices')\n",
    "plt.ylabel('Ganancia')\n",
    "plt.show()\n",
    "\n",
    "#Nota: Tanto los valores reales como los estimados se ordenaron de menor a mayor."
   ]
  },
  {
   "cell_type": "code",
   "execution_count": 34,
   "metadata": {},
   "outputs": [
    {
     "name": "stdout",
     "output_type": "stream",
     "text": [
      "[7.13842985e+04 1.36355187e+08 1.86984061e+08 3.39042020e+07\n",
      " 1.56572861e+08 1.24387899e+08 1.78953972e+08 1.71131855e+06\n",
      " 1.30840297e+07 3.00372468e+06]\n"
     ]
    }
   ],
   "source": [
    "#7.5 Calcular el error cuadrático = (real − estimado)^2\n",
    "#print(np.around(err_abs,2))\n",
    "err_cuad = pow(err_abs,2)\n",
    "print(err_cuad)"
   ]
  },
  {
   "cell_type": "code",
   "execution_count": 35,
   "metadata": {},
   "outputs": [
    {
     "name": "stdout",
     "output_type": "stream",
     "text": [
      "83502864.03\n",
      "9137.99\n"
     ]
    }
   ],
   "source": [
    "#7.6 Calcular el error cuadrático medio = (1/n) * \\sum (real − estimado)^2\n",
    "'''\n",
    "Indica qué tan cerca está la línea de la regresión lineal de los valores estimados.\n",
    "i) Se elevan al cuadrado los errores absolutos.\n",
    "ii) Se suman.\n",
    "iii) Se divide el resultado entre el número de datos estimados.\n",
    "'''\n",
    "err_cuad_medio = mean_squared_error(Y_test, Y_pred)\n",
    "print(round(err_cuad_medio,2))\n",
    "print(round(math.sqrt(err_cuad_medio),2))#Raíz cuadrada del error cuadrático medio"
   ]
  },
  {
   "cell_type": "code",
   "execution_count": 36,
   "metadata": {},
   "outputs": [
    {
     "data": {
      "image/png": "[encoded data removed]",
      "text/plain": [
       "<Figure size 432x288 with 1 Axes>"
      ]
     },
     "metadata": {
      "needs_background": "light"
     },
     "output_type": "display_data"
    }
   ],
   "source": [
    "#Graficamos los errores cuadráticos\n",
    "Y= np.repeat(err_cuad_medio, len(err_cuad))\n",
    "plt.scatter(Y_test, err_cuad, color = 'blue')\n",
    "plt.plot(Y_test,Y , color = 'lime') #Recta en Y = err_cuad_medio\n",
    "plt.title('Errores cuadráticos: (real − estimado)^2')\n",
    "plt.xlabel('Ganancia real')\n",
    "plt.ylabel('Errores cuadráticos')\n",
    "plt.show()"
   ]
  },
  {
   "cell_type": "markdown",
   "metadata": {},
   "source": [
    "## CONCLUSIONES:\n",
    "\n",
    "    - El modelo explica el 92.5% de los datos.\n",
    "    - Existe una correlación lineal entre la ganancia y las variables predictoras (R&D, Administration, Marketing Spend, State).\n",
    "    "
   ]
  }
 ],
 "metadata": {
  "kernelspec": {
   "display_name": "Python 3",
   "language": "python",
   "name": "python3"
  },
  "language_info": {
   "codemirror_mode": {
    "name": "ipython",
    "version": 3
   },
   "file_extension": ".py",
   "mimetype": "text/x-python",
   "name": "python",
   "nbconvert_exporter": "python",
   "pygments_lexer": "ipython3",
   "version": "3.8.5"
  }
 },
 "nbformat": 4,
 "nbformat_minor": 4
}
