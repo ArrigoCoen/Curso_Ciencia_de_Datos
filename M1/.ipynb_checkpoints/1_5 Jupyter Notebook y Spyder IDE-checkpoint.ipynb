{
 "cells": [
  {
   "cell_type": "markdown",
   "metadata": {},
   "source": [
    "# Jupyter Notebook y Spyder IDE\n",
    "\n",
    "\n",
    "\n"
   ]
  },
  {
   "cell_type": "markdown",
   "metadata": {},
   "source": [
    "## Comandos útiles de Spyder\n",
    "\n",
    " - `%run My_Archivo.py` para correr un archivo\n",
    " - `F9` para correr partes del código\n",
    "\n"
   ]
  },
  {
   "cell_type": "markdown",
   "metadata": {},
   "source": [
    "# Jupyter Notebook\n",
    "\n",
    "_Jupyter Notebook_ es una aplicación que permite crear y compartir documentos web en formato JSON que siguen un esquema versionado y una lista ordenada de celdas de entrada y de salida.\n",
    "\n",
    "Estas celdas pueden contener código, texto en formato Markdown, o contenido multimedia.\n",
    "\n",
    "Dentro de las celdas de tipo _Markdown_ (https://www.markdownguide.org/cheat-sheet/) se pueden insertar fórmulas matemáticas y ecuaciones como en _LaTeX_, por ejemplo: $\\displaystyle \\sum_{n=0}^{\\infty} \\left( \\frac{1}{2} \\right)^{n} = 2 $\n",
    "\n",
    "Los documentos creados en _Jupyter_ pueden exportarse a HTML, PDF, Markdown o Python.\n",
    "\n",
    "\n",
    "\n",
    "## Como instalar Jupyter \n",
    "\n",
    "En la siguiente presentación se encuentran los pasos que se deben de seguir para instalarlo en Windows o MacOS o Linux: https://github.com/ArrigoCoen/Curso_Ciencia_de_Datos/blob/main/M1/Slides/Instalar_Python.pdf\n",
    "\n",
    "La página para descargar _Anaconda_ es: https://www.anaconda.com/products/individual\n",
    "\n",
    "\n",
    "**Clase:** https://www.youtube.com/watch?v=Qnv10xqAZYI&list=PL3IqEvXBv5p8AYLpqC9t3crl-JSfEBYHR&index=10&ab_channel=Dr.ArrigoCoen\n",
    "\n"
   ]
  },
  {
   "cell_type": "code",
   "execution_count": 1,
   "metadata": {},
   "outputs": [],
   "source": [
    "#Comando para importar librerías\n",
    "import pandas as pd"
   ]
  }
 ],
 "metadata": {
  "kernelspec": {
   "display_name": "Python 3",
   "language": "python",
   "name": "python3"
  },
  "language_info": {
   "codemirror_mode": {
    "name": "ipython",
    "version": 3
   },
   "file_extension": ".py",
   "mimetype": "text/x-python",
   "name": "python",
   "nbconvert_exporter": "python",
   "pygments_lexer": "ipython3",
   "version": "3.8.5"
  }
 },
 "nbformat": 4,
 "nbformat_minor": 4
}
