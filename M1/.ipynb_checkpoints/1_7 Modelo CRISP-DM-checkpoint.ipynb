{
 "cells": [
  {
   "cell_type": "markdown",
   "metadata": {},
   "source": [
    "# Modelo CRISP-DM\n",
    "\n",
    "Se tienen 7 pasos:\n",
    "\n",
    "1) Extraer datos\n",
    "\n",
    "2) Análisis exploratorio\n",
    "\n",
    "3) Visualización de los datos\n",
    "\n",
    "4) División de los datos\n",
    "\n",
    "5) Construcción del modelo\n",
    "\n",
    "6) Predicciones\n",
    "\n",
    "7) Evaluación del modelo\n"
   ]
  },
  {
   "cell_type": "code",
   "execution_count": null,
   "metadata": {},
   "outputs": [],
   "source": []
  },
  {
   "cell_type": "code",
   "execution_count": null,
   "metadata": {},
   "outputs": [],
   "source": []
  },
  {
   "cell_type": "code",
   "execution_count": null,
   "metadata": {},
   "outputs": [],
   "source": []
  }
 ],
 "metadata": {
  "kernelspec": {
   "display_name": "Python 3",
   "language": "python",
   "name": "python3"
  },
  "language_info": {
   "codemirror_mode": {
    "name": "ipython",
    "version": 3
   },
   "file_extension": ".py",
   "mimetype": "text/x-python",
   "name": "python",
   "nbconvert_exporter": "python",
   "pygments_lexer": "ipython3",
   "version": "3.8.5"
  }
 },
 "nbformat": 4,
 "nbformat_minor": 4
}
