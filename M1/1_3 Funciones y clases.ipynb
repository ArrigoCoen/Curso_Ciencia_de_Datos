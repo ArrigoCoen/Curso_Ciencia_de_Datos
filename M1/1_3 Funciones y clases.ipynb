{
 "cells": [
  {
   "cell_type": "markdown",
   "metadata": {},
   "source": [
    "# FUNCIONES Y CLASES\n",
    "\n",
    "En este archivo se encuentran los comandos para definir funciones y clases en Python."
   ]
  },
  {
   "cell_type": "markdown",
   "metadata": {},
   "source": [
    "### Funciones\n",
    "\n",
    "La estructura para definir funciones es la siguiente:\n",
    "\n",
    "def nombre_funcion():\n",
    "    código\n",
    "    \n",
    "Nota: Todo el código que querramos dentro de la función debe de tener sangría (indentación, espacio). Los espacios dependen de la profundidad del cógido realizado."
   ]
  },
  {
   "cell_type": "code",
   "execution_count": 8,
   "metadata": {},
   "outputs": [
    {
     "name": "stdout",
     "output_type": "stream",
     "text": [
      "Escribe un número:\n",
      "2\n",
      "Escribe un número:\n",
      "3\n",
      "2 + 3 = 5\n",
      "2 - 3 = -1\n",
      "2 * 3 = 6\n",
      "3 / 2 = 1.5\n"
     ]
    }
   ],
   "source": [
    "def calcu():\n",
    "    a = input(\"Escribe un número:\\n\")#Con la función 'input()' se lee lo que escribe el usuario\n",
    "    b = input(\"Escribe un número:\\n\")\n",
    "    # La 'f' antes de las comillas permite leer la variable que se encuentra en llaves '{}'.\n",
    "    print(f'{a} + {b} = {int(a)+int(b)}')\n",
    "    print(f'{a} - {b} = {int(a)-int(b)}')\n",
    "    print(f'{a} * {b} = {int(a)*int(b)}')\n",
    "    print(f'{b} / {a} = {int(b)/int(a)}')\n",
    "    \n",
    "calcu() #Se corre la función"
   ]
  },
  {
   "cell_type": "code",
   "execution_count": 9,
   "metadata": {},
   "outputs": [
    {
     "name": "stdout",
     "output_type": "stream",
     "text": [
      "2 + 5 = 7\n",
      "2 - 5 = -3\n",
      "2 * 5 = 10\n",
      "5 / 2 = 2.5\n"
     ]
    }
   ],
   "source": [
    "def calcu2(a,b):\n",
    "    # La 'f' antes de las comillas permite leer la variable que se encuentra en llaves '{}'.\n",
    "    print(f'{a} + {b} = {int(a)+int(b)}')\n",
    "    print(f'{a} - {b} = {int(a)-int(b)}')\n",
    "    print(f'{a} * {b} = {int(a)*int(b)}')\n",
    "    print(f'{b} / {a} = {int(b)/int(a)}')\n",
    "    \n",
    "calcu2(2,5) #Se corre la función con los parámetros pedidos"
   ]
  },
  {
   "cell_type": "code",
   "execution_count": 32,
   "metadata": {},
   "outputs": [
    {
     "name": "stdout",
     "output_type": "stream",
     "text": [
      "La puntuación de jugador 1 es: 19 \n",
      "\n",
      "La puntuación de jugador 2 es: 13 \n",
      "\n",
      "El ganador es el jugador 1\n"
     ]
    }
   ],
   "source": [
    "import random\n",
    "\n",
    "def dados(num):\n",
    "    #Se definen las variables que se van a utilizar\n",
    "    jug_1 = 0\n",
    "    jug_2 = 0\n",
    "    \n",
    "    #Se realiza un ciclo de tamaño 'num'\n",
    "    for i in range(1,num+1):\n",
    "        num_al1 = random.randint(1, 6)\n",
    "        num_al2 = random.randint(1, 6)\n",
    "        jug_1 += num_al1\n",
    "        jug_2 += num_al2\n",
    "    \n",
    "    #Se imprimen los resultados\n",
    "    print('La puntuación de jugador 1 es:',jug_1,'\\n')\n",
    "    print('La puntuación de jugador 2 es:',jug_2,'\\n')\n",
    "    if jug_1 > jug_2:\n",
    "        print('El ganador es el jugador 1')\n",
    "    else:\n",
    "        print('El ganador es el jugador 2')\n",
    "\n",
    "\n",
    "#Se corre la función con los parámetros pedidos\n",
    "dados(5)"
   ]
  },
  {
   "cell_type": "markdown",
   "metadata": {},
   "source": [
    "### Clases\n"
   ]
  },
  {
   "cell_type": "code",
   "execution_count": 33,
   "metadata": {},
   "outputs": [
    {
     "ename": "TypeError",
     "evalue": "Animal() takes no arguments",
     "output_type": "error",
     "traceback": [
      "\u001b[1;31m---------------------------------------------------------------------------\u001b[0m",
      "\u001b[1;31mTypeError\u001b[0m                                 Traceback (most recent call last)",
      "\u001b[1;32m<ipython-input-33-3c652d2f365f>\u001b[0m in \u001b[0;36m<module>\u001b[1;34m\u001b[0m\n\u001b[0;32m      5\u001b[0m         \u001b[0manimal\u001b[0m\u001b[1;33m.\u001b[0m\u001b[0mpatas\u001b[0m \u001b[1;33m=\u001b[0m \u001b[0mpatas\u001b[0m\u001b[1;33m\u001b[0m\u001b[1;33m\u001b[0m\u001b[0m\n\u001b[0;32m      6\u001b[0m \u001b[1;33m\u001b[0m\u001b[0m\n\u001b[1;32m----> 7\u001b[1;33m \u001b[0melefante\u001b[0m \u001b[1;33m=\u001b[0m \u001b[0mAnimal\u001b[0m\u001b[1;33m(\u001b[0m\u001b[1;34m\"mamífero\"\u001b[0m\u001b[1;33m,\u001b[0m\u001b[1;34m\"gris\"\u001b[0m\u001b[1;33m,\u001b[0m\u001b[1;36m4\u001b[0m\u001b[1;33m)\u001b[0m\u001b[1;33m\u001b[0m\u001b[1;33m\u001b[0m\u001b[0m\n\u001b[0m\u001b[0;32m      8\u001b[0m \u001b[0mprint\u001b[0m\u001b[1;33m(\u001b[0m\u001b[0melefante\u001b[0m\u001b[1;33m.\u001b[0m\u001b[0mtipo\u001b[0m\u001b[1;33m,\u001b[0m\u001b[0melefante\u001b[0m\u001b[1;33m.\u001b[0m\u001b[0mcolor\u001b[0m\u001b[1;33m,\u001b[0m\u001b[0melefante\u001b[0m\u001b[1;33m.\u001b[0m\u001b[0mpatas\u001b[0m\u001b[1;33m)\u001b[0m\u001b[1;33m\u001b[0m\u001b[1;33m\u001b[0m\u001b[0m\n",
      "\u001b[1;31mTypeError\u001b[0m: Animal() takes no arguments"
     ]
    }
   ],
   "source": [
    "class Animal:\n",
    "    def __inti__(animal,tipo,color,patas):\n",
    "        animal.tipo = tipo\n",
    "        animal.color = color\n",
    "        animal.patas = patas\n",
    "    \n",
    "elefante = Animal(\"mamífero\",\"gris\",4)\n",
    "print(elefante.tipo,elefante.color,elefante.patas)"
   ]
  },
  {
   "cell_type": "code",
   "execution_count": null,
   "metadata": {},
   "outputs": [],
   "source": []
  }
 ],
 "metadata": {
  "kernelspec": {
   "display_name": "Python 3",
   "language": "python",
   "name": "python3"
  },
  "language_info": {
   "codemirror_mode": {
    "name": "ipython",
    "version": 3
   },
   "file_extension": ".py",
   "mimetype": "text/x-python",
   "name": "python",
   "nbconvert_exporter": "python",
   "pygments_lexer": "ipython3",
   "version": "3.8.5"
  }
 },
 "nbformat": 4,
 "nbformat_minor": 4
}
