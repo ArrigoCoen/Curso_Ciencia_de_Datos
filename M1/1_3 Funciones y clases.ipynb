{
 "cells": [
  {
   "cell_type": "markdown",
   "metadata": {},
   "source": [
    "# FUNCIONES Y CLASES\n",
    "\n",
    "En este archivo se encuentran los comandos para definir funciones y clases en Python."
   ]
  },
  {
   "cell_type": "markdown",
   "metadata": {},
   "source": [
    "## Funciones\n",
    "\n",
    "La estructura para definir funciones es la siguiente:\n",
    "\n",
    "def _nombre_funcion_ **():**\n",
    "    \n",
    "    '''Explicación de lo que hace la función'''\n",
    "    \n",
    "    código\n",
    "    \n",
    "Nota: Todo el código que querramos dentro de la función debe de tener sangría (indentación, espacio).\n",
    "\n",
    "Los espacios dependen de la profundidad del código realizado."
   ]
  },
  {
   "cell_type": "code",
   "execution_count": 16,
   "metadata": {},
   "outputs": [
    {
     "name": "stdout",
     "output_type": "stream",
     "text": [
      "Escribe un número:\n",
      "3.8\n",
      "Escribe un número:\n",
      "4.2\n",
      "3.8 + 4.2 = 8.0\n",
      "3.8 - 4.2 = -0.40000000000000036\n",
      "3.8 * 4.2 = 15.959999999999999\n",
      "4.2 / 3.8 = 1.105263157894737\n"
     ]
    }
   ],
   "source": [
    "#Función sin parámetros\n",
    "\n",
    "def calcu():\n",
    "    '''Esta función pregunta al usuario 2 números a y b.\n",
    "    Realiza operaciones elementales con a y b'''\n",
    "    a = input(\"Escribe un número:\\n\")#Con la función 'input()' se lee lo que escribe el usuario\n",
    "    b = input(\"Escribe un número:\\n\")\n",
    "    # La 'f' antes de las comillas permite leer la variable que se encuentra en llaves '{}'.\n",
    "    print(f'{a} + {b} = {float(a)+float(b)}')\n",
    "    print(f'{a} - {b} = {float(a)-float(b)}')\n",
    "    print(f'{a} * {b} = {float(a)*float(b)}')\n",
    "    print(f'{b} / {a} = {float(b)/float(a)}')\n",
    "    \n",
    "calcu() #Se corre la función"
   ]
  },
  {
   "cell_type": "code",
   "execution_count": 20,
   "metadata": {},
   "outputs": [
    {
     "name": "stdout",
     "output_type": "stream",
     "text": [
      "2.8 + 7.5 = 10.3\n",
      "2.8 - 7.5 = -4.7\n",
      "2.8 * 7.5 = 21.0\n",
      "7.5 / 2.8 = 2.678571428571429\n"
     ]
    }
   ],
   "source": [
    "#Función con parámetros\n",
    "\n",
    "def calcu2(a,b):\n",
    "    '''Esta función recibe 2 parámetros, los números a y b.\n",
    "    Realiza operaciones elementales con a y b'''\n",
    "    # La 'f' antes de las comillas permite leer la variable que se encuentra en llaves '{}'.\n",
    "    print(f'{a} + {b} = {float(a)+float(b)}')\n",
    "    print(f'{a} - {b} = {float(a)-float(b)}')\n",
    "    print(f'{a} * {b} = {float(a)*float(b)}')\n",
    "    print(f'{b} / {a} = {float(b)/float(a)}')\n",
    "    \n",
    "calcu2(2.8,7.5) #Se corre la función con los parámetros pedidos"
   ]
  },
  {
   "cell_type": "code",
   "execution_count": 38,
   "metadata": {},
   "outputs": [
    {
     "name": "stdout",
     "output_type": "stream",
     "text": [
      "La puntuación de jugador 1 es: 23 \n",
      "\n",
      "La puntuación de jugador 2 es: 16 \n",
      "\n",
      "El ganador es el jugador 1\n"
     ]
    }
   ],
   "source": [
    "import random\n",
    "\n",
    "#Función con varios niveles de indentación\n",
    "\n",
    "def dados(num):\n",
    "    '''Esta función recibe un número entero como parámetro.\n",
    "    Simula un juego de dados. Se tienen 2 jugadores.\n",
    "    El número de tiradas de dados es \"num\".\n",
    "    Se suman los resultados por cada turno e imprime \n",
    "    las puntuaciones y el ganador. '''\n",
    "    #Se definen las variables que se van a utilizar\n",
    "    jug_1 = 0\n",
    "    jug_2 = 0\n",
    "    \n",
    "    #Se realiza un ciclo de tamaño 'num'\n",
    "    for i in range(1,num+1):\n",
    "        num_al1 = random.randint(1, 6)\n",
    "        num_al2 = random.randint(1, 6)\n",
    "        jug_1 += num_al1\n",
    "        jug_2 += num_al2\n",
    "    \n",
    "    #Se imprimen los resultados\n",
    "    print('La puntuación de jugador 1 es:',jug_1,'\\n')\n",
    "    print('La puntuación de jugador 2 es:',jug_2,'\\n')\n",
    "    if jug_1 > jug_2:\n",
    "        print('El ganador es el jugador 1')\n",
    "    elif jug_1 == jug_2:\n",
    "        print('Hubo un empate')\n",
    "    else:\n",
    "        print('El ganador es el jugador 2')\n",
    "\n",
    "\n",
    "#Se corre la función con los parámetros pedidos\n",
    "dados(5)"
   ]
  },
  {
   "cell_type": "markdown",
   "metadata": {},
   "source": [
    "### Funciones lambda\n",
    "\n",
    "Son funciones que permiten múltiples argumentos pero tienen una única acción.\n",
    "\n",
    "La estructura es:\n",
    "    \n",
    "_nombre_funcion_ = lambda _argumentos_ **:** acción"
   ]
  },
  {
   "cell_type": "code",
   "execution_count": 22,
   "metadata": {},
   "outputs": [
    {
     "name": "stdout",
     "output_type": "stream",
     "text": [
      "6.4\n"
     ]
    }
   ],
   "source": [
    "multiplica = lambda a, b : a * b\n",
    "print(multiplica(3.2, 2))"
   ]
  },
  {
   "cell_type": "markdown",
   "metadata": {},
   "source": [
    "## _Class_ (Clase)\n",
    "\n",
    "Las clases se utilizan para crear objetos en Python. La estructura es:\n",
    "\n",
    "class _nombre_clase_ **:**\n",
    "    \n",
    "    Propiedades #Con sangría\n"
   ]
  },
  {
   "cell_type": "code",
   "execution_count": 24,
   "metadata": {},
   "outputs": [
    {
     "name": "stdout",
     "output_type": "stream",
     "text": [
      "Soy una fruta\n"
     ]
    }
   ],
   "source": [
    "class Fruta:\n",
    "    texto = \"Soy una fruta\"\n",
    "    \n",
    "f = Fruta()\n",
    "print(f.texto)"
   ]
  },
  {
   "cell_type": "markdown",
   "metadata": {},
   "source": [
    "### Función __ init __()\n",
    "\n",
    "La función \"__ init __ ()\" permite asignar valores u operaciones a las propiedades de los objetos.\n",
    "\n",
    "La estructura dentro de una clase es:\n",
    "\n",
    "class _nombre_clase_ **:**\n",
    "\n",
    "    def __init__(self, prop_1, prop_2, prop_3):\n",
    "        \n",
    "        self.prop_1 = prop_1\n",
    "        \n",
    "        self.prop_2 = prop_2\n",
    "        \n",
    "        self.prop_3 = prop_3\n",
    "    \n",
    "El parámetro _self_ de la función \"__ init __ ()\", se refiere al objeto que se crea de la propia clase. Permite acceder a las propiedades y a los métodos de la clase.\n",
    "\n",
    "Los parámetros _prop_1, prop_2, ..._ son las propiedades o atributos del objeto.\n"
   ]
  },
  {
   "cell_type": "code",
   "execution_count": 28,
   "metadata": {},
   "outputs": [
    {
     "name": "stdout",
     "output_type": "stream",
     "text": [
      "Elefante\n",
      "mamífero\n",
      "gris\n",
      "4\n",
      "Tigre\n",
      "mamífero\n",
      "rayado\n",
      "4\n"
     ]
    }
   ],
   "source": [
    "class Animal:\n",
    "    def __init__(animal,nombre,tipo,color,patas):\n",
    "        animal.nombre = nombre\n",
    "        animal.tipo = tipo\n",
    "        animal.color = color\n",
    "        animal.patas = patas\n",
    "    \n",
    "a1 = Animal(\"Elefante\",\"mamífero\",\"gris\",4) #Se define un objeto de la clase \"Animal\"\n",
    "print(a1.nombre)\n",
    "print(a1.tipo)\n",
    "print(a1.color)\n",
    "print(a1.patas)\n",
    "\n",
    "a2 = Animal(\"Tigre\",\"mamífero\",\"rayado\",4) #Se define un objeto de la clase \"Animal\"\n",
    "print(a2.nombre)\n",
    "print(a2.tipo)\n",
    "print(a2.color)\n",
    "print(a2.patas)"
   ]
  },
  {
   "cell_type": "markdown",
   "metadata": {},
   "source": [
    "### _Methods_ (Métodos)\n",
    "\n",
    "Los métodos de una clase son funciones que pertenecen al objeto.\n",
    "\n",
    "\n",
    "La estructura dentro de una clase es:\n",
    "\n",
    "class _nombre_clase_ **:**\n",
    "\n",
    "    def __init__(self, propiedades):\n",
    "        \n",
    "        self.propiedades = propiedades\n",
    "    \n",
    "    def nombre_metodo:\n",
    "        \n",
    "        acciones"
   ]
  },
  {
   "cell_type": "code",
   "execution_count": 203,
   "metadata": {},
   "outputs": [],
   "source": [
    "class Persona:\n",
    "    def __init__(persona,nombre,edad):\n",
    "        persona.nombre = nombre\n",
    "        persona.edad = edad\n",
    "    \n",
    "    def saludo(persona):\n",
    "        print(\"Hola, mi nombre es \",persona.nombre,\" y tengo \",persona.edad,\" años.\")\n",
    "        \n",
    "    def despedida(persona,amigo):\n",
    "        print(\"Adiós \",amigo)"
   ]
  },
  {
   "cell_type": "code",
   "execution_count": 32,
   "metadata": {},
   "outputs": [
    {
     "name": "stdout",
     "output_type": "stream",
     "text": [
      "Hola, mi nombre es  Juan  y tengo  18  años.\n",
      "Adiós  Pablo\n",
      "Juan\n",
      "18\n"
     ]
    }
   ],
   "source": [
    "#Se define un objeto de la clase \"Persona\"\n",
    "p1 = Persona(\"Juan\", 18)\n",
    "p1.saludo()\n",
    "p1.despedida(\"Pablo\")\n",
    "\n",
    "print(p1.nombre)\n",
    "print(p1.edad)"
   ]
  },
  {
   "cell_type": "code",
   "execution_count": 33,
   "metadata": {},
   "outputs": [
    {
     "name": "stdout",
     "output_type": "stream",
     "text": [
      "Hola, mi nombre es  Juan  y tengo  18  años.\n",
      "Hola, mi nombre es  Antonio  y tengo  18  años.\n"
     ]
    }
   ],
   "source": [
    "# Modificar las propiedades de un objeto\n",
    "p1.saludo()\n",
    "p1.nombre = \"Antonio\"\n",
    "p1.saludo()"
   ]
  },
  {
   "cell_type": "code",
   "execution_count": 34,
   "metadata": {},
   "outputs": [
    {
     "name": "stdout",
     "output_type": "stream",
     "text": [
      "Hola, mi nombre es  Antonio  y tengo  18  años.\n"
     ]
    },
    {
     "ename": "AttributeError",
     "evalue": "'Persona' object has no attribute 'edad'",
     "output_type": "error",
     "traceback": [
      "\u001b[1;31m---------------------------------------------------------------------------\u001b[0m",
      "\u001b[1;31mAttributeError\u001b[0m                            Traceback (most recent call last)",
      "\u001b[1;32m<ipython-input-34-a2b9cc7d1add>\u001b[0m in \u001b[0;36m<module>\u001b[1;34m\u001b[0m\n\u001b[0;32m      2\u001b[0m \u001b[0mp1\u001b[0m\u001b[1;33m.\u001b[0m\u001b[0msaludo\u001b[0m\u001b[1;33m(\u001b[0m\u001b[1;33m)\u001b[0m\u001b[1;33m\u001b[0m\u001b[1;33m\u001b[0m\u001b[0m\n\u001b[0;32m      3\u001b[0m \u001b[1;32mdel\u001b[0m \u001b[0mp1\u001b[0m\u001b[1;33m.\u001b[0m\u001b[0medad\u001b[0m\u001b[1;33m\u001b[0m\u001b[1;33m\u001b[0m\u001b[0m\n\u001b[1;32m----> 4\u001b[1;33m \u001b[0mp1\u001b[0m\u001b[1;33m.\u001b[0m\u001b[0msaludo\u001b[0m\u001b[1;33m(\u001b[0m\u001b[1;33m)\u001b[0m \u001b[1;31m#Marca error porque borramos una propiedad utilizada en el método \"saludo\"\u001b[0m\u001b[1;33m\u001b[0m\u001b[1;33m\u001b[0m\u001b[0m\n\u001b[0m",
      "\u001b[1;32m<ipython-input-30-6ead4071b57d>\u001b[0m in \u001b[0;36msaludo\u001b[1;34m(persona)\u001b[0m\n\u001b[0;32m      5\u001b[0m \u001b[1;33m\u001b[0m\u001b[0m\n\u001b[0;32m      6\u001b[0m     \u001b[1;32mdef\u001b[0m \u001b[0msaludo\u001b[0m\u001b[1;33m(\u001b[0m\u001b[0mpersona\u001b[0m\u001b[1;33m)\u001b[0m\u001b[1;33m:\u001b[0m\u001b[1;33m\u001b[0m\u001b[1;33m\u001b[0m\u001b[0m\n\u001b[1;32m----> 7\u001b[1;33m         \u001b[0mprint\u001b[0m\u001b[1;33m(\u001b[0m\u001b[1;34m\"Hola, mi nombre es \"\u001b[0m\u001b[1;33m,\u001b[0m\u001b[0mpersona\u001b[0m\u001b[1;33m.\u001b[0m\u001b[0mnombre\u001b[0m\u001b[1;33m,\u001b[0m\u001b[1;34m\" y tengo \"\u001b[0m\u001b[1;33m,\u001b[0m\u001b[0mpersona\u001b[0m\u001b[1;33m.\u001b[0m\u001b[0medad\u001b[0m\u001b[1;33m,\u001b[0m\u001b[1;34m\" años.\"\u001b[0m\u001b[1;33m)\u001b[0m\u001b[1;33m\u001b[0m\u001b[1;33m\u001b[0m\u001b[0m\n\u001b[0m\u001b[0;32m      8\u001b[0m \u001b[1;33m\u001b[0m\u001b[0m\n\u001b[0;32m      9\u001b[0m     \u001b[1;32mdef\u001b[0m \u001b[0mdespedida\u001b[0m\u001b[1;33m(\u001b[0m\u001b[0mpersona\u001b[0m\u001b[1;33m,\u001b[0m\u001b[0mamigo\u001b[0m\u001b[1;33m)\u001b[0m\u001b[1;33m:\u001b[0m\u001b[1;33m\u001b[0m\u001b[1;33m\u001b[0m\u001b[0m\n",
      "\u001b[1;31mAttributeError\u001b[0m: 'Persona' object has no attribute 'edad'"
     ]
    }
   ],
   "source": [
    "# Borrar las propiedades de un objeto\n",
    "p1.saludo()\n",
    "del p1.edad\n",
    "p1.saludo() #Marca error porque borramos una propiedad utilizada en el método \"saludo\""
   ]
  },
  {
   "cell_type": "code",
   "execution_count": 35,
   "metadata": {},
   "outputs": [
    {
     "name": "stdout",
     "output_type": "stream",
     "text": [
      "Antonio\n"
     ]
    },
    {
     "ename": "NameError",
     "evalue": "name 'p1' is not defined",
     "output_type": "error",
     "traceback": [
      "\u001b[1;31m---------------------------------------------------------------------------\u001b[0m",
      "\u001b[1;31mNameError\u001b[0m                                 Traceback (most recent call last)",
      "\u001b[1;32m<ipython-input-35-465d34f92bfb>\u001b[0m in \u001b[0;36m<module>\u001b[1;34m\u001b[0m\n\u001b[0;32m      2\u001b[0m \u001b[0mprint\u001b[0m\u001b[1;33m(\u001b[0m\u001b[0mp1\u001b[0m\u001b[1;33m.\u001b[0m\u001b[0mnombre\u001b[0m\u001b[1;33m)\u001b[0m\u001b[1;33m\u001b[0m\u001b[1;33m\u001b[0m\u001b[0m\n\u001b[0;32m      3\u001b[0m \u001b[1;32mdel\u001b[0m \u001b[0mp1\u001b[0m\u001b[1;33m\u001b[0m\u001b[1;33m\u001b[0m\u001b[0m\n\u001b[1;32m----> 4\u001b[1;33m \u001b[0mprint\u001b[0m\u001b[1;33m(\u001b[0m\u001b[0mp1\u001b[0m\u001b[1;33m.\u001b[0m\u001b[0mnombre\u001b[0m\u001b[1;33m)\u001b[0m \u001b[1;31m#Marca error porque borramos el objeto p1\u001b[0m\u001b[1;33m\u001b[0m\u001b[1;33m\u001b[0m\u001b[0m\n\u001b[0m",
      "\u001b[1;31mNameError\u001b[0m: name 'p1' is not defined"
     ]
    }
   ],
   "source": [
    "# Borrar un objeto de una clase\n",
    "print(p1.nombre)\n",
    "del p1\n",
    "print(p1.nombre) #Marca error porque borramos el objeto p1"
   ]
  },
  {
   "cell_type": "markdown",
   "metadata": {},
   "source": [
    "### _Inheritance_ (Herencia)\n",
    "\n",
    "La herencia permite que una clase \"Hijo\" tenga (herede) todas las propiedades y métodos de una clase \"Padre\".\n",
    "\n",
    "Se pueden incluir propiedades nuevas a la clase \"Hijo\".\n",
    "\n",
    "La clase \"Padre\" también es llamada clase base. La clase \"Hijo\" también es llamada clase derivada.\n",
    "\n",
    "La estructura es:\n",
    "\n",
    "class nom_clase_Padre **:**\n",
    "\n",
    "    Propiedades_Base #Con sangría\n",
    "    \n",
    "\n",
    "class nom_clase_Hijo **(nom_clase_Padre):**\n",
    "\n",
    "    Propiedades_Hijo #Con sangría"
   ]
  },
  {
   "cell_type": "code",
   "execution_count": 221,
   "metadata": {},
   "outputs": [],
   "source": [
    "# Clase \"Padre\"\n",
    "class Poligono:\n",
    "    def __init__(poligono, lados):#Constructor de la clase \"Poligono\"\n",
    "        poligono.lados = lados\n",
    "        poligono.medidas = [float(input(\"Ingresa la medida del lado \"+str(i+1)+\": \")) for i in range(poligono.lados)]\n",
    "\n",
    "    def imprime_medidas(poligono):\n",
    "        for i in range(poligono.lados):\n",
    "            print(\"El lado \",i+1,\" mide \",poligono.medidas[i])"
   ]
  },
  {
   "cell_type": "code",
   "execution_count": 222,
   "metadata": {},
   "outputs": [
    {
     "name": "stdout",
     "output_type": "stream",
     "text": [
      "Ingresa la medida del lado 1: 1\n",
      "Ingresa la medida del lado 2: 2\n",
      "Ingresa la medida del lado 3: 3\n",
      "Ingresa la medida del lado 4: 4\n",
      "Ingresa la medida del lado 5: 5\n",
      "El lado  1  mide  1.0\n",
      "El lado  2  mide  2.0\n",
      "El lado  3  mide  3.0\n",
      "El lado  4  mide  4.0\n",
      "El lado  5  mide  5.0\n",
      "5\n",
      "[1.0, 2.0, 3.0, 4.0, 5.0]\n"
     ]
    }
   ],
   "source": [
    "p = Poligono(5)\n",
    "p.imprime_medidas()\n",
    "print(p.lados)\n",
    "print(p.medidas)"
   ]
  },
  {
   "cell_type": "code",
   "execution_count": 224,
   "metadata": {},
   "outputs": [],
   "source": [
    "# Clase \"Hijo\"\n",
    "class Cuadrado(Poligono): #se indica que la clase \"Cuadrado\" hereda de la clase \"Poligono\"\n",
    "    def __init__(cuad): #Constructor de la clase \"Cuadrado\"\n",
    "        Poligono.__init__(cuad,4) #Se define lo que se hereda del Padre\n",
    "    \n",
    "    def calcula_area(cuad): #Método de los objetos de la clase \"Cuadrado\"\n",
    "        a,b,c,d = cuad.medidas\n",
    "        area = a**2\n",
    "        print(\"El área del cuadrado es: \",area)"
   ]
  },
  {
   "cell_type": "code",
   "execution_count": 225,
   "metadata": {},
   "outputs": [
    {
     "name": "stdout",
     "output_type": "stream",
     "text": [
      "Ingresa la medida del lado 1: 4\n",
      "Ingresa la medida del lado 2: 4\n",
      "Ingresa la medida del lado 3: 4\n",
      "Ingresa la medida del lado 4: 4\n",
      "El lado  1  mide  4.0\n",
      "El lado  2  mide  4.0\n",
      "El lado  3  mide  4.0\n",
      "El lado  4  mide  4.0\n",
      "El área del cuadrado es:  16.0\n"
     ]
    }
   ],
   "source": [
    "c = Cuadrado()\n",
    "c.imprime_medidas()\n",
    "c.calcula_area()"
   ]
  },
  {
   "cell_type": "code",
   "execution_count": 226,
   "metadata": {
    "scrolled": true
   },
   "outputs": [
    {
     "name": "stdout",
     "output_type": "stream",
     "text": [
      "Help on class Cuadrado in module __main__:\n",
      "\n",
      "class Cuadrado(Poligono)\n",
      " |  Method resolution order:\n",
      " |      Cuadrado\n",
      " |      Poligono\n",
      " |      builtins.object\n",
      " |  \n",
      " |  Methods defined here:\n",
      " |  \n",
      " |  __init__(cuad)\n",
      " |      Initialize self.  See help(type(self)) for accurate signature.\n",
      " |  \n",
      " |  calcula_area(cuad)\n",
      " |  \n",
      " |  ----------------------------------------------------------------------\n",
      " |  Methods inherited from Poligono:\n",
      " |  \n",
      " |  imprime_medidas(poligono)\n",
      " |  \n",
      " |  ----------------------------------------------------------------------\n",
      " |  Data descriptors inherited from Poligono:\n",
      " |  \n",
      " |  __dict__\n",
      " |      dictionary for instance variables (if defined)\n",
      " |  \n",
      " |  __weakref__\n",
      " |      list of weak references to the object (if defined)\n",
      "\n",
      "None\n"
     ]
    }
   ],
   "source": [
    "print(help(Cuadrado))"
   ]
  },
  {
   "cell_type": "code",
   "execution_count": 228,
   "metadata": {},
   "outputs": [],
   "source": [
    "#Multiherencia: Una clase hereda de más de una clase Padre\n",
    "\n",
    "# Clase Padre 1\n",
    "class Persona:\n",
    "    def __init__(self,nombre,edad):\n",
    "        self.nombre = nombre\n",
    "        self.edad = edad\n",
    "    \n",
    "    def saludo(self):\n",
    "        print(\"Hola, mi nombre es \",self.nombre,\" y tengo \",self.edad,\" años.\\n\")\n",
    "        \n",
    "    def despedida(self,amigo):\n",
    "        print(\"Adiós \",amigo)"
   ]
  },
  {
   "cell_type": "code",
   "execution_count": 229,
   "metadata": {},
   "outputs": [
    {
     "name": "stdout",
     "output_type": "stream",
     "text": [
      "Hola, mi nombre es  Juan  y tengo  18  años.\n",
      "\n",
      "Adiós  Pablo\n"
     ]
    }
   ],
   "source": [
    "p1 = Persona(\"Juan\",18)\n",
    "p1.saludo()\n",
    "p1.despedida(\"Pablo\")\n",
    "#print(p1.nombre)\n",
    "#print(p1.edad)"
   ]
  },
  {
   "cell_type": "code",
   "execution_count": 231,
   "metadata": {},
   "outputs": [],
   "source": [
    "#Clase Padre 2\n",
    "class Habilidades:\n",
    "    def __init__(self,hab1,hab2,hab3):\n",
    "        self.hab1 = hab1\n",
    "        self.hab2 = hab2\n",
    "        self.hab3 = hab3\n",
    "        \n",
    "    def muestra_hab(self):\n",
    "        habs = self.hab1,self.hab2,self.hab3 #Tuple\n",
    "        for i in range(0,len(habs)):\n",
    "            print(\"Mi habilidad \",i+1,\" es: \",habs[i])"
   ]
  },
  {
   "cell_type": "code",
   "execution_count": 232,
   "metadata": {},
   "outputs": [
    {
     "name": "stdout",
     "output_type": "stream",
     "text": [
      "Mi habilidad  1  es:  Escribir\n",
      "Mi habilidad  2  es:  Dibujar\n",
      "Mi habilidad  3  es:  Contar\n"
     ]
    }
   ],
   "source": [
    "habs1 = Habilidades(\"Escribir\",\"Dibujar\",\"Contar\")\n",
    "habs1.muestra_hab()"
   ]
  },
  {
   "cell_type": "code",
   "execution_count": 235,
   "metadata": {},
   "outputs": [],
   "source": [
    "#Clase Hijo\n",
    "class Estudiante(Persona,Habilidades):\n",
    "    #Constructor de la clase hijo\n",
    "    def __init__(self,nombre,edad, #Propiedades de la clase \"Persona\"\n",
    "                 hab1,hab2,hab3, #Propiedades de la clase \"Habilidades\"\n",
    "                 carrera,num_cuenta): #Propiedades de la clase \"Estudiante\"\n",
    "        \n",
    "        Persona.__init__(self,nombre,edad) #Constructor de la clase \"Persona\"\n",
    "        Habilidades.__init__(self,hab1,hab2,hab3) #Constructor de la clase \"Habilidades\"\n",
    "        \n",
    "        #Propiedades de \"Estudiante\"\n",
    "        self.carrera = carrera\n",
    "        self.num_cuenta= num_cuenta\n",
    "        \n",
    "    def datos(self):\n",
    "        self.saludo()\n",
    "        self.muestra_hab()\n",
    "        print(\"\\nEstudio \",self.carrera,\" y mi número de cuenta es: \",self.num_cuenta)"
   ]
  },
  {
   "cell_type": "code",
   "execution_count": 234,
   "metadata": {},
   "outputs": [
    {
     "name": "stdout",
     "output_type": "stream",
     "text": [
      "Hola, mi nombre es  Juan  y tengo  18  años.\n",
      "\n",
      "Mi habilidad  1  es:  Escribir\n",
      "Mi habilidad  2  es:  Dibujar\n",
      "Mi habilidad  3  es:  Contar\n",
      "\n",
      "Estudio  Matemáticas  y mi número de cuenta es:  1234\n",
      "Juan\n",
      "18\n",
      "Escribir\n",
      "Dibujar\n",
      "Contar\n",
      "Matemáticas\n",
      "1234\n"
     ]
    }
   ],
   "source": [
    "e1 = Estudiante(\"Juan\",18,\"Escribir\",\"Dibujar\",\"Contar\",\"Matemáticas\",1234)\n",
    "e1.datos()\n",
    "\n",
    "#Atributos heredados de la clase \"Persona\"\n",
    "print(e1.nombre)\n",
    "print(e1.edad)\n",
    "\n",
    "#Atributos heredados de la clase \"Habilidades\"\n",
    "print(e1.hab1)\n",
    "print(e1.hab2)\n",
    "print(e1.hab3)\n",
    "\n",
    "#Atributos de la clase \"Estudiante\"\n",
    "print(e1.carrera)\n",
    "print(e1.num_cuenta)"
   ]
  },
  {
   "cell_type": "code",
   "execution_count": 237,
   "metadata": {},
   "outputs": [],
   "source": [
    "# Clase Padre 1\n",
    "class Rectangulo():\n",
    "    def __init__(self,base,altura):\n",
    "        self.base = float(base)\n",
    "        self.altura = float(altura)\n",
    "        self.perim_r = round((2*self.base)+(2*self.altura),2)\n",
    "        self.area_r = round(self.base*self.altura,2)\n",
    "    \n",
    "    def perim_rect(self):\n",
    "        print(\"El perímetro es: \",self.perim_r)\n",
    "    \n",
    "    def area_rect(self):\n",
    "        print(\"El área es: \",self.area_r)"
   ]
  },
  {
   "cell_type": "code",
   "execution_count": 238,
   "metadata": {},
   "outputs": [
    {
     "name": "stdout",
     "output_type": "stream",
     "text": [
      "El perímetro es:  27.0\n",
      "El área es:  44.0\n",
      "27.0\n",
      "44.0\n"
     ]
    }
   ],
   "source": [
    "r1 = Rectangulo(5.5,8)\n",
    "r1.perim_rect()\n",
    "r1.area_rect()\n",
    "\n",
    "print(r1.perim_r)\n",
    "print(r1.area_r)"
   ]
  },
  {
   "cell_type": "code",
   "execution_count": 239,
   "metadata": {},
   "outputs": [],
   "source": [
    "# Clase Hijo 1 / Padre 2\n",
    "class Cuadrado(Rectangulo): #Hereda del Padre 1\n",
    "    def __init__(self,base):\n",
    "        Rectangulo.__init__(self,base,base)\n",
    "    \n",
    "    def medidas(self):\n",
    "        self.perim_rect()\n",
    "        self.area_rect()"
   ]
  },
  {
   "cell_type": "code",
   "execution_count": 240,
   "metadata": {},
   "outputs": [
    {
     "name": "stdout",
     "output_type": "stream",
     "text": [
      "El perímetro es:  12.8\n",
      "El área es:  10.24\n",
      "12.8\n",
      "10.24\n"
     ]
    }
   ],
   "source": [
    "c1 = Cuadrado(3.2)\n",
    "c1.medidas()\n",
    "\n",
    "print(c1.perim_r)\n",
    "print(c1.area_r)"
   ]
  },
  {
   "cell_type": "code",
   "execution_count": 242,
   "metadata": {},
   "outputs": [],
   "source": [
    "# Clase Padre 3\n",
    "class Triangulo():\n",
    "    def __init__(self,lado,altura_t):\n",
    "        self.lado = float(lado)\n",
    "        self.altura_t = float(altura_t)\n",
    "        self.perim_t = round(3*self.lado,2)\n",
    "        self.area_t = round((self.lado*self.altura_t)/2,2)\n",
    "    \n",
    "    def perim_tri(self):\n",
    "        print(\"El perímetro es: \",self.perim_t)\n",
    "    \n",
    "    def area_tri(self):\n",
    "        print(\"El área es: \",self.area_t)"
   ]
  },
  {
   "cell_type": "code",
   "execution_count": 243,
   "metadata": {},
   "outputs": [
    {
     "name": "stdout",
     "output_type": "stream",
     "text": [
      "El perímetro es:  9.0\n",
      "El área es:  6.0\n",
      "9.0\n",
      "6.0\n"
     ]
    }
   ],
   "source": [
    "t1 = Triangulo(3,4)\n",
    "t1.perim_tri()\n",
    "t1.area_tri()\n",
    "\n",
    "print(t1.perim_t)\n",
    "print(t1.area_t)"
   ]
  },
  {
   "cell_type": "code",
   "execution_count": 246,
   "metadata": {},
   "outputs": [],
   "source": [
    "# Clase Hijo 2\n",
    "class Piramide_Cuad(Cuadrado,Triangulo):\n",
    "    def __init__(self,base,altura_t):\n",
    "        Cuadrado.__init__(self,base)\n",
    "        Triangulo.__init__(self,base,altura_t)\n",
    "        self.area_s = self.area_r + (4*self.area_t)\n",
    "        \n",
    "    def medidas(self):\n",
    "        print(\"\\nEl lado del cuadrado mide: \",self.base,\" = base del triángulo\")\n",
    "        print(\"\\nLa altura del triángulo es: \",self.altura_t)\n",
    "        print(\"\\nEl área del cuadrado es: \",self.area_r)\n",
    "        print(\"\\nEl área del triángulo es:\",self.area_t)\n",
    "        \n",
    "    def area_superficial(self):\n",
    "        print(\"\\nEl área de la superficie es \",self.area_s)"
   ]
  },
  {
   "cell_type": "code",
   "execution_count": 247,
   "metadata": {},
   "outputs": [
    {
     "name": "stdout",
     "output_type": "stream",
     "text": [
      "\n",
      "El lado del cuadrado mide:  3.0  = base del triángulo\n",
      "\n",
      "La altura del triángulo es:  5.0\n",
      "\n",
      "El área del cuadrado es:  9.0\n",
      "\n",
      "El área del triángulo es: 7.5\n",
      "\n",
      "El área de la superficie es  39.0\n"
     ]
    }
   ],
   "source": [
    "pc = Piramide_Cuad(3,5)\n",
    "pc.medidas()\n",
    "pc.area_superficial()"
   ]
  },
  {
   "cell_type": "markdown",
   "metadata": {},
   "source": [
    "### Módulos\n",
    "\n",
    "Son archivos _.py_ en los que se guardan funciones, variables (tuples, listas, ...), clases, objetos.\n",
    "\n",
    "Se utiliza como una libería.\n",
    "\n",
    "[Modules](https://docs.python.org/3/tutorial/modules.html)"
   ]
  },
  {
   "cell_type": "code",
   "execution_count": 248,
   "metadata": {},
   "outputs": [],
   "source": [
    "# Cargar módulo\n",
    "import ej_modulo\n",
    "\n",
    "# Volver a cargar el módulo\n",
    "#import importlib\n",
    "#importlib.reload(ej_modulo)"
   ]
  },
  {
   "cell_type": "code",
   "execution_count": 249,
   "metadata": {},
   "outputs": [
    {
     "data": {
      "text/plain": [
       "['Estudiante',\n",
       " 'Habilidades',\n",
       " 'Persona',\n",
       " '__builtins__',\n",
       " '__cached__',\n",
       " '__doc__',\n",
       " '__file__',\n",
       " '__loader__',\n",
       " '__name__',\n",
       " '__package__',\n",
       " '__spec__',\n",
       " 'calcu',\n",
       " 'calcu2',\n",
       " 'calculadora',\n",
       " 'calculadora2',\n",
       " 'dic1',\n",
       " 'dic2',\n",
       " 'e1']"
      ]
     },
     "execution_count": 249,
     "metadata": {},
     "output_type": "execute_result"
    }
   ],
   "source": [
    "# Ver lo que contiene el módulo\n",
    "dir(ej_modulo)"
   ]
  },
  {
   "cell_type": "code",
   "execution_count": 251,
   "metadata": {},
   "outputs": [
    {
     "name": "stdout",
     "output_type": "stream",
     "text": [
      "3.2 + 5 = 8.2\n",
      "3.2 - 5 = -1.7999999999999998\n",
      "3.2 * 5 = 16.0\n",
      "5 / 3.2 = 1.5625\n",
      "Hola, mi nombre es  Juan  y tengo  18  años.\n",
      "\n",
      "Mi habilidad  1  es:  Escribir\n",
      "Mi habilidad  2  es:  Dibujar\n",
      "Mi habilidad  3  es:  Contar\n",
      "\n",
      "Estudio  Matemáticas  y mi número de cuenta es:  1234\n",
      "None\n"
     ]
    }
   ],
   "source": [
    "# Usar elementos del módulo\n",
    "ej_modulo.calculadora2(3.2,5)\n",
    "\n",
    "print(ej_modulo.e1.datos())"
   ]
  },
  {
   "cell_type": "code",
   "execution_count": 252,
   "metadata": {},
   "outputs": [
    {
     "name": "stdout",
     "output_type": "stream",
     "text": [
      "{1: 'agua', 2: 'luz', 3: 'gas', 4: 'teléfono', 5: 'ocio'}\n",
      "{'marca': 'Ford', 'automático': False, 'eléctrico': True, 'año': 1968, 'colores': ['rojo', 'negro', 'azul']}\n"
     ]
    }
   ],
   "source": [
    "# Renombrar el módulo\n",
    "import ej_modulo as mod\n",
    "\n",
    "print(mod.dic1)\n",
    "print(mod.dic2)"
   ]
  },
  {
   "cell_type": "code",
   "execution_count": 253,
   "metadata": {},
   "outputs": [
    {
     "name": "stdout",
     "output_type": "stream",
     "text": [
      "Hola, mi nombre es  Ana  y tengo  21  años.\n",
      "\n"
     ]
    }
   ],
   "source": [
    "# Cargar sólo un elemento del módulo\n",
    "from ej_modulo import Persona\n",
    "\n",
    "persona = Persona(\"Ana\",21) #No se utiliza ej_modulo.Persona()\n",
    "persona.saludo()"
   ]
  },
  {
   "cell_type": "code",
   "execution_count": 254,
   "metadata": {},
   "outputs": [
    {
     "name": "stdout",
     "output_type": "stream",
     "text": [
      "Mi habilidad  1  es:  Correr\n",
      "Mi habilidad  2  es:  Leer\n",
      "Mi habilidad  3  es:  Manejar\n",
      "Escribe un número:\n",
      "2.3\n",
      "Escribe un número:\n",
      "4.5\n",
      "2.3 + 4.5 = 6.8\n",
      "2.3 - 4.5 = -2.2\n",
      "2.3 * 4.5 = 10.35\n",
      "4.5 / 2.3 = 1.96\n"
     ]
    }
   ],
   "source": [
    "# Cargar sólo varios elementos del módulo\n",
    "from ej_modulo import Habilidades,calculadora\n",
    "\n",
    "habs = Habilidades(\"Correr\",\"Leer\",\"Manejar\")\n",
    "habs.muestra_hab()\n",
    "\n",
    "calculadora()"
   ]
  }
 ],
 "metadata": {
  "kernelspec": {
   "display_name": "Python 3",
   "language": "python",
   "name": "python3"
  },
  "language_info": {
   "codemirror_mode": {
    "name": "ipython",
    "version": 3
   },
   "file_extension": ".py",
   "mimetype": "text/x-python",
   "name": "python",
   "nbconvert_exporter": "python",
   "pygments_lexer": "ipython3",
   "version": "3.8.5"
  }
 },
 "nbformat": 4,
 "nbformat_minor": 4
}
