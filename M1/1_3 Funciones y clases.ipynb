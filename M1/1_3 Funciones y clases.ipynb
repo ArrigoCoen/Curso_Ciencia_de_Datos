{
 "cells": [
  {
   "cell_type": "markdown",
   "metadata": {},
   "source": [
    "# FUNCIONES Y CLASES\n",
    "\n",
    "En este archivo se encuentran los comandos para definir funciones y clases en Python."
   ]
  },
  {
   "cell_type": "markdown",
   "metadata": {},
   "source": [
    "## Funciones\n",
    "\n",
    "La estructura para definir funciones es la siguiente:\n",
    "\n",
    "def _nombre_funcion_ **():**\n",
    "    \n",
    "    '''Explicación de lo que hace la función'''\n",
    "    \n",
    "    código\n",
    "    \n",
    "Nota: Todo el código que querramos dentro de la función debe de tener sangría (indentación, espacio).\n",
    "\n",
    "Los espacios dependen de la profundidad del código realizado."
   ]
  },
  {
   "cell_type": "code",
   "execution_count": 7,
   "metadata": {},
   "outputs": [
    {
     "name": "stdout",
     "output_type": "stream",
     "text": [
      "Escribe un número:\n",
      "2\n",
      "Escribe un número:\n",
      "5.5\n",
      "2 + 5.5 = 7.5\n",
      "2 - 5.5 = -3.5\n",
      "2 * 5.5 = 11.0\n",
      "5.5 / 2 = 2.75\n"
     ]
    }
   ],
   "source": [
    "#Función sin parámetros\n",
    "\n",
    "def calcu():\n",
    "    '''Esta función pregunta al usuario 2 números a y b.\n",
    "    Realiza operaciones elementales con a y b'''\n",
    "    a = input(\"Escribe un número:\\n\")#Con la función 'input()' se lee lo que escribe el usuario\n",
    "    b = input(\"Escribe un número:\\n\")\n",
    "    # La 'f' antes de las comillas permite leer la variable que se encuentra en llaves '{}'.\n",
    "    print(f'{a} + {b} = {float(a)+float(b)}')\n",
    "    print(f'{a} - {b} = {float(a)-float(b)}')\n",
    "    print(f'{a} * {b} = {float(a)*float(b)}')\n",
    "    print(f'{b} / {a} = {float(b)/float(a)}')\n",
    "    \n",
    "calcu() #Se corre la función"
   ]
  },
  {
   "cell_type": "code",
   "execution_count": 8,
   "metadata": {},
   "outputs": [
    {
     "name": "stdout",
     "output_type": "stream",
     "text": [
      "2 + 5.5 = 7.5\n",
      "2 - 5.5 = -3.5\n",
      "2 * 5.5 = 11.0\n",
      "5.5 / 2 = 2.75\n"
     ]
    }
   ],
   "source": [
    "#Función con parámetros\n",
    "\n",
    "def calcu2(a,b):\n",
    "    '''Esta función recibe 2 parámetros, los números a y b.\n",
    "    Realiza operaciones elementales con a y b'''\n",
    "    # La 'f' antes de las comillas permite leer la variable que se encuentra en llaves '{}'.\n",
    "    print(f'{a} + {b} = {float(a)+float(b)}')\n",
    "    print(f'{a} - {b} = {float(a)-float(b)}')\n",
    "    print(f'{a} * {b} = {float(a)*float(b)}')\n",
    "    print(f'{b} / {a} = {float(b)/float(a)}')\n",
    "    \n",
    "calcu2(2,5.5) #Se corre la función con los parámetros pedidos"
   ]
  },
  {
   "cell_type": "code",
   "execution_count": 10,
   "metadata": {},
   "outputs": [
    {
     "name": "stdout",
     "output_type": "stream",
     "text": [
      "La puntuación de jugador 1 es: 11 \n",
      "\n",
      "La puntuación de jugador 2 es: 15 \n",
      "\n",
      "El ganador es el jugador 2\n"
     ]
    }
   ],
   "source": [
    "import random\n",
    "\n",
    "#Función con varios niveles de indentación\n",
    "\n",
    "def dados(num):\n",
    "    '''Esta función recibe un número entero como parámetro.\n",
    "    Simula un juego de dados. Se tienen 2 jugadores.\n",
    "    El número de tiradas de dados es \"num\".\n",
    "    Se suman los resultados por cada turno e imprime \n",
    "    las puntuaciones y el ganador. '''\n",
    "    #Se definen las variables que se van a utilizar\n",
    "    jug_1 = 0\n",
    "    jug_2 = 0\n",
    "    \n",
    "    #Se realiza un ciclo de tamaño 'num'\n",
    "    for i in range(1,num+1):\n",
    "        num_al1 = random.randint(1, 6)\n",
    "        num_al2 = random.randint(1, 6)\n",
    "        jug_1 += num_al1\n",
    "        jug_2 += num_al2\n",
    "    \n",
    "    #Se imprimen los resultados\n",
    "    print('La puntuación de jugador 1 es:',jug_1,'\\n')\n",
    "    print('La puntuación de jugador 2 es:',jug_2,'\\n')\n",
    "    if jug_1 > jug_2:\n",
    "        print('El ganador es el jugador 1')\n",
    "    else:\n",
    "        print('El ganador es el jugador 2')\n",
    "\n",
    "\n",
    "#Se corre la función con los parámetros pedidos\n",
    "dados(5)"
   ]
  },
  {
   "cell_type": "markdown",
   "metadata": {},
   "source": [
    "### Funciones lambda\n",
    "\n",
    "Son funciones que permiten múltiples argumentos pero tienen una única acción.\n",
    "\n",
    "La estructura es:\n",
    "    \n",
    "_nombre_funcion_ = lambda _argumentos_ **:** acción"
   ]
  },
  {
   "cell_type": "code",
   "execution_count": 32,
   "metadata": {},
   "outputs": [
    {
     "name": "stdout",
     "output_type": "stream",
     "text": [
      "6.4\n"
     ]
    }
   ],
   "source": [
    "multiplica = lambda a, b : a * b\n",
    "print(multiplica(3.2, 2))"
   ]
  },
  {
   "cell_type": "markdown",
   "metadata": {},
   "source": [
    "## _Class_ (Clase)\n",
    "\n",
    "Las clases se utilizan para crear objetos en Python. La estructura es:\n",
    "\n",
    "class _nombre_clase_ **:**\n",
    "    \n",
    "    Propiedades #Con sangría\n"
   ]
  },
  {
   "cell_type": "code",
   "execution_count": 12,
   "metadata": {},
   "outputs": [
    {
     "name": "stdout",
     "output_type": "stream",
     "text": [
      "Soy una fruta\n"
     ]
    }
   ],
   "source": [
    "class Fruta:\n",
    "    texto = \"Soy una fruta\"\n",
    "    \n",
    "f = Fruta()\n",
    "print(f.texto)"
   ]
  },
  {
   "cell_type": "markdown",
   "metadata": {},
   "source": [
    "### Función __ init __()\n",
    "\n",
    "La función \"__ init __ ()\" permite asignar valores u operaciones a las propiedades de los objetos.\n",
    "\n",
    "La estructura dentro de una clase es:\n",
    "\n",
    "class _nombre_clase_ **:**\n",
    "\n",
    "    def __init__(self, prop_1, prop_2, prop_3):\n",
    "        \n",
    "        self.prop_1 = prop_1\n",
    "        \n",
    "        self.prop_2 = prop_2\n",
    "        \n",
    "        self.prop_3 = prop_3\n",
    "    \n",
    "El parámetro _self_ de la función \"__ init __ ()\", se refiere al objeto que se crea de la propia clase. Permite acceder a las propiedades y a los métodos de la clase.\n",
    "\n",
    "Los parámetros _prop_1, prop_2, ..._ son las propiedades o atributos del objeto.\n"
   ]
  },
  {
   "cell_type": "code",
   "execution_count": 18,
   "metadata": {},
   "outputs": [
    {
     "name": "stdout",
     "output_type": "stream",
     "text": [
      "Elefante\n",
      "mamífero\n",
      "gris\n",
      "4\n",
      "Tigre\n",
      "mamífero\n",
      "rayado\n",
      "4\n"
     ]
    }
   ],
   "source": [
    "class Animal:\n",
    "    def __init__(animal,nombre,tipo,color,patas):\n",
    "        animal.nombre = nombre\n",
    "        animal.tipo = tipo\n",
    "        animal.color = color\n",
    "        animal.patas = patas\n",
    "    \n",
    "a1 = Animal(\"Elefante\",\"mamífero\",\"gris\",4) #Se define un objeto de la clase \"Animal\"\n",
    "print(a1.nombre)\n",
    "print(a1.tipo)\n",
    "print(a1.color)\n",
    "print(a1.patas)\n",
    "\n",
    "a2 = Animal(\"Tigre\",\"mamífero\",\"rayado\",4) #Se define un objeto de la clase \"Animal\"\n",
    "print(a2.nombre)\n",
    "print(a2.tipo)\n",
    "print(a2.color)\n",
    "print(a2.patas)"
   ]
  },
  {
   "cell_type": "markdown",
   "metadata": {},
   "source": [
    "### _Methods_ (Métodos)\n",
    "\n",
    "Los métodos de una clase son funciones que pertenecen al objeto.\n",
    "\n",
    "\n",
    "La estructura dentro de una clase es:\n",
    "\n",
    "class _nombre_clase_ **:**\n",
    "\n",
    "    def __init__(self, propiedades) **:**\n",
    "        \n",
    "        self.propiedades = propiedades\n",
    "    \n",
    "    def _nombre_metodo_ **:**\n",
    "        \n",
    "        acciones"
   ]
  },
  {
   "cell_type": "code",
   "execution_count": 30,
   "metadata": {},
   "outputs": [
    {
     "name": "stdout",
     "output_type": "stream",
     "text": [
      "Hola, mi nombre es  Juan  y tengo  18  años.\n",
      "Adiós  Pablo\n"
     ]
    }
   ],
   "source": [
    "class Persona:\n",
    "    def __init__(persona,nombre,edad):\n",
    "        persona.nombre = nombre\n",
    "        persona.edad = edad\n",
    "    \n",
    "    def saludo(persona):\n",
    "        print(\"Hola, mi nombre es \",persona.nombre,\" y tengo \",persona.edad,\" años.\")\n",
    "        \n",
    "    def despedida(persona,amigo):\n",
    "        print(\"Adiós \",amigo)\n",
    "\n",
    "p1 = Persona(\"Juan\", 18) #Se define un objeto de la clase \"Persona\"\n",
    "p1.saludo()\n",
    "p1.despedida(\"Pablo\")"
   ]
  },
  {
   "cell_type": "code",
   "execution_count": 24,
   "metadata": {},
   "outputs": [
    {
     "name": "stdout",
     "output_type": "stream",
     "text": [
      "Hola, mi nombre es  Juan  y tengo  18  años.\n",
      "Hola, mi nombre es  Antonio  y tengo  18  años.\n"
     ]
    }
   ],
   "source": [
    "# Modificar las propiedades de un objeto\n",
    "p1.saludo()\n",
    "p1.nombre = \"Antonio\"\n",
    "p1.saludo()"
   ]
  },
  {
   "cell_type": "code",
   "execution_count": 25,
   "metadata": {},
   "outputs": [
    {
     "name": "stdout",
     "output_type": "stream",
     "text": [
      "Hola, mi nombre es  Antonio  y tengo  18  años.\n"
     ]
    },
    {
     "ename": "AttributeError",
     "evalue": "'Persona' object has no attribute 'edad'",
     "output_type": "error",
     "traceback": [
      "\u001b[1;31m---------------------------------------------------------------------------\u001b[0m",
      "\u001b[1;31mAttributeError\u001b[0m                            Traceback (most recent call last)",
      "\u001b[1;32m<ipython-input-25-d7c8b78aaece>\u001b[0m in \u001b[0;36m<module>\u001b[1;34m\u001b[0m\n\u001b[0;32m      2\u001b[0m \u001b[0mp1\u001b[0m\u001b[1;33m.\u001b[0m\u001b[0msaludo\u001b[0m\u001b[1;33m(\u001b[0m\u001b[1;33m)\u001b[0m\u001b[1;33m\u001b[0m\u001b[1;33m\u001b[0m\u001b[0m\n\u001b[0;32m      3\u001b[0m \u001b[1;32mdel\u001b[0m \u001b[0mp1\u001b[0m\u001b[1;33m.\u001b[0m\u001b[0medad\u001b[0m\u001b[1;33m\u001b[0m\u001b[1;33m\u001b[0m\u001b[0m\n\u001b[1;32m----> 4\u001b[1;33m \u001b[0mp1\u001b[0m\u001b[1;33m.\u001b[0m\u001b[0msaludo\u001b[0m\u001b[1;33m(\u001b[0m\u001b[1;33m)\u001b[0m\u001b[1;33m\u001b[0m\u001b[1;33m\u001b[0m\u001b[0m\n\u001b[0m",
      "\u001b[1;32m<ipython-input-23-2f7e63cfb7a4>\u001b[0m in \u001b[0;36msaludo\u001b[1;34m(persona)\u001b[0m\n\u001b[0;32m      5\u001b[0m \u001b[1;33m\u001b[0m\u001b[0m\n\u001b[0;32m      6\u001b[0m     \u001b[1;32mdef\u001b[0m \u001b[0msaludo\u001b[0m\u001b[1;33m(\u001b[0m\u001b[0mpersona\u001b[0m\u001b[1;33m)\u001b[0m\u001b[1;33m:\u001b[0m\u001b[1;33m\u001b[0m\u001b[1;33m\u001b[0m\u001b[0m\n\u001b[1;32m----> 7\u001b[1;33m         \u001b[0mprint\u001b[0m\u001b[1;33m(\u001b[0m\u001b[1;34m\"Hola, mi nombre es \"\u001b[0m\u001b[1;33m,\u001b[0m\u001b[0mpersona\u001b[0m\u001b[1;33m.\u001b[0m\u001b[0mnombre\u001b[0m\u001b[1;33m,\u001b[0m\u001b[1;34m\" y tengo \"\u001b[0m\u001b[1;33m,\u001b[0m\u001b[0mpersona\u001b[0m\u001b[1;33m.\u001b[0m\u001b[0medad\u001b[0m\u001b[1;33m,\u001b[0m\u001b[1;34m\" años.\"\u001b[0m\u001b[1;33m)\u001b[0m\u001b[1;33m\u001b[0m\u001b[1;33m\u001b[0m\u001b[0m\n\u001b[0m\u001b[0;32m      8\u001b[0m \u001b[1;33m\u001b[0m\u001b[0m\n\u001b[0;32m      9\u001b[0m     \u001b[1;32mdef\u001b[0m \u001b[0mdespedida\u001b[0m\u001b[1;33m(\u001b[0m\u001b[0mpersona\u001b[0m\u001b[1;33m,\u001b[0m\u001b[0mamigo\u001b[0m\u001b[1;33m)\u001b[0m\u001b[1;33m:\u001b[0m\u001b[1;33m\u001b[0m\u001b[1;33m\u001b[0m\u001b[0m\n",
      "\u001b[1;31mAttributeError\u001b[0m: 'Persona' object has no attribute 'edad'"
     ]
    }
   ],
   "source": [
    "# Borrar las propiedades de un objeto\n",
    "p1.saludo()\n",
    "del p1.edad\n",
    "p1.saludo() #Marca error porque borramos una propiedad utilizada en el método \"saludo\""
   ]
  },
  {
   "cell_type": "code",
   "execution_count": 31,
   "metadata": {},
   "outputs": [
    {
     "name": "stdout",
     "output_type": "stream",
     "text": [
      "Juan\n"
     ]
    },
    {
     "ename": "NameError",
     "evalue": "name 'p1' is not defined",
     "output_type": "error",
     "traceback": [
      "\u001b[1;31m---------------------------------------------------------------------------\u001b[0m",
      "\u001b[1;31mNameError\u001b[0m                                 Traceback (most recent call last)",
      "\u001b[1;32m<ipython-input-31-b5fa3981d31f>\u001b[0m in \u001b[0;36m<module>\u001b[1;34m\u001b[0m\n\u001b[0;32m      2\u001b[0m \u001b[0mprint\u001b[0m\u001b[1;33m(\u001b[0m\u001b[0mp1\u001b[0m\u001b[1;33m.\u001b[0m\u001b[0mnombre\u001b[0m\u001b[1;33m)\u001b[0m\u001b[1;33m\u001b[0m\u001b[1;33m\u001b[0m\u001b[0m\n\u001b[0;32m      3\u001b[0m \u001b[1;32mdel\u001b[0m \u001b[0mp1\u001b[0m\u001b[1;33m\u001b[0m\u001b[1;33m\u001b[0m\u001b[0m\n\u001b[1;32m----> 4\u001b[1;33m \u001b[0mprint\u001b[0m\u001b[1;33m(\u001b[0m\u001b[0mp1\u001b[0m\u001b[1;33m.\u001b[0m\u001b[0mnombre\u001b[0m\u001b[1;33m)\u001b[0m\u001b[1;33m\u001b[0m\u001b[1;33m\u001b[0m\u001b[0m\n\u001b[0m",
      "\u001b[1;31mNameError\u001b[0m: name 'p1' is not defined"
     ]
    }
   ],
   "source": [
    "# Borrar un objeto de una clase\n",
    "print(p1.nombre)\n",
    "del p1\n",
    "print(p1.nombre) #Marca error porque borramos el objeto p1"
   ]
  },
  {
   "cell_type": "markdown",
   "metadata": {},
   "source": [
    "### _Inheritance_ (Herencia)\n",
    "\n",
    "La herencia permite que una clase \"Hijo\" tenga (herede) todas las propiedades y métodos de una clase \"Padre\". Se pueden incluir propiedades nuevas a la clase \"Hijo\".\n",
    "\n",
    "La clase \"Padre\" también es llamada clase base. La clase \"Hijo\" también es llamada clase derivada.\n",
    "\n",
    "La estructura es:\n",
    "\n",
    "class nom_clase_Padre **:**\n",
    "\n",
    "    Propiedades_Base #Con sangría\n",
    "    \n",
    "\n",
    "class nom_clase_Hijo **(nom_clase_Padre):**\n",
    "\n",
    "    Propiedades_Hijo #Con sangría"
   ]
  },
  {
   "cell_type": "code",
   "execution_count": 49,
   "metadata": {},
   "outputs": [
    {
     "name": "stdout",
     "output_type": "stream",
     "text": [
      "5\n",
      "Ingresa la medida del lado 1: 5.2\n",
      "Ingresa la medida del lado 2: 1\n",
      "Ingresa la medida del lado 3: 2\n",
      "Ingresa la medida del lado 4: 6\n",
      "Ingresa la medida del lado 5: 25\n",
      "El lado  1  mide  5.2\n",
      "El lado  2  mide  1.0\n",
      "El lado  3  mide  2.0\n",
      "El lado  4  mide  6.0\n",
      "El lado  5  mide  25.0\n",
      "[5.2, 1.0, 2.0, 6.0, 25.0]\n"
     ]
    }
   ],
   "source": [
    "# Clase \"Padre\"\n",
    "class Poligono:\n",
    "    def __init__(poligono, lados):\n",
    "        poligono.lados = lados\n",
    "        #poligono.medidas = [0 for i in range(lados)]\n",
    "\n",
    "    def ingresa_medidas(poligono):\n",
    "        poligono.medidas = [float(input(\"Ingresa la medida del lado \"+str(i+1)+\": \")) for i in range(poligono.lados)]\n",
    "        for i in range(poligono.lados):\n",
    "            print(\"El lado \",i+1,\" mide \",poligono.medidas[i])\n",
    "\n",
    "            \n",
    "p = Poligono(5)\n",
    "print(p.lados)\n",
    "#print(p.medidas)\n",
    "p.ingresa_medidas()\n",
    "print(p.medidas)"
   ]
  },
  {
   "cell_type": "code",
   "execution_count": 52,
   "metadata": {},
   "outputs": [
    {
     "name": "stdout",
     "output_type": "stream",
     "text": [
      "Ingresa la medida del lado 1: 4\n",
      "Ingresa la medida del lado 2: 4\n",
      "Ingresa la medida del lado 3: 4\n",
      "Ingresa la medida del lado 4: 4\n",
      "El lado  1  mide  4.0\n",
      "El lado  2  mide  4.0\n",
      "El lado  3  mide  4.0\n",
      "El lado  4  mide  4.0\n",
      "El área del cuadrado es:  16.0\n"
     ]
    }
   ],
   "source": [
    "# Clase \"Hijo\"\n",
    "class Cuadrado(Poligono):\n",
    "    def __init__(cuad):\n",
    "        #Poligono.__init__(cuad,4)\n",
    "        super().__init__(4) #Comando análogo a \"Poligono.__init__(cuad,4)\"\n",
    "    \n",
    "    def calcula_area(cuad):\n",
    "        a,b,c,d = cuad.medidas\n",
    "        area = a**2\n",
    "        print(\"El área del cuadrado es: \",area)\n",
    "\n",
    "c = Cuadrado()\n",
    "c.ingresa_medidas()\n",
    "c.calcula_area()"
   ]
  },
  {
   "cell_type": "code",
   "execution_count": null,
   "metadata": {},
   "outputs": [],
   "source": []
  },
  {
   "cell_type": "code",
   "execution_count": null,
   "metadata": {},
   "outputs": [],
   "source": []
  }
 ],
 "metadata": {
  "kernelspec": {
   "display_name": "Python 3",
   "language": "python",
   "name": "python3"
  },
  "language_info": {
   "codemirror_mode": {
    "name": "ipython",
    "version": 3
   },
   "file_extension": ".py",
   "mimetype": "text/x-python",
   "name": "python",
   "nbconvert_exporter": "python",
   "pygments_lexer": "ipython3",
   "version": "3.8.5"
  }
 },
 "nbformat": 4,
 "nbformat_minor": 4
}
