{
 "cells": [
  {
   "cell_type": "markdown",
   "metadata": {},
   "source": [
    "# Modelo CRISP-DM\n",
    "\n",
    "**CRISP-DM (Cross Industry Standard Process for Data Mining):** Es un modelo estándar del proceso de minería de datos que describe los enfoques comunes que utilizan los expertos en minería de datos.\n",
    "\n",
    "Se tienen 6 pasos los cuales no se siguen de manera lineal, por lo que se denomina modelo abierto:\n",
    "\n",
    "1. Compresión del negocio: \n",
    "    - Entender las necesidades del negocio\n",
    "    - Convertir en un problema de minería de datos\n",
    "    - Extraer datos\n",
    "    - Analizar la información \n",
    "    - Preparar un plan preliminar\n",
    "2. Entender los datos:\n",
    "    - Saber si se tienen datos continuos, discretos o categóricos.\n",
    "    - Hacer un análisis exploratorio de los datos\n",
    "    - Visualización de los datos\n",
    "3. Preparación de los datos:\n",
    "    - Limpieza de datos\n",
    "    - Selección de los datos finales\n",
    "4. Modelado:\n",
    "    - Selección y construcción del modelo\n",
    "    - División de los datos\n",
    "    - Predicciones\n",
    "    \n",
    "_Nota:_ En algunos casos algunas técnicas de modelado pueden llevarnos de nuevo a la fase de preparación de los datos.\n",
    "\n",
    "5. Evaluación del modelo\n",
    "    - $R^{2}$\n",
    "    - $R^{2}$ ajustada\n",
    "    - Error cuadrático medio\n",
    "    - Errores absolutos\n",
    "    - Errores relativos\n",
    "    - Herramientas que permitan evaluar qué tan bien se está desempeñando el modelo con respecto a las necesidades del negocio.\n",
    "\n",
    "6. Despliegue del modelo:\n",
    "    - Planeación de la aplicación\n",
    "    - Mantenimiento y monitoreo\n",
    "    - Reporte final\n",
    "    - Revisión del proyecto para decidir si requiere cambios\n",
    "\n",
    "\n",
    "**Clases:**\n",
    "\n",
    "https://www.youtube.com/watch?v=awqnx8qnCfY&list=PL3IqEvXBv5p8AYLpqC9t3crl-JSfEBYHR&index=4&ab_channel=Dr.ArrigoCoen\n",
    "\n",
    "https://www.youtube.com/watch?v=0-7r-6VWheE&list=PL3IqEvXBv5p8AYLpqC9t3crl-JSfEBYHR&index=7&ab_channel=Dr.ArrigoCoen"
   ]
  }
 ],
 "metadata": {
  "kernelspec": {
   "display_name": "Python 3",
   "language": "python",
   "name": "python3"
  },
  "language_info": {
   "codemirror_mode": {
    "name": "ipython",
    "version": 3
   },
   "file_extension": ".py",
   "mimetype": "text/x-python",
   "name": "python",
   "nbconvert_exporter": "python",
   "pygments_lexer": "ipython3",
   "version": "3.8.5"
  }
 },
 "nbformat": 4,
 "nbformat_minor": 4
}
