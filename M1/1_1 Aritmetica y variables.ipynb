{
 "cells": [
  {
   "cell_type": "markdown",
   "metadata": {},
   "source": [
    "# Aritmética y variables\n",
    "\n",
    "En este archivo se encuentran los comandos básicos de Python. Los temas que se verán en este submódulo son:\n",
    "\n",
    "    1. Definición e impresión de variables\n",
    "    2. Operaciones básicas\n",
    "    3. List, Tuples, Sets y Dictionaries"
   ]
  },
  {
   "cell_type": "markdown",
   "metadata": {},
   "source": [
    "## Tarea \n",
    "\n",
    "Hacer los ejercicios de la página [link](https://www.w3schools.com/python/python_exercises.asp) y tomar una captura de pantalla de que todos fueron hechos con el nombre del alumno en el URL. \n",
    "\n",
    "**OBS:** Puede sonar a que son muchos, pero la mayoría toma menos de 5 segundos hacerlos. "
   ]
  },
  {
   "cell_type": "markdown",
   "metadata": {},
   "source": [
    "## Páginas útiles\n",
    "\n",
    "Algunas páginas relacionadas a estos temas son:\n",
    "\n",
    "   1. Comparativo entre List, Tuples, Sets y Dictionaries [link](https://www.geeksforgeeks.org/differences-and-applications-of-list-tuple-set-and-dictionary-in-python/)."
   ]
  },
  {
   "cell_type": "markdown",
   "metadata": {},
   "source": [
    "### COMENTARIOS\n",
    "Se explica cómo poner comentarios en el código. Comentarios de un reglón o de más de un renglón."
   ]
  },
  {
   "cell_type": "code",
   "execution_count": null,
   "metadata": {},
   "outputs": [],
   "source": [
    "'''Para poner un comentario largo \n",
    "se utilizan 3 comillas simples'''\n",
    "\n",
    "\"\"\" ó 3 comilas \n",
    "dobles. \"\"\"\n",
    "\n",
    "#Para comentarios de un renglón se usa el símbolo de número o gato o hashtag"
   ]
  },
  {
   "cell_type": "markdown",
   "metadata": {},
   "source": [
    "### DEFINICIÓN DE VARIABLES\n",
    "Se definen variables tipo caracter y numérico."
   ]
  },
  {
   "cell_type": "code",
   "execution_count": 5,
   "metadata": {},
   "outputs": [],
   "source": [
    "color = \"azul\"\n",
    "mascota = 'Sandy'\n",
    "risa = 'ja'\n",
    "a = 1\n",
    "b = 2"
   ]
  },
  {
   "cell_type": "markdown",
   "metadata": {},
   "source": [
    "### FUNCIÓN _print()_\n",
    "Sirve para imprimir texto en el programa."
   ]
  },
  {
   "cell_type": "code",
   "execution_count": 3,
   "metadata": {},
   "outputs": [
    {
     "name": "stdout",
     "output_type": "stream",
     "text": [
      "Mi color favorito es: azul\n",
      "1\n",
      "2\n",
      "3\n",
      "Mi color favorito es: azul\n",
      "Mi mascota se llama: Sandy\n",
      "El valor de a es:  1\n",
      "El valor de a es: 1\n"
     ]
    }
   ],
   "source": [
    "#Variables tipo string:\n",
    "print(\"Mi color favorito es: \" + color)\n",
    "\n",
    "#Valor de variables tipo numéricas.\n",
    "print(a)\n",
    "print(a+1)\n",
    "print(a+b)\n",
    "\n",
    "#En caso de querer imprimir un texto con un salto de línea se utiliza el comando \\n\n",
    "print(\"Mi color favorito es: \" + color + \"\\nMi mascota se llama: \" + mascota)\n",
    "\n",
    "#Para concatenar strings con variables numéricas se utilizan comas:\n",
    "print(\"El valor de a es: \",a)\n",
    "print(\"El valor de a es: \"+ str(a))"
   ]
  },
  {
   "cell_type": "markdown",
   "metadata": {},
   "source": [
    "### OPERADOR *=\n",
    "Define nuevamente una variable multiplicada por el número de veces que se indica."
   ]
  },
  {
   "cell_type": "code",
   "execution_count": 4,
   "metadata": {},
   "outputs": [
    {
     "name": "stdout",
     "output_type": "stream",
     "text": [
      "2\n",
      "10\n",
      "ja\n",
      "jajaja\n"
     ]
    }
   ],
   "source": [
    "print(b)\n",
    "b *= 5\n",
    "print(b)\n",
    "\n",
    "print(risa)\n",
    "risa *= 3\n",
    "print(risa)"
   ]
  },
  {
   "cell_type": "markdown",
   "metadata": {},
   "source": [
    "### FUNCIÓN _round()_\n",
    "Redondea un número al entero más cercano. Se le puede indicar el número de decimales al que se desea redondear."
   ]
  },
  {
   "cell_type": "code",
   "execution_count": 5,
   "metadata": {},
   "outputs": [
    {
     "data": {
      "text/plain": [
       "3"
      ]
     },
     "execution_count": 5,
     "metadata": {},
     "output_type": "execute_result"
    }
   ],
   "source": [
    "round(3.141592)"
   ]
  },
  {
   "cell_type": "code",
   "execution_count": 6,
   "metadata": {},
   "outputs": [
    {
     "data": {
      "text/plain": [
       "3.14"
      ]
     },
     "execution_count": 6,
     "metadata": {},
     "output_type": "execute_result"
    }
   ],
   "source": [
    "round(3.141592,2)"
   ]
  },
  {
   "cell_type": "markdown",
   "metadata": {},
   "source": [
    "### OPERACIONES BÁSICAS\n",
    "Se importa la librería math. Las funciones se cargan poniendo al inicio math."
   ]
  },
  {
   "cell_type": "code",
   "execution_count": 6,
   "metadata": {},
   "outputs": [],
   "source": [
    "import math\n",
    "\n",
    "a = 1\n",
    "b = 2\n",
    "x = math.pi\n",
    "n = 10"
   ]
  },
  {
   "cell_type": "code",
   "execution_count": 8,
   "metadata": {},
   "outputs": [
    {
     "data": {
      "text/plain": [
       "3"
      ]
     },
     "execution_count": 8,
     "metadata": {},
     "output_type": "execute_result"
    }
   ],
   "source": [
    "#Suma\n",
    "a + b"
   ]
  },
  {
   "cell_type": "code",
   "execution_count": 9,
   "metadata": {},
   "outputs": [
    {
     "data": {
      "text/plain": [
       "9"
      ]
     },
     "execution_count": 9,
     "metadata": {},
     "output_type": "execute_result"
    }
   ],
   "source": [
    "3 + 6"
   ]
  },
  {
   "cell_type": "code",
   "execution_count": 10,
   "metadata": {},
   "outputs": [
    {
     "data": {
      "text/plain": [
       "9"
      ]
     },
     "execution_count": 10,
     "metadata": {},
     "output_type": "execute_result"
    }
   ],
   "source": [
    "7 + b"
   ]
  },
  {
   "cell_type": "code",
   "execution_count": 11,
   "metadata": {},
   "outputs": [
    {
     "data": {
      "text/plain": [
       "-1"
      ]
     },
     "execution_count": 11,
     "metadata": {},
     "output_type": "execute_result"
    }
   ],
   "source": [
    "#Resta\n",
    "a-b"
   ]
  },
  {
   "cell_type": "code",
   "execution_count": 12,
   "metadata": {},
   "outputs": [
    {
     "data": {
      "text/plain": [
       "1"
      ]
     },
     "execution_count": 12,
     "metadata": {},
     "output_type": "execute_result"
    }
   ],
   "source": [
    "b-a"
   ]
  },
  {
   "cell_type": "code",
   "execution_count": 13,
   "metadata": {},
   "outputs": [
    {
     "data": {
      "text/plain": [
       "2"
      ]
     },
     "execution_count": 13,
     "metadata": {},
     "output_type": "execute_result"
    }
   ],
   "source": [
    "#Multiplicación\n",
    "a*b"
   ]
  },
  {
   "cell_type": "code",
   "execution_count": 14,
   "metadata": {},
   "outputs": [
    {
     "data": {
      "text/plain": [
       "0.5"
      ]
     },
     "execution_count": 14,
     "metadata": {},
     "output_type": "execute_result"
    }
   ],
   "source": [
    "#División\n",
    "a/b"
   ]
  },
  {
   "cell_type": "code",
   "execution_count": 15,
   "metadata": {},
   "outputs": [
    {
     "data": {
      "text/plain": [
       "2.0"
      ]
     },
     "execution_count": 15,
     "metadata": {},
     "output_type": "execute_result"
    }
   ],
   "source": [
    "b/a"
   ]
  },
  {
   "cell_type": "code",
   "execution_count": 16,
   "metadata": {},
   "outputs": [
    {
     "data": {
      "text/plain": [
       "3"
      ]
     },
     "execution_count": 16,
     "metadata": {},
     "output_type": "execute_result"
    }
   ],
   "source": [
    "#Función piso\n",
    "math.floor(x)"
   ]
  },
  {
   "cell_type": "code",
   "execution_count": 17,
   "metadata": {},
   "outputs": [
    {
     "data": {
      "text/plain": [
       "4"
      ]
     },
     "execution_count": 17,
     "metadata": {},
     "output_type": "execute_result"
    }
   ],
   "source": [
    "#Función techo\n",
    "math.ceil(x)"
   ]
  },
  {
   "cell_type": "code",
   "execution_count": 18,
   "metadata": {},
   "outputs": [
    {
     "data": {
      "text/plain": [
       "1.1447298858494002"
      ]
     },
     "execution_count": 18,
     "metadata": {},
     "output_type": "execute_result"
    }
   ],
   "source": [
    "#log = logaritmo natural (base e)\n",
    "math.log(x)"
   ]
  },
  {
   "cell_type": "code",
   "execution_count": 19,
   "metadata": {},
   "outputs": [
    {
     "data": {
      "text/plain": [
       "1.0"
      ]
     },
     "execution_count": 19,
     "metadata": {},
     "output_type": "execute_result"
    }
   ],
   "source": [
    "math.log(math.exp(1))"
   ]
  },
  {
   "cell_type": "code",
   "execution_count": 20,
   "metadata": {},
   "outputs": [
    {
     "data": {
      "text/plain": [
       "0.4971498726941338"
      ]
     },
     "execution_count": 20,
     "metadata": {},
     "output_type": "execute_result"
    }
   ],
   "source": [
    "#logaritmo base n\n",
    "math.log(x,n)"
   ]
  },
  {
   "cell_type": "code",
   "execution_count": 21,
   "metadata": {},
   "outputs": [
    {
     "data": {
      "text/plain": [
       "1.0"
      ]
     },
     "execution_count": 21,
     "metadata": {},
     "output_type": "execute_result"
    }
   ],
   "source": [
    "math.log(10,n)"
   ]
  },
  {
   "cell_type": "code",
   "execution_count": 22,
   "metadata": {},
   "outputs": [
    {
     "data": {
      "text/plain": [
       "2.718281828459045"
      ]
     },
     "execution_count": 22,
     "metadata": {},
     "output_type": "execute_result"
    }
   ],
   "source": [
    "#Número e\n",
    "math.exp(1) #e^1"
   ]
  },
  {
   "cell_type": "code",
   "execution_count": 23,
   "metadata": {},
   "outputs": [
    {
     "data": {
      "text/plain": [
       "23.140692632779267"
      ]
     },
     "execution_count": 23,
     "metadata": {},
     "output_type": "execute_result"
    }
   ],
   "source": [
    "math.exp(x) #e^x"
   ]
  },
  {
   "cell_type": "code",
   "execution_count": 24,
   "metadata": {},
   "outputs": [
    {
     "data": {
      "text/plain": [
       "8"
      ]
     },
     "execution_count": 24,
     "metadata": {},
     "output_type": "execute_result"
    }
   ],
   "source": [
    "#Potencias\n",
    "2**3"
   ]
  },
  {
   "cell_type": "code",
   "execution_count": 25,
   "metadata": {},
   "outputs": [
    {
     "data": {
      "text/plain": [
       "8"
      ]
     },
     "execution_count": 25,
     "metadata": {},
     "output_type": "execute_result"
    }
   ],
   "source": [
    "pow(2, 3)"
   ]
  },
  {
   "cell_type": "code",
   "execution_count": 26,
   "metadata": {},
   "outputs": [
    {
     "data": {
      "text/plain": [
       "1.4142135623730951"
      ]
     },
     "execution_count": 26,
     "metadata": {},
     "output_type": "execute_result"
    }
   ],
   "source": [
    "#Raíz Cuadrada\n",
    "math.sqrt(b)"
   ]
  },
  {
   "cell_type": "code",
   "execution_count": 27,
   "metadata": {},
   "outputs": [
    {
     "data": {
      "text/plain": [
       "1.0"
      ]
     },
     "execution_count": 27,
     "metadata": {},
     "output_type": "execute_result"
    }
   ],
   "source": [
    "#Funciones Trigonométricas\n",
    "math.sin(math.pi/2)"
   ]
  },
  {
   "cell_type": "code",
   "execution_count": 28,
   "metadata": {},
   "outputs": [
    {
     "data": {
      "text/plain": [
       "1.0"
      ]
     },
     "execution_count": 28,
     "metadata": {},
     "output_type": "execute_result"
    }
   ],
   "source": [
    "math.cos(2*math.pi)"
   ]
  },
  {
   "cell_type": "code",
   "execution_count": 29,
   "metadata": {},
   "outputs": [
    {
     "data": {
      "text/plain": [
       "-1.2246467991473532e-16"
      ]
     },
     "execution_count": 29,
     "metadata": {},
     "output_type": "execute_result"
    }
   ],
   "source": [
    "math.tan(math.pi)"
   ]
  },
  {
   "cell_type": "code",
   "execution_count": 30,
   "metadata": {},
   "outputs": [
    {
     "data": {
      "text/plain": [
       "1.5707963267948966"
      ]
     },
     "execution_count": 30,
     "metadata": {},
     "output_type": "execute_result"
    }
   ],
   "source": [
    "math.asin(1) #arcsin(x)"
   ]
  },
  {
   "cell_type": "code",
   "execution_count": 31,
   "metadata": {},
   "outputs": [
    {
     "data": {
      "text/plain": [
       "1.5707963267948966"
      ]
     },
     "execution_count": 31,
     "metadata": {},
     "output_type": "execute_result"
    }
   ],
   "source": [
    "math.acos(0) #arccos(x)"
   ]
  },
  {
   "cell_type": "code",
   "execution_count": 32,
   "metadata": {},
   "outputs": [
    {
     "data": {
      "text/plain": [
       "0.7853981633974483"
      ]
     },
     "execution_count": 32,
     "metadata": {},
     "output_type": "execute_result"
    }
   ],
   "source": [
    "math.atan(1) #arctan(x)"
   ]
  },
  {
   "cell_type": "code",
   "execution_count": 33,
   "metadata": {},
   "outputs": [
    {
     "data": {
      "text/plain": [
       "120"
      ]
     },
     "execution_count": 33,
     "metadata": {},
     "output_type": "execute_result"
    }
   ],
   "source": [
    "#Factorial: n! = n*(n-1)*(n-2)*...*2*1\n",
    "math.factorial(5)"
   ]
  },
  {
   "cell_type": "markdown",
   "metadata": {},
   "source": [
    "### NÚMEROS ALEATORIOS\n",
    "Se importa la librería random. Se generan números aleatorios enteros y con decimales. Se pueden hacer elecciones aleatorias de conjuntos de números o de variables tipo caracter."
   ]
  },
  {
   "cell_type": "code",
   "execution_count": 40,
   "metadata": {},
   "outputs": [
    {
     "data": {
      "text/plain": [
       "24"
      ]
     },
     "execution_count": 40,
     "metadata": {},
     "output_type": "execute_result"
    }
   ],
   "source": [
    "import random\n",
    "\n",
    "'''La función random.randint(a, b) devuelve un número aleatorio\n",
    "entero elegido de [a,b].'''\n",
    "random.randint(0,100)"
   ]
  },
  {
   "cell_type": "code",
   "execution_count": 44,
   "metadata": {},
   "outputs": [
    {
     "data": {
      "text/plain": [
       "8"
      ]
     },
     "execution_count": 44,
     "metadata": {},
     "output_type": "execute_result"
    }
   ],
   "source": [
    "'''La función random.randrange(a, b, salto) genera números enteros\n",
    "aleatorios en [a,b] con un \"salto\". En el siguiente ejemplo se \n",
    "toman los valores del conjunto {0,2,4,6,8,10}.'''\n",
    "random.randrange(0, 10, 2)"
   ]
  },
  {
   "cell_type": "code",
   "execution_count": 48,
   "metadata": {},
   "outputs": [
    {
     "data": {
      "text/plain": [
       "0.4539744561954332"
      ]
     },
     "execution_count": 48,
     "metadata": {},
     "output_type": "execute_result"
    }
   ],
   "source": [
    "'''La función random.random() devuelve un número aleatorio\n",
    "tomado del intervalo [0, 1).'''\n",
    "random.random()"
   ]
  },
  {
   "cell_type": "code",
   "execution_count": 52,
   "metadata": {},
   "outputs": [
    {
     "data": {
      "text/plain": [
       "18.754719331916437"
      ]
     },
     "execution_count": 52,
     "metadata": {},
     "output_type": "execute_result"
    }
   ],
   "source": [
    "'''La función random.uniform(a,b) devuelve un número aleatorio\n",
    "tomado del intervalo [a, b]'''\n",
    "random.uniform(10,20)"
   ]
  },
  {
   "cell_type": "code",
   "execution_count": 57,
   "metadata": {},
   "outputs": [
    {
     "data": {
      "text/plain": [
       "'ciruelas'"
      ]
     },
     "execution_count": 57,
     "metadata": {},
     "output_type": "execute_result"
    }
   ],
   "source": [
    "'''La función random.choice(conj) devuelve un elemento aleatorio de\n",
    "un conjunto de valores. Pueden ser variables tipo caracter o \n",
    "variables numéricas.'''\n",
    "frutas = ['peras', 'manzanas', 'plátanos', 'ciruelas']\n",
    "random.choice(frutas)"
   ]
  },
  {
   "cell_type": "code",
   "execution_count": 61,
   "metadata": {},
   "outputs": [
    {
     "data": {
      "text/plain": [
       "5"
      ]
     },
     "execution_count": 61,
     "metadata": {},
     "output_type": "execute_result"
    }
   ],
   "source": [
    "num = [1,2,3,4,5,6,7,8,9,10]\n",
    "random.choice(num)"
   ]
  },
  {
   "cell_type": "code",
   "execution_count": 66,
   "metadata": {},
   "outputs": [
    {
     "data": {
      "text/plain": [
       "['peras', 'manzanas']"
      ]
     },
     "execution_count": 66,
     "metadata": {},
     "output_type": "execute_result"
    }
   ],
   "source": [
    "'''La función random.sample(conj,n) devuelve \"n\" elementos\n",
    "aleatorios de un conjunto de valores. Pueden ser variables tipo\n",
    "caracter o variables numéricas.'''\n",
    "random.sample(frutas,2)"
   ]
  },
  {
   "cell_type": "code",
   "execution_count": 69,
   "metadata": {},
   "outputs": [
    {
     "data": {
      "text/plain": [
       "[9, 10]"
      ]
     },
     "execution_count": 69,
     "metadata": {},
     "output_type": "execute_result"
    }
   ],
   "source": [
    "random.sample(num,2)"
   ]
  },
  {
   "cell_type": "markdown",
   "metadata": {},
   "source": [
    "### BOOLEANOS\n",
    "Nos indican cuando una condición es verdadera o falsa."
   ]
  },
  {
   "cell_type": "code",
   "execution_count": 71,
   "metadata": {},
   "outputs": [
    {
     "name": "stdout",
     "output_type": "stream",
     "text": [
      "1\n",
      "2\n"
     ]
    },
    {
     "data": {
      "text/plain": [
       "True"
      ]
     },
     "execution_count": 71,
     "metadata": {},
     "output_type": "execute_result"
    }
   ],
   "source": [
    "print(a)\n",
    "print(b)\n",
    "a<b"
   ]
  },
  {
   "cell_type": "code",
   "execution_count": 72,
   "metadata": {},
   "outputs": [
    {
     "data": {
      "text/plain": [
       "False"
      ]
     },
     "execution_count": 72,
     "metadata": {},
     "output_type": "execute_result"
    }
   ],
   "source": [
    "b<a"
   ]
  },
  {
   "cell_type": "code",
   "execution_count": 73,
   "metadata": {},
   "outputs": [
    {
     "data": {
      "text/plain": [
       "False"
      ]
     },
     "execution_count": 73,
     "metadata": {},
     "output_type": "execute_result"
    }
   ],
   "source": [
    "a==b #Preguntamos si los números son iguales"
   ]
  },
  {
   "cell_type": "code",
   "execution_count": 74,
   "metadata": {},
   "outputs": [
    {
     "data": {
      "text/plain": [
       "True"
      ]
     },
     "execution_count": 74,
     "metadata": {},
     "output_type": "execute_result"
    }
   ],
   "source": [
    "a != b #Preguntamos si los números son diferentes"
   ]
  },
  {
   "cell_type": "markdown",
   "metadata": {},
   "source": [
    "### ARRAY (ARREGLOS)\n",
    "Los arreglos son vectores. La posición de los elementos se empieza a contar en 0."
   ]
  },
  {
   "cell_type": "code",
   "execution_count": 2,
   "metadata": {},
   "outputs": [
    {
     "name": "stdout",
     "output_type": "stream",
     "text": [
      "[1 2 3 4 5]\n",
      "[5 5 5]\n",
      "[1, 2, 3, 4, 5, 6, 7]\n",
      "La longitud de vec es: 7\n"
     ]
    }
   ],
   "source": [
    "import numpy as np\n",
    "#El comando \"as np\" permite llamar a las funciones con \"np.\"\n",
    "\n",
    "v=np.array([1,2,3,4,5])\n",
    "print(v)\n",
    "\n",
    "w=np.array([5,5,5])\n",
    "print(w)\n",
    "\n",
    "vec = [1,2,3,4,5,6,7]\n",
    "print(vec)\n",
    "\n",
    "print(\"La longitud de vec es:\",len(vec))"
   ]
  },
  {
   "cell_type": "code",
   "execution_count": 3,
   "metadata": {},
   "outputs": [
    {
     "data": {
      "text/plain": [
       "array([ 2,  4,  6,  8, 10])"
      ]
     },
     "execution_count": 3,
     "metadata": {},
     "output_type": "execute_result"
    }
   ],
   "source": [
    "v+v #Suma de vectores"
   ]
  },
  {
   "cell_type": "code",
   "execution_count": 8,
   "metadata": {},
   "outputs": [
    {
     "name": "stdout",
     "output_type": "stream",
     "text": [
      "2\n"
     ]
    },
    {
     "data": {
      "text/plain": [
       "array([ 2,  4,  6,  8, 10])"
      ]
     },
     "execution_count": 8,
     "metadata": {},
     "output_type": "execute_result"
    }
   ],
   "source": [
    "print(b)\n",
    "b*v #Vector por escalar"
   ]
  },
  {
   "cell_type": "code",
   "execution_count": 9,
   "metadata": {},
   "outputs": [
    {
     "name": "stdout",
     "output_type": "stream",
     "text": [
      "[ 0  2  4  6  8 10 12 14 16 18 20]\n"
     ]
    },
    {
     "data": {
      "text/plain": [
       "dtype('int32')"
      ]
     },
     "execution_count": 9,
     "metadata": {},
     "output_type": "execute_result"
    }
   ],
   "source": [
    "u = np.arange(0,21,2) #Toma los valores en [0,21)\n",
    "print(u)\n",
    "u.dtype #dtype = data type // indica el tipo de dato, en este caso u es de tipo 'int32'"
   ]
  },
  {
   "cell_type": "code",
   "execution_count": 10,
   "metadata": {},
   "outputs": [
    {
     "name": "stdout",
     "output_type": "stream",
     "text": [
      "[ 0  5  4  6  8 10 12 14 16 18 20]\n"
     ]
    },
    {
     "data": {
      "text/plain": [
       "dtype('int32')"
      ]
     },
     "execution_count": 10,
     "metadata": {},
     "output_type": "execute_result"
    }
   ],
   "source": [
    "u[1] = 5.5 #Se cambia la segunda entrada de \"u\".\n",
    "print(u)\n",
    "u.dtype"
   ]
  },
  {
   "cell_type": "code",
   "execution_count": 11,
   "metadata": {},
   "outputs": [
    {
     "name": "stdout",
     "output_type": "stream",
     "text": [
      "[ 0.  2.  4.  6.  8. 10. 12. 14. 16. 18. 20.]\n"
     ]
    },
    {
     "data": {
      "text/plain": [
       "dtype('float64')"
      ]
     },
     "execution_count": 11,
     "metadata": {},
     "output_type": "execute_result"
    }
   ],
   "source": [
    "#En caso de que querramos que los valores de 'u' sean de tipo flotante.\n",
    "u = np.arange(0,20.1,2) #Toma los valores en [0,20.1)\n",
    "u = np.arange(0,21,2,dtype = float) #Toma los valores en [0,21)\n",
    "print(u)\n",
    "u.dtype"
   ]
  },
  {
   "cell_type": "code",
   "execution_count": 81,
   "metadata": {},
   "outputs": [
    {
     "data": {
      "text/plain": [
       "0"
      ]
     },
     "execution_count": 81,
     "metadata": {},
     "output_type": "execute_result"
    }
   ],
   "source": [
    "u[0] #Se muestra el primer elemento del vector \"u\"."
   ]
  },
  {
   "cell_type": "code",
   "execution_count": 82,
   "metadata": {},
   "outputs": [
    {
     "data": {
      "text/plain": [
       "2"
      ]
     },
     "execution_count": 82,
     "metadata": {},
     "output_type": "execute_result"
    }
   ],
   "source": [
    "u[1] #Se muestra el segundo elemento del vector \"u\"."
   ]
  },
  {
   "cell_type": "code",
   "execution_count": 95,
   "metadata": {},
   "outputs": [
    {
     "name": "stdout",
     "output_type": "stream",
     "text": [
      "[ 0.   5.5  4.   6.   8.  10.  12.  14.  16.  18.  20. ]\n"
     ]
    },
    {
     "data": {
      "text/plain": [
       "dtype('float64')"
      ]
     },
     "execution_count": 95,
     "metadata": {},
     "output_type": "execute_result"
    }
   ],
   "source": [
    "u[1] = 5.5 #Se cambia la segunda entrada de \"u\".\n",
    "print(u)\n",
    "u.dtype"
   ]
  },
  {
   "cell_type": "code",
   "execution_count": 85,
   "metadata": {},
   "outputs": [
    {
     "data": {
      "text/plain": [
       "array([ 4,  6,  8, 10])"
      ]
     },
     "execution_count": 85,
     "metadata": {},
     "output_type": "execute_result"
    }
   ],
   "source": [
    "#Se muestran los elementos en las posiciones 2,3,4 del vector \"u\".\n",
    "u[2:6]"
   ]
  },
  {
   "cell_type": "code",
   "execution_count": 86,
   "metadata": {},
   "outputs": [
    {
     "data": {
      "text/plain": [
       "array([0, 5, 4, 6, 8])"
      ]
     },
     "execution_count": 86,
     "metadata": {},
     "output_type": "execute_result"
    }
   ],
   "source": [
    "#Se muestran desde el primer elemento hasta la posición 4\n",
    "u[:5]"
   ]
  },
  {
   "cell_type": "code",
   "execution_count": 87,
   "metadata": {},
   "outputs": [
    {
     "data": {
      "text/plain": [
       "array([ 4,  6,  8, 10, 12, 14, 16, 18, 20])"
      ]
     },
     "execution_count": 87,
     "metadata": {},
     "output_type": "execute_result"
    }
   ],
   "source": [
    "#Se muestran desde la posición 2 hasta el último elemento\n",
    "u[2:]"
   ]
  },
  {
   "cell_type": "code",
   "execution_count": 88,
   "metadata": {},
   "outputs": [
    {
     "name": "stdout",
     "output_type": "stream",
     "text": [
      "[1, 2, 3, 4, 5, 6, 7]\n",
      "[1, 2, 3, 4, 5]\n"
     ]
    }
   ],
   "source": [
    "#Se eliminan los elementos en los índices 5,6 y 7.\n",
    "print(vec)\n",
    "del vec[5:8]\n",
    "print(vec)"
   ]
  },
  {
   "cell_type": "markdown",
   "metadata": {},
   "source": [
    "### LIST\n",
    "Sirve para guardar múltiples elementos en una misma variable.\n",
    "\n",
    "Se pueden guardar valores de tipo caracter, numérico, booleano o combinados.\n",
    "\n",
    "Se definen con corchetes o con el comando \"list()\".\n",
    "\n",
    "Se pueden modificar sus elementos."
   ]
  },
  {
   "cell_type": "code",
   "execution_count": 82,
   "metadata": {},
   "outputs": [
    {
     "name": "stdout",
     "output_type": "stream",
     "text": [
      "['abc', 'def', 'ghi']\n",
      "[1, 2, 3, 4, 5, 5, 1, 2, 3]\n",
      "[True, False, True, False]\n",
      "['abc', 123, True, False]\n",
      "['lista', 'con', 'caracteres']\n",
      "[['abc', 'def', 'ghi'], [1, 2, 3, 4, 5, 5, 1, 2, 3], [True, False, True, False]]\n",
      "[]\n",
      "[1, 2, 4, 8, 16, 32, 64, 128, 256, 512]\n"
     ]
    }
   ],
   "source": [
    "#Lista de caracteres.\n",
    "lista_1 = [\"abc\", \"def\", \"ghi\"]\n",
    "print(lista_1)\n",
    "\n",
    "#Lista de valores numéricos.\n",
    "lista_2 = [1, 2, 3, 4, 5, 5, 1, 2, 3] #Permite valores repetidos\n",
    "print(lista_2)\n",
    "\n",
    "#Lista de booleanos.\n",
    "lista_3 = [True,False,1<2,1>2]\n",
    "print(lista_3)\n",
    "\n",
    "#Lista de valores combinados.\n",
    "lista_4 = [\"abc\", 123, True, 2<0]\n",
    "print(lista_4)\n",
    "\n",
    "#Definición con el comando \"list()\"\n",
    "lista_5 = list((\"lista\", \"con\", \"caracteres\")) #Se define con doble paréntesis.\n",
    "print(lista_5)\n",
    "\n",
    "#Lista de listas\n",
    "lista_6 = [lista_1,lista_2,lista_3]\n",
    "print(lista_6)\n",
    "\n",
    "#Lista vacía\n",
    "lista_v = []\n",
    "print(lista_v)\n",
    "\n",
    "#Lista definida con operaciones\n",
    "lista_op = [2 ** x for x in range(10)] #2^n, con n = 0,1, ... ,9\n",
    "print(lista_op)"
   ]
  },
  {
   "cell_type": "code",
   "execution_count": 15,
   "metadata": {},
   "outputs": [
    {
     "name": "stdout",
     "output_type": "stream",
     "text": [
      "def\n",
      "def\n"
     ]
    }
   ],
   "source": [
    "#Para acceder a los elementos de una lista se utilizan los corchetes.\n",
    "\n",
    "print(lista_1[1]) #Se muestra el segundo elemento.\n",
    "\n",
    "print(lista_6[0][1]) #De la primer lista, se muestra el segundo elemento.\n"
   ]
  },
  {
   "cell_type": "markdown",
   "metadata": {},
   "source": [
    "### OPERACIONES CON LISTAS\n",
    "\n",
    "- Conocer la longitud de una lista\n",
    "\n",
    "- Cambiar elementos\n",
    "\n",
    "- Eliminar elementos\n",
    "\n",
    "- Agregar nuevos elementos\n",
    "\n",
    "- Ordenar elementos\n",
    "\n",
    "- Otras"
   ]
  },
  {
   "cell_type": "code",
   "execution_count": 18,
   "metadata": {},
   "outputs": [
    {
     "data": {
      "text/plain": [
       "4"
      ]
     },
     "execution_count": 18,
     "metadata": {},
     "output_type": "execute_result"
    }
   ],
   "source": [
    "# Longitud de una lista\n",
    "len(lista_3)"
   ]
  },
  {
   "cell_type": "code",
   "execution_count": 19,
   "metadata": {},
   "outputs": [
    {
     "data": {
      "text/plain": [
       "3"
      ]
     },
     "execution_count": 19,
     "metadata": {},
     "output_type": "execute_result"
    }
   ],
   "source": [
    "len(lista_6)"
   ]
  },
  {
   "cell_type": "code",
   "execution_count": 20,
   "metadata": {},
   "outputs": [
    {
     "data": {
      "text/plain": [
       "6"
      ]
     },
     "execution_count": 20,
     "metadata": {},
     "output_type": "execute_result"
    }
   ],
   "source": [
    "len(lista_6[1])"
   ]
  },
  {
   "cell_type": "code",
   "execution_count": 17,
   "metadata": {},
   "outputs": [
    {
     "name": "stdout",
     "output_type": "stream",
     "text": [
      "5\n",
      "[1, 2, 3, 4, 5, 6.2]\n"
     ]
    }
   ],
   "source": [
    "# Cambiar elementos\n",
    "print(lista_2[5])\n",
    "lista_2[5] = 6.2\n",
    "print(lista_2)"
   ]
  },
  {
   "cell_type": "code",
   "execution_count": 58,
   "metadata": {},
   "outputs": [
    {
     "name": "stdout",
     "output_type": "stream",
     "text": [
      "['lista', 'con', 'caracteres']\n",
      "['lista', 'caracteres']\n",
      "['caracteres']\n",
      "[1, 2, 3, 4, 5, 5]\n",
      "5\n",
      "[1, 2, 3, 4, 5]\n",
      "2\n",
      "[1, 3, 4, 5]\n",
      "[]\n"
     ]
    }
   ],
   "source": [
    "# Eliminar elementos\n",
    "print(lista_5)\n",
    "del lista_5[1] #Se elimina el elemento en el índice 1\n",
    "print(lista_5)\n",
    "\n",
    "lista_5.remove('lista') #Se elimina el elemento \"lista\"\n",
    "print(lista_5)\n",
    "\n",
    "print(lista_2)\n",
    "print(lista_2.pop()) #Se muestra y se elimina el último elemento de la lista\n",
    "print(lista_2)\n",
    "\n",
    "print(lista_2.pop(1)) #Se muestra y se elimina el elemento en el índice 1\n",
    "print(lista_2)\n",
    "\n",
    "lista_2.clear() #Se vacía la lista\n",
    "print(lista_2)"
   ]
  },
  {
   "cell_type": "code",
   "execution_count": 41,
   "metadata": {},
   "outputs": [
    {
     "name": "stdout",
     "output_type": "stream",
     "text": [
      "['abc', 123, True, False]\n",
      "['abc', 123, True, False, 5]\n",
      "['abc', 123, True, False, 5, 10, 3.141592653589793, 'jkl']\n",
      "['abc', 3, 123, True, False, 5, 10, 3.141592653589793, 'jkl']\n"
     ]
    }
   ],
   "source": [
    "# Agregar un elemento\n",
    "print(lista_4)\n",
    "lista_4.append(5)\n",
    "print(lista_4)\n",
    "\n",
    "# Agregar varios elementos\n",
    "lista_4.extend([10,math.pi,'jkl'])#Se agrega una lista de elementos\n",
    "print(lista_4)\n",
    "\n",
    "#Insertar un elemento\n",
    "lista_4.insert(1,3) # Se agrega el 3 en la posición con índice 1\n",
    "print(lista_4)"
   ]
  },
  {
   "cell_type": "code",
   "execution_count": 33,
   "metadata": {},
   "outputs": [
    {
     "name": "stdout",
     "output_type": "stream",
     "text": [
      "['abc', 'def', 'ghi', 1, 2, 3, 4, 5, 5]\n"
     ]
    }
   ],
   "source": [
    "# Concatenar listas\n",
    "print(lista_1 + lista_2)"
   ]
  },
  {
   "cell_type": "code",
   "execution_count": 35,
   "metadata": {},
   "outputs": [
    {
     "name": "stdout",
     "output_type": "stream",
     "text": [
      "['lista', 'con', 'caracteres', 'lista', 'con', 'caracteres', 'lista', 'con', 'caracteres']\n"
     ]
    }
   ],
   "source": [
    "# Repetir listas\n",
    "print(lista_5 * 3)"
   ]
  },
  {
   "cell_type": "code",
   "execution_count": 67,
   "metadata": {},
   "outputs": [
    {
     "data": {
      "text/plain": [
       "1"
      ]
     },
     "execution_count": 67,
     "metadata": {},
     "output_type": "execute_result"
    }
   ],
   "source": [
    "# Índice de un elemento: La función regresa el índice del primer elemento que coincida.\n",
    "lista_4.index(123)"
   ]
  },
  {
   "cell_type": "code",
   "execution_count": 71,
   "metadata": {},
   "outputs": [
    {
     "name": "stdout",
     "output_type": "stream",
     "text": [
      "[1, 2, 3, 4, 5, 5, 1, 2, 3]\n"
     ]
    },
    {
     "data": {
      "text/plain": [
       "2"
      ]
     },
     "execution_count": 71,
     "metadata": {},
     "output_type": "execute_result"
    }
   ],
   "source": [
    "# Contar elementos\n",
    "print(lista_2)\n",
    "lista_2.count(5) #Regresa el número de veces que se encuentra el elemento (5) en la lista"
   ]
  },
  {
   "cell_type": "code",
   "execution_count": 79,
   "metadata": {},
   "outputs": [
    {
     "name": "stdout",
     "output_type": "stream",
     "text": [
      "[1, 1, 2, 2, 3, 3, 4, 5, 5]\n",
      "[1, 1, 2, 2, 3, 3, 4, 5, 5]\n",
      "['lista', 'con', 'caracteres']\n",
      "['caracteres', 'con', 'lista']\n"
     ]
    }
   ],
   "source": [
    "# Ordenar los elementos\n",
    "print(lista_2)\n",
    "lista_2.sort() # Ordena de menor a mayor\n",
    "print(lista_2)\n",
    "\n",
    "print(lista_5)\n",
    "lista_5.sort() # Ordena alfabéticamente\n",
    "print(lista_5)"
   ]
  },
  {
   "cell_type": "code",
   "execution_count": 80,
   "metadata": {},
   "outputs": [
    {
     "name": "stdout",
     "output_type": "stream",
     "text": [
      "[1, 1, 2, 2, 3, 3, 4, 5, 5]\n",
      "[5, 5, 4, 3, 3, 2, 2, 1, 1]\n"
     ]
    }
   ],
   "source": [
    "# Invierte el orden de los elementos\n",
    "print(lista_2)\n",
    "lista_2.reverse()\n",
    "print(lista_2)"
   ]
  },
  {
   "cell_type": "code",
   "execution_count": 81,
   "metadata": {},
   "outputs": [
    {
     "name": "stdout",
     "output_type": "stream",
     "text": [
      "[5, 5, 4, 3, 3, 2, 2, 1, 1]\n"
     ]
    },
    {
     "data": {
      "text/plain": [
       "[5, 5, 4, 3, 3, 2, 2, 1, 1]"
      ]
     },
     "execution_count": 81,
     "metadata": {},
     "output_type": "execute_result"
    }
   ],
   "source": [
    "# Regresa una copia de la lista\n",
    "lista_2.copy()"
   ]
  },
  {
   "cell_type": "code",
   "execution_count": 84,
   "metadata": {},
   "outputs": [
    {
     "data": {
      "text/plain": [
       "False"
      ]
     },
     "execution_count": 84,
     "metadata": {},
     "output_type": "execute_result"
    }
   ],
   "source": [
    "# Buscar elemento en la lista\n",
    "10 in lista_2"
   ]
  },
  {
   "cell_type": "code",
   "execution_count": 85,
   "metadata": {},
   "outputs": [
    {
     "data": {
      "text/plain": [
       "True"
      ]
     },
     "execution_count": 85,
     "metadata": {},
     "output_type": "execute_result"
    }
   ],
   "source": [
    "10 not in lista_2"
   ]
  },
  {
   "cell_type": "markdown",
   "metadata": {},
   "source": [
    "### MATRICES\n",
    "Se definen como una lista de listas o en base a los arreglos."
   ]
  },
  {
   "cell_type": "code",
   "execution_count": null,
   "metadata": {},
   "outputs": [],
   "source": [
    "mat = np.arange(1, 10).reshape(3,3)\n",
    "print(mat,\"\\n\")\n",
    "print(\"La dimensión de mat es:\",mat.shape)\n",
    "\n",
    "print(\"La matriz mat tiene:\",mat.shape[0],\" renglones y \",mat.shape[1],\" columnas.\")\n",
    "\n",
    "mat_2 = np.array([[9,8,7],[6,5,4],[3,2,1]])\n",
    "print(mat_2,\"\\n\")\n",
    "\n",
    "#Lista de listas\n",
    "mat_3=  [[8, 14, -6],[12, 7, 4],[-11, 3, 21]]\n",
    "print(mat_3)"
   ]
  },
  {
   "cell_type": "code",
   "execution_count": 12,
   "metadata": {},
   "outputs": [
    {
     "ename": "ValueError",
     "evalue": "cannot reshape array of size 8 into shape (3,3)",
     "output_type": "error",
     "traceback": [
      "\u001b[1;31m---------------------------------------------------------------------------\u001b[0m",
      "\u001b[1;31mValueError\u001b[0m                                Traceback (most recent call last)",
      "\u001b[1;32m<ipython-input-12-0dd1410e3b92>\u001b[0m in \u001b[0;36m<module>\u001b[1;34m\u001b[0m\n\u001b[0;32m      1\u001b[0m \u001b[1;31m# Cuidado al definir los valores de las matrices\u001b[0m\u001b[1;33m\u001b[0m\u001b[1;33m\u001b[0m\u001b[1;33m\u001b[0m\u001b[0m\n\u001b[1;32m----> 2\u001b[1;33m \u001b[0mmat_error\u001b[0m \u001b[1;33m=\u001b[0m \u001b[0mnp\u001b[0m\u001b[1;33m.\u001b[0m\u001b[0marange\u001b[0m\u001b[1;33m(\u001b[0m\u001b[1;36m1\u001b[0m\u001b[1;33m,\u001b[0m \u001b[1;36m9\u001b[0m\u001b[1;33m)\u001b[0m\u001b[1;33m.\u001b[0m\u001b[0mreshape\u001b[0m\u001b[1;33m(\u001b[0m\u001b[1;36m3\u001b[0m\u001b[1;33m,\u001b[0m\u001b[1;36m3\u001b[0m\u001b[1;33m)\u001b[0m\u001b[1;33m\u001b[0m\u001b[1;33m\u001b[0m\u001b[0m\n\u001b[0m\u001b[0;32m      3\u001b[0m \u001b[0mmat_error\u001b[0m\u001b[1;33m\u001b[0m\u001b[1;33m\u001b[0m\u001b[0m\n",
      "\u001b[1;31mValueError\u001b[0m: cannot reshape array of size 8 into shape (3,3)"
     ]
    }
   ],
   "source": [
    "# Cuidado al definir los valores de las matrices\n",
    "mat_error = np.arange(1, 9).reshape(3,3)\n",
    "mat_error"
   ]
  },
  {
   "cell_type": "code",
   "execution_count": null,
   "metadata": {},
   "outputs": [],
   "source": [
    "#Se muestra el primer renglón de cada matriz\n",
    "mat[0]"
   ]
  },
  {
   "cell_type": "code",
   "execution_count": null,
   "metadata": {},
   "outputs": [],
   "source": [
    "mat_2[0]"
   ]
  },
  {
   "cell_type": "code",
   "execution_count": null,
   "metadata": {},
   "outputs": [],
   "source": [
    "mat_3[0]"
   ]
  },
  {
   "cell_type": "code",
   "execution_count": null,
   "metadata": {},
   "outputs": [],
   "source": [
    "np.empty((2, 3))# Matriz vacía, con valores residuales de la memoria"
   ]
  },
  {
   "cell_type": "code",
   "execution_count": null,
   "metadata": {},
   "outputs": [],
   "source": [
    "np.zeros((3, 3)) # Matriz de ceros"
   ]
  },
  {
   "cell_type": "code",
   "execution_count": null,
   "metadata": {},
   "outputs": [],
   "source": [
    "np.ones((3, 2)) # Matriz de unos"
   ]
  },
  {
   "cell_type": "markdown",
   "metadata": {},
   "source": [
    "### OPERACIONES CON MATRICES\n",
    "Se muestran operaciones entrada por entrada y con las matrices completas."
   ]
  },
  {
   "cell_type": "code",
   "execution_count": null,
   "metadata": {},
   "outputs": [],
   "source": [
    "#Suma\n",
    "mat + mat_2"
   ]
  },
  {
   "cell_type": "code",
   "execution_count": null,
   "metadata": {},
   "outputs": [],
   "source": [
    "mat + mat_3"
   ]
  },
  {
   "cell_type": "code",
   "execution_count": null,
   "metadata": {},
   "outputs": [],
   "source": [
    "mat - mat_2"
   ]
  },
  {
   "cell_type": "code",
   "execution_count": null,
   "metadata": {},
   "outputs": [],
   "source": [
    "#Multiplicación de matrices\n",
    "mat.dot(mat_2)"
   ]
  },
  {
   "cell_type": "code",
   "execution_count": null,
   "metadata": {},
   "outputs": [],
   "source": [
    "#Multiplicación de vector por matriz\n",
    "w.dot(mat)"
   ]
  },
  {
   "cell_type": "code",
   "execution_count": null,
   "metadata": {},
   "outputs": [],
   "source": [
    "#Divide entrada por entrada\n",
    "np.divide(mat,mat_2)"
   ]
  },
  {
   "cell_type": "code",
   "execution_count": null,
   "metadata": {},
   "outputs": [],
   "source": [
    "#Transpuesta de una matriz\n",
    "mat.transpose()"
   ]
  },
  {
   "cell_type": "code",
   "execution_count": null,
   "metadata": {},
   "outputs": [],
   "source": [
    "mat.T"
   ]
  },
  {
   "cell_type": "code",
   "execution_count": null,
   "metadata": {},
   "outputs": [],
   "source": [
    "#Muestra el primer renglón\n",
    "mat[:1,]"
   ]
  },
  {
   "cell_type": "code",
   "execution_count": null,
   "metadata": {},
   "outputs": [],
   "source": [
    "#Muestra la primer columna\n",
    "mat[:,0]"
   ]
  },
  {
   "cell_type": "code",
   "execution_count": null,
   "metadata": {},
   "outputs": [],
   "source": [
    "#Muestra los primeros 2 renglones y las primeras 2 columnas\n",
    "mat[:2,:2]"
   ]
  },
  {
   "cell_type": "code",
   "execution_count": null,
   "metadata": {},
   "outputs": [],
   "source": [
    "#Divide entrada por entrada\n",
    "np.divide(mat,mat_2)"
   ]
  },
  {
   "cell_type": "code",
   "execution_count": null,
   "metadata": {},
   "outputs": [],
   "source": [
    "#Multiplica entrada por entrada\n",
    "np.multiply(mat,mat_2)"
   ]
  },
  {
   "cell_type": "code",
   "execution_count": null,
   "metadata": {},
   "outputs": [],
   "source": [
    "#Raíz cuadrada entrada por entrada\n",
    "np.sqrt(mat)"
   ]
  },
  {
   "cell_type": "code",
   "execution_count": null,
   "metadata": {},
   "outputs": [],
   "source": [
    "#Suma de elementos\n",
    "np.sum(mat)"
   ]
  },
  {
   "cell_type": "code",
   "execution_count": null,
   "metadata": {},
   "outputs": [],
   "source": [
    "#Suma por columnas\n",
    "np.sum(mat,axis=0)"
   ]
  },
  {
   "cell_type": "code",
   "execution_count": null,
   "metadata": {},
   "outputs": [],
   "source": [
    "#Suma por renglones\n",
    "np.sum(mat,axis=1)"
   ]
  },
  {
   "cell_type": "markdown",
   "metadata": {},
   "source": [
    "### TUPLE\n",
    "\n",
    "Tiene las mismas características que una lista, pero **no** se pueden modificar sus elementos. Ésto permite que las iteraciones hechas con un _tuple_ sean más rápidas que con una lista.\n",
    "\n",
    "Se definen con paréntesis.\n",
    "\n",
    "Usualmente se usa con datos de diferente tipo.\n",
    "<!---\n",
    "Las listas se utilizan generalmente con el mismo tipo de datos\n",
    "-->"
   ]
  },
  {
   "cell_type": "code",
   "execution_count": 145,
   "metadata": {},
   "outputs": [
    {
     "name": "stdout",
     "output_type": "stream",
     "text": [
      "('abc', 'def', 'ghi')\n",
      "(1, 2, 3, 4, 5, 5, 1, 2, 3)\n",
      "(True, False, True, False)\n",
      "('abc', 123, True, False)\n",
      "('tuple', 'con', 'caracteres')\n",
      "(456, ['abc', 'def', 'ghi'], [1, 2, 3, 4, 5, 6, 7, 8, 9, 3], [True, False, True, False])\n",
      "()\n"
     ]
    }
   ],
   "source": [
    "#Tuple de caracteres.\n",
    "tuple1 = (\"abc\", \"def\", \"ghi\")\n",
    "print(tuple1)\n",
    "\n",
    "#Tuple de valores numéricos.\n",
    "tuple2 = (1, 2, 3, 4, 5, 5, 1, 2, 3) #Permite valores repetidos\n",
    "print(tuple2)\n",
    "\n",
    "#Tuple de booleanos.\n",
    "tuple3 = (True,False,1<2,1>2)\n",
    "print(tuple3)\n",
    "\n",
    "#Tuple de valores combinados.\n",
    "tuple4 = (\"abc\", 123, True, 2<0)\n",
    "print(tuple4)\n",
    "\n",
    "#Definición con el comando \"tuple()\"\n",
    "tuple5 = tuple((\"tuple\", \"con\", \"caracteres\")) #Se define con doble paréntesis.\n",
    "print(tuple5)\n",
    "\n",
    "#Tuple de listas\n",
    "tuple6 = (456,lista_1,lista_2,lista_3)\n",
    "print(tuple6)\n",
    "\n",
    "#Tuple vacío\n",
    "tuple_v = ()\n",
    "print(tuple_v)"
   ]
  },
  {
   "cell_type": "code",
   "execution_count": 92,
   "metadata": {},
   "outputs": [
    {
     "name": "stdout",
     "output_type": "stream",
     "text": [
      "(1, 4, 7)\n",
      "1\n",
      "4\n",
      "7\n"
     ]
    }
   ],
   "source": [
    "# Tuple packing: Se define un tuple sin paréntesis\n",
    "tuple_p = 1,4,7 #En caso de que el tuple tenga un solo elemento se debe agregar una coma al final.\n",
    "print(tuple_p)\n",
    "\n",
    "# Tuple unpacking: Se definen varias variables al mismo tiempo\n",
    "x,y,z = tuple_p\n",
    "print(x)\n",
    "print(y)\n",
    "print(z)"
   ]
  },
  {
   "cell_type": "code",
   "execution_count": 94,
   "metadata": {},
   "outputs": [
    {
     "name": "stdout",
     "output_type": "stream",
     "text": [
      "(456, ['abc', 'def', 'ghi'], [1, 2, 3, 4, 5, 5, 1, 2, 3], [True, False, True, False])\n",
      "(456, ['abc', 'def', 'ghi'], [1, 2, 3, 4, 5, 6, 7, 8, 9, 3], [True, False, True, False])\n"
     ]
    }
   ],
   "source": [
    "# Si el tuple tiene como elemento una lista, esa lista se puede modificar\n",
    "print(tuple6)\n",
    "tuple6[2][5:8] = 6,7,8,9 #Se insertan valores a la lista contenida en el tuple\n",
    "print(tuple6)"
   ]
  },
  {
   "cell_type": "code",
   "execution_count": 95,
   "metadata": {},
   "outputs": [
    {
     "data": {
      "text/plain": [
       "('abc', 'def', 'ghi', 1, 2, 3, 4, 5, 5, 1, 2, 3)"
      ]
     },
     "execution_count": 95,
     "metadata": {},
     "output_type": "execute_result"
    }
   ],
   "source": [
    "# Concatenar tuples\n",
    "tuple1 + tuple2"
   ]
  },
  {
   "cell_type": "code",
   "execution_count": 97,
   "metadata": {},
   "outputs": [
    {
     "data": {
      "text/plain": [
       "('abc', 123, True, False, 'abc', 123, True, False)"
      ]
     },
     "execution_count": 97,
     "metadata": {},
     "output_type": "execute_result"
    }
   ],
   "source": [
    "# Repetir tuple\n",
    "tuple4*2"
   ]
  },
  {
   "cell_type": "code",
   "execution_count": 98,
   "metadata": {},
   "outputs": [
    {
     "name": "stdout",
     "output_type": "stream",
     "text": [
      "(True, False, True, False)\n"
     ]
    },
    {
     "ename": "NameError",
     "evalue": "name 'tuple3' is not defined",
     "output_type": "error",
     "traceback": [
      "\u001b[1;31m---------------------------------------------------------------------------\u001b[0m",
      "\u001b[1;31mNameError\u001b[0m                                 Traceback (most recent call last)",
      "\u001b[1;32m<ipython-input-98-b78299853ba0>\u001b[0m in \u001b[0;36m<module>\u001b[1;34m\u001b[0m\n\u001b[0;32m      2\u001b[0m \u001b[0mprint\u001b[0m\u001b[1;33m(\u001b[0m\u001b[0mtuple3\u001b[0m\u001b[1;33m)\u001b[0m\u001b[1;33m\u001b[0m\u001b[1;33m\u001b[0m\u001b[0m\n\u001b[0;32m      3\u001b[0m \u001b[1;32mdel\u001b[0m \u001b[0mtuple3\u001b[0m\u001b[1;33m\u001b[0m\u001b[1;33m\u001b[0m\u001b[0m\n\u001b[1;32m----> 4\u001b[1;33m \u001b[0mprint\u001b[0m\u001b[1;33m(\u001b[0m\u001b[0mtuple3\u001b[0m\u001b[1;33m)\u001b[0m\u001b[1;33m\u001b[0m\u001b[1;33m\u001b[0m\u001b[0m\n\u001b[0m",
      "\u001b[1;31mNameError\u001b[0m: name 'tuple3' is not defined"
     ]
    }
   ],
   "source": [
    "# Borrar tuple\n",
    "print(tuple3)\n",
    "del tuple3\n",
    "print(tuple3) #Manda error porque se eliminó la variable"
   ]
  },
  {
   "cell_type": "code",
   "execution_count": 101,
   "metadata": {},
   "outputs": [
    {
     "name": "stdout",
     "output_type": "stream",
     "text": [
      "(1, 2, 3, 4, 5, 5, 1, 2, 3)\n"
     ]
    },
    {
     "data": {
      "text/plain": [
       "2"
      ]
     },
     "execution_count": 101,
     "metadata": {},
     "output_type": "execute_result"
    }
   ],
   "source": [
    "#Contar elementos\n",
    "print(tuple2)\n",
    "tuple2.count(3)"
   ]
  },
  {
   "cell_type": "code",
   "execution_count": 102,
   "metadata": {},
   "outputs": [
    {
     "name": "stdout",
     "output_type": "stream",
     "text": [
      "(1, 2, 3, 4, 5, 5, 1, 2, 3)\n"
     ]
    },
    {
     "data": {
      "text/plain": [
       "2"
      ]
     },
     "execution_count": 102,
     "metadata": {},
     "output_type": "execute_result"
    }
   ],
   "source": [
    "#Índice de elemento\n",
    "print(tuple2)\n",
    "tuple2.index(3)"
   ]
  },
  {
   "cell_type": "code",
   "execution_count": 105,
   "metadata": {},
   "outputs": [
    {
     "name": "stdout",
     "output_type": "stream",
     "text": [
      "True\n",
      "False\n"
     ]
    }
   ],
   "source": [
    "#Pertenencia de un elemento en un tuple\n",
    "print(5 in tuple2)\n",
    "\n",
    "print(5 not in tuple2)"
   ]
  },
  {
   "cell_type": "markdown",
   "metadata": {},
   "source": [
    "### SET (CONJUNTOS)\n",
    "\n",
    "Es una colección de elementos únicos. Los elementos no se pueden modificar pero se pueden agregar o quitar elementos de _set_.\n",
    "\n",
    "No puede tener como elementos, listas, _tuples_, ni _dictionaries_.\n",
    "\n",
    "**frozenset():** Es una variable tipo _set_ que no se puede modificar."
   ]
  },
  {
   "cell_type": "code",
   "execution_count": 174,
   "metadata": {},
   "outputs": [
    {
     "name": "stdout",
     "output_type": "stream",
     "text": [
      "{1, 3.141592653589793, 'abc'}\n",
      "{123, 'abcd', 6.283185307179586}\n",
      "{123, 'abcd', 6.283185307179586}\n",
      "set()\n",
      "frozenset({2, 4, 6, 8, 10})\n"
     ]
    }
   ],
   "source": [
    "# Se define con llaves o con el comando \"set()\"\n",
    "set1 = {1,math.pi,\"abc\"}\n",
    "print(set1)\n",
    "\n",
    "set2 = {123,2*math.pi,\"abcd\"}\n",
    "print(set2)#Se cambia el orden\n",
    "\n",
    "set3 = set([123,2*math.pi,\"abcd\",123,2*math.pi,\"abcd\"]) #El parámetro de la función es una lista\n",
    "print(set3)#No se repiten los elementos\n",
    "\n",
    "set_v = set()\n",
    "print(set_v)#Conjunto vacío\n",
    "\n",
    "print(frozenset({2,4,6,8,10}))"
   ]
  },
  {
   "cell_type": "code",
   "execution_count": 125,
   "metadata": {},
   "outputs": [
    {
     "name": "stdout",
     "output_type": "stream",
     "text": [
      "{1, 2, 3.141592653589793, 'abc'}\n",
      "{1, 2, 3.141592653589793, 4, 5, 6, 7, 'abc'}\n"
     ]
    }
   ],
   "source": [
    "# Agregar un elemento\n",
    "set1.add(2)\n",
    "print(set1)\n",
    "\n",
    "# Agregar varios elementos\n",
    "set1.update([4,5,6,7])\n",
    "print(set1)\n"
   ]
  },
  {
   "cell_type": "code",
   "execution_count": 126,
   "metadata": {},
   "outputs": [
    {
     "name": "stdout",
     "output_type": "stream",
     "text": [
      "{1, 2, 3.141592653589793, 4, 5, 6, 7}\n",
      "{1, 2, 3.141592653589793, 4, 5, 6, 7}\n",
      "{1, 2, 3.141592653589793, 5, 6, 7}\n"
     ]
    },
    {
     "ename": "KeyError",
     "evalue": "'bcd'",
     "output_type": "error",
     "traceback": [
      "\u001b[1;31m---------------------------------------------------------------------------\u001b[0m",
      "\u001b[1;31mKeyError\u001b[0m                                  Traceback (most recent call last)",
      "\u001b[1;32m<ipython-input-126-679af9d17f0f>\u001b[0m in \u001b[0;36m<module>\u001b[1;34m\u001b[0m\n\u001b[0;32m     10\u001b[0m \u001b[0mprint\u001b[0m\u001b[1;33m(\u001b[0m\u001b[0mset1\u001b[0m\u001b[1;33m)\u001b[0m\u001b[1;33m\u001b[0m\u001b[1;33m\u001b[0m\u001b[0m\n\u001b[0;32m     11\u001b[0m \u001b[1;33m\u001b[0m\u001b[0m\n\u001b[1;32m---> 12\u001b[1;33m \u001b[0mset1\u001b[0m\u001b[1;33m.\u001b[0m\u001b[0mremove\u001b[0m\u001b[1;33m(\u001b[0m\u001b[1;34m'bcd'\u001b[0m\u001b[1;33m)\u001b[0m\u001b[1;33m\u001b[0m\u001b[1;33m\u001b[0m\u001b[0m\n\u001b[0m\u001b[0;32m     13\u001b[0m \u001b[0mprint\u001b[0m\u001b[1;33m(\u001b[0m\u001b[0mset1\u001b[0m\u001b[1;33m)\u001b[0m\u001b[1;31m# No causa error si el elemento no existe en el conjunto\u001b[0m\u001b[1;33m\u001b[0m\u001b[1;33m\u001b[0m\u001b[0m\n",
      "\u001b[1;31mKeyError\u001b[0m: 'bcd'"
     ]
    }
   ],
   "source": [
    "#Eliminar elementos\n",
    "\n",
    "set1.discard('abc')\n",
    "print(set1)\n",
    "\n",
    "set1.discard('bcd')\n",
    "print(set1)# No causa error si el elemento no existe en el conjunto\n",
    "\n",
    "set1.remove(4)\n",
    "print(set1)\n",
    "\n",
    "set1.remove('bcd')\n",
    "print(set1)# Causa error si el elemento no existe en el conjunto\n"
   ]
  },
  {
   "cell_type": "code",
   "execution_count": 128,
   "metadata": {},
   "outputs": [
    {
     "name": "stdout",
     "output_type": "stream",
     "text": [
      "{'abcd', 6.283185307179586}\n",
      "abcd\n",
      "{6.283185307179586}\n",
      "set()\n"
     ]
    }
   ],
   "source": [
    "print(set2)\n",
    "print(set2.pop()) #Se muestra y se elimina un elemento del conjunto\n",
    "print(set2)\n",
    "\n",
    "set2.clear() #Se vacía el conjunto\n",
    "print(set2)"
   ]
  },
  {
   "cell_type": "markdown",
   "metadata": {},
   "source": [
    "### OPERACIONES DE CONJUNTOS\n",
    "\n",
    "Permite operaciones como unión, intersección, diferencia, ..."
   ]
  },
  {
   "cell_type": "code",
   "execution_count": 138,
   "metadata": {},
   "outputs": [
    {
     "name": "stdout",
     "output_type": "stream",
     "text": [
      "{1, 2, 3, 4, 5, 6, 7, 8, 9, 10}\n",
      "{1, 2, 3, 4, 5, 6, 7, 8, 9, 10}\n",
      "{1, 2, 3, 4, 5, 6, 7, 8, 9, 10}\n",
      "{5}\n",
      "{5}\n",
      "{5}\n",
      "{1, 2, 3, 4}\n",
      "{6, 7, 8, 9, 10}\n",
      "{1, 2, 3, 4}\n",
      "{6, 7, 8, 9, 10}\n",
      "{1, 2, 3, 4, 6, 7, 8, 9, 10}\n",
      "{1, 2, 3, 4, 6, 7, 8, 9, 10}\n",
      "{1, 2, 3, 4, 6, 7, 8, 9, 10}\n"
     ]
    }
   ],
   "source": [
    "A = {1,2,3,4,5}\n",
    "B = {5,6,7,8,9,10}\n",
    "\n",
    "#Unión\n",
    "print(A | B)\n",
    "print(A.union(B))\n",
    "print(B.union(A))\n",
    "\n",
    "#Intersección\n",
    "print(A & B)\n",
    "print(A.intersection(B))\n",
    "print(B.intersection(A))\n",
    "\n",
    "#Diferencia\n",
    "print(A - B)\n",
    "print(B - A)\n",
    "print(A.difference(B))\n",
    "print(B.difference(A))\n",
    "\n",
    "#Diferencia simétrica: (A-B) U (B-A)\n",
    "print(A ^ B)\n",
    "print(A.symmetric_difference(B))\n",
    "print(B.symmetric_difference(A))"
   ]
  },
  {
   "cell_type": "code",
   "execution_count": 139,
   "metadata": {},
   "outputs": [
    {
     "data": {
      "text/plain": [
       "False"
      ]
     },
     "execution_count": 139,
     "metadata": {},
     "output_type": "execute_result"
    }
   ],
   "source": [
    "#Conjuntos disjuntos\n",
    "A.isdisjoint(B) #Arroja 'false' porque los conjuntos no son disjuntos, tienen como elemento común el '5'."
   ]
  },
  {
   "cell_type": "code",
   "execution_count": 140,
   "metadata": {},
   "outputs": [
    {
     "data": {
      "text/plain": [
       "True"
      ]
     },
     "execution_count": 140,
     "metadata": {},
     "output_type": "execute_result"
    }
   ],
   "source": [
    "#Subconjunto\n",
    "C = {1,2,3}\n",
    "C.issubset(A) #¿C es subconjunto de A?"
   ]
  },
  {
   "cell_type": "code",
   "execution_count": 142,
   "metadata": {},
   "outputs": [
    {
     "name": "stdout",
     "output_type": "stream",
     "text": [
      "True\n",
      "False\n"
     ]
    }
   ],
   "source": [
    "#Pertenencia en el conjunto\n",
    "print(5 in A)\n",
    "print(5 not in A)\n"
   ]
  },
  {
   "cell_type": "markdown",
   "metadata": {},
   "source": [
    "### DICTIONARY\n",
    "\n",
    "Es una colección no ordenada de elementos. Se puede definir con llaves o con el comando _dict()_ Cada elemento consta de dos valores _key/value_.\n",
    "\n",
    "El valor _key_ debe ser único y debe ser de una variable que no se pueda cambiar, por ejemplo _tuple_ o _frozenset_.\n",
    "\n",
    "El valor _value_ puede ser de cualquier tipo y puede repetirse."
   ]
  },
  {
   "cell_type": "code",
   "execution_count": 199,
   "metadata": {},
   "outputs": [
    {
     "name": "stdout",
     "output_type": "stream",
     "text": [
      "{1: 'agua', 2: 'luz', 3: 'gas', 4: 'teléfono', 5: 'ocio'}\n",
      "{'marca': 'Ford', 'automático': False, 'eléctrico': True, 'año': 1968, 'colores': ['rojo', 'negro', 'azul']}\n"
     ]
    }
   ],
   "source": [
    "dic1 = dict([(1,'agua'),(2,'luz'),(3,'gas'),(4,'teléfono'),(5,'ocio')])\n",
    "print(dic1)\n",
    "\n",
    "dic2 = {\n",
    "  \"marca\": \"Ford\",\n",
    "  \"automático\": False,\n",
    "  \"eléctrico\": True,\n",
    "  \"año\": 1968,\n",
    "  \"colores\": [\"rojo\", \"negro\", \"azul\"]\n",
    "}\n",
    "print(dic2)\n"
   ]
  },
  {
   "cell_type": "code",
   "execution_count": 203,
   "metadata": {},
   "outputs": [
    {
     "name": "stdout",
     "output_type": "stream",
     "text": [
      "luz\n",
      "['rojo', 'negro', 'azul']\n",
      "dict_items([(1, 'agua'), (2, 'luz'), (3, 'gas'), (4, 'teléfono'), (5, 'ocio')])\n",
      "dict_keys([1, 2, 3, 4, 5])\n",
      "dict_values(['agua', 'luz', 'gas', 'teléfono', 'ocio'])\n"
     ]
    }
   ],
   "source": [
    "#Ver información\n",
    "print(dic1[2])\n",
    "print(dic2['colores'])\n",
    "\n",
    "#Muestra los elementos del diccionario\n",
    "print(dic1.items())\n",
    "\n",
    "#Muestra las llaves del diccionario\n",
    "print(dic1.keys())\n",
    "\n",
    "#Muestra los valores del diccionario\n",
    "print(dic1.values())"
   ]
  },
  {
   "cell_type": "code",
   "execution_count": 189,
   "metadata": {},
   "outputs": [
    {
     "name": "stdout",
     "output_type": "stream",
     "text": [
      "{1: 'agua', 2: 'luz', 3: 'gas', 4: 'teléfono', 5: 'renta'}\n",
      "{'marca': 'Ford', 'automático': False, 'eléctrico': True, 'año': 1968, 'colores': ['rojo', 'negro', 'azul', 'blanco']}\n"
     ]
    }
   ],
   "source": [
    "# Cambiar información\n",
    "dic1[5] = 'renta'\n",
    "dic2['colores'] = [\"rojo\", \"negro\", \"azul\",\"blanco\"]\n",
    "\n",
    "print(dic1)\n",
    "print(dic2)"
   ]
  },
  {
   "cell_type": "code",
   "execution_count": 194,
   "metadata": {},
   "outputs": [
    {
     "name": "stdout",
     "output_type": "stream",
     "text": [
      "teléfono\n",
      "{1: 'agua', 2: 'luz', 3: 'gas', 5: 'ocio'}\n"
     ]
    }
   ],
   "source": [
    "# Quitar un elemento\n",
    "print(dic1.pop(4))\n",
    "print(dic1)"
   ]
  },
  {
   "cell_type": "code",
   "execution_count": 197,
   "metadata": {},
   "outputs": [
    {
     "name": "stdout",
     "output_type": "stream",
     "text": [
      "{'marca': 'Ford', 'automático': False, 'eléctrico': True}\n",
      "('eléctrico', True)\n",
      "{'marca': 'Ford', 'automático': False}\n"
     ]
    }
   ],
   "source": [
    "# Quitar el último elemento\n",
    "print(dic2)\n",
    "print(dic2.popitem())\n",
    "print(dic2)"
   ]
  },
  {
   "cell_type": "markdown",
   "metadata": {},
   "source": [
    "### FUNCIONES QUE SE APLICAN A VARIABLES TIPO _LIST, SET, DICTIONARY,..._\n",
    "\n",
    "- **all():** Regresa \"TRUE\" si todos los elementos son \"TRUE\" o si la variable es vacía.\n",
    "\n",
    "- **any():** Regresa \"TRUE\" si algún elemento es \"TRUE\". Si la variable es vacía, regresa \"FALSE\".\n",
    "\n",
    "- **enumerate():** Regresa un objeto enumerado.\n",
    "\n",
    "- **len():** Regresa el número de elementos de la variable.\n",
    "\n",
    "- **max():** Regresa el elemento más grande.\n",
    "\n",
    "- **min():** Regresa el elemento más pequeño.\n",
    "\n",
    "- **sorted():** Regresa una lista ordenada de los elementos.\n",
    "\n",
    "- **sum():** Regresa la suma de los elementos."
   ]
  },
  {
   "cell_type": "code",
   "execution_count": 147,
   "metadata": {},
   "outputs": [
    {
     "name": "stdout",
     "output_type": "stream",
     "text": [
      "{1, 2, 3, 4, 5}\n",
      "True\n",
      "(True, False, True, False)\n",
      "False\n"
     ]
    }
   ],
   "source": [
    "# Función all()\n",
    "print(A)\n",
    "print(all(A))\n",
    "\n",
    "print(tuple3)\n",
    "print(all(tuple3))"
   ]
  },
  {
   "cell_type": "code",
   "execution_count": 150,
   "metadata": {},
   "outputs": [
    {
     "name": "stdout",
     "output_type": "stream",
     "text": [
      "{1, 2, 3, 4, 5}\n",
      "(True, False, True, False)\n",
      "True\n",
      "True\n",
      "False\n"
     ]
    }
   ],
   "source": [
    "# Función any()\n",
    "print(A)\n",
    "print(tuple3)\n",
    "\n",
    "print(any(A))\n",
    "print(any(tuple3))\n",
    "print(any([0,False]))"
   ]
  },
  {
   "cell_type": "code",
   "execution_count": 153,
   "metadata": {},
   "outputs": [
    {
     "name": "stdout",
     "output_type": "stream",
     "text": [
      "[(1, 'abc'), (2, 'def'), (3, 'ghi')]\n"
     ]
    }
   ],
   "source": [
    "# Función enumerate()\n",
    "lista_num = enumerate(lista_1, start = 1)\n",
    "print(list(lista_num))"
   ]
  },
  {
   "cell_type": "code",
   "execution_count": 158,
   "metadata": {},
   "outputs": [
    {
     "data": {
      "text/plain": [
       "6"
      ]
     },
     "execution_count": 158,
     "metadata": {},
     "output_type": "execute_result"
    }
   ],
   "source": [
    "# Función len()\n",
    "len(B)"
   ]
  },
  {
   "cell_type": "code",
   "execution_count": 159,
   "metadata": {},
   "outputs": [
    {
     "data": {
      "text/plain": [
       "10"
      ]
     },
     "execution_count": 159,
     "metadata": {},
     "output_type": "execute_result"
    }
   ],
   "source": [
    "# Función max()\n",
    "max(B)"
   ]
  },
  {
   "cell_type": "code",
   "execution_count": 160,
   "metadata": {},
   "outputs": [
    {
     "data": {
      "text/plain": [
       "5"
      ]
     },
     "execution_count": 160,
     "metadata": {},
     "output_type": "execute_result"
    }
   ],
   "source": [
    "# Función min()\n",
    "min(B)"
   ]
  },
  {
   "cell_type": "code",
   "execution_count": 171,
   "metadata": {},
   "outputs": [
    {
     "name": "stdout",
     "output_type": "stream",
     "text": [
      "[1, 2, 3, 4, 5, 6, 7, 8, 9, 3]\n",
      "[1, 2, 3, 3, 4, 5, 6, 7, 8, 9]\n",
      "[1, 2, 3, 4, 5, 6, 7, 8, 9, 3]\n",
      "None\n",
      "[9, 8, 7, 6, 5, 4, 3, 3, 2, 1]\n",
      "['lista', 'con', 'caracteres']\n",
      "['con', 'lista', 'caracteres']\n"
     ]
    }
   ],
   "source": [
    "# Función sorted()\n",
    "print(lista_2)\n",
    "print(sorted(lista_2))\n",
    "print(lista_2)#No cambia la lista\n",
    "\n",
    "print(sorted(lista_2,reverse=True))#Ordena de mayor a menor\n",
    "\n",
    "print(lista_5)\n",
    "print(sorted(lista_5, key=len))#Ordena de acuerdo a la longitud de los elementos"
   ]
  },
  {
   "cell_type": "code",
   "execution_count": 172,
   "metadata": {},
   "outputs": [
    {
     "name": "stdout",
     "output_type": "stream",
     "text": [
      "{1, 2, 3, 4, 5}\n"
     ]
    },
    {
     "data": {
      "text/plain": [
       "15"
      ]
     },
     "execution_count": 172,
     "metadata": {},
     "output_type": "execute_result"
    }
   ],
   "source": [
    "# Función sum()\n",
    "print(A)\n",
    "sum(A)"
   ]
  },
  {
   "cell_type": "markdown",
   "metadata": {},
   "source": [
    "### DIFERENCIAS ENTRE _LIST, TUPLE, SET _ Y _DICTIONARY_\n",
    "\n",
    "|            |                                 List                                |             Tuple            |                    Set                    |                                         Dictionary                                        |\n",
    "|------------|:-------------------------------------------------------------------:|:----------------------------:|:-----------------------------------------:|:-----------------------------------------------------------------------------------------:|\n",
    "| Definición |                                  []                                 |              ()              |                     {}                    |                                        {key:value}                                        |\n",
    "| Ejemplo    |                             l = [1,2,3]                             |         t = (1,2,3,)         |             s = {1,1,2,2,3,3}             |                               d = {1:'Frutas',2:'Verduras'}                               |\n",
    "| Ordenado   |                                  SI                                 |              SI              |                     NO                    |                                             NO                                            |\n",
    "| Cambia     |                                  SI                                 |              NO              |                     SI                    |                                     key-No / value-SI                                     |\n",
    "| Elem. rep. |                                  SI                                 |              SI              |                     NO                    |                                     key-NO / value-SI                                     |\n",
    "| Acceso     |                             print(l[0])                             |          print(t[0])         |                  print(s)                 |                                            d[1]                                           |\n",
    "| Uso        | Con datos sin acceso aleatorio. Variable modificada frecuentemente. | Cuando los datos no cambian. | Cuando no se desean elementos duplicados. | Se tiene una asociación lógica en pares. Vista rápida a elementos por medio de una llave. |\n",
    "|            |                                                                     |                              |                                           |                                                                                           |"
   ]
  }
 ],
 "metadata": {
  "kernelspec": {
   "display_name": "Python 3",
   "language": "python",
   "name": "python3"
  },
  "language_info": {
   "codemirror_mode": {
    "name": "ipython",
    "version": 3
   },
   "file_extension": ".py",
   "mimetype": "text/x-python",
   "name": "python",
   "nbconvert_exporter": "python",
   "pygments_lexer": "ipython3",
   "version": "3.8.5"
  }
 },
 "nbformat": 4,
 "nbformat_minor": 4
}
