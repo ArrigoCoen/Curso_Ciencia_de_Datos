{
 "cells": [
  {
   "cell_type": "markdown",
   "metadata": {},
   "source": [
    "# Condicionales\n",
    "Los condicionales nos permiten realizar una acción si se cumple algún atributo deseado. Los temas que se verán en este submódulo son:\n",
    " 1. Flujos condicionales (if/else)\n",
    " 2. Loops (ciclos)\n",
    " 3. Funciones y clases"
   ]
  },
  {
   "cell_type": "markdown",
   "metadata": {},
   "source": []
  },
  {
   "cell_type": "code",
   "execution_count": 3,
   "metadata": {},
   "outputs": [
    {
     "data": {
      "text/plain": [
       "'hola'"
      ]
     },
     "execution_count": 3,
     "metadata": {},
     "output_type": "execute_result"
    }
   ],
   "source": [
    "\"Hello\"[0]\n",
    "x = \"  hola \"\n",
    "x.strip()"
   ]
  },
  {
   "cell_type": "markdown",
   "metadata": {},
   "source": [
    "### IF/ELSE"
   ]
  },
  {
   "cell_type": "code",
   "execution_count": 6,
   "metadata": {},
   "outputs": [
    {
     "name": "stdout",
     "output_type": "stream",
     "text": [
      "El número aleatorio fue:  0.44 \n",
      "Hay  1  Águilas y  0  Soles\n"
     ]
    }
   ],
   "source": [
    "import random\n",
    "num_al = random.uniform(0,1)\n",
    "A = 0\n",
    "S = 0\n",
    "\n",
    "if num_al < 0.6:\n",
    "    A += 1 # A = A + 1\n",
    "else:\n",
    "    S += 1\n",
    "\n",
    "print(\"El número aleatorio fue: \",round(num_al,2),\"\\nHay \",A,\" Águilas y \",S,\" Soles\")"
   ]
  },
  {
   "cell_type": "code",
   "execution_count": 1,
   "metadata": {},
   "outputs": [
    {
     "name": "stdout",
     "output_type": "stream",
     "text": [
      "2\n"
     ]
    }
   ],
   "source": [
    "a = 1\n",
    "b = 5\n",
    "if a == b:\n",
    "    print(\"1\")\n",
    "elif a < b: #else if\n",
    "    print(\"2\")\n",
    "else:\n",
    "    print(\"3\")"
   ]
  },
  {
   "cell_type": "markdown",
   "metadata": {},
   "source": [
    "### OR"
   ]
  },
  {
   "cell_type": "code",
   "execution_count": 16,
   "metadata": {},
   "outputs": [
    {
     "name": "stdout",
     "output_type": "stream",
     "text": [
      "El número  0.08  no está cerca de 0.5\n"
     ]
    }
   ],
   "source": [
    "num_al = random.uniform(0,1)\n",
    "\n",
    "if(num_al >= 0.8) or (num_al <0.2):\n",
    "    print(\"El número \",round(num_al,2),\" no está cerca de 0.5\")"
   ]
  },
  {
   "cell_type": "markdown",
   "metadata": {},
   "source": [
    "### AND"
   ]
  },
  {
   "cell_type": "code",
   "execution_count": 17,
   "metadata": {
    "scrolled": true
   },
   "outputs": [
    {
     "name": "stdout",
     "output_type": "stream",
     "text": [
      "Los números son:  0.91  y  0.27\n"
     ]
    }
   ],
   "source": [
    "num_1 = random.uniform(0,1)\n",
    "num_2 = random.uniform(0,1)\n",
    "\n",
    "if(num_1 >= 0.6) and (num_2 < 0.5):\n",
    "    print(\"Los números son: \",round(num_1,2),\" y \",round(num_2,2))"
   ]
  },
  {
   "cell_type": "markdown",
   "metadata": {},
   "source": [
    "# Ciclos\n",
    "Se utilizan para repetir varias veces una o más acciones."
   ]
  },
  {
   "cell_type": "markdown",
   "metadata": {},
   "source": [
    "### FOR\n",
    "La condición se realiza \"n\" veces. Se define previamente \"n\"."
   ]
  },
  {
   "cell_type": "code",
   "execution_count": 37,
   "metadata": {},
   "outputs": [
    {
     "name": "stdout",
     "output_type": "stream",
     "text": [
      "Hubo  5  Águilas y  5  Soles\n"
     ]
    }
   ],
   "source": [
    "A = 0\n",
    "S = 0\n",
    "for i in range(1,11):\n",
    "    num_al = random.uniform(0,1)\n",
    "    if num_al < 0.6:\n",
    "        A += 1\n",
    "    else:\n",
    "        S += 1\n",
    "\n",
    "print(\"Hubo \",A,\" Águilas y \",S,\" Soles\")"
   ]
  },
  {
   "cell_type": "code",
   "execution_count": 42,
   "metadata": {},
   "outputs": [
    {
     "name": "stdout",
     "output_type": "stream",
     "text": [
      "[[1 2 3]\n",
      " [4 5 6]\n",
      " [7 8 9]]\n",
      "La entrada [ 0 , 0 ] de la matriz es:  1\n",
      "La entrada [ 1 , 0 ] de la matriz es:  4\n",
      "La entrada [ 2 , 0 ] de la matriz es:  7\n",
      "La entrada [ 0 , 1 ] de la matriz es:  2\n",
      "La entrada [ 1 , 1 ] de la matriz es:  5\n",
      "La entrada [ 2 , 1 ] de la matriz es:  8\n",
      "La entrada [ 0 , 2 ] de la matriz es:  3\n",
      "La entrada [ 1 , 2 ] de la matriz es:  6\n",
      "La entrada [ 2 , 2 ] de la matriz es:  9\n"
     ]
    }
   ],
   "source": [
    "import numpy as np\n",
    "m = np.arange(1, 10).reshape(3,3)\n",
    "print(m)\n",
    "\n",
    "for c in range(m.shape[1]):\n",
    "    for r in range(m.shape[0]):\n",
    "        print(\"La entrada [\",r,\",\",c,\"] de la matriz es: \",m[r,c])"
   ]
  },
  {
   "cell_type": "markdown",
   "metadata": {},
   "source": [
    "### WHILE\n",
    "Se repite el ciclo mientras se cumpla una o más condiciones."
   ]
  },
  {
   "cell_type": "code",
   "execution_count": 44,
   "metadata": {},
   "outputs": [
    {
     "name": "stdout",
     "output_type": "stream",
     "text": [
      "0.4591765529030748\n",
      "0.6143531076390609\n",
      "0.11436665136867397\n",
      "0.2177309884204257\n",
      "0.6807877027232817\n",
      "0.9273459436272439\n"
     ]
    }
   ],
   "source": [
    "num_al = random.uniform(0,1)\n",
    "cont = 0\n",
    "while num_al < 0.8:\n",
    "    num_al = random.uniform(0,1)\n",
    "    print(num_al)\n",
    "    if cont == 15:\n",
    "        break\n",
    "    cont += 1"
   ]
  },
  {
   "cell_type": "code",
   "execution_count": 46,
   "metadata": {},
   "outputs": [
    {
     "name": "stdout",
     "output_type": "stream",
     "text": [
      "0.21842020361889236\n",
      "0.5861507184842454\n",
      "0.5160387015742935\n",
      "0.2881536770137435\n",
      "0.5767247664759064\n",
      "0.4372628458075406\n",
      "0.6361203188656521\n",
      "0.41571654260911506\n",
      "0.4213940690436979\n",
      "0.9390602596989068\n"
     ]
    }
   ],
   "source": [
    "num_al = random.uniform(0,1)\n",
    "cont = 0\n",
    "while (num_al < 0.8) and (cont <= 15):\n",
    "    num_al = random.uniform(0,1)\n",
    "    print(num_al)\n",
    "    cont += 1"
   ]
  },
  {
   "cell_type": "code",
   "execution_count": 2,
   "metadata": {},
   "outputs": [
    {
     "name": "stdout",
     "output_type": "stream",
     "text": [
      "1\n",
      "2\n",
      "3\n",
      "4\n",
      "5\n",
      "i es mayor que 5\n"
     ]
    }
   ],
   "source": [
    "#se puede combinar while con else\n",
    "i = 1\n",
    "while i <= 5:\n",
    "    print(i)\n",
    "    i += 1\n",
    "else:\n",
    "    print(\"i es mayor que 5\")"
   ]
  }
 ],
 "metadata": {
  "kernelspec": {
   "display_name": "Python 3",
   "language": "python",
   "name": "python3"
  },
  "language_info": {
   "codemirror_mode": {
    "name": "ipython",
    "version": 3
   },
   "file_extension": ".py",
   "mimetype": "text/x-python",
   "name": "python",
   "nbconvert_exporter": "python",
   "pygments_lexer": "ipython3",
   "version": "3.8.5"
  }
 },
 "nbformat": 4,
 "nbformat_minor": 4
}
