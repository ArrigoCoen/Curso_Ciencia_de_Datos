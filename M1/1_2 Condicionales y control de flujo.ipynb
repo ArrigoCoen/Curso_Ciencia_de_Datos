{
 "cells": [
  {
   "cell_type": "markdown",
   "metadata": {},
   "source": [
    "# Condicionales\n",
    "Los condicionales nos permiten realizar una acción si se cumple algún atributo deseado. Los temas que se verán en este submódulo son:\n",
    " 1. Flujos condicionales (if/else)\n",
    " 2. Loops (ciclos)"
   ]
  },
  {
   "cell_type": "markdown",
   "metadata": {},
   "source": [
    "### IF/ELSE\n",
    "\n",
    "La estructura de un _if/else_ es:\n",
    "\n",
    "if _condición_ **:**\n",
    "\n",
    "    acción_1 #Con sangría\n",
    "    \n",
    "    acción_2 #Con sangría\n",
    "    \n",
    "    acción_3 #Con sangría\n",
    "\n",
    "else **:**\n",
    "\n",
    "    acción_A #Con sangría\n",
    "    \n",
    "    acción_B #Con sangría\n",
    "    \n",
    "    acción_C #Con sangría\n",
    "    \n",
    "Si se cumple _condición_ entonces se realizan las acciones 1, 2, 3,...\n",
    "\n",
    "Si no, entonces se realizan las acciones A, B, C,..."
   ]
  },
  {
   "cell_type": "code",
   "execution_count": 11,
   "metadata": {},
   "outputs": [
    {
     "name": "stdout",
     "output_type": "stream",
     "text": [
      "El número aleatorio fue:  0.95 \n",
      "Hay  0  Águilas y  1  Soles\n"
     ]
    }
   ],
   "source": [
    "import random\n",
    "num_al = random.uniform(0,1)\n",
    "A = 0\n",
    "S = 0\n",
    "\n",
    "if num_al < 0.6:\n",
    "    A += 1 # A = A + 1\n",
    "else:\n",
    "    S += 1\n",
    "\n",
    "print(\"El número aleatorio fue: \",round(num_al,2),\"\\nHay \",A,\" Águilas y \",S,\" Soles\")"
   ]
  },
  {
   "cell_type": "markdown",
   "metadata": {},
   "source": [
    "### ELIF\n",
    "\n",
    "Nos permite poner más condiciones en caso de que no se cumpla la primera.\n",
    "\n",
    "La estructura es:\n",
    "\n",
    "if _condición_1_ **:**\n",
    "\n",
    "    acciones_1 #Con sangría\n",
    "\n",
    "elif _condición_2_**:**\n",
    "\n",
    "    acciones_2 #Con sangría\n",
    "\n",
    "else **:**\n",
    "\n",
    "    acciones_3 #Con sangría"
   ]
  },
  {
   "cell_type": "code",
   "execution_count": 13,
   "metadata": {},
   "outputs": [
    {
     "name": "stdout",
     "output_type": "stream",
     "text": [
      "3\n"
     ]
    }
   ],
   "source": [
    "a,b = 10,5\n",
    "\n",
    "if a == b:\n",
    "    print(\"1\")\n",
    "elif a < b: #else if\n",
    "    print(\"2\")\n",
    "else:\n",
    "    print(\"3\")"
   ]
  },
  {
   "cell_type": "markdown",
   "metadata": {},
   "source": [
    "### OR\n",
    "\n",
    "Nos permite evaluar dos expresiones. La condición es verdadera si al menos una de las expresiones es verdadera.\n",
    "\n",
    "Se define con el comando _or_."
   ]
  },
  {
   "cell_type": "code",
   "execution_count": 16,
   "metadata": {},
   "outputs": [
    {
     "name": "stdout",
     "output_type": "stream",
     "text": [
      "El número  0.15  no está cerca de 0.5\n"
     ]
    }
   ],
   "source": [
    "num_al = random.uniform(0,1)\n",
    "\n",
    "if(num_al >= 0.8) or (num_al <0.2):\n",
    "    print(\"El número \",round(num_al,2),\" no está cerca de 0.5\")"
   ]
  },
  {
   "cell_type": "markdown",
   "metadata": {},
   "source": [
    "### AND\n",
    "\n",
    "Nos permite evaluar dos expresiones. La condición es verdadera si ambas expresiones son verdaderas.\n",
    "\n",
    "Se define con el comando _and_."
   ]
  },
  {
   "cell_type": "code",
   "execution_count": 18,
   "metadata": {
    "scrolled": true
   },
   "outputs": [
    {
     "name": "stdout",
     "output_type": "stream",
     "text": [
      "Los números son:  0.66  y  0.05\n"
     ]
    }
   ],
   "source": [
    "num_1 = random.uniform(0,1)\n",
    "num_2 = random.uniform(0,1)\n",
    "\n",
    "if(num_1 >= 0.6) and (num_2 < 0.5):\n",
    "    print(\"Los números son: \",round(num_1,2),\" y \",round(num_2,2))"
   ]
  },
  {
   "cell_type": "markdown",
   "metadata": {},
   "source": [
    "# Ciclos\n",
    "Se utilizan para repetir varias veces una o más acciones."
   ]
  },
  {
   "cell_type": "markdown",
   "metadata": {},
   "source": [
    "### FOR\n",
    "La condición se realiza \"n\" veces. Se define previamente \"n\".\n",
    "\n",
    "La estructura de un _for_ es:\n",
    "\n",
    "for _variable_ **in** _vector_ **:**\n",
    "    \n",
    "    acciones #Con sangría"
   ]
  },
  {
   "cell_type": "code",
   "execution_count": 25,
   "metadata": {},
   "outputs": [
    {
     "name": "stdout",
     "output_type": "stream",
     "text": [
      "Hubo  6  Águilas y  4  Soles\n"
     ]
    }
   ],
   "source": [
    "A = 0\n",
    "S = 0\n",
    "for i in range(1,11): #[1,11)\n",
    "    num_al = random.uniform(0,1)\n",
    "    if num_al < 0.6:\n",
    "        A += 1\n",
    "    else:\n",
    "        S += 1\n",
    "\n",
    "print(\"Hubo \",A,\" Águilas y \",S,\" Soles\")"
   ]
  },
  {
   "cell_type": "code",
   "execution_count": 26,
   "metadata": {},
   "outputs": [
    {
     "name": "stdout",
     "output_type": "stream",
     "text": [
      "[[1 2 3 4]\n",
      " [5 6 7 8]]\n",
      "La entrada [ 1 , 1 ] de la matriz es:  1\n",
      "La entrada [ 2 , 1 ] de la matriz es:  5\n",
      "La entrada [ 1 , 2 ] de la matriz es:  2\n",
      "La entrada [ 2 , 2 ] de la matriz es:  6\n",
      "La entrada [ 1 , 3 ] de la matriz es:  3\n",
      "La entrada [ 2 , 3 ] de la matriz es:  7\n",
      "La entrada [ 1 , 4 ] de la matriz es:  4\n",
      "La entrada [ 2 , 4 ] de la matriz es:  8\n"
     ]
    }
   ],
   "source": [
    "import numpy as np\n",
    "m = np.arange(1, 9).reshape(2,4)\n",
    "print(m)\n",
    "\n",
    "# Ejemplo de for anidado\n",
    "for c in range(m.shape[1]): #Recorre columnas\n",
    "    for r in range(m.shape[0]): #Recorre renglones\n",
    "        print(\"La entrada [\",r+1,\",\",c+1,\"] de la matriz es: \",m[r,c])"
   ]
  },
  {
   "cell_type": "markdown",
   "metadata": {},
   "source": [
    "### WHILE\n",
    "Se repite el ciclo mientras se cumpla una o más condiciones."
   ]
  },
  {
   "cell_type": "code",
   "execution_count": 30,
   "metadata": {},
   "outputs": [
    {
     "name": "stdout",
     "output_type": "stream",
     "text": [
      "cont =  0\n",
      "0.004\n",
      "cont =  1\n",
      "0.132\n",
      "cont =  2\n",
      "0.569\n",
      "cont =  3\n",
      "0.647\n",
      "cont =  4\n",
      "0.256\n",
      "cont =  5\n",
      "0.694\n",
      "cont =  6\n",
      "0.737\n",
      "cont =  7\n",
      "0.931\n"
     ]
    }
   ],
   "source": [
    "num_al = random.uniform(0,1)\n",
    "cont = 0\n",
    "while num_al < 0.8:\n",
    "    print(\"cont = \",cont)\n",
    "    num_al = random.uniform(0,1)\n",
    "    print(round(num_al,3))\n",
    "    if cont == 15:\n",
    "        break #Se sale del ciclo si la variable cont llega a 15\n",
    "    cont += 1"
   ]
  },
  {
   "cell_type": "code",
   "execution_count": 40,
   "metadata": {},
   "outputs": [
    {
     "name": "stdout",
     "output_type": "stream",
     "text": [
      "cont =  0\n",
      "0.021\n",
      "cont =  1\n",
      "0.413\n",
      "cont =  2\n",
      "0.513\n",
      "cont =  3\n",
      "0.075\n",
      "cont =  4\n",
      "0.516\n",
      "cont =  5\n",
      "0.727\n",
      "cont =  6\n",
      "0.151\n",
      "cont =  7\n",
      "0.347\n",
      "cont =  8\n",
      "0.331\n",
      "cont =  9\n",
      "0.242\n",
      "cont =  10\n",
      "0.944\n"
     ]
    }
   ],
   "source": [
    "num_al = random.uniform(0,1)\n",
    "cont = 0\n",
    "while (num_al < 0.8) and (cont <= 15):\n",
    "    print(\"cont = \",cont)\n",
    "    num_al = random.uniform(0,1)\n",
    "    print(round(num_al,3))\n",
    "    cont += 1"
   ]
  },
  {
   "cell_type": "code",
   "execution_count": 35,
   "metadata": {},
   "outputs": [
    {
     "name": "stdout",
     "output_type": "stream",
     "text": [
      "1\n",
      "2\n",
      "3\n",
      "4\n",
      "5\n",
      "i es mayor que 5\n"
     ]
    }
   ],
   "source": [
    "#se puede combinar while con else\n",
    "i = 1\n",
    "while i <= 5:\n",
    "    print(i)\n",
    "    i += 1\n",
    "else:\n",
    "    print(\"i es mayor que 5\")"
   ]
  }
 ],
 "metadata": {
  "kernelspec": {
   "display_name": "Python 3",
   "language": "python",
   "name": "python3"
  },
  "language_info": {
   "codemirror_mode": {
    "name": "ipython",
    "version": 3
   },
   "file_extension": ".py",
   "mimetype": "text/x-python",
   "name": "python",
   "nbconvert_exporter": "python",
   "pygments_lexer": "ipython3",
   "version": "3.8.5"
  }
 },
 "nbformat": 4,
 "nbformat_minor": 4
}
