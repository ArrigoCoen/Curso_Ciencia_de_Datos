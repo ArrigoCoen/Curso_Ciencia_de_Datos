{
 "cells": [
  {
   "cell_type": "markdown",
   "metadata": {},
   "source": [
    "# Git y GitHub\n",
    "\n",
    "\n",
    "Los sistemas de control de versiones son programas que tienen como objetivo controlar los cambios en el desarrollo de cualquier tipo de software.\n",
    "\n",
    "Estos programas permiten conocer el estado actual de un proyecto, los cambios que se le han realizado a cualquiera de sus piezas, las personas que intervinieron en ellos, etc.\n",
    "\n",
    "El Sistema de versionamiento más utilizado es Git.\n",
    "\n",
    "GitHub es un sitio web que usa Git para ofrecer a la comunidad de desarrolladores repositorios de software.\n",
    "\n",
    "\n",
    "**Git y GitHub:** https://www.youtube.com/watch?v=CyXpDCC90io&list=PL3IqEvXBv5p8AYLpqC9t3crl-JSfEBYHR&index=6&ab_channel=Dr.ArrigoCoen\n",
    "\n",
    "**Introducción a GitHub:** https://www.youtube.com/watch?v=pYowX7fYyBo&list=PL3IqEvXBv5p8AYLpqC9t3crl-JSfEBYHR&index=8&ab_channel=Dr.ArrigoCoen\n",
    "\n",
    "\n",
    "**Presentaciones:** \n",
    "\n",
    "https://github.com/ArrigoCoen/Curso_Ciencia_de_Datos/blob/main/M1/Slides/C1%2006%20Python%20para%20ML%20y%20GitHub.pptx\n",
    "\n",
    "https://github.com/ArrigoCoen/Curso_Ciencia_de_Datos/blob/main/M1/Slides/Intro_GitHub.pdf"
   ]
  }
 ],
 "metadata": {
  "kernelspec": {
   "display_name": "Python 3",
   "language": "python",
   "name": "python3"
  },
  "language_info": {
   "codemirror_mode": {
    "name": "ipython",
    "version": 3
   },
   "file_extension": ".py",
   "mimetype": "text/x-python",
   "name": "python",
   "nbconvert_exporter": "python",
   "pygments_lexer": "ipython3",
   "version": "3.8.5"
  }
 },
 "nbformat": 4,
 "nbformat_minor": 4
}
